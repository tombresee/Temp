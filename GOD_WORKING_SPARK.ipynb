{
  "nbformat": 4,
  "nbformat_minor": 0,
  "metadata": {
    "colab": {
      "name": "GOD_WORKING_SPARK.ipynb",
      "provenance": [],
      "collapsed_sections": [
        "In-cepkvjUr4",
        "cxmBXyT8EJnL",
        "1JIzmMZily4Y",
        "3iKNOYysEe-Q",
        "GL1SK-BdpC2a",
        "7I0GT7cB0n5S",
        "RizxW1z--_4V",
        "XvPG2gymGQrU",
        "T9OXKHFeE_2a",
        "XEuq27pGGOef",
        "de4nlPFcHIZO",
        "KlG6Dj4CI68o",
        "kJTd2Zt4UV5E"
      ],
      "authorship_tag": "ABX9TyO/5MDcS3KKQu4ReQQNSssn",
      "include_colab_link": true
    },
    "kernelspec": {
      "name": "python3",
      "display_name": "Python 3"
    }
  },
  "cells": [
    {
      "cell_type": "markdown",
      "metadata": {
        "id": "view-in-github",
        "colab_type": "text"
      },
      "source": [
        "<a href=\"https://colab.research.google.com/github/tombresee/Temp/blob/master/GOD_WORKING_SPARK.ipynb\" target=\"_parent\"><img src=\"https://colab.research.google.com/assets/colab-badge.svg\" alt=\"Open In Colab\"/></a>"
      ]
    },
    {
      "cell_type": "markdown",
      "metadata": {
        "id": "In-cepkvjUr4",
        "colab_type": "text"
      },
      "source": [
        "# Colab Specs:  "
      ]
    },
    {
      "cell_type": "code",
      "metadata": {
        "id": "VN9d4-BMPOPt",
        "colab_type": "code",
        "colab": {
          "base_uri": "https://localhost:8080/",
          "height": 217
        },
        "outputId": "5c4747a9-ef2f-4f97-dea5-823f97dfeb46"
      },
      "source": [
        "!df -h"
      ],
      "execution_count": 136,
      "outputs": [
        {
          "output_type": "stream",
          "text": [
            "Filesystem      Size  Used Avail Use% Mounted on\n",
            "overlay         108G   30G   74G  29% /\n",
            "tmpfs            64M     0   64M   0% /dev\n",
            "tmpfs           6.4G     0  6.4G   0% /sys/fs/cgroup\n",
            "tmpfs           6.4G  8.0K  6.4G   1% /var/colab\n",
            "/dev/sda1       114G   31G   84G  28% /etc/hosts\n",
            "shm             6.0G  4.0K  6.0G   1% /dev/shm\n",
            "tmpfs           6.4G     0  6.4G   0% /proc/acpi\n",
            "tmpfs           6.4G     0  6.4G   0% /proc/scsi\n",
            "tmpfs           6.4G     0  6.4G   0% /sys/firmware\n",
            "drive            15G  5.6G  9.5G  37% /content/gdrive\n"
          ],
          "name": "stdout"
        }
      ]
    },
    {
      "cell_type": "code",
      "metadata": {
        "id": "NUIfzP26PRAR",
        "colab_type": "code",
        "colab": {
          "base_uri": "https://localhost:8080/",
          "height": 1000
        },
        "outputId": "d47e20fb-c59b-4ccb-88fa-3f79e1fa4eb6"
      },
      "source": [
        "!cat /proc/cpuinfo"
      ],
      "execution_count": 137,
      "outputs": [
        {
          "output_type": "stream",
          "text": [
            "processor\t: 0\n",
            "vendor_id\t: GenuineIntel\n",
            "cpu family\t: 6\n",
            "model\t\t: 85\n",
            "model name\t: Intel(R) Xeon(R) CPU @ 2.00GHz\n",
            "stepping\t: 3\n",
            "microcode\t: 0x1\n",
            "cpu MHz\t\t: 2000.142\n",
            "cache size\t: 39424 KB\n",
            "physical id\t: 0\n",
            "siblings\t: 2\n",
            "core id\t\t: 0\n",
            "cpu cores\t: 1\n",
            "apicid\t\t: 0\n",
            "initial apicid\t: 0\n",
            "fpu\t\t: yes\n",
            "fpu_exception\t: yes\n",
            "cpuid level\t: 13\n",
            "wp\t\t: yes\n",
            "flags\t\t: fpu vme de pse tsc msr pae mce cx8 apic sep mtrr pge mca cmov pat pse36 clflush mmx fxsr sse sse2 ss ht syscall nx pdpe1gb rdtscp lm constant_tsc rep_good nopl xtopology nonstop_tsc cpuid tsc_known_freq pni pclmulqdq ssse3 fma cx16 pcid sse4_1 sse4_2 x2apic movbe popcnt aes xsave avx f16c rdrand hypervisor lahf_lm abm 3dnowprefetch invpcid_single ssbd ibrs ibpb stibp fsgsbase tsc_adjust bmi1 hle avx2 smep bmi2 erms invpcid rtm mpx avx512f avx512dq rdseed adx smap clflushopt clwb avx512cd avx512bw avx512vl xsaveopt xsavec xgetbv1 xsaves arat md_clear arch_capabilities\n",
            "bugs\t\t: cpu_meltdown spectre_v1 spectre_v2 spec_store_bypass l1tf mds swapgs\n",
            "bogomips\t: 4000.28\n",
            "clflush size\t: 64\n",
            "cache_alignment\t: 64\n",
            "address sizes\t: 46 bits physical, 48 bits virtual\n",
            "power management:\n",
            "\n",
            "processor\t: 1\n",
            "vendor_id\t: GenuineIntel\n",
            "cpu family\t: 6\n",
            "model\t\t: 85\n",
            "model name\t: Intel(R) Xeon(R) CPU @ 2.00GHz\n",
            "stepping\t: 3\n",
            "microcode\t: 0x1\n",
            "cpu MHz\t\t: 2000.142\n",
            "cache size\t: 39424 KB\n",
            "physical id\t: 0\n",
            "siblings\t: 2\n",
            "core id\t\t: 0\n",
            "cpu cores\t: 1\n",
            "apicid\t\t: 1\n",
            "initial apicid\t: 1\n",
            "fpu\t\t: yes\n",
            "fpu_exception\t: yes\n",
            "cpuid level\t: 13\n",
            "wp\t\t: yes\n",
            "flags\t\t: fpu vme de pse tsc msr pae mce cx8 apic sep mtrr pge mca cmov pat pse36 clflush mmx fxsr sse sse2 ss ht syscall nx pdpe1gb rdtscp lm constant_tsc rep_good nopl xtopology nonstop_tsc cpuid tsc_known_freq pni pclmulqdq ssse3 fma cx16 pcid sse4_1 sse4_2 x2apic movbe popcnt aes xsave avx f16c rdrand hypervisor lahf_lm abm 3dnowprefetch invpcid_single ssbd ibrs ibpb stibp fsgsbase tsc_adjust bmi1 hle avx2 smep bmi2 erms invpcid rtm mpx avx512f avx512dq rdseed adx smap clflushopt clwb avx512cd avx512bw avx512vl xsaveopt xsavec xgetbv1 xsaves arat md_clear arch_capabilities\n",
            "bugs\t\t: cpu_meltdown spectre_v1 spectre_v2 spec_store_bypass l1tf mds swapgs\n",
            "bogomips\t: 4000.28\n",
            "clflush size\t: 64\n",
            "cache_alignment\t: 64\n",
            "address sizes\t: 46 bits physical, 48 bits virtual\n",
            "power management:\n",
            "\n"
          ],
          "name": "stdout"
        }
      ]
    },
    {
      "cell_type": "code",
      "metadata": {
        "id": "Ilg_wDmVPRHS",
        "colab_type": "code",
        "colab": {
          "base_uri": "https://localhost:8080/",
          "height": 835
        },
        "outputId": "27316c43-64be-4e71-9ba4-9f587a77e184"
      },
      "source": [
        "!cat /proc/meminfo"
      ],
      "execution_count": 138,
      "outputs": [
        {
          "output_type": "stream",
          "text": [
            "MemTotal:       13335180 kB\n",
            "MemFree:         6283652 kB\n",
            "MemAvailable:   11870776 kB\n",
            "Buffers:           91320 kB\n",
            "Cached:          5442412 kB\n",
            "SwapCached:            0 kB\n",
            "Active:          1663736 kB\n",
            "Inactive:        5028420 kB\n",
            "Active(anon):    1015568 kB\n",
            "Inactive(anon):      316 kB\n",
            "Active(file):     648168 kB\n",
            "Inactive(file):  5028104 kB\n",
            "Unevictable:           0 kB\n",
            "Mlocked:               0 kB\n",
            "SwapTotal:             0 kB\n",
            "SwapFree:              0 kB\n",
            "Dirty:               512 kB\n",
            "Writeback:             0 kB\n",
            "AnonPages:       1158412 kB\n",
            "Mapped:           287612 kB\n",
            "Shmem:               852 kB\n",
            "Slab:             269808 kB\n",
            "SReclaimable:     236108 kB\n",
            "SUnreclaim:        33700 kB\n",
            "KernelStack:        5200 kB\n",
            "PageTables:         8324 kB\n",
            "NFS_Unstable:          0 kB\n",
            "Bounce:                0 kB\n",
            "WritebackTmp:          0 kB\n",
            "CommitLimit:     6667588 kB\n",
            "Committed_AS:    4230556 kB\n",
            "VmallocTotal:   34359738367 kB\n",
            "VmallocUsed:           0 kB\n",
            "VmallocChunk:          0 kB\n",
            "AnonHugePages:         0 kB\n",
            "ShmemHugePages:        0 kB\n",
            "ShmemPmdMapped:        0 kB\n",
            "HugePages_Total:       0\n",
            "HugePages_Free:        0\n",
            "HugePages_Rsvd:        0\n",
            "HugePages_Surp:        0\n",
            "Hugepagesize:       2048 kB\n",
            "DirectMap4k:       75764 kB\n",
            "DirectMap2M:     6215680 kB\n",
            "DirectMap1G:     9437184 kB\n"
          ],
          "name": "stdout"
        }
      ]
    },
    {
      "cell_type": "code",
      "metadata": {
        "id": "LkP05IwSPRVS",
        "colab_type": "code",
        "colab": {}
      },
      "source": [
        "from psutil import *"
      ],
      "execution_count": 0,
      "outputs": []
    },
    {
      "cell_type": "code",
      "metadata": {
        "id": "2AveFdB3PRTC",
        "colab_type": "code",
        "colab": {
          "base_uri": "https://localhost:8080/",
          "height": 35
        },
        "outputId": "4572a192-adf5-4b1e-c314-f2ce4f0725da"
      },
      "source": [
        "cpu_count()"
      ],
      "execution_count": 140,
      "outputs": [
        {
          "output_type": "execute_result",
          "data": {
            "text/plain": [
              "2"
            ]
          },
          "metadata": {
            "tags": []
          },
          "execution_count": 140
        }
      ]
    },
    {
      "cell_type": "code",
      "metadata": {
        "id": "teaZmS_mPRPu",
        "colab_type": "code",
        "colab": {
          "base_uri": "https://localhost:8080/",
          "height": 35
        },
        "outputId": "bc8375fe-b00b-4f6f-c6ce-d6b523d5370f"
      },
      "source": [
        "cpu_stats()"
      ],
      "execution_count": 141,
      "outputs": [
        {
          "output_type": "execute_result",
          "data": {
            "text/plain": [
              "scpustats(ctx_switches=3215490, interrupts=1650617, soft_interrupts=1061489, syscalls=0)"
            ]
          },
          "metadata": {
            "tags": []
          },
          "execution_count": 141
        }
      ]
    },
    {
      "cell_type": "code",
      "metadata": {
        "id": "k3Zq7g56PRNW",
        "colab_type": "code",
        "colab": {
          "base_uri": "https://localhost:8080/",
          "height": 35
        },
        "outputId": "d8b244d5-a159-4d28-e6ec-e85599201970"
      },
      "source": [
        "cpu_count()"
      ],
      "execution_count": 145,
      "outputs": [
        {
          "output_type": "execute_result",
          "data": {
            "text/plain": [
              "2"
            ]
          },
          "metadata": {
            "tags": []
          },
          "execution_count": 145
        }
      ]
    },
    {
      "cell_type": "code",
      "metadata": {
        "id": "rfmaIcGcPqhq",
        "colab_type": "code",
        "colab": {
          "base_uri": "https://localhost:8080/",
          "height": 1000
        },
        "outputId": "534750d6-475d-4f0d-d547-acb1f104c8e9"
      },
      "source": [
        "!cat /proc/cpuinfo"
      ],
      "execution_count": 142,
      "outputs": [
        {
          "output_type": "stream",
          "text": [
            "processor\t: 0\n",
            "vendor_id\t: GenuineIntel\n",
            "cpu family\t: 6\n",
            "model\t\t: 85\n",
            "model name\t: Intel(R) Xeon(R) CPU @ 2.00GHz\n",
            "stepping\t: 3\n",
            "microcode\t: 0x1\n",
            "cpu MHz\t\t: 2000.142\n",
            "cache size\t: 39424 KB\n",
            "physical id\t: 0\n",
            "siblings\t: 2\n",
            "core id\t\t: 0\n",
            "cpu cores\t: 1\n",
            "apicid\t\t: 0\n",
            "initial apicid\t: 0\n",
            "fpu\t\t: yes\n",
            "fpu_exception\t: yes\n",
            "cpuid level\t: 13\n",
            "wp\t\t: yes\n",
            "flags\t\t: fpu vme de pse tsc msr pae mce cx8 apic sep mtrr pge mca cmov pat pse36 clflush mmx fxsr sse sse2 ss ht syscall nx pdpe1gb rdtscp lm constant_tsc rep_good nopl xtopology nonstop_tsc cpuid tsc_known_freq pni pclmulqdq ssse3 fma cx16 pcid sse4_1 sse4_2 x2apic movbe popcnt aes xsave avx f16c rdrand hypervisor lahf_lm abm 3dnowprefetch invpcid_single ssbd ibrs ibpb stibp fsgsbase tsc_adjust bmi1 hle avx2 smep bmi2 erms invpcid rtm mpx avx512f avx512dq rdseed adx smap clflushopt clwb avx512cd avx512bw avx512vl xsaveopt xsavec xgetbv1 xsaves arat md_clear arch_capabilities\n",
            "bugs\t\t: cpu_meltdown spectre_v1 spectre_v2 spec_store_bypass l1tf mds swapgs\n",
            "bogomips\t: 4000.28\n",
            "clflush size\t: 64\n",
            "cache_alignment\t: 64\n",
            "address sizes\t: 46 bits physical, 48 bits virtual\n",
            "power management:\n",
            "\n",
            "processor\t: 1\n",
            "vendor_id\t: GenuineIntel\n",
            "cpu family\t: 6\n",
            "model\t\t: 85\n",
            "model name\t: Intel(R) Xeon(R) CPU @ 2.00GHz\n",
            "stepping\t: 3\n",
            "microcode\t: 0x1\n",
            "cpu MHz\t\t: 2000.142\n",
            "cache size\t: 39424 KB\n",
            "physical id\t: 0\n",
            "siblings\t: 2\n",
            "core id\t\t: 0\n",
            "cpu cores\t: 1\n",
            "apicid\t\t: 1\n",
            "initial apicid\t: 1\n",
            "fpu\t\t: yes\n",
            "fpu_exception\t: yes\n",
            "cpuid level\t: 13\n",
            "wp\t\t: yes\n",
            "flags\t\t: fpu vme de pse tsc msr pae mce cx8 apic sep mtrr pge mca cmov pat pse36 clflush mmx fxsr sse sse2 ss ht syscall nx pdpe1gb rdtscp lm constant_tsc rep_good nopl xtopology nonstop_tsc cpuid tsc_known_freq pni pclmulqdq ssse3 fma cx16 pcid sse4_1 sse4_2 x2apic movbe popcnt aes xsave avx f16c rdrand hypervisor lahf_lm abm 3dnowprefetch invpcid_single ssbd ibrs ibpb stibp fsgsbase tsc_adjust bmi1 hle avx2 smep bmi2 erms invpcid rtm mpx avx512f avx512dq rdseed adx smap clflushopt clwb avx512cd avx512bw avx512vl xsaveopt xsavec xgetbv1 xsaves arat md_clear arch_capabilities\n",
            "bugs\t\t: cpu_meltdown spectre_v1 spectre_v2 spec_store_bypass l1tf mds swapgs\n",
            "bogomips\t: 4000.28\n",
            "clflush size\t: 64\n",
            "cache_alignment\t: 64\n",
            "address sizes\t: 46 bits physical, 48 bits virtual\n",
            "power management:\n",
            "\n"
          ],
          "name": "stdout"
        }
      ]
    },
    {
      "cell_type": "code",
      "metadata": {
        "id": "0lhIIj6EPqep",
        "colab_type": "code",
        "colab": {
          "base_uri": "https://localhost:8080/",
          "height": 35
        },
        "outputId": "25c86ad4-1766-4832-f326-500f0273fa6d"
      },
      "source": [
        "virtual_memory()"
      ],
      "execution_count": 143,
      "outputs": [
        {
          "output_type": "execute_result",
          "data": {
            "text/plain": [
              "svmem(total=13655224320, available=12152451072, percent=11.0, used=1315688448, free=6430007296, active=1703084032, inactive=5149761536, buffers=93970432, cached=5815558144, shared=872448, slab=276230144)"
            ]
          },
          "metadata": {
            "tags": []
          },
          "execution_count": 143
        }
      ]
    },
    {
      "cell_type": "code",
      "metadata": {
        "id": "v4b1v7i2P8rV",
        "colab_type": "code",
        "colab": {
          "base_uri": "https://localhost:8080/",
          "height": 54
        },
        "outputId": "220a36e4-378e-4f56-b57d-8f9cec5fc9d7"
      },
      "source": [
        "#GPU count and name\n",
        "!nvidia-smi -L"
      ],
      "execution_count": 146,
      "outputs": [
        {
          "output_type": "stream",
          "text": [
            "NVIDIA-SMI has failed because it couldn't communicate with the NVIDIA driver. Make sure that the latest NVIDIA driver is installed and running.\n",
            "\n"
          ],
          "name": "stdout"
        }
      ]
    },
    {
      "cell_type": "code",
      "metadata": {
        "id": "CPi0eUXjP8pF",
        "colab_type": "code",
        "colab": {
          "base_uri": "https://localhost:8080/",
          "height": 35
        },
        "outputId": "5f3321b4-2b9c-4cea-c702-5087fa577c54"
      },
      "source": [
        "!lscpu |grep 'Model name'"
      ],
      "execution_count": 147,
      "outputs": [
        {
          "output_type": "stream",
          "text": [
            "Model name:          Intel(R) Xeon(R) CPU @ 2.00GHz\n"
          ],
          "name": "stdout"
        }
      ]
    },
    {
      "cell_type": "code",
      "metadata": {
        "id": "8Gkkx76BP8mL",
        "colab_type": "code",
        "colab": {
          "base_uri": "https://localhost:8080/",
          "height": 35
        },
        "outputId": "26f07013-b247-4bb3-bd55-e5db75e94dee"
      },
      "source": [
        "#no.of sockets i.e available slots for physical processors\n",
        "!lscpu | grep 'Socket(s):'"
      ],
      "execution_count": 148,
      "outputs": [
        {
          "output_type": "stream",
          "text": [
            "Socket(s):           1\n"
          ],
          "name": "stdout"
        }
      ]
    },
    {
      "cell_type": "code",
      "metadata": {
        "id": "Ekv-CmLHP8jL",
        "colab_type": "code",
        "colab": {
          "base_uri": "https://localhost:8080/",
          "height": 35
        },
        "outputId": "4bc27bee-b415-4ca1-8ba5-aeeb14631524"
      },
      "source": [
        "#no.of cores each processor is having \n",
        "!lscpu | grep 'Core(s) per socket:'"
      ],
      "execution_count": 149,
      "outputs": [
        {
          "output_type": "stream",
          "text": [
            "Core(s) per socket:  1\n"
          ],
          "name": "stdout"
        }
      ]
    },
    {
      "cell_type": "code",
      "metadata": {
        "id": "6TOqTJDdP8gN",
        "colab_type": "code",
        "colab": {
          "base_uri": "https://localhost:8080/",
          "height": 35
        },
        "outputId": "8b06c4d8-67a5-45fc-defd-8ed5d780d590"
      },
      "source": [
        "#no.of threads each core is having\n",
        "!lscpu | grep 'Thread(s) per core'"
      ],
      "execution_count": 150,
      "outputs": [
        {
          "output_type": "stream",
          "text": [
            "Thread(s) per core:  2\n"
          ],
          "name": "stdout"
        }
      ]
    },
    {
      "cell_type": "code",
      "metadata": {
        "id": "XlJLzPODP8c3",
        "colab_type": "code",
        "colab": {}
      },
      "source": [
        ""
      ],
      "execution_count": 0,
      "outputs": []
    },
    {
      "cell_type": "code",
      "metadata": {
        "id": "6AQ36AwVQIQT",
        "colab_type": "code",
        "colab": {
          "base_uri": "https://localhost:8080/",
          "height": 35
        },
        "outputId": "c677ae83-74e3-4054-d42b-ca10fda89c6a"
      },
      "source": [
        "#memory that we can use\n",
        "!cat /proc/meminfo | grep 'MemAvailable'"
      ],
      "execution_count": 151,
      "outputs": [
        {
          "output_type": "stream",
          "text": [
            "MemAvailable:   11866548 kB\n"
          ],
          "name": "stdout"
        }
      ]
    },
    {
      "cell_type": "code",
      "metadata": {
        "id": "fnQuh1vEQINm",
        "colab_type": "code",
        "colab": {
          "base_uri": "https://localhost:8080/",
          "height": 54
        },
        "outputId": "f355fd48-1a04-454e-d047-9d368333738f"
      },
      "source": [
        "#hard disk that we can use\n",
        "!df -h / | awk '{print $4}'"
      ],
      "execution_count": 152,
      "outputs": [
        {
          "output_type": "stream",
          "text": [
            "Avail\n",
            "74G\n"
          ],
          "name": "stdout"
        }
      ]
    },
    {
      "cell_type": "markdown",
      "metadata": {
        "id": "IKKGOp1bPGsP",
        "colab_type": "text"
      },
      "source": [
        "# Spark on Colab ! "
      ]
    },
    {
      "cell_type": "markdown",
      "metadata": {
        "id": "NgtZlJwJjNku",
        "colab_type": "text"
      },
      "source": [
        "https://medium.com/@rmache/big-data-with-spark-in-google-colab-7c046e24b3"
      ]
    },
    {
      "cell_type": "code",
      "metadata": {
        "id": "Y4xmY1KqXy_T",
        "colab_type": "code",
        "colab": {}
      },
      "source": [
        "#  1.   !apt-get install openjdk-8-jdk-headless -qq > /dev/null"
      ],
      "execution_count": 0,
      "outputs": []
    },
    {
      "cell_type": "code",
      "metadata": {
        "id": "yAjzKylbCDH7",
        "colab_type": "code",
        "colab": {
          "base_uri": "https://localhost:8080/",
          "height": 108
        },
        "outputId": "bd2caafc-f1eb-4c4e-e000-530eeb7589b6"
      },
      "source": [
        "!ls -l\n",
        "\n",
        "# should have your file"
      ],
      "execution_count": 16,
      "outputs": [
        {
          "output_type": "stream",
          "text": [
            "total 224748\n",
            "drwx------ 4 root root      4096 Jan 22 16:12 gdrive\n",
            "drwxr-xr-x 1 root root      4096 Jan 13 16:38 sample_data\n",
            "-rw-r--r-- 1 root root     34696 Jan 22 16:13 spark-2.4.4-bin-hadoop2.7.tgz\n",
            "-rw-r--r-- 1 root root 230091034 Sep 21 14:43 spark-2.4.4-bin-hadoop2.7.tgz.1\n"
          ],
          "name": "stdout"
        }
      ]
    },
    {
      "cell_type": "code",
      "metadata": {
        "id": "1ShhkRaJCaLQ",
        "colab_type": "code",
        "colab": {}
      },
      "source": [
        "!rm spark-2.4.4-bin-hadoop2.7.tgz.1"
      ],
      "execution_count": 0,
      "outputs": []
    },
    {
      "cell_type": "code",
      "metadata": {
        "id": "1boxqiRSYVvZ",
        "colab_type": "code",
        "colab": {}
      },
      "source": [
        "#  2.  !wget -q  https://www-us.apache.org/dist/spark/spark-2.4.4/spark-2.4.4-bin-hadoop2.7.tgz"
      ],
      "execution_count": 0,
      "outputs": []
    },
    {
      "cell_type": "code",
      "metadata": {
        "colab_type": "code",
        "id": "OouxroUkYnR_",
        "colab": {}
      },
      "source": [
        "#  3.  !tar xf spark-2.4.4-bin-hadoop2.7.tgz"
      ],
      "execution_count": 0,
      "outputs": []
    },
    {
      "cell_type": "code",
      "metadata": {
        "id": "ZJb9oxvVYnU6",
        "colab_type": "code",
        "colab": {}
      },
      "source": [
        "#  4.   !pip install -q findspark\n"
      ],
      "execution_count": 0,
      "outputs": []
    },
    {
      "cell_type": "code",
      "metadata": {
        "id": "8d3hITePYsJC",
        "colab_type": "code",
        "outputId": "590c4f6f-28c2-4e26-bfc4-376cbfb4c743",
        "colab": {
          "base_uri": "https://localhost:8080/",
          "height": 108
        }
      },
      "source": [
        "!ls -l "
      ],
      "execution_count": 23,
      "outputs": [
        {
          "output_type": "stream",
          "text": [
            "total 224716\n",
            "drwx------  4 root root      4096 Jan 22 16:12 gdrive\n",
            "drwxr-xr-x  1 root root      4096 Jan 13 16:38 sample_data\n",
            "drwxr-xr-x 13 1000 1000      4096 Aug 27 21:30 spark-2.4.4-bin-hadoop2.7\n",
            "-rw-r--r--  1 root root 230091034 Sep 21 14:43 spark-2.4.4-bin-hadoop2.7.tgz\n"
          ],
          "name": "stdout"
        }
      ]
    },
    {
      "cell_type": "code",
      "metadata": {
        "id": "CbntUic-fWsJ",
        "colab_type": "code",
        "outputId": "69ef1e0c-c979-421f-f78a-ab438e00d511",
        "colab": {
          "base_uri": "https://localhost:8080/",
          "height": 254
        }
      },
      "source": [
        "#   5.  !pip install pyspark"
      ],
      "execution_count": 24,
      "outputs": [
        {
          "output_type": "stream",
          "text": [
            "Collecting pyspark\n",
            "\u001b[?25l  Downloading https://files.pythonhosted.org/packages/87/21/f05c186f4ddb01d15d0ddc36ef4b7e3cedbeb6412274a41f26b55a650ee5/pyspark-2.4.4.tar.gz (215.7MB)\n",
            "\u001b[K     |████████████████████████████████| 215.7MB 64kB/s \n",
            "\u001b[?25hCollecting py4j==0.10.7\n",
            "\u001b[?25l  Downloading https://files.pythonhosted.org/packages/e3/53/c737818eb9a7dc32a7cd4f1396e787bd94200c3997c72c1dbe028587bd76/py4j-0.10.7-py2.py3-none-any.whl (197kB)\n",
            "\u001b[K     |████████████████████████████████| 204kB 57.1MB/s \n",
            "\u001b[?25hBuilding wheels for collected packages: pyspark\n",
            "  Building wheel for pyspark (setup.py) ... \u001b[?25l\u001b[?25hdone\n",
            "  Created wheel for pyspark: filename=pyspark-2.4.4-py2.py3-none-any.whl size=216130387 sha256=cac013fd0c315531dfcfaede5945772591909a51429227903d1b41ff7fd9f600\n",
            "  Stored in directory: /root/.cache/pip/wheels/ab/09/4d/0d184230058e654eb1b04467dbc1292f00eaa186544604b471\n",
            "Successfully built pyspark\n",
            "Installing collected packages: py4j, pyspark\n",
            "Successfully installed py4j-0.10.7 pyspark-2.4.4\n"
          ],
          "name": "stdout"
        }
      ]
    },
    {
      "cell_type": "markdown",
      "metadata": {
        "id": "MhH6sJZBC8lG",
        "colab_type": "text"
      },
      "source": [
        ""
      ]
    },
    {
      "cell_type": "code",
      "metadata": {
        "id": "egtKLwi0C-kO",
        "colab_type": "code",
        "colab": {}
      },
      "source": [
        "#  HERE IS WHAT IT LOOKED LIKE:\n",
        "\n",
        "# Collecting pyspark\n",
        "#   Downloading https://files.pythonhosted.org/packages/87/21/f05c186f4ddb01d15d0ddc36ef4b7e3cedbeb6412274a41f26b55a650ee5/pyspark-2.4.4.tar.gz (215.7MB)\n",
        "#      |████████████████████████████████| 215.7MB 64kB/s \n",
        "# Collecting py4j==0.10.7\n",
        "#   Downloading https://files.pythonhosted.org/packages/e3/53/c737818eb9a7dc32a7cd4f1396e787bd94200c3997c72c1dbe028587bd76/py4j-0.10.7-py2.py3-none-any.whl (197kB)\n",
        "#      |████████████████████████████████| 204kB 57.1MB/s \n",
        "# Building wheels for collected packages: pyspark\n",
        "#   Building wheel for pyspark (setup.py) ... done\n",
        "#   Created wheel for pyspark: filename=pyspark-2.4.4-py2.py3-none-any.whl size=216130387 sha256=cac013fd0c315531dfcfaede5945772591909a51429227903d1b41ff7fd9f600\n",
        "#   Stored in directory: /root/.cache/pip/wheels/ab/09/4d/0d184230058e654eb1b04467dbc1292f00eaa186544604b471\n",
        "# Successfully built pyspark\n",
        "# Installing collected packages: py4j, pyspark\n",
        "# Successfully installed py4j-0.10.7 pyspark-2.4.4\n"
      ],
      "execution_count": 0,
      "outputs": []
    },
    {
      "cell_type": "markdown",
      "metadata": {
        "id": "1TWBIElMBW6O",
        "colab_type": "text"
      },
      "source": [
        "# Start Here - Creating Session"
      ]
    },
    {
      "cell_type": "code",
      "metadata": {
        "id": "qq_tfkGcfYvR",
        "colab_type": "code",
        "colab": {}
      },
      "source": [
        "import os\n",
        "os.environ[\"JAVA_HOME\"] = \"/usr/lib/jvm/java-8-openjdk-amd64\"\n",
        "os.environ[\"SPARK_HOME\"] = \"/content/spark-2.4.4-bin-hadoop2.7\""
      ],
      "execution_count": 0,
      "outputs": []
    },
    {
      "cell_type": "code",
      "metadata": {
        "id": "K24_4pHyfkTQ",
        "colab_type": "code",
        "outputId": "ca659702-886d-4ec4-fa2f-487dd02e1d6d",
        "colab": {
          "base_uri": "https://localhost:8080/",
          "height": 35
        }
      },
      "source": [
        "# Point Colaboratory to your Google Drive\n",
        "\n",
        "from google.colab import drive\n",
        "drive.mount('/content/gdrive')"
      ],
      "execution_count": 27,
      "outputs": [
        {
          "output_type": "stream",
          "text": [
            "Drive already mounted at /content/gdrive; to attempt to forcibly remount, call drive.mount(\"/content/gdrive\", force_remount=True).\n"
          ],
          "name": "stdout"
        }
      ]
    },
    {
      "cell_type": "code",
      "metadata": {
        "id": "yITDDk_qfqRg",
        "colab_type": "code",
        "outputId": "9d40adbd-e9f9-4207-9507-5b7d3a101aed",
        "colab": {
          "base_uri": "https://localhost:8080/",
          "height": 244
        }
      },
      "source": [
        "# Download datasets directly to your Google Drive \"Colab Datasets\" folder\n",
        "\n",
        "import requests\n",
        "\n",
        "# 2007 data\n",
        "\n",
        "file_url = \"http://stat-computing.org/dataexpo/2009/2007.csv.bz2\"\n",
        "\n",
        "r = requests.get(file_url, stream = True) \n",
        "\n",
        "with open(\"/content/gdrive/My Drive/Colab Datasets/2007.csv.bz2\", \"wb\") as file: \n",
        "\tfor block in r.iter_content(chunk_size = 1024): \n",
        "\t\tif block: \n",
        "\t\t\tfile.write(block)\n",
        "\n",
        "# 2008 data\n",
        "\n",
        "file_url = \"http://stat-computing.org/dataexpo/2009/2008.csv.bz2\"\n",
        "\n",
        "r = requests.get(file_url, stream = True) \n",
        "\n",
        "with open(\"/content/gdrive/My Drive/Colab Datasets/2008.csv.bz2\", \"wb\") as file: \n",
        "\tfor block in r.iter_content(chunk_size = 1024): \n",
        "\t\tif block: \n",
        "\t\t\tfile.write(block)"
      ],
      "execution_count": 4,
      "outputs": [
        {
          "output_type": "error",
          "ename": "FileNotFoundError",
          "evalue": "ignored",
          "traceback": [
            "\u001b[0;31m---------------------------------------------------------------------------\u001b[0m",
            "\u001b[0;31mFileNotFoundError\u001b[0m                         Traceback (most recent call last)",
            "\u001b[0;32m<ipython-input-4-5d812054be66>\u001b[0m in \u001b[0;36m<module>\u001b[0;34m()\u001b[0m\n\u001b[1;32m      8\u001b[0m \u001b[0mr\u001b[0m \u001b[0;34m=\u001b[0m \u001b[0mrequests\u001b[0m\u001b[0;34m.\u001b[0m\u001b[0mget\u001b[0m\u001b[0;34m(\u001b[0m\u001b[0mfile_url\u001b[0m\u001b[0;34m,\u001b[0m \u001b[0mstream\u001b[0m \u001b[0;34m=\u001b[0m \u001b[0;32mTrue\u001b[0m\u001b[0;34m)\u001b[0m\u001b[0;34m\u001b[0m\u001b[0;34m\u001b[0m\u001b[0m\n\u001b[1;32m      9\u001b[0m \u001b[0;34m\u001b[0m\u001b[0m\n\u001b[0;32m---> 10\u001b[0;31m \u001b[0;32mwith\u001b[0m \u001b[0mopen\u001b[0m\u001b[0;34m(\u001b[0m\u001b[0;34m\"/content/gdrive/My Drive/Colab Datasets/2007.csv.bz2\"\u001b[0m\u001b[0;34m,\u001b[0m \u001b[0;34m\"wb\"\u001b[0m\u001b[0;34m)\u001b[0m \u001b[0;32mas\u001b[0m \u001b[0mfile\u001b[0m\u001b[0;34m:\u001b[0m\u001b[0;34m\u001b[0m\u001b[0;34m\u001b[0m\u001b[0m\n\u001b[0m\u001b[1;32m     11\u001b[0m         \u001b[0;32mfor\u001b[0m \u001b[0mblock\u001b[0m \u001b[0;32min\u001b[0m \u001b[0mr\u001b[0m\u001b[0;34m.\u001b[0m\u001b[0miter_content\u001b[0m\u001b[0;34m(\u001b[0m\u001b[0mchunk_size\u001b[0m \u001b[0;34m=\u001b[0m \u001b[0;36m1024\u001b[0m\u001b[0;34m)\u001b[0m\u001b[0;34m:\u001b[0m\u001b[0;34m\u001b[0m\u001b[0;34m\u001b[0m\u001b[0m\n\u001b[1;32m     12\u001b[0m                 \u001b[0;32mif\u001b[0m \u001b[0mblock\u001b[0m\u001b[0;34m:\u001b[0m\u001b[0;34m\u001b[0m\u001b[0;34m\u001b[0m\u001b[0m\n",
            "\u001b[0;31mFileNotFoundError\u001b[0m: [Errno 2] No such file or directory: '/content/gdrive/My Drive/Colab Datasets/2007.csv.bz2'"
          ]
        }
      ]
    },
    {
      "cell_type": "code",
      "metadata": {
        "id": "jJXijD48fzxx",
        "colab_type": "code",
        "colab": {}
      },
      "source": [
        "# YOUR CORE LIBRARIES ! ! ! ! ! ! \n",
        "\n",
        "# Tools we need to connect to the Spark server, load our data,\n",
        "# clean it and prepare it\n",
        "# start here: \n",
        "\n",
        "# big boys: \n",
        "from pyspark import SparkContext\n",
        "from pyspark.sql import SparkSession\n",
        "# boys: \n",
        "from pyspark.ml import Pipeline\n",
        "from pyspark.ml.classification import RandomForestClassifier\n",
        "from pyspark.ml.feature import IndexToString, StringIndexer, VectorIndexer, VectorAssembler\n",
        "from pyspark.ml.evaluation import MulticlassClassificationEvaluator\n",
        "# funcs: \n",
        "from pyspark.sql.functions import isnan, when, count, col\n"
      ],
      "execution_count": 0,
      "outputs": []
    },
    {
      "cell_type": "code",
      "metadata": {
        "id": "M6Ihq8yKDQl2",
        "colab_type": "code",
        "colab": {
          "base_uri": "https://localhost:8080/",
          "height": 221
        },
        "outputId": "d7d1e7e9-60d0-4601-ff65-edd89624b56a"
      },
      "source": [
        "\n",
        "# check for presence of pyspark already running:\n",
        "\n",
        "spark\n"
      ],
      "execution_count": 232,
      "outputs": [
        {
          "output_type": "execute_result",
          "data": {
            "text/html": [
              "\n",
              "            <div>\n",
              "                <p><b>SparkSession - in-memory</b></p>\n",
              "                \n",
              "        <div>\n",
              "            <p><b>SparkContext</b></p>\n",
              "\n",
              "            <p><a href=\"http://844ed3290cf1:4040\">Spark UI</a></p>\n",
              "\n",
              "            <dl>\n",
              "              <dt>Version</dt>\n",
              "                <dd><code>v2.4.4</code></dd>\n",
              "              <dt>Master</dt>\n",
              "                <dd><code>local[*]</code></dd>\n",
              "              <dt>AppName</dt>\n",
              "                <dd><code>Spark_App_Oscar_Mike</code></dd>\n",
              "            </dl>\n",
              "        </div>\n",
              "        \n",
              "            </div>\n",
              "        "
            ],
            "text/plain": [
              "<pyspark.sql.session.SparkSession at 0x7f7ec0aac1d0>"
            ]
          },
          "metadata": {
            "tags": []
          },
          "execution_count": 232
        }
      ]
    },
    {
      "cell_type": "code",
      "metadata": {
        "id": "3P9tOsuZgKag",
        "colab_type": "code",
        "colab": {}
      },
      "source": [
        "\n",
        "# initiating spark on colab...\n",
        "\n",
        "SPARK_URL = \"local[*]\"\n",
        "\n",
        "spark = SparkSession.builder.appName(\"Spark_App_Oscar_Mike\").master(SPARK_URL).getOrCreate()\n",
        "\n",
        "\n",
        "# review:  \n",
        "#   - \n",
        "#  normally you create according to apache spark examples github home like this: \n",
        "#\n",
        "#   spark = SparkSession\\\n",
        "#          .builder\\\n",
        "#          .appName(\"PythonPi\")\\\n",
        "#          .getOrCreate()\n",
        "#\n",
        "#\n"
      ],
      "execution_count": 0,
      "outputs": []
    },
    {
      "cell_type": "code",
      "metadata": {
        "id": "YR-h4uyggYQg",
        "colab_type": "code",
        "colab": {}
      },
      "source": [
        "# holder:  spark = SparkSession.builder.appName(APP_NAME).master(SPARK_URL).getOrCreate()"
      ],
      "execution_count": 0,
      "outputs": []
    },
    {
      "cell_type": "code",
      "metadata": {
        "id": "h5jzMzjGgkVo",
        "colab_type": "code",
        "outputId": "d1b91e3e-f7bb-431f-b1f0-9a1ac9b80f6b",
        "colab": {
          "base_uri": "https://localhost:8080/",
          "height": 221
        }
      },
      "source": [
        "spark"
      ],
      "execution_count": 34,
      "outputs": [
        {
          "output_type": "execute_result",
          "data": {
            "text/html": [
              "\n",
              "            <div>\n",
              "                <p><b>SparkSession - in-memory</b></p>\n",
              "                \n",
              "        <div>\n",
              "            <p><b>SparkContext</b></p>\n",
              "\n",
              "            <p><a href=\"http://844ed3290cf1:4040\">Spark UI</a></p>\n",
              "\n",
              "            <dl>\n",
              "              <dt>Version</dt>\n",
              "                <dd><code>v2.4.4</code></dd>\n",
              "              <dt>Master</dt>\n",
              "                <dd><code>local[*]</code></dd>\n",
              "              <dt>AppName</dt>\n",
              "                <dd><code>Spark_App_Oscar_Mike</code></dd>\n",
              "            </dl>\n",
              "        </div>\n",
              "        \n",
              "            </div>\n",
              "        "
            ],
            "text/plain": [
              "<pyspark.sql.session.SparkSession at 0x7f7ec15b4e48>"
            ]
          },
          "metadata": {
            "tags": []
          },
          "execution_count": 34
        }
      ]
    },
    {
      "cell_type": "code",
      "metadata": {
        "id": "yP_U1Td7grEg",
        "colab_type": "code",
        "outputId": "a2779089-c81b-4fa2-840d-824f49a2511b",
        "colab": {
          "base_uri": "https://localhost:8080/",
          "height": 55
        }
      },
      "source": [
        "os.environ"
      ],
      "execution_count": 35,
      "outputs": [
        {
          "output_type": "execute_result",
          "data": {
            "text/plain": [
              "environ({'ENV': '/root/.bashrc', 'GCS_READ_CACHE_BLOCK_SIZE_MB': '16', 'CLOUDSDK_CONFIG': '/content/.config', 'CUDA_VERSION': '10.1.243', 'PATH': '/usr/local/nvidia/bin:/usr/local/cuda/bin:/usr/local/sbin:/usr/local/bin:/usr/sbin:/usr/bin:/sbin:/bin:/tools/node/bin:/tools/google-cloud-sdk/bin:/opt/bin', 'HOME': '/root', 'LD_LIBRARY_PATH': '/usr/local/nvidia/lib:/usr/local/nvidia/lib64', 'LANG': 'en_US.UTF-8', 'SHELL': '/bin/bash', 'LIBRARY_PATH': '/usr/local/cuda/lib64/stubs', 'CUDA_PKG_VERSION': '10-1=10.1.243-1', 'SHLVL': '1', 'NCCL_VERSION': '2.4.8', 'NVIDIA_VISIBLE_DEVICES': 'all', 'TF_FORCE_GPU_ALLOW_GROWTH': 'true', 'DEBIAN_FRONTEND': 'noninteractive', 'CUDNN_VERSION': '7.6.5.32', 'LAST_FORCED_REBUILD': '20191217', 'JPY_PARENT_PID': '24', 'PYTHONPATH': '/env/python', 'DATALAB_SETTINGS_OVERRIDES': '{\"kernelManagerProxyPort\":6000,\"kernelManagerProxyHost\":\"172.28.0.3\",\"jupyterArgs\":[\"--ip=\\\\\"172.28.0.2\\\\\"\"]}', 'NO_GCE_CHECK': 'True', 'GLIBCXX_FORCE_NEW': '1', 'NVIDIA_DRIVER_CAPABILITIES': 'compute,utility', '_': '/tools/node/bin/node', 'LD_PRELOAD': '/usr/lib/x86_64-linux-gnu/libtcmalloc.so.4', 'NVIDIA_REQUIRE_CUDA': 'cuda>=10.1 brand=tesla,driver>=384,driver<385 brand=tesla,driver>=396,driver<397 brand=tesla,driver>=410,driver<411', 'OLDPWD': '/', 'HOSTNAME': '844ed3290cf1', 'COLAB_GPU': '0', 'PWD': '/', 'GLIBCPP_FORCE_NEW': '1', 'PYTHONWARNINGS': 'ignore:::pip._internal.cli.base_command', 'TBE_CREDS_ADDR': '172.28.0.1:8008', 'TERM': 'xterm-color', 'CLICOLOR': '1', 'PAGER': 'cat', 'GIT_PAGER': 'cat', 'MPLBACKEND': 'module://ipykernel.pylab.backend_inline', 'JAVA_HOME': '/usr/lib/jvm/java-8-openjdk-amd64', 'SPARK_HOME': '/content/spark-2.4.4-bin-hadoop2.7'})"
            ]
          },
          "metadata": {
            "tags": []
          },
          "execution_count": 35
        }
      ]
    },
    {
      "cell_type": "code",
      "metadata": {
        "id": "IBZFBD7Wg7Fo",
        "colab_type": "code",
        "outputId": "a21874b0-24e8-4bde-8d7d-bb4a366c54c5",
        "colab": {
          "base_uri": "https://localhost:8080/",
          "height": 55
        }
      },
      "source": [
        "print(os.environ)"
      ],
      "execution_count": 36,
      "outputs": [
        {
          "output_type": "stream",
          "text": [
            "environ({'ENV': '/root/.bashrc', 'GCS_READ_CACHE_BLOCK_SIZE_MB': '16', 'CLOUDSDK_CONFIG': '/content/.config', 'CUDA_VERSION': '10.1.243', 'PATH': '/usr/local/nvidia/bin:/usr/local/cuda/bin:/usr/local/sbin:/usr/local/bin:/usr/sbin:/usr/bin:/sbin:/bin:/tools/node/bin:/tools/google-cloud-sdk/bin:/opt/bin', 'HOME': '/root', 'LD_LIBRARY_PATH': '/usr/local/nvidia/lib:/usr/local/nvidia/lib64', 'LANG': 'en_US.UTF-8', 'SHELL': '/bin/bash', 'LIBRARY_PATH': '/usr/local/cuda/lib64/stubs', 'CUDA_PKG_VERSION': '10-1=10.1.243-1', 'SHLVL': '1', 'NCCL_VERSION': '2.4.8', 'NVIDIA_VISIBLE_DEVICES': 'all', 'TF_FORCE_GPU_ALLOW_GROWTH': 'true', 'DEBIAN_FRONTEND': 'noninteractive', 'CUDNN_VERSION': '7.6.5.32', 'LAST_FORCED_REBUILD': '20191217', 'JPY_PARENT_PID': '24', 'PYTHONPATH': '/env/python', 'DATALAB_SETTINGS_OVERRIDES': '{\"kernelManagerProxyPort\":6000,\"kernelManagerProxyHost\":\"172.28.0.3\",\"jupyterArgs\":[\"--ip=\\\\\"172.28.0.2\\\\\"\"]}', 'NO_GCE_CHECK': 'True', 'GLIBCXX_FORCE_NEW': '1', 'NVIDIA_DRIVER_CAPABILITIES': 'compute,utility', '_': '/tools/node/bin/node', 'LD_PRELOAD': '/usr/lib/x86_64-linux-gnu/libtcmalloc.so.4', 'NVIDIA_REQUIRE_CUDA': 'cuda>=10.1 brand=tesla,driver>=384,driver<385 brand=tesla,driver>=396,driver<397 brand=tesla,driver>=410,driver<411', 'OLDPWD': '/', 'HOSTNAME': '844ed3290cf1', 'COLAB_GPU': '0', 'PWD': '/', 'GLIBCPP_FORCE_NEW': '1', 'PYTHONWARNINGS': 'ignore:::pip._internal.cli.base_command', 'TBE_CREDS_ADDR': '172.28.0.1:8008', 'TERM': 'xterm-color', 'CLICOLOR': '1', 'PAGER': 'cat', 'GIT_PAGER': 'cat', 'MPLBACKEND': 'module://ipykernel.pylab.backend_inline', 'JAVA_HOME': '/usr/lib/jvm/java-8-openjdk-amd64', 'SPARK_HOME': '/content/spark-2.4.4-bin-hadoop2.7'})\n"
          ],
          "name": "stdout"
        }
      ]
    },
    {
      "cell_type": "code",
      "metadata": {
        "id": "LOUMT_rjhHHQ",
        "colab_type": "code",
        "outputId": "95af3f31-1bec-4fa2-9727-dbe1de5b39d8",
        "colab": {
          "base_uri": "https://localhost:8080/",
          "height": 108
        }
      },
      "source": [
        "!ls -l"
      ],
      "execution_count": 37,
      "outputs": [
        {
          "output_type": "stream",
          "text": [
            "total 224716\n",
            "drwx------  4 root root      4096 Jan 22 16:12 gdrive\n",
            "drwxr-xr-x  1 root root      4096 Jan 13 16:38 sample_data\n",
            "drwxr-xr-x 13 1000 1000      4096 Aug 27 21:30 spark-2.4.4-bin-hadoop2.7\n",
            "-rw-r--r--  1 root root 230091034 Sep 21 14:43 spark-2.4.4-bin-hadoop2.7.tgz\n"
          ],
          "name": "stdout"
        }
      ]
    },
    {
      "cell_type": "code",
      "metadata": {
        "id": "934RYrpXhzzN",
        "colab_type": "code",
        "outputId": "5b638e28-fc5d-49b5-dc45-958486ff1398",
        "colab": {
          "base_uri": "https://localhost:8080/",
          "height": 35
        }
      },
      "source": [
        "!pwd"
      ],
      "execution_count": 38,
      "outputs": [
        {
          "output_type": "stream",
          "text": [
            "/content\n"
          ],
          "name": "stdout"
        }
      ]
    },
    {
      "cell_type": "code",
      "metadata": {
        "id": "qjNrdQ2Bh1s-",
        "colab_type": "code",
        "outputId": "b685c276-d345-4bb6-cb4d-b0bb9106a17a",
        "colab": {
          "base_uri": "https://localhost:8080/",
          "height": 308
        }
      },
      "source": [
        "!wget https://github.com/tidyverse/ggplot2/raw/master/data-raw/diamonds.csv"
      ],
      "execution_count": 39,
      "outputs": [
        {
          "output_type": "stream",
          "text": [
            "--2020-01-22 16:21:41--  https://github.com/tidyverse/ggplot2/raw/master/data-raw/diamonds.csv\n",
            "Resolving github.com (github.com)... 140.82.118.3\n",
            "Connecting to github.com (github.com)|140.82.118.3|:443... connected.\n",
            "HTTP request sent, awaiting response... 302 Found\n",
            "Location: https://raw.githubusercontent.com/tidyverse/ggplot2/master/data-raw/diamonds.csv [following]\n",
            "--2020-01-22 16:21:42--  https://raw.githubusercontent.com/tidyverse/ggplot2/master/data-raw/diamonds.csv\n",
            "Resolving raw.githubusercontent.com (raw.githubusercontent.com)... 151.101.0.133, 151.101.64.133, 151.101.128.133, ...\n",
            "Connecting to raw.githubusercontent.com (raw.githubusercontent.com)|151.101.0.133|:443... connected.\n",
            "HTTP request sent, awaiting response... 200 OK\n",
            "Length: 2772143 (2.6M) [text/plain]\n",
            "Saving to: ‘diamonds.csv’\n",
            "\n",
            "diamonds.csv        100%[===================>]   2.64M  --.-KB/s    in 0.04s   \n",
            "\n",
            "2020-01-22 16:21:43 (74.1 MB/s) - ‘diamonds.csv’ saved [2772143/2772143]\n",
            "\n"
          ],
          "name": "stdout"
        }
      ]
    },
    {
      "cell_type": "code",
      "metadata": {
        "id": "quB61GKbiHGl",
        "colab_type": "code",
        "outputId": "91169f7a-0a2b-4b54-969c-0fcfec549048",
        "colab": {
          "base_uri": "https://localhost:8080/",
          "height": 126
        }
      },
      "source": [
        "!ls -l\n",
        "\n",
        "# do you see diamonds ?  :) "
      ],
      "execution_count": 40,
      "outputs": [
        {
          "output_type": "stream",
          "text": [
            "total 227424\n",
            "-rw-r--r--  1 root root   2772143 Jan 22 16:21 diamonds.csv\n",
            "drwx------  4 root root      4096 Jan 22 16:12 gdrive\n",
            "drwxr-xr-x  1 root root      4096 Jan 13 16:38 sample_data\n",
            "drwxr-xr-x 13 1000 1000      4096 Aug 27 21:30 spark-2.4.4-bin-hadoop2.7\n",
            "-rw-r--r--  1 root root 230091034 Sep 21 14:43 spark-2.4.4-bin-hadoop2.7.tgz\n"
          ],
          "name": "stdout"
        }
      ]
    },
    {
      "cell_type": "code",
      "metadata": {
        "id": "_Wb7Uqv6iIZk",
        "colab_type": "code",
        "colab": {}
      },
      "source": [
        "import requests"
      ],
      "execution_count": 0,
      "outputs": []
    },
    {
      "cell_type": "code",
      "metadata": {
        "id": "0p-bSNeBiM9c",
        "colab_type": "code",
        "colab": {}
      },
      "source": [
        "#  you can also do it like this as well for file download:\n",
        "\n",
        "#    file_url = \"https://github.com/tidyverse/ggplot2/raw/master/data-raw/diamonds.csv\" \n",
        "\n",
        "#    r = requests.get(file_url, stream = True) "
      ],
      "execution_count": 0,
      "outputs": []
    },
    {
      "cell_type": "code",
      "metadata": {
        "id": "hdKLgO6riVTM",
        "colab_type": "code",
        "outputId": "cad0d0e9-142e-436d-c28c-f77d39c1c769",
        "colab": {
          "base_uri": "https://localhost:8080/",
          "height": 126
        }
      },
      "source": [
        "!ls -l"
      ],
      "execution_count": 42,
      "outputs": [
        {
          "output_type": "stream",
          "text": [
            "total 227424\n",
            "-rw-r--r--  1 root root   2772143 Jan 22 16:21 diamonds.csv\n",
            "drwx------  4 root root      4096 Jan 22 16:12 gdrive\n",
            "drwxr-xr-x  1 root root      4096 Jan 13 16:38 sample_data\n",
            "drwxr-xr-x 13 1000 1000      4096 Aug 27 21:30 spark-2.4.4-bin-hadoop2.7\n",
            "-rw-r--r--  1 root root 230091034 Sep 21 14:43 spark-2.4.4-bin-hadoop2.7.tgz\n"
          ],
          "name": "stdout"
        }
      ]
    },
    {
      "cell_type": "code",
      "metadata": {
        "id": "3pcl-JXHEABw",
        "colab_type": "code",
        "colab": {
          "base_uri": "https://localhost:8080/",
          "height": 35
        },
        "outputId": "2e163759-f1a7-4698-a600-b6785eb61980"
      },
      "source": [
        "!ls -l diamonds.csv"
      ],
      "execution_count": 43,
      "outputs": [
        {
          "output_type": "stream",
          "text": [
            "-rw-r--r-- 1 root root 2772143 Jan 22 16:21 diamonds.csv\n"
          ],
          "name": "stdout"
        }
      ]
    },
    {
      "cell_type": "code",
      "metadata": {
        "id": "RU__aCmKiWqM",
        "colab_type": "code",
        "colab": {}
      },
      "source": [
        "CSV_FILE = \"/content/diamonds.csv\""
      ],
      "execution_count": 0,
      "outputs": []
    },
    {
      "cell_type": "code",
      "metadata": {
        "id": "PYr-x9rSihsU",
        "colab_type": "code",
        "colab": {}
      },
      "source": [
        "df_pri = spark.read.options(header=\"true\",inferschema = \"true\").csv(CSV_FILE)"
      ],
      "execution_count": 0,
      "outputs": []
    },
    {
      "cell_type": "code",
      "metadata": {
        "id": "Hl-1htsyiqzr",
        "colab_type": "code",
        "outputId": "eb41b4f0-b57e-43d2-d138-67ca9fa7803f",
        "colab": {
          "base_uri": "https://localhost:8080/",
          "height": 35
        }
      },
      "source": [
        "df_pri"
      ],
      "execution_count": 46,
      "outputs": [
        {
          "output_type": "execute_result",
          "data": {
            "text/plain": [
              "DataFrame[carat: double, cut: string, color: string, clarity: string, depth: double, table: double, price: int, x: double, y: double, z: double]"
            ]
          },
          "metadata": {
            "tags": []
          },
          "execution_count": 46
        }
      ]
    },
    {
      "cell_type": "code",
      "metadata": {
        "id": "cvn2SceTisns",
        "colab_type": "code",
        "outputId": "dd6ada4f-084c-4f8d-e555-c8dc43bad2a6",
        "colab": {
          "base_uri": "https://localhost:8080/",
          "height": 35
        }
      },
      "source": [
        "display(df_pri)"
      ],
      "execution_count": 47,
      "outputs": [
        {
          "output_type": "display_data",
          "data": {
            "text/plain": [
              "DataFrame[carat: double, cut: string, color: string, clarity: string, depth: double, table: double, price: int, x: double, y: double, z: double]"
            ]
          },
          "metadata": {
            "tags": []
          }
        }
      ]
    },
    {
      "cell_type": "code",
      "metadata": {
        "id": "f8T8MBHXi1k7",
        "colab_type": "code",
        "outputId": "12aa635a-df48-4cf9-b1f3-2da096880b82",
        "colab": {
          "base_uri": "https://localhost:8080/",
          "height": 490
        }
      },
      "source": [
        "df_pri.show()"
      ],
      "execution_count": 48,
      "outputs": [
        {
          "output_type": "stream",
          "text": [
            "+-----+---------+-----+-------+-----+-----+-----+----+----+----+\n",
            "|carat|      cut|color|clarity|depth|table|price|   x|   y|   z|\n",
            "+-----+---------+-----+-------+-----+-----+-----+----+----+----+\n",
            "| 0.23|    Ideal|    E|    SI2| 61.5| 55.0|  326|3.95|3.98|2.43|\n",
            "| 0.21|  Premium|    E|    SI1| 59.8| 61.0|  326|3.89|3.84|2.31|\n",
            "| 0.23|     Good|    E|    VS1| 56.9| 65.0|  327|4.05|4.07|2.31|\n",
            "| 0.29|  Premium|    I|    VS2| 62.4| 58.0|  334| 4.2|4.23|2.63|\n",
            "| 0.31|     Good|    J|    SI2| 63.3| 58.0|  335|4.34|4.35|2.75|\n",
            "| 0.24|Very Good|    J|   VVS2| 62.8| 57.0|  336|3.94|3.96|2.48|\n",
            "| 0.24|Very Good|    I|   VVS1| 62.3| 57.0|  336|3.95|3.98|2.47|\n",
            "| 0.26|Very Good|    H|    SI1| 61.9| 55.0|  337|4.07|4.11|2.53|\n",
            "| 0.22|     Fair|    E|    VS2| 65.1| 61.0|  337|3.87|3.78|2.49|\n",
            "| 0.23|Very Good|    H|    VS1| 59.4| 61.0|  338| 4.0|4.05|2.39|\n",
            "|  0.3|     Good|    J|    SI1| 64.0| 55.0|  339|4.25|4.28|2.73|\n",
            "| 0.23|    Ideal|    J|    VS1| 62.8| 56.0|  340|3.93| 3.9|2.46|\n",
            "| 0.22|  Premium|    F|    SI1| 60.4| 61.0|  342|3.88|3.84|2.33|\n",
            "| 0.31|    Ideal|    J|    SI2| 62.2| 54.0|  344|4.35|4.37|2.71|\n",
            "|  0.2|  Premium|    E|    SI2| 60.2| 62.0|  345|3.79|3.75|2.27|\n",
            "| 0.32|  Premium|    E|     I1| 60.9| 58.0|  345|4.38|4.42|2.68|\n",
            "|  0.3|    Ideal|    I|    SI2| 62.0| 54.0|  348|4.31|4.34|2.68|\n",
            "|  0.3|     Good|    J|    SI1| 63.4| 54.0|  351|4.23|4.29| 2.7|\n",
            "|  0.3|     Good|    J|    SI1| 63.8| 56.0|  351|4.23|4.26|2.71|\n",
            "|  0.3|Very Good|    J|    SI1| 62.7| 59.0|  351|4.21|4.27|2.66|\n",
            "+-----+---------+-----+-------+-----+-----+-----+----+----+----+\n",
            "only showing top 20 rows\n",
            "\n"
          ],
          "name": "stdout"
        }
      ]
    },
    {
      "cell_type": "code",
      "metadata": {
        "id": "gINuuXgcEPXJ",
        "colab_type": "code",
        "colab": {
          "base_uri": "https://localhost:8080/",
          "height": 35
        },
        "outputId": "6a191015-89b6-42ca-ff8d-a1e04d6c052e"
      },
      "source": [
        "df_pri.count()"
      ],
      "execution_count": 52,
      "outputs": [
        {
          "output_type": "execute_result",
          "data": {
            "text/plain": [
              "53940"
            ]
          },
          "metadata": {
            "tags": []
          },
          "execution_count": 52
        }
      ]
    },
    {
      "cell_type": "code",
      "metadata": {
        "id": "VaaHNKH2EYPd",
        "colab_type": "code",
        "colab": {
          "base_uri": "https://localhost:8080/",
          "height": 199
        },
        "outputId": "f38a40c8-fb86-4834-ff0f-7d1231bd5348"
      },
      "source": [
        "df_pri.dtypes"
      ],
      "execution_count": 53,
      "outputs": [
        {
          "output_type": "execute_result",
          "data": {
            "text/plain": [
              "[('carat', 'double'),\n",
              " ('cut', 'string'),\n",
              " ('color', 'string'),\n",
              " ('clarity', 'string'),\n",
              " ('depth', 'double'),\n",
              " ('table', 'double'),\n",
              " ('price', 'int'),\n",
              " ('x', 'double'),\n",
              " ('y', 'double'),\n",
              " ('z', 'double')]"
            ]
          },
          "metadata": {
            "tags": []
          },
          "execution_count": 53
        }
      ]
    },
    {
      "cell_type": "markdown",
      "metadata": {
        "id": "cxmBXyT8EJnL",
        "colab_type": "text"
      },
      "source": [
        "# Next Step: "
      ]
    },
    {
      "cell_type": "code",
      "metadata": {
        "id": "IYBuEfNBi4Oz",
        "colab_type": "code",
        "outputId": "fd20155b-9612-4df4-85cb-f23b362ae3fa",
        "colab": {
          "base_uri": "https://localhost:8080/",
          "height": 35
        }
      },
      "source": [
        "sc"
      ],
      "execution_count": 49,
      "outputs": [
        {
          "output_type": "execute_result",
          "data": {
            "text/plain": [
              "''"
            ]
          },
          "metadata": {
            "tags": []
          },
          "execution_count": 49
        }
      ]
    },
    {
      "cell_type": "code",
      "metadata": {
        "id": "lu4bK1walUCA",
        "colab_type": "code",
        "outputId": "970d7bd1-8a90-4ab1-93cb-a650ef292559",
        "colab": {
          "base_uri": "https://localhost:8080/",
          "height": 221
        }
      },
      "source": [
        "spark"
      ],
      "execution_count": 50,
      "outputs": [
        {
          "output_type": "execute_result",
          "data": {
            "text/html": [
              "\n",
              "            <div>\n",
              "                <p><b>SparkSession - in-memory</b></p>\n",
              "                \n",
              "        <div>\n",
              "            <p><b>SparkContext</b></p>\n",
              "\n",
              "            <p><a href=\"http://844ed3290cf1:4040\">Spark UI</a></p>\n",
              "\n",
              "            <dl>\n",
              "              <dt>Version</dt>\n",
              "                <dd><code>v2.4.4</code></dd>\n",
              "              <dt>Master</dt>\n",
              "                <dd><code>local[*]</code></dd>\n",
              "              <dt>AppName</dt>\n",
              "                <dd><code>Spark_App_Oscar_Mike</code></dd>\n",
              "            </dl>\n",
              "        </div>\n",
              "        \n",
              "            </div>\n",
              "        "
            ],
            "text/plain": [
              "<pyspark.sql.session.SparkSession at 0x7f7ec15b4e48>"
            ]
          },
          "metadata": {
            "tags": []
          },
          "execution_count": 50
        }
      ]
    },
    {
      "cell_type": "markdown",
      "metadata": {
        "id": "qwc2JwgiHpBt",
        "colab_type": "text"
      },
      "source": [
        "* turns out it is ok to actually define:  sc = spark.sparkContext"
      ]
    },
    {
      "cell_type": "code",
      "metadata": {
        "id": "_rRcNkyCHt8x",
        "colab_type": "code",
        "colab": {}
      },
      "source": [
        "sc = spark.sparkContext"
      ],
      "execution_count": 0,
      "outputs": []
    },
    {
      "cell_type": "markdown",
      "metadata": {
        "id": "1JIzmMZily4Y",
        "colab_type": "text"
      },
      "source": [
        "# Background"
      ]
    },
    {
      "cell_type": "code",
      "metadata": {
        "id": "dyo5PNf8l0DX",
        "colab_type": "code",
        "colab": {}
      },
      "source": [
        "# # Download datasets directly to your Google Drive \"Colab Datasets\" folder\n",
        "\n",
        "# import requests\n",
        "\n",
        "# # 2007 data\n",
        "\n",
        "# file_url = \"http://stat-computing.org/dataexpo/2009/2007.csv.bz2\"\n",
        "\n",
        "# r = requests.get(file_url, stream = True) \n",
        "\n",
        "# with open(\"/content/gdrive/My Drive/Colab Datasets/2007.csv.bz2\", \"wb\") as file: \n",
        "# \tfor block in r.iter_content(chunk_size = 1024): \n",
        "# \t\tif block: \n",
        "# \t\t\tfile.write(block)\n",
        "\n",
        "# # 2008 data\n",
        "\n",
        "# file_url = \"http://stat-computing.org/dataexpo/2009/2008.csv.bz2\"\n",
        "\n",
        "# r = requests.get(file_url, stream = True) \n",
        "\n",
        "# with open(\"/content/gdrive/My Drive/Colab Datasets/2008.csv.bz2\", \"wb\") as file: \n",
        "# \tfor block in r.iter_content(chunk_size = 1024): \n",
        "# \t\tif block: \n",
        "# \t\t\tfile.write(block)"
      ],
      "execution_count": 0,
      "outputs": []
    },
    {
      "cell_type": "markdown",
      "metadata": {
        "id": "Hq_2w3IMl6I7",
        "colab_type": "text"
      },
      "source": [
        "### https://medium.com/@rmache/big-data-with-spark-in-google-colab-7c046e24b3"
      ]
    },
    {
      "cell_type": "code",
      "metadata": {
        "id": "xlzao-wdl7H4",
        "colab_type": "code",
        "colab": {}
      },
      "source": [
        "# from pyspark import SparkContext\n",
        "# from pyspark.sql import SparkSession\n",
        "\n",
        "# from pyspark.ml import Pipeline\n",
        "# from pyspark.ml.classification import RandomForestClassifier\n",
        "# from pyspark.ml.feature import IndexToString, StringIndexer, VectorIndexer, VectorAssembler\n",
        "# from pyspark.ml.evaluation import MulticlassClassificationEvaluator\n",
        "\n",
        "# from pyspark.sql.functions import isnan, when, count, col"
      ],
      "execution_count": 0,
      "outputs": []
    },
    {
      "cell_type": "markdown",
      "metadata": {
        "id": "3iKNOYysEe-Q",
        "colab_type": "text"
      },
      "source": [
        "# df_pri"
      ]
    },
    {
      "cell_type": "code",
      "metadata": {
        "id": "WHhRg0b9mA8o",
        "colab_type": "code",
        "outputId": "26176bbd-53ba-4d1f-d6fc-39de58b1e3af",
        "colab": {
          "base_uri": "https://localhost:8080/",
          "height": 35
        }
      },
      "source": [
        "print(type(df_pri))"
      ],
      "execution_count": 55,
      "outputs": [
        {
          "output_type": "stream",
          "text": [
            "<class 'pyspark.sql.dataframe.DataFrame'>\n"
          ],
          "name": "stdout"
        }
      ]
    },
    {
      "cell_type": "code",
      "metadata": {
        "id": "raK-4mmumGVn",
        "colab_type": "code",
        "colab": {}
      },
      "source": [
        "#  see, this is not a pandas df, it is a SPARK df..."
      ],
      "execution_count": 0,
      "outputs": []
    },
    {
      "cell_type": "code",
      "metadata": {
        "id": "p96P3x5JmKho",
        "colab_type": "code",
        "colab": {}
      },
      "source": [
        "df = df_pri"
      ],
      "execution_count": 0,
      "outputs": []
    },
    {
      "cell_type": "code",
      "metadata": {
        "id": "uVKNEVROmR9w",
        "colab_type": "code",
        "outputId": "dfc18bdc-00a3-47a8-cd1a-bc3baef83f10",
        "colab": {
          "base_uri": "https://localhost:8080/",
          "height": 35
        }
      },
      "source": [
        "df"
      ],
      "execution_count": 58,
      "outputs": [
        {
          "output_type": "execute_result",
          "data": {
            "text/plain": [
              "DataFrame[carat: double, cut: string, color: string, clarity: string, depth: double, table: double, price: int, x: double, y: double, z: double]"
            ]
          },
          "metadata": {
            "tags": []
          },
          "execution_count": 58
        }
      ]
    },
    {
      "cell_type": "code",
      "metadata": {
        "id": "8nV_E_EamT5H",
        "colab_type": "code",
        "outputId": "e1e8e7b4-f1ad-4a28-9202-1f72754a6deb",
        "colab": {
          "base_uri": "https://localhost:8080/",
          "height": 490
        }
      },
      "source": [
        "df.show()"
      ],
      "execution_count": 59,
      "outputs": [
        {
          "output_type": "stream",
          "text": [
            "+-----+---------+-----+-------+-----+-----+-----+----+----+----+\n",
            "|carat|      cut|color|clarity|depth|table|price|   x|   y|   z|\n",
            "+-----+---------+-----+-------+-----+-----+-----+----+----+----+\n",
            "| 0.23|    Ideal|    E|    SI2| 61.5| 55.0|  326|3.95|3.98|2.43|\n",
            "| 0.21|  Premium|    E|    SI1| 59.8| 61.0|  326|3.89|3.84|2.31|\n",
            "| 0.23|     Good|    E|    VS1| 56.9| 65.0|  327|4.05|4.07|2.31|\n",
            "| 0.29|  Premium|    I|    VS2| 62.4| 58.0|  334| 4.2|4.23|2.63|\n",
            "| 0.31|     Good|    J|    SI2| 63.3| 58.0|  335|4.34|4.35|2.75|\n",
            "| 0.24|Very Good|    J|   VVS2| 62.8| 57.0|  336|3.94|3.96|2.48|\n",
            "| 0.24|Very Good|    I|   VVS1| 62.3| 57.0|  336|3.95|3.98|2.47|\n",
            "| 0.26|Very Good|    H|    SI1| 61.9| 55.0|  337|4.07|4.11|2.53|\n",
            "| 0.22|     Fair|    E|    VS2| 65.1| 61.0|  337|3.87|3.78|2.49|\n",
            "| 0.23|Very Good|    H|    VS1| 59.4| 61.0|  338| 4.0|4.05|2.39|\n",
            "|  0.3|     Good|    J|    SI1| 64.0| 55.0|  339|4.25|4.28|2.73|\n",
            "| 0.23|    Ideal|    J|    VS1| 62.8| 56.0|  340|3.93| 3.9|2.46|\n",
            "| 0.22|  Premium|    F|    SI1| 60.4| 61.0|  342|3.88|3.84|2.33|\n",
            "| 0.31|    Ideal|    J|    SI2| 62.2| 54.0|  344|4.35|4.37|2.71|\n",
            "|  0.2|  Premium|    E|    SI2| 60.2| 62.0|  345|3.79|3.75|2.27|\n",
            "| 0.32|  Premium|    E|     I1| 60.9| 58.0|  345|4.38|4.42|2.68|\n",
            "|  0.3|    Ideal|    I|    SI2| 62.0| 54.0|  348|4.31|4.34|2.68|\n",
            "|  0.3|     Good|    J|    SI1| 63.4| 54.0|  351|4.23|4.29| 2.7|\n",
            "|  0.3|     Good|    J|    SI1| 63.8| 56.0|  351|4.23|4.26|2.71|\n",
            "|  0.3|Very Good|    J|    SI1| 62.7| 59.0|  351|4.21|4.27|2.66|\n",
            "+-----+---------+-----+-------+-----+-----+-----+----+----+----+\n",
            "only showing top 20 rows\n",
            "\n"
          ],
          "name": "stdout"
        }
      ]
    },
    {
      "cell_type": "code",
      "metadata": {
        "id": "jUY1OvXymVDI",
        "colab_type": "code",
        "outputId": "175f07cd-1a52-4ef2-da6b-dffcd38692af",
        "colab": {
          "base_uri": "https://localhost:8080/",
          "height": 35
        }
      },
      "source": [
        "print(f\"The shape is {df.count():d} rows by {len(df.columns):d} columns.\")"
      ],
      "execution_count": 60,
      "outputs": [
        {
          "output_type": "stream",
          "text": [
            "The shape is 53940 rows by 10 columns.\n"
          ],
          "name": "stdout"
        }
      ]
    },
    {
      "cell_type": "code",
      "metadata": {
        "id": "WKdLZHT9mWvn",
        "colab_type": "code",
        "outputId": "1c7b7fc8-2105-43a6-d6de-4988a1343d50",
        "colab": {
          "base_uri": "https://localhost:8080/",
          "height": 35
        }
      },
      "source": [
        "df.columns"
      ],
      "execution_count": 61,
      "outputs": [
        {
          "output_type": "execute_result",
          "data": {
            "text/plain": [
              "['carat', 'cut', 'color', 'clarity', 'depth', 'table', 'price', 'x', 'y', 'z']"
            ]
          },
          "metadata": {
            "tags": []
          },
          "execution_count": 61
        }
      ]
    },
    {
      "cell_type": "code",
      "metadata": {
        "id": "laooSvtzmYeg",
        "colab_type": "code",
        "outputId": "ec54cee2-5ebc-4946-d443-f7991456db96",
        "colab": {
          "base_uri": "https://localhost:8080/",
          "height": 35
        }
      },
      "source": [
        "null_counts = df.select([count(when(isnan(c) | col(c).isNull(), c)).alias(c)for c in df.columns]).toPandas().to_dict(orient='records')\n",
        "print(f\"We have {sum(null_counts[0].values()):d} null values in this dataset.\")"
      ],
      "execution_count": 62,
      "outputs": [
        {
          "output_type": "stream",
          "text": [
            "We have 0 null values in this dataset.\n"
          ],
          "name": "stdout"
        }
      ]
    },
    {
      "cell_type": "code",
      "metadata": {
        "id": "1K2VqlJYmeI2",
        "colab_type": "code",
        "colab": {}
      },
      "source": [
        "# df = df.drop(df.CancellationCode)\n",
        "# df = df.na.drop()"
      ],
      "execution_count": 0,
      "outputs": []
    },
    {
      "cell_type": "code",
      "metadata": {
        "id": "kFJRyhX5mpa-",
        "colab_type": "code",
        "outputId": "be8780bc-25b4-4389-e33f-3b87860f17c3",
        "colab": {
          "base_uri": "https://localhost:8080/",
          "height": 35
        }
      },
      "source": [
        "df.select('cut').distinct().rdd.map(lambda r: r[0]).collect()"
      ],
      "execution_count": 64,
      "outputs": [
        {
          "output_type": "execute_result",
          "data": {
            "text/plain": [
              "['Premium', 'Ideal', 'Good', 'Fair', 'Very Good']"
            ]
          },
          "metadata": {
            "tags": []
          },
          "execution_count": 64
        }
      ]
    },
    {
      "cell_type": "code",
      "metadata": {
        "id": "tPmSXwzDmykg",
        "colab_type": "code",
        "outputId": "e59c51a0-5244-41cc-eb1f-492956f2a4fe",
        "colab": {
          "base_uri": "https://localhost:8080/",
          "height": 108
        }
      },
      "source": [
        "df.select('cut').distinct().rdd.collect()"
      ],
      "execution_count": 65,
      "outputs": [
        {
          "output_type": "execute_result",
          "data": {
            "text/plain": [
              "[Row(cut='Premium'),\n",
              " Row(cut='Ideal'),\n",
              " Row(cut='Good'),\n",
              " Row(cut='Fair'),\n",
              " Row(cut='Very Good')]"
            ]
          },
          "metadata": {
            "tags": []
          },
          "execution_count": 65
        }
      ]
    },
    {
      "cell_type": "code",
      "metadata": {
        "id": "T7T5Up2lm81O",
        "colab_type": "code",
        "outputId": "8462c830-6176-4c49-ab9b-98b288d065e3",
        "colab": {
          "base_uri": "https://localhost:8080/",
          "height": 490
        }
      },
      "source": [
        "df.select('carat').show()"
      ],
      "execution_count": 66,
      "outputs": [
        {
          "output_type": "stream",
          "text": [
            "+-----+\n",
            "|carat|\n",
            "+-----+\n",
            "| 0.23|\n",
            "| 0.21|\n",
            "| 0.23|\n",
            "| 0.29|\n",
            "| 0.31|\n",
            "| 0.24|\n",
            "| 0.24|\n",
            "| 0.26|\n",
            "| 0.22|\n",
            "| 0.23|\n",
            "|  0.3|\n",
            "| 0.23|\n",
            "| 0.22|\n",
            "| 0.31|\n",
            "|  0.2|\n",
            "| 0.32|\n",
            "|  0.3|\n",
            "|  0.3|\n",
            "|  0.3|\n",
            "|  0.3|\n",
            "+-----+\n",
            "only showing top 20 rows\n",
            "\n"
          ],
          "name": "stdout"
        }
      ]
    },
    {
      "cell_type": "code",
      "metadata": {
        "id": "I94VhDmBnJ43",
        "colab_type": "code",
        "outputId": "95735d32-9854-43c4-990b-ffd37e124e77",
        "colab": {
          "base_uri": "https://localhost:8080/",
          "height": 35
        }
      },
      "source": [
        "!pwd"
      ],
      "execution_count": 67,
      "outputs": [
        {
          "output_type": "stream",
          "text": [
            "/content\n"
          ],
          "name": "stdout"
        }
      ]
    },
    {
      "cell_type": "code",
      "metadata": {
        "id": "cqE8qDmFnXMn",
        "colab_type": "code",
        "outputId": "616bf2b5-68c4-43dd-feaa-34ead1598cda",
        "colab": {
          "base_uri": "https://localhost:8080/",
          "height": 526
        }
      },
      "source": [
        "!ls -l /"
      ],
      "execution_count": 68,
      "outputs": [
        {
          "output_type": "stream",
          "text": [
            "total 7908\n",
            "drwxr-xr-x   1 root root    4096 Dec 18 16:45 bin\n",
            "drwxr-xr-x   2 root root    4096 Apr 24  2018 boot\n",
            "drwxr-xr-x   1 root root    4096 Jan 22 16:21 content\n",
            "drwxr-xr-x   1 root root    4096 Jan 13 17:08 datalab\n",
            "drwxr-xr-x   5 root root     360 Jan 22 16:10 dev\n",
            "-rw-r--r--   1 root root 3989833 Jan 13 16:38 dlib-19.18.0-cp27-cp27mu-linux_x86_64.whl\n",
            "-rw-r--r--   1 root root 3997028 Jan 13 16:38 dlib-19.18.0-cp36-cp36m-linux_x86_64.whl\n",
            "drwxr-xr-x   1 root root    4096 Jan 22 16:10 etc\n",
            "drwxr-xr-x   2 root root    4096 Apr 24  2018 home\n",
            "drwxr-xr-x   1 root root    4096 Dec 18 16:47 lib\n",
            "drwxr-xr-x   2 root root    4096 Dec 18 16:43 lib32\n",
            "drwxr-xr-x   2 root root    4096 Oct 29 21:25 lib64\n",
            "drwxr-xr-x   2 root root    4096 Oct 29 21:25 media\n",
            "drwxr-xr-x   2 root root    4096 Oct 29 21:25 mnt\n",
            "drwxr-xr-x   1 root root    4096 Dec 18 16:48 opt\n",
            "dr-xr-xr-x 117 root root       0 Jan 22 16:10 proc\n",
            "drwx------   1 root root    4096 Jan 22 16:21 root\n",
            "drwxr-xr-x   1 root root    4096 Dec 18 16:45 run\n",
            "drwxr-xr-x   1 root root    4096 Dec 18 16:46 sbin\n",
            "drwxr-xr-x   2 root root    4096 Oct 29 21:25 srv\n",
            "drwxr-xr-x   4 root root    4096 Jan 13 17:07 swift\n",
            "dr-xr-xr-x  12 root root       0 Jan 22 16:10 sys\n",
            "drwxr-xr-x   4 root root    4096 Jan 13 17:03 tensorflow-2.1.0\n",
            "drwxrwxrwt   1 root root    4096 Jan 22 16:22 tmp\n",
            "drwxr-xr-x   1 root root    4096 Jan 13 17:08 tools\n",
            "drwxr-xr-x   1 root root    4096 Dec 18 16:48 usr\n",
            "drwxr-xr-x   1 root root    4096 Jan 22 16:10 var\n"
          ],
          "name": "stdout"
        }
      ]
    },
    {
      "cell_type": "code",
      "metadata": {
        "id": "scAABrI8nYhn",
        "colab_type": "code",
        "outputId": "8ab6c023-e24e-4932-8774-ac7c1609e9fc",
        "colab": {
          "base_uri": "https://localhost:8080/",
          "height": 1000
        }
      },
      "source": [
        "!ls -l /usr/bin"
      ],
      "execution_count": 69,
      "outputs": [
        {
          "output_type": "stream",
          "text": [
            "total 144512\n",
            "-rwxr-xr-x 1 root root      51384 Jan 18  2018 '['\n",
            "-rwxr-xr-x 1 root root         96 Nov  7 10:07  2to3-2.7\n",
            "-rwxr-xr-x 1 root root         39 Feb  5  2018  7z\n",
            "-rwxr-xr-x 1 root root         40 Feb  5  2018  7za\n",
            "-rwxr-xr-x 1 root root         40 Feb  5  2018  7zr\n",
            "-rwxr-xr-x 1 root root      10240 Mar 24  2018  acyclic\n",
            "-rwxr-xr-x 1 root root       7258 Jul 12  2019  add-apt-repository\n",
            "-rwxr-xr-x 1 root root      22608 Aug 22 23:47  addpart\n",
            "lrwxrwxrwx 1 root root         26 May  8  2019  addr2line -> x86_64-linux-gnu-addr2line\n",
            "lrwxrwxrwx 1 root root          6 Aug  4  2018  apropos -> whatis\n",
            "-rwxr-xr-x 1 root root      14424 Sep  3 10:05  apt\n",
            "lrwxrwxrwx 1 root root         18 Jul 12  2019  apt-add-repository -> add-apt-repository\n",
            "-rwxr-xr-x 1 root root      80032 Sep  3 10:05  apt-cache\n",
            "-rwxr-xr-x 1 root root      22688 Sep  3 10:05  apt-cdrom\n",
            "-rwxr-xr-x 1 root root      22616 Sep  3 10:05  apt-config\n",
            "-rwxr-xr-x 1 root root      22688 Sep  3 10:05  apt-extracttemplates\n",
            "-rwxr-xr-x 1 root root     239776 Sep  3 10:05  apt-ftparchive\n",
            "-rwxr-xr-x 1 root root      43168 Sep  3 10:05  apt-get\n",
            "-rwxr-xr-x 1 root root      27391 Sep  3 10:05  apt-key\n",
            "-rwxr-xr-x 1 root root      43168 Sep  3 10:05  apt-mark\n",
            "-rwxr-xr-x 1 root root      43096 Sep  3 10:05  apt-sortpkgs\n",
            "lrwxrwxrwx 1 root root         19 May  8  2019  ar -> x86_64-linux-gnu-ar\n",
            "-rwxr-xr-x 1 root root      35032 Jan 18  2018  arch\n",
            "lrwxrwxrwx 1 root root         19 May  8  2019  as -> x86_64-linux-gnu-as\n",
            "lrwxrwxrwx 1 root root         18 May 16  2018  asan_symbolize -> asan_symbolize-6.0\n",
            "-rwxr-xr-x 1 root root      18342 Apr  5  2018  asan_symbolize-6.0\n",
            "lrwxrwxrwx 1 root root          9 Dec 21  2017  assistant -> qtchooser\n",
            "lrwxrwxrwx 1 root root         21 Oct 29 21:25  awk -> /etc/alternatives/awk\n",
            "lrwxrwxrwx 1 root root          4 Mar  6  2018  b2 -> bjam\n",
            "-rwxr-xr-x 1 root root      55512 Jan 18  2018  b2sum\n",
            "-rwxr-xr-x 1 root root      39096 Jan 18  2018  base32\n",
            "-rwxr-xr-x 1 root root      39096 Jan 18  2018  base64\n",
            "-rwxr-xr-x 1 root root      35000 Jan 18  2018  basename\n",
            "-rwxr-xr-x 1 root root       7115 Jun  6  2019  bashbug\n",
            "-rwxr-xr-x 1 root root      14376 Mar 24  2018  bcomps\n",
            "-rwxr-xr-x 1 root root     638864 Mar  6  2018  bcp\n",
            "-rwxr-xr-x 1 root root     357480 Mar  6  2018  bjam\n",
            "-rwxr-xr-x 1 root root      34952 Nov 15 15:01  bootctl\n",
            "lrwxrwxrwx 1 root root          8 Oct  2  2018  browse -> xdg-open\n",
            "-rwxr-xr-x 1 root root      10232 Jan 17  2018  bsd-from\n",
            "-rwxr-sr-x 1 root tty       14328 Jan 17  2018  bsd-write\n",
            "-rwxr-xr-x 1 root root      67672 Nov 15 15:01  busctl\n",
            "lrwxrwxrwx 1 root root         21 Dec  5 22:40  c++ -> /etc/alternatives/c++\n",
            "lrwxrwxrwx 1 root root         21 Dec  5 22:40  c89 -> /etc/alternatives/c89\n",
            "-rwxr-xr-x 1 root root        428 May  7  2006  c89-gcc\n",
            "lrwxrwxrwx 1 root root         21 Dec  5 22:40  c99 -> /etc/alternatives/c99\n",
            "-rwxr-xr-x 1 root root        454 Apr 11  2011  c99-gcc\n",
            "lrwxrwxrwx 1 root root          4 Jan 17  2018  cal -> ncal\n",
            "-rwxr-xr-x 1 root root      31208 Jan 17  2018  calendar\n",
            "lrwxrwxrwx 1 root root          3 May 23  2018  captoinfo -> tic\n",
            "-rwxr-xr-x 1 root root       3327 Apr 16  2018  catchsegv\n",
            "-rwxr-xr-x 1 root root      39384 Aug  4  2018  catman\n",
            "-rwxr-xr-x 1 root root        853 Jul 15  2016  cautious-launcher\n",
            "lrwxrwxrwx 1 root root         20 Dec  5 22:40  cc -> /etc/alternatives/cc\n",
            "-rwxr-xr-x 1 root root      22568 Mar 24  2018  ccomps\n",
            "lrwxrwxrwx 1 root root         24 May  8  2019  c++filt -> x86_64-linux-gnu-c++filt\n",
            "-rwxr-sr-x 1 root shadow    71816 Mar 22  2019  chage\n",
            "-rwxr-xr-x 1 root root      14336 Sep 26 18:01  chattr\n",
            "-rwxr-xr-x 1 root root      63672 Jan 18  2018  chcon\n",
            "-rwsr-xr-x 1 root root      76496 Mar 22  2019  chfn\n",
            "-rwxr-xr-x 1 root root      30800 Aug 22 23:47  chrt\n",
            "-rwsr-xr-x 1 root root      44528 Mar 22  2019  chsh\n",
            "lrwxrwxrwx 1 root root          3 Mar 24  2018  circo -> dot\n",
            "-rwxr-xr-x 1 root root      35000 Jan 18  2018  cksum\n",
            "lrwxrwxrwx 1 root root         25 May 16  2018  clang -> ../lib/llvm-6.0/bin/clang\n",
            "lrwxrwxrwx 1 root root         27 May 16  2018  clang++ -> ../lib/llvm-6.0/bin/clang++\n",
            "lrwxrwxrwx 1 root root         25 Apr  5  2018  clang-6.0 -> ../lib/llvm-6.0/bin/clang\n",
            "lrwxrwxrwx 1 root root         27 Apr  5  2018  clang++-6.0 -> ../lib/llvm-6.0/bin/clang++\n",
            "lrwxrwxrwx 1 root root         29 Apr  5  2018  clang-cpp-6.0 -> ../lib/llvm-6.0/bin/clang-cpp\n",
            "-rwxr-xr-x 1 root root      10240 May 23  2018  clear\n",
            "-rwxr-xr-x 1 root root      10312 Jun  6  2019  clear_console\n",
            "lrwxrwxrwx 1 root root         24 Dec 18 16:47  clhsdb -> /etc/alternatives/clhsdb\n",
            "-rwxr-xr-x 1 root root     105912 Mar 27  2018  clinfo\n",
            "-rwxr-xr-x 1 root root     568624 Mar 24  2018  cluster\n",
            "-rwxr-xr-x 1 root root    5325648 Jul 13  2019  cmake\n",
            "-rwxr-xr-x 1 root root      47200 Aug  4  2017  cmp\n",
            "-rwxr-xr-x 1 root root      10232 Jan 17  2018  col\n",
            "-rwxr-xr-x 1 root root      10240 Jan 17  2018  colcrt\n",
            "-rwxr-xr-x 1 root root      10232 Jan 17  2018  colrm\n",
            "-rwxr-xr-x 1 root root      14344 Jan 17  2018  column\n",
            "-rwxr-xr-x 1 root root      39128 Jan 18  2018  comm\n",
            "lrwxrwxrwx 1 root root         11 Jul 15  2016  compose -> run-mailcap\n",
            "-rwxr-xr-x 1 root root      12835 Nov 19  2018  corelist\n",
            "-rwxr-xr-x 1 root root    5566864 Jul 13  2019  cpack\n",
            "-rwxr-xr-x 1 root root       8156 Nov 19  2018  cpan\n",
            "-rwxr-xr-x 1 root root       8177 Nov 19  2018  cpan5.26-x86_64-linux-gnu\n",
            "lrwxrwxrwx 1 root root          5 May 20  2019  cpp -> cpp-7\n",
            "lrwxrwxrwx 1 root root         22 May  8  2019  cpp-7 -> x86_64-linux-gnu-cpp-7\n",
            "-rwxr-xr-x 1 root root       6332 Nov 12 16:58  c_rehash\n",
            "-rwxr-xr-x 1 root root      51416 Jan 18  2018  csplit\n",
            "-rwxr-xr-x 1 root root    6518192 Jul 13  2019  ctest\n",
            "-rwxr-xr-x 1 root root     223304 Sep  6 05:27  curl\n",
            "-rwxr-xr-x 1 root root       6075 Sep  6 05:27  curl-config\n",
            "-rwxr-xr-x 1 root root      43224 Jan 18  2018  cut\n",
            "-rwxr-xr-x 1 root root      14328 May  2  2019  cvt\n",
            "-rwxr-xr-x 1 root root      10224 Jun 10  2019  dbus-cleanup-sockets\n",
            "-rwxr-xr-x 1 root root     236584 Jun 10  2019  dbus-daemon\n",
            "-rwxr-xr-x 1 root root      22520 Jun 10  2019  dbus-monitor\n",
            "-rwxr-xr-x 1 root root      10224 Jun 10  2019  dbus-run-session\n",
            "-rwxr-xr-x 1 root root      26608 Jun 10  2019  dbus-send\n",
            "-rwxr-xr-x 1 root root      14320 Jun 10  2019  dbus-update-activation-environment\n",
            "-rwxr-xr-x 1 root root      10224 Jun 10  2019  dbus-uuidgen\n",
            "-rwxr-xr-x 1 root root       2859 May  6  2019  debconf\n",
            "-rwxr-xr-x 1 root root      11541 May  6  2019  debconf-apt-progress\n",
            "-rwxr-xr-x 1 root root        608 May  6  2019  debconf-communicate\n",
            "-rwxr-xr-x 1 root root       1719 May  6  2019  debconf-copydb\n",
            "-rwxr-xr-x 1 root root        647 May  6  2019  debconf-escape\n",
            "-rwxr-xr-x 1 root root       2935 May  6  2019  debconf-set-selections\n",
            "-rwxr-xr-x 1 root root       1827 May  6  2019  debconf-show\n",
            "-rwxr-xr-x 1 root root      20142 Oct 25  2017  deb-systemd-helper\n",
            "-rwxr-xr-x 1 root root       4434 Oct 25  2017  deb-systemd-invoke\n",
            "-rwxr-xr-x 1 root root      22608 Aug 22 23:47  delpart\n",
            "-rwxr-xr-x 1 root root      23112 Mar 22  2018  derb\n",
            "lrwxrwxrwx 1 root root          9 Dec 21  2017  designer -> qtchooser\n",
            "-rwxr-xr-x 1 root root       4298 Oct 14 09:50  dh_dkms\n",
            "-rwxr-xr-x 1 root root       1983 Dec  5  2017  dh_numpy\n",
            "-rwxr-xr-x 1 root root       1989 Dec  5  2017  dh_numpy3\n",
            "lrwxrwxrwx 1 root root         26 Mar 26  2018  dh_pypy -> ../share/dh-python/dh_pypy\n",
            "-rwxr-xr-x 1 root root       1056 Apr 16  2018  dh_python2\n",
            "lrwxrwxrwx 1 root root         29 Mar 26  2018  dh_python3 -> ../share/dh-python/dh_python3\n",
            "-rwxr-xr-x 1 root root     145752 Aug  4  2017  diff\n",
            "-rwxr-xr-x 1 root root      63704 Aug  4  2017  diff3\n",
            "-rwxr-xr-x 1 root root      10232 Mar 24  2018  diffimg\n",
            "-rwxr-xr-x 1 root root      14440 Mar 24  2018  dijkstra\n",
            "-rwxr-xr-x 1 root root      47296 Jan 18  2018  dircolors\n",
            "-rwxr-xr-x 1 root root     546360 Jan 10  2019  dirmngr\n",
            "-rwxr-xr-x 1 root root     109320 Jan 10  2019  dirmngr-client\n",
            "-rwxr-xr-x 1 root root      30904 Jan 18  2018  dirname\n",
            "lrwxrwxrwx 1 root root         29 Mar 24  2018  dot -> ../sbin/libgvc6-config-update\n",
            "lrwxrwxrwx 1 root root          6 Mar 24  2018  dot2gxl -> gxl2gv\n",
            "-rwxr-xr-x 1 root root      10344 Mar 24  2018  dot_builtins\n",
            "-rwxr-xr-x 1 root root       2085 Mar 24  2018  dotty\n",
            "-rwxr-xr-x 1 root root     297472 Sep  5 21:05  dpkg\n",
            "-rwxr-xr-x 1 root root      12852 Sep  5 21:05  dpkg-architecture\n",
            "-rwxr-xr-x 1 root root       7565 Sep  5 21:05  dpkg-buildflags\n",
            "-rwxr-xr-x 1 root root      29796 Sep  5 21:05  dpkg-buildpackage\n",
            "-rwxr-xr-x 1 root root       7503 Sep  5 21:05  dpkg-checkbuilddeps\n",
            "-rwxr-xr-x 1 root root     153952 Sep  5 21:05  dpkg-deb\n",
            "-rwxr-xr-x 1 root root       2782 Sep  5 21:05  dpkg-distaddfile\n",
            "-rwxr-xr-x 1 root root     141728 Sep  5 21:05  dpkg-divert\n",
            "-rwxr-xr-x 1 root root      16775 Sep  5 21:05  dpkg-genbuildinfo\n",
            "-rwxr-xr-x 1 root root      17622 Sep  5 21:05  dpkg-genchanges\n",
            "-rwxr-xr-x 1 root root      14059 Sep  5 21:05  dpkg-gencontrol\n",
            "-rwxr-xr-x 1 root root      10629 Sep  5 21:05  dpkg-gensymbols\n",
            "-rwxr-xr-x 1 root root      19031 Sep  5 21:05  dpkg-maintscript-helper\n",
            "-rwxr-xr-x 1 root root       8590 Sep  5 21:05  dpkg-mergechangelogs\n",
            "-rwxr-xr-x 1 root root       6789 Sep  5 21:05  dpkg-name\n",
            "-rwxr-xr-x 1 root root       4435 Sep  5 21:05  dpkg-parsechangelog\n",
            "-rwxr-xr-x 1 root root     149912 Sep  5 21:05  dpkg-query\n",
            "-rwxr-xr-x 1 root root       8425 Sep  5 21:05  dpkg-scanpackages\n",
            "-rwxr-xr-x 1 root root       9167 Sep  5 21:05  dpkg-scansources\n",
            "-rwxr-xr-x 1 root root      31360 Sep  5 21:05  dpkg-shlibdeps\n",
            "-rwxr-xr-x 1 root root      23300 Sep  5 21:05  dpkg-source\n",
            "-rwxr-xr-x 1 root root     121176 Sep  5 21:05  dpkg-split\n",
            "-rwxr-xr-x 1 root root      71936 Sep  5 21:05  dpkg-statoverride\n",
            "-rwxr-xr-x 1 root root      67848 Sep  5 21:05  dpkg-trigger\n",
            "-rwxr-xr-x 1 root root       3262 Sep  5 21:05  dpkg-vendor\n",
            "-rwxr-xr-x 1 root root     100568 Jan 18  2018  du\n",
            "lrwxrwxrwx 1 root root         20 May  8  2019  dwp -> x86_64-linux-gnu-dwp\n",
            "-rwxr-xr-x 1 root root     429280 Mar 24  2018  edgepaint\n",
            "lrwxrwxrwx 1 root root         11 Jul 15  2016  edit -> run-mailcap\n",
            "lrwxrwxrwx 1 root root         24 May  8  2019  elfedit -> x86_64-linux-gnu-elfedit\n",
            "-rwxr-xr-x 1 root root      42153 Nov 19  2018  enc2xs\n",
            "-rwxr-xr-x 1 root root       3066 Nov 19  2018  encguess\n",
            "-rwxr-xr-x 1 root root      35000 Jan 18  2018  env\n",
            "-rwxr-xr-x 1 root root       7428 Feb  6  2018  epsg_tr.py\n",
            "-rwxr-xr-x 1 root root     197824 Feb 10  2018  eqn\n",
            "-rwxr-xr-x 1 root root       2053 Feb  6  2018  esri2wkt.py\n",
            "-rwxr-xr-x 1 root root      39128 Jan 18  2018  expand\n",
            "-rwxr-sr-x 1 root shadow    22808 Mar 22  2019  expiry\n",
            "-rwxr-xr-x 1 root root      47288 Jan 18  2018  expr\n",
            "lrwxrwxrwx 1 root root         26 Dec 18 16:47  extcheck -> /etc/alternatives/extcheck\n",
            "-rwxr-xr-x 1 root root        757 Dec  5  2017  f2py\n",
            "-rwxr-xr-x 1 root root        760 Dec  5  2017  f2py2.7\n",
            "-rwxr-xr-x 1 root root        758 Dec  5  2017  f2py3\n",
            "-rwxr-xr-x 1 root root        760 Dec  5  2017  f2py3.6\n",
            "lrwxrwxrwx 1 root root         21 Dec 18 16:43  f77 -> /etc/alternatives/f77\n",
            "lrwxrwxrwx 1 root root         21 Dec 18 16:43  f95 -> /etc/alternatives/f95\n",
            "-rwxr-xr-x 1 root root      75992 Jan 18  2018  factor\n",
            "-rwxr-xr-x 1 root root      18728 Mar 22  2019  faillog\n",
            "-rwxr-xr-x 1 root root      26704 Aug 22 23:47  fallocate\n",
            "-rwxr-xr-x 1 root root      14408 Apr  5  2018  fc-cache\n",
            "-rwxr-xr-x 1 root root      14408 Apr  5  2018  fc-cat\n",
            "-rwxr-xr-x 1 root root      10312 Apr  5  2018  fc-list\n",
            "-rwxr-xr-x 1 root root      10312 Apr  5  2018  fc-match\n",
            "-rwxr-xr-x 1 root root      10312 Apr  5  2018  fc-pattern\n",
            "-rwxr-xr-x 1 root root      10312 Apr  5  2018  fc-query\n",
            "-rwxr-xr-x 1 root root      10312 Apr  5  2018  fc-scan\n",
            "-rwxr-xr-x 1 root root      10312 Apr  5  2018  fc-validate\n",
            "lrwxrwxrwx 1 root root          3 Mar 24  2018  fdp -> dot\n",
            "-rwxr-xr-x 1 root root     272528 Apr 24  2019  ffmpeg\n",
            "-rwxr-xr-x 1 root root     137376 Apr 24  2019  ffplay\n",
            "-rwxr-xr-x 1 root root     161944 Apr 24  2019  ffprobe\n",
            "-rwxr-xr-x 1 root root     142608 Apr 24  2019  ffserver\n",
            "-rwxr-xr-x 1 root root      18504 Jan  4  2018  fi_info\n",
            "-rwxr-xr-x 1 root root       3085 Feb 19  2018  file-rename\n",
            "-rwxr-xr-x 1 root root     238080 Nov  5  2017  find\n",
            "-rwxr-xr-x 1 root root    1457720 Oct 24  2017  fio\n",
            "-rwxr-xr-x 1 root root      21730 Sep 28  2017  fio2gnuplot\n",
            "-rwxr-xr-x 1 root root      26744 Oct 24  2017  fio-btrace2fio\n",
            "-rwxr-xr-x 1 root root      51368 Oct 24  2017  fio-dedupe\n",
            "-rwxr-xr-x 1 root root       3994 Sep 28  2017  fio_generate_plots\n",
            "-rwxr-xr-x 1 root root      34936 Oct 24  2017  fio-genzipf\n",
            "-rwxr-xr-x 1 root root      47104 Jan  4  2018  fi_pingpong\n",
            "-rwxr-xr-x 1 root root      10232 Jan  4  2018  fi_strerror\n",
            "-rwxr-xr-x 1 root root      30880 Aug 22 23:47  flock\n",
            "-rwxr-xr-x 1 root root      43192 Jan 18  2018  fmt\n",
            "-rwxr-xr-x 1 root root      35000 Jan 18  2018  fold\n",
            "-rwxr-xr-x 1 root root      18512 Aug  9 15:37  free\n",
            "-rwxr-xr-x 1 root root       4726 Apr 13  2018  freetype-config\n",
            "lrwxrwxrwx 1 root root         22 Dec 18 16:43  from -> /etc/alternatives/from\n",
            "-rwxr-xr-x 1 root root      22520 Apr 28  2017  funzip\n",
            "lrwxrwxrwx 1 root root          5 May 20  2019  g++ -> g++-7\n",
            "lrwxrwxrwx 1 root root         22 May  8  2019  g++-7 -> x86_64-linux-gnu-g++-7\n",
            "-rwxr-xr-x 1 root root      18504 Jul  3  2019  gapplication\n",
            "-rwxr-xr-x 1 root root      14376 Mar 24  2018  gc\n",
            "lrwxrwxrwx 1 root root          5 May 20  2019  gcc -> gcc-7\n",
            "lrwxrwxrwx 1 root root         22 May  8  2019  gcc-7 -> x86_64-linux-gnu-gcc-7\n",
            "lrwxrwxrwx 1 root root          8 May 20  2019  gcc-ar -> gcc-ar-7\n",
            "lrwxrwxrwx 1 root root         25 May  8  2019  gcc-ar-7 -> x86_64-linux-gnu-gcc-ar-7\n",
            "lrwxrwxrwx 1 root root          8 May 20  2019  gcc-nm -> gcc-nm-7\n",
            "lrwxrwxrwx 1 root root         25 May  8  2019  gcc-nm-7 -> x86_64-linux-gnu-gcc-nm-7\n",
            "lrwxrwxrwx 1 root root         12 May 20  2019  gcc-ranlib -> gcc-ranlib-7\n",
            "lrwxrwxrwx 1 root root         29 May  8  2019  gcc-ranlib-7 -> x86_64-linux-gnu-gcc-ranlib-7\n",
            "lrwxrwxrwx 1 root root          6 May 20  2019  gcov -> gcov-7\n",
            "lrwxrwxrwx 1 root root         23 May  8  2019  gcov-7 -> x86_64-linux-gnu-gcov-7\n",
            "lrwxrwxrwx 1 root root         11 May 20  2019  gcov-dump -> gcov-dump-7\n",
            "lrwxrwxrwx 1 root root         28 May  8  2019  gcov-dump-7 -> x86_64-linux-gnu-gcov-dump-7\n",
            "lrwxrwxrwx 1 root root         11 May 20  2019  gcov-tool -> gcov-tool-7\n",
            "lrwxrwxrwx 1 root root         28 May  8  2019  gcov-tool-7 -> x86_64-linux-gnu-gcov-tool-7\n",
            "-rwxr-xr-x 1 root root       4942 Feb  6  2018  gcps2vec.py\n",
            "-rwxr-xr-x 1 root root       2488 Feb  6  2018  gcps2wld.py\n",
            "-rwxr-xr-x 1 root root     108507 Feb  6  2018  gdal2tiles.py\n",
            "-rwxr-xr-x 1 root root       5134 Feb  6  2018  gdal2xyz.py\n",
            "-rwxr-xr-x 1 root root      14352 Feb  6  2018  gdaladdo\n",
            "-rwxr-xr-x 1 root root       4082 Feb  6  2018  gdal_auth.py\n",
            "-rwxr-xr-x 1 root root      14264 Feb  6  2018  gdalbuildvrt\n",
            "-rwxr-xr-x 1 root root      17480 Feb  6  2018  gdal_calc.py\n",
            "-rwxr-xr-x 1 root root       2946 Feb  6  2018  gdalchksum.py\n",
            "-rwxr-xr-x 1 root root       9644 Feb  6  2018  gdalcompare.py\n",
            "-rwxr-xr-x 1 root root      14264 Feb  6  2018  gdal_contour\n",
            "-rwxr-xr-x 1 root root      14264 Feb  6  2018  gdaldem\n",
            "-rwxr-xr-x 1 root root       9392 Feb  6  2018  gdal_edit.py\n",
            "-rwxr-xr-x 1 root root      18448 Feb  6  2018  gdalenhance\n",
            "-rwxr-xr-x 1 root root       5962 Feb  6  2018  gdal_fillnodata.py\n",
            "-rwxr-xr-x 1 root root      10168 Feb  6  2018  gdal_grid\n",
            "-rwxr-xr-x 1 root root       3461 Feb  6  2018  gdalident.py\n",
            "-rwxr-xr-x 1 root root       2956 Feb  6  2018  gdalimport.py\n",
            "-rwxr-xr-x 1 root root      10168 Feb  6  2018  gdalinfo\n",
            "-rwxr-xr-x 1 root root      18448 Feb  6  2018  gdallocationinfo\n",
            "-rwxr-xr-x 1 root root      10256 Feb  6  2018  gdalmanage\n",
            "-rwxr-xr-x 1 root root      17815 Feb  6  2018  gdal_merge.py\n",
            "-rwxr-xr-x 1 root root       9341 Feb  6  2018  gdalmove.py\n",
            "-rwxr-xr-x 1 root root       9163 Feb  6  2018  gdal_pansharpen.py\n",
            "-rwxr-xr-x 1 root root       7034 Feb  6  2018  gdal_polygonize.py\n",
            "-rwxr-xr-x 1 root root       5723 Feb  6  2018  gdal_proximity.py\n",
            "-rwxr-xr-x 1 root root      10168 Feb  6  2018  gdal_rasterize\n",
            "-rwxr-xr-x 1 root root      32230 Feb  6  2018  gdal_retile.py\n",
            "-rwxr-xr-x 1 root root      14264 Feb  6  2018  gdalserver\n",
            "-rwxr-xr-x 1 root root       5253 Feb  6  2018  gdal_sieve.py\n",
            "-rwxr-xr-x 1 root root      18448 Feb  6  2018  gdalsrsinfo\n",
            "-rwxr-xr-x 1 root root      22456 Feb  6  2018  gdaltindex\n",
            "-rwxr-xr-x 1 root root      14264 Feb  6  2018  gdaltransform\n",
            "-rwxr-xr-x 1 root root      18448 Feb  6  2018  gdal_translate\n",
            "-rwxr-xr-x 1 root root      14264 Feb  6  2018  gdalwarp\n",
            "-rwxr-xr-x 1 root root      43088 Jul  3  2019  gdbus\n",
            "-rwxr-xr-x 1 root root       2051 Jul  3  2019  gdbus-codegen\n",
            "-rwxr-xr-x 1 root root      14832 Mar 22  2018  genbrk\n",
            "-rwxr-xr-x 1 root root      22752 Apr 16  2018  gencat\n",
            "-rwxr-xr-x 1 root root      10680 Mar 22  2018  gencfu\n",
            "-rwxr-xr-x 1 root root      22856 Mar 22  2018  gencnval\n",
            "-rwxr-xr-x 1 root root      23096 Mar 22  2018  gendict\n",
            "-rwxr-xr-x 1 root root       8756 Sep 28  2017  genfio\n",
            "-rwxr-xr-x 1 root root     126552 Mar 22  2018  genrb\n",
            "lrwxrwxrwx 1 root root          3 Feb 10  2018  geqn -> eqn\n",
            "-rwxr-xr-x 1 root root      30856 Apr 16  2018  getconf\n",
            "-rwxr-xr-x 1 root root      31224 Apr 16  2018  getent\n",
            "-rwxr-xr-x 1 root root      14408 Aug 22 23:47  getopt\n",
            "lrwxrwxrwx 1 root root         10 May 20  2019  gfortran -> gfortran-7\n",
            "lrwxrwxrwx 1 root root         27 May  8  2019  gfortran-7 -> x86_64-linux-gnu-gfortran-7\n",
            "-rwxr-xr-x 1 root root      79960 Jul  3  2019  gio\n",
            "lrwxrwxrwx 1 root root         49 Jul  3  2019  gio-querymodules -> ../lib/x86_64-linux-gnu/glib-2.0/gio-querymodules\n",
            "-rwxr-xr-x 1 root root    2347696 Dec  9 13:29  git\n",
            "lrwxrwxrwx 1 root root          3 Dec  9 13:29  git-receive-pack -> git\n",
            "-rwxr-xr-x 1 root root    1304912 Dec  9 13:29  git-shell\n",
            "lrwxrwxrwx 1 root root          3 Dec  9 13:29  git-upload-archive -> git\n",
            "-rwxr-xr-x 1 root root    1317120 Dec  9 13:29  git-upload-pack\n",
            "-rwxr-xr-x 1 root root      38984 Jul  3  2019  glib-compile-resources\n",
            "lrwxrwxrwx 1 root root         53 Jul  3  2019  glib-compile-schemas -> ../lib/x86_64-linux-gnu/glib-2.0/glib-compile-schemas\n",
            "-rwxr-xr-x 1 root root      40925 Jul  3  2019  glib-genmarshal\n",
            "-rwxr-xr-x 1 root root       5375 Jul  3  2019  glib-gettextize\n",
            "-rwxr-xr-x 1 root root      27800 Jul  3  2019  glib-mkenums\n",
            "-rwxr-xr-x 1 root root      39184 Mar 24  2018  gml2gv\n",
            "-rwxr-xr-x 1 root root      18360 Feb  6  2018  gnmanalyse\n",
            "-rwxr-xr-x 1 root root      22544 Feb  6  2018  gnmmanage\n",
            "-rwxr-xr-x 1 root root      10240 Jul  3  2019  gobject-query\n",
            "lrwxrwxrwx 1 root root         21 May  8  2019  gold -> x86_64-linux-gnu-gold\n",
            "-rwxr-xr-x 1 root root     178608 Apr 25  2018  google-pprof\n",
            "-rwsr-xr-x 1 root root      75824 Mar 22  2019  gpasswd\n",
            "-rwxr-xr-x 1 root root    1017384 Jan 10  2019  gpg\n",
            "lrwxrwxrwx 1 root root          3 Jan 10  2019  gpg2 -> gpg\n",
            "-rwxr-xr-x 1 root root     398024 Jan 10  2019  gpg-agent\n",
            "-rwxr-xr-x 1 root root     166216 Jan 10  2019  gpgconf\n",
            "-rwxr-xr-x 1 root root     158568 Jan 10  2019  gpg-connect-agent\n",
            "-rwxr-xr-x 1 root root      26696 Jan 10  2019  gpgparsemail\n",
            "-rwxr-xr-x 1 root root     502880 Jan 10  2019  gpgsm\n",
            "-rwxr-xr-x 1 root root      80336 Jan 10  2019  gpgsplit\n",
            "-rwxr-xr-x 1 root root     437264 Jan 10  2019  gpgv\n",
            "-rwxr-xr-x 1 root root     191504 Jan 10  2019  gpg-wks-server\n",
            "-rwxr-xr-x 1 root root       3443 Jan 10  2019  gpg-zip\n",
            "lrwxrwxrwx 1 root root          3 Feb 10  2018  gpic -> pic\n",
            "lrwxrwxrwx 1 root root         22 May  8  2019  gprof -> x86_64-linux-gnu-gprof\n",
            "-rwxr-xr-x 1 root root      18512 Mar 24  2018  graphml2gv\n",
            "-rwxr-xr-x 1 root root      18424 Jul  3  2019  gresource\n",
            "-rwxr-xr-x 1 root root     107840 Feb 10  2018  groff\n",
            "-rwxr-xr-x 1 root root       2780 Feb 10  2018  grog\n",
            "-rwxr-xr-x 1 root root     169696 Feb 10  2018  grops\n",
            "-rwxr-xr-x 1 root root     124256 Feb 10  2018  grotty\n",
            "-rwxr-xr-x 1 root root      35000 Jan 18  2018  groups\n",
            "-rwxr-xr-x 1 root root      26696 Jul  3  2019  gsettings\n",
            "lrwxrwxrwx 1 root root          3 Feb 10  2018  gtbl -> tbl\n",
            "-rwxr-xr-x 1 root root      22536 Jul  3  2019  gtester\n",
            "-rwxr-xr-x 1 root root      18831 Jul  3  2019  gtester-report\n",
            "-rwxr-xr-x 1 root root      14328 May  2  2019  gtf\n",
            "-rwxr-xr-x 1 root root      31200 Jun  5  2019  gtk-update-icon-cache\n",
            "-rwxr-xr-x 1 root root      18472 Mar 24  2018  gv2gml\n",
            "lrwxrwxrwx 1 root root          6 Mar 24  2018  gv2gxl -> gxl2gv\n",
            "-rwxr-xr-x 1 root root      45320 Mar 24  2018  gvcolor\n",
            "-rwxr-xr-x 1 root root      22528 Mar 24  2018  gvgen\n",
            "-rwxr-xr-x 1 root root     572720 Mar 24  2018  gvmap\n",
            "-rwxr-xr-x 1 root root       2181 Mar 24  2018  gvmap.sh\n",
            "-rwxr-xr-x 1 root root      22760 Mar 24  2018  gvpack\n",
            "-rwxr-xr-x 1 root root       6136 Mar 24  2018  gvpr\n",
            "lrwxrwxrwx 1 root root          6 Mar 24  2018  gxl2dot -> gxl2gv\n",
            "-rwxr-xr-x 1 root root      35080 Mar 24  2018  gxl2gv\n",
            "-rwxr-xr-x 1 root root      29224 Nov 19  2018  h2ph\n",
            "-rwxr-xr-x 1 root root      60866 Nov 19  2018  h2xs\n",
            "-rwxr-xr-x 1 root root      13425 Aug 13  2017  h5c++\n",
            "-rwxr-xr-x 1 root root      13628 Aug 13  2017  h5cc\n",
            "-rwxr-xr-x 1 root root      13013 Aug 13  2017  h5fc\n",
            "lrwxrwxrwx 1 root root          7 Jan 17  2018  hd -> hexdump\n",
            "-rwxr-xr-x 1 root root      43224 Jan 18  2018  head\n",
            "-rwxr-xr-x 1 root root      26728 Jan 17  2018  hexdump\n",
            "-rwxr-xr-x 1 root root      30904 Jan 18  2018  hostid\n",
            "-rwxr-xr-x 1 root root      18504 Nov 15 15:01  hostnamectl\n",
            "lrwxrwxrwx 1 root root         22 Dec 18 16:47  hsdb -> /etc/alternatives/hsdb\n",
            "lrwxrwxrwx 1 root root          7 Aug 22 23:47  i386 -> setarch\n",
            "-rwxr-xr-x 1 root root      63744 Apr 16  2018  iconv\n",
            "-rwxr-xr-x 1 root root      22184 Mar 22  2018  icu-config\n",
            "-rwxr-xr-x 1 root root      10568 Mar 22  2018  icuinfo\n",
            "-rwxr-xr-x 1 root root      43224 Jan 18  2018  id\n",
            "lrwxrwxrwx 1 root root         22 Dec 18 16:47  idlj -> /etc/alternatives/idlj\n",
            "-rwxr-xr-x 1 root root      59464 May 23  2018  infocmp\n",
            "lrwxrwxrwx 1 root root          3 May 23  2018  infotocap -> tic\n",
            "-rwxr-xr-x 1 root root     532848 Mar  6  2018  inspect\n",
            "-rwxr-xr-x 1 root root     145664 Jan 18  2018  install\n",
            "-rwxr-xr-x 1 root root       4370 Nov 19  2018  instmodsh\n",
            "-rwxr-xr-x 1 root root      26704 Aug 22 23:47  ionice\n",
            "-rwxr-xr-x 1 root root      26768 Aug 22 23:47  ipcmk\n",
            "-rwxr-xr-x 1 root root      26704 Aug 22 23:47  ipcrm\n",
            "-rwxr-xr-x 1 root root      51280 Aug 22 23:47  ipcs\n",
            "-rwxr-xr-x 1 root root      10280 Dec 30  2017  ischroot\n",
            "lrwxrwxrwx 1 root root         21 Dec 18 16:47  jar -> /etc/alternatives/jar\n",
            "lrwxrwxrwx 1 root root         27 Dec 18 16:47  jarsigner -> /etc/alternatives/jarsigner\n",
            "lrwxrwxrwx 1 root root         22 Dec 18 16:47  java -> /etc/alternatives/java\n",
            "lrwxrwxrwx 1 root root         23 Dec 18 16:47  javac -> /etc/alternatives/javac\n",
            "lrwxrwxrwx 1 root root         25 Dec 18 16:47  javadoc -> /etc/alternatives/javadoc\n",
            "lrwxrwxrwx 1 root root         23 Dec 18 16:47  javah -> /etc/alternatives/javah\n",
            "lrwxrwxrwx 1 root root         23 Dec 18 16:47  javap -> /etc/alternatives/javap\n",
            "lrwxrwxrwx 1 root root         22 Dec 18 16:47  jcmd -> /etc/alternatives/jcmd\n",
            "lrwxrwxrwx 1 root root         21 Dec 18 16:47  jdb -> /etc/alternatives/jdb\n",
            "lrwxrwxrwx 1 root root         23 Dec 18 16:47  jdeps -> /etc/alternatives/jdeps\n",
            "lrwxrwxrwx 1 root root         23 Dec 18 16:47  jexec -> /etc/alternatives/jexec\n",
            "lrwxrwxrwx 1 root root         22 Dec 18 16:47  jhat -> /etc/alternatives/jhat\n",
            "lrwxrwxrwx 1 root root         23 Dec 18 16:47  jinfo -> /etc/alternatives/jinfo\n",
            "lrwxrwxrwx 1 root root         21 Dec 18 16:47  jjs -> /etc/alternatives/jjs\n",
            "lrwxrwxrwx 1 root root         22 Dec 18 16:47  jmap -> /etc/alternatives/jmap\n",
            "-rwxr-xr-x 1 root root      47320 Jan 18  2018  join\n",
            "lrwxrwxrwx 1 root root         21 Dec 18 16:47  jps -> /etc/alternatives/jps\n",
            "lrwxrwxrwx 1 root root         28 Dec 18 16:47  jrunscript -> /etc/alternatives/jrunscript\n",
            "lrwxrwxrwx 1 root root         27 Dec 18 16:47  jsadebugd -> /etc/alternatives/jsadebugd\n",
            "-rwxr-xr-x 1 root root       3959 Nov 19  2018  json_pp\n",
            "lrwxrwxrwx 1 root root         24 Dec 18 16:47  jstack -> /etc/alternatives/jstack\n",
            "lrwxrwxrwx 1 root root         23 Dec 18 16:47  jstat -> /etc/alternatives/jstat\n",
            "lrwxrwxrwx 1 root root         24 Dec 18 16:47  jstatd -> /etc/alternatives/jstatd\n",
            "-rwxr-xr-x 1 root root     162496 Jan 10  2019  kbxutil\n",
            "-rwxr-xr-x 1 root root       4508 Jan 28  2018  kernel-install\n",
            "lrwxrwxrwx 1 root root         25 Dec 18 16:47  keytool -> /etc/alternatives/keytool\n",
            "-rwxr-xr-x 1 root root      43088 Aug 22 23:47  last\n",
            "lrwxrwxrwx 1 root root          4 Aug 22 23:47  lastb -> last\n",
            "-rwxr-xr-x 1 root root      18504 Mar 22  2019  lastlog\n",
            "-rwxr-xr-x 1 root root       7786 Feb 26  2018  lcf\n",
            "lrwxrwxrwx 1 root root          9 Dec 21  2017  lconvert -> qtchooser\n",
            "lrwxrwxrwx 1 root root         19 May  8  2019  ld -> x86_64-linux-gnu-ld\n",
            "lrwxrwxrwx 1 root root         23 May  8  2019  ld.bfd -> x86_64-linux-gnu-ld.bfd\n",
            "-rwxr-xr-x 1 root root       5420 Apr 16  2018  ldd\n",
            "lrwxrwxrwx 1 root root         24 May  8  2019  ld.gold -> x86_64-linux-gnu-ld.gold\n",
            "-rwxr-xr-x 1 root root     300616 Mar 24  2018  lefty\n",
            "lrwxrwxrwx 1 root root          9 Dec 18 16:43  less -> /bin/less\n",
            "lrwxrwxrwx 1 root root         13 Dec 18 16:43  lessecho -> /bin/lessecho\n",
            "lrwxrwxrwx 1 root root         13 Dec 18 16:43  lessfile -> /bin/lessfile\n",
            "lrwxrwxrwx 1 root root         12 Dec 18 16:43  lesskey -> /bin/lesskey\n",
            "lrwxrwxrwx 1 root root         13 Dec 18 16:43  lesspipe -> /bin/lesspipe\n",
            "-rwxr-xr-x 1 root root      92744 Aug  4  2018  lexgrog\n",
            "-rwxr-xr-x 1 root root      15775 Nov 19  2018  libnetcfg\n",
            "-rwxr-xr-x 1 root root       2471 Apr 30  2019  libpng16-config\n",
            "lrwxrwxrwx 1 root root         15 Apr 30  2019  libpng-config -> libpng16-config\n",
            "lrwxrwxrwx 1 root root          9 Dec 21  2017  linguist -> qtchooser\n",
            "-rwxr-xr-x 1 root root      30904 Jan 18  2018  link\n",
            "lrwxrwxrwx 1 root root          7 Aug 22 23:47  linux32 -> setarch\n",
            "lrwxrwxrwx 1 root root          7 Aug 22 23:47  linux64 -> setarch\n",
            "-rwxr-xr-x 1 root root       1547 Mar 24  2018  lneato\n",
            "-rwxr-xr-x 1 root root      50592 Apr 16  2018  locale\n",
            "-rwxr-xr-x 1 root root      10240 Sep 27 18:24  locale-check\n",
            "-rwxr-xr-x 1 root root      22600 Nov 15 15:01  localectl\n",
            "-rwxr-xr-x 1 root root     338744 Apr 16  2018  localedef\n",
            "-rwxr-xr-x 1 root root      47792 Aug 22 23:47  logger\n",
            "-rwxr-xr-x 1 root root      30904 Jan 18  2018  logname\n",
            "-rwxr-xr-x 1 root root      10472 Jan 17  2018  look\n",
            "-rwxr-xr-x 1 root root       2885 Jan 17  2018  lorder\n",
            "lrwxrwxrwx 1 root root          9 Dec 21  2017  lrelease -> qtchooser\n",
            "-rwxr-xr-x 1 root root      10240 Sep 26 18:01  lsattr\n",
            "-rwxr-xr-x 1 root root       3638 Aug  7  2017  lsb_release\n",
            "-rwxr-xr-x 1 root root      71760 Aug 22 23:47  lscpu\n",
            "-rwxr-xr-x 1 root root      71760 Aug 22 23:47  lsipc\n",
            "-rwxr-xr-x 1 root root      35232 Aug 22 23:47  lslocks\n",
            "-rwxr-xr-x 1 root root      63568 Aug 22 23:47  lslogins\n",
            "-rwxr-xr-x 1 root root      43088 Aug 22 23:47  lsmem\n",
            "-rwxr-xr-x 1 root root      38992 Aug 22 23:47  lsns\n",
            "-rwxr-xr-x 1 root root     163224 Oct 28  2015  lsof\n",
            "-rwxr-xr-x 1 root root       1081 Aug 28  2017  lspgpot\n",
            "lrwxrwxrwx 1 root root          9 Dec 21  2017  lupdate -> qtchooser\n",
            "lrwxrwxrwx 1 root root         23 Dec  5 22:40  lzcat -> /etc/alternatives/lzcat\n",
            "lrwxrwxrwx 1 root root         23 Dec  5 22:40  lzcmp -> /etc/alternatives/lzcmp\n",
            "lrwxrwxrwx 1 root root         24 Dec  5 22:40  lzdiff -> /etc/alternatives/lzdiff\n",
            "lrwxrwxrwx 1 root root         25 Dec  5 22:40  lzegrep -> /etc/alternatives/lzegrep\n",
            "lrwxrwxrwx 1 root root         25 Dec  5 22:40  lzfgrep -> /etc/alternatives/lzfgrep\n",
            "lrwxrwxrwx 1 root root         24 Dec  5 22:40  lzgrep -> /etc/alternatives/lzgrep\n",
            "lrwxrwxrwx 1 root root         24 Dec  5 22:40  lzless -> /etc/alternatives/lzless\n",
            "lrwxrwxrwx 1 root root         22 Dec  5 22:40  lzma -> /etc/alternatives/lzma\n",
            "-rwxr-xr-x 1 root root      10384 Jun 28  2017  lzmainfo\n",
            "lrwxrwxrwx 1 root root         24 Dec  5 22:40  lzmore -> /etc/alternatives/lzmore\n",
            "-rwxr-xr-x 1 root root     222792 Apr 17  2018  make\n",
            "-rwxr-xr-x 1 root root      47888 Mar 22  2018  makeconv\n",
            "-rwxr-xr-x 1 root root       4905 Apr 17  2018  make-first-existing-target\n",
            "-rwxr-xr-x 1 root root     107008 Aug  4  2018  man\n",
            "-rwxr-xr-x 1 root root     129760 Aug  4  2018  mandb\n",
            "-rwxr-xr-x 1 root root      31200 Aug  4  2018  manpath\n",
            "-rwxr-xr-x 1 root root     125416 Apr  3  2018  mawk\n",
            "-rwxr-xr-x 1 root root      30864 Aug 22 23:47  mcookie\n",
            "-rwxr-xr-x 1 root root      43224 Jan 18  2018  md5sum\n",
            "lrwxrwxrwx 1 root root          6 Jan 18  2018  md5sum.textutils -> md5sum\n",
            "-rwxr-xr-x 1 root root      10312 Aug 22 23:47  mesg\n",
            "-rwxr-xr-x 1 root root       2194 Nov 30  2017  migrate-pubring-from-classic-gpg\n",
            "-rwxr-xr-x 1 root root     429512 Mar 24  2018  mingle\n",
            "-rwxr-xr-x 1 root root      63672 Jan 18  2018  mkfifo\n",
            "-rwxr-xr-x 1 root root       7154 Feb  6  2018  mkgraticule.py\n",
            "-rwxr-xr-x 1 root root      96448 Mar 24  2018  mm2gv\n",
            "lrwxrwxrwx 1 root root          9 Dec 21  2017  moc -> qtchooser\n",
            "lrwxrwxrwx 1 root root         24 Dec 18 16:47  mpic++ -> /etc/alternatives/mpic++\n",
            "lrwxrwxrwx 1 root root         23 Dec 18 16:47  mpicc -> /etc/alternatives/mpicc\n",
            "lrwxrwxrwx 1 root root         23 Dec 18 16:47  mpiCC -> /etc/alternatives/mpiCC\n",
            "lrwxrwxrwx 1 root root         12 Feb  5  2018  mpicc.openmpi -> opal_wrapper\n",
            "lrwxrwxrwx 1 root root         12 Feb  5  2018  mpiCC.openmpi -> opal_wrapper\n",
            "lrwxrwxrwx 1 root root         12 Feb  5  2018  mpic++.openmpi -> opal_wrapper\n",
            "lrwxrwxrwx 1 root root         24 Dec 18 16:47  mpicxx -> /etc/alternatives/mpicxx\n",
            "lrwxrwxrwx 1 root root         12 Feb  5  2018  mpicxx.openmpi -> opal_wrapper\n",
            "lrwxrwxrwx 1 root root         25 Dec 18 16:47  mpiexec -> /etc/alternatives/mpiexec\n",
            "lrwxrwxrwx 1 root root          7 Feb  5  2018  mpiexec.openmpi -> orterun\n",
            "lrwxrwxrwx 1 root root         24 Dec 18 16:47  mpif77 -> /etc/alternatives/mpif77\n",
            "lrwxrwxrwx 1 root root         12 Feb  5  2018  mpif77.openmpi -> opal_wrapper\n",
            "lrwxrwxrwx 1 root root         24 Dec 18 16:47  mpif90 -> /etc/alternatives/mpif90\n",
            "lrwxrwxrwx 1 root root         12 Feb  5  2018  mpif90.openmpi -> opal_wrapper\n",
            "lrwxrwxrwx 1 root root         25 Dec 18 16:47  mpifort -> /etc/alternatives/mpifort\n",
            "lrwxrwxrwx 1 root root         12 Feb  5  2018  mpifort.openmpi -> opal_wrapper\n",
            "lrwxrwxrwx 1 root root         24 Dec 18 16:47  mpirun -> /etc/alternatives/mpirun\n",
            "lrwxrwxrwx 1 root root          7 Feb  5  2018  mpirun.openmpi -> orterun\n",
            "-rwxr-xr-x 1 root root       6494 Apr 16  2018  mtrace\n",
            "-rwxr-xr-x 1 root root      26704 Aug 22 23:47  namei\n",
            "lrwxrwxrwx 1 root root         30 Dec 18 16:47  native2ascii -> /etc/alternatives/native2ascii\n",
            "lrwxrwxrwx 1 root root         22 Oct 29 21:25  nawk -> /etc/alternatives/nawk\n",
            "-rwxr-xr-x 1 root root      29480 Jan 17  2018  ncal\n",
            "-rwxr-xr-x 1 root root       6052 May 23  2018  ncurses5-config\n",
            "-rwxr-xr-x 1 root root      10168 Feb  6  2018  nearblack\n",
            "lrwxrwxrwx 1 root root          3 Mar 24  2018  neato -> dot\n",
            "-rwxr-xr-x 1 root root        908 Feb 10  2018  neqn\n",
            "-rwsr-xr-x 1 root root      40344 Mar 22  2019  newgrp\n",
            "-rwxr-xr-x 1 root root      35000 Jan 18  2018  nice\n",
            "-rwxr-xr-x 1 root root      43288 Jan 18  2018  nl\n",
            "lrwxrwxrwx 1 root root         19 May  8  2019  nm -> x86_64-linux-gnu-nm\n",
            "-rwxr-xr-x 1 root root      35000 Jan 18  2018  nohup\n",
            "-rwxr-xr-x 1 root root      10280 Mar 24  2018  nop\n",
            "-rwxr-xr-x 1 root root      35000 Jan 18  2018  nproc\n",
            "-rwxr-xr-x 1 root root       3323 Feb 10  2018  nroff\n",
            "-rwxr-xr-x 1 root root      31008 Aug 22 23:47  nsenter\n",
            "-rwxr-xr-x 1 root root      63736 Jan 18  2018  numfmt\n",
            "-rwxr-xr-x 1 root root      31256 Dec  8 04:38  nvidia-bug-report.sh\n",
            "-rwxr-xr-x 1 root root      75880 Dec  8 03:56  nvidia-cuda-mps-control\n",
            "-rwxr-xr-x 1 root root      57080 Dec  8 03:56  nvidia-cuda-mps-server\n",
            "-rwxr-xr-x 1 root root     250224 Dec  8 03:32  nvidia-debugdump\n",
            "-rwsr-sr-x 1 root root      34760 Nov 13 21:31  nvidia-modprobe\n",
            "-rwxr-xr-x 1 root root      48096 Dec  8 03:26  nvidia-persistenced\n",
            "-rwxr-xr-x 1 root root     243936 Nov 13 21:30  nvidia-settings\n",
            "-rwxr-xr-x 1 root root     532992 Dec  8 03:34  nvidia-smi\n",
            "-rwxr-xr-x 1 root root     184888 Dec  8 03:28  nvidia-xconfig\n",
            "lrwxrwxrwx 1 root root         24 May  8  2019  objcopy -> x86_64-linux-gnu-objcopy\n",
            "lrwxrwxrwx 1 root root         24 May  8  2019  objdump -> x86_64-linux-gnu-objdump\n",
            "-rwxr-xr-x 1 root root      67800 Jan 18  2018  od\n",
            "-rwxr-xr-x 1 root root      22528 Mar 26  2018  odbcinst\n",
            "-rwxr-xr-x 1 root root      26720 Feb  6  2018  ogr2ogr\n",
            "-rwxr-xr-x 1 root root      22560 Feb  6  2018  ogrinfo\n",
            "-rwxr-xr-x 1 root root      43104 Feb  6  2018  ogrlineref\n",
            "-rwxr-xr-x 1 root root      20224 Feb  6  2018  ogrmerge.py\n",
            "-rwxr-xr-x 1 root root      22544 Feb  6  2018  ogrtindex\n",
            "lrwxrwxrwx 1 root root         10 Feb  5  2018  ompi-clean -> orte-clean\n",
            "-rwxr-xr-x 1 root root      26624 Feb  5  2018  ompi_info\n",
            "lrwxrwxrwx 1 root root          7 Feb  5  2018  ompi-ps -> orte-ps\n",
            "lrwxrwxrwx 1 root root         11 Feb  5  2018  ompi-server -> orte-server\n",
            "lrwxrwxrwx 1 root root          8 Feb  5  2018  ompi-top -> orte-top\n",
            "lrwxrwxrwx 1 root root         12 Feb  5  2018  opalc++ -> opal_wrapper\n",
            "lrwxrwxrwx 1 root root         12 Feb  5  2018  opalcc -> opal_wrapper\n",
            "-rwxr-xr-x 1 root root      22536 Feb  5  2018  opal_wrapper\n",
            "-rwxr-xr-x 1 root root      22616 Sep 20  2018  opencv_annotation\n",
            "-rwxr-xr-x 1 root root      34928 Sep 20  2018  opencv_createsamples\n",
            "-rwxr-xr-x 1 root root     141480 Sep 20  2018  opencv_interactive-calibration\n",
            "-rwxr-xr-x 1 root root     339800 Sep 20  2018  opencv_traincascade\n",
            "-rwxr-xr-x 1 root root      10328 Sep 20  2018  opencv_version\n",
            "-rwxr-xr-x 1 root root      39000 Sep 20  2018  opencv_visualisation\n",
            "-rwxr-xr-x 1 root root      14424 Sep 20  2018  opencv_waldboost_detector\n",
            "-rwxr-xr-x 1 root root     723944 Nov 12 16:58  openssl\n",
            "lrwxrwxrwx 1 root root         22 Dec 18 16:47  orbd -> /etc/alternatives/orbd\n",
            "-rwxr-xr-x 1 root root      14600 Feb  5  2018  orte-clean\n",
            "-rwxr-xr-x 1 root root       6136 Feb  5  2018  orted\n",
            "-rwxr-xr-x 1 root root      23048 Feb  5  2018  orte-dvm\n",
            "-rwxr-xr-x 1 root root      19016 Feb  5  2018  orte-ps\n",
            "-rwxr-xr-x 1 root root      77576 Feb  5  2018  orterun\n",
            "-rwxr-xr-x 1 root root      14664 Feb  5  2018  orte-server\n",
            "-rwxr-xr-x 1 root root      23112 Feb  5  2018  orte-top\n",
            "lrwxrwxrwx 1 root root          3 Mar 24  2018  osage -> dot\n",
            "lrwxrwxrwx 1 root root          5 Feb  5  2018  oshcc -> mpicc\n",
            "lrwxrwxrwx 1 root root          7 Feb  5  2018  oshfort -> mpifort\n",
            "-rwxr-xr-x 1 root root      22528 Feb  5  2018  oshmem_info\n",
            "lrwxrwxrwx 1 root root          6 Feb  5  2018  oshrun -> mpirun\n",
            "-rwxr-xr-x 1 root root       4754 Feb  5  2018  p7zip\n",
            "lrwxrwxrwx 1 root root         25 Dec 18 16:47  pack200 -> /etc/alternatives/pack200\n",
            "lrwxrwxrwx 1 root root         23 Oct 29 21:25  pager -> /etc/alternatives/pager\n",
            "-rwxr-xr-x 1 root root   51859776 Jan 26  2018  pandoc\n",
            "-rwxr-xr-x 1 root root      10232 Apr 28  2017  paperconf\n",
            "-rwxr-xr-x 1 root root      88144 Aug 22 23:47  partx\n",
            "-rwsr-xr-x 1 root root      59640 Mar 22  2019  passwd\n",
            "-rwxr-xr-x 1 root root      35032 Jan 18  2018  paste\n",
            "-rwxr-xr-x 1 root root     182648 Jul 23  2019  patch\n",
            "lrwxrwxrwx 1 root root          3 Mar 24  2018  patchwork -> dot\n",
            "-rwxr-xr-x 1 root root      35000 Jan 18  2018  pathchk\n",
            "-rwxr-xr-x 1 root root       1976 Feb 24  2018  pcre2-config\n",
            "-rwxr-xr-x 1 root root       2341 Feb  3  2018  pcre-config\n",
            "-rwxr-xr-x 1 root root       5409 Feb  6  2018  pct2rgb.py\n",
            "lrwxrwxrwx 1 root root          6 Apr 16  2018  pdb -> pdb2.7\n",
            "lrwxrwxrwx 1 root root         23 Nov  7 10:07  pdb2.7 -> ../lib/python2.7/pdb.py\n",
            "lrwxrwxrwx 1 root root          6 Oct 25  2018  pdb3 -> pdb3.6\n",
            "lrwxrwxrwx 1 root root         23 Nov  7 10:44  pdb3.6 -> ../lib/python3.6/pdb.py\n",
            "-rwxr-xr-x 2 root root    2097720 Nov 19  2018  perl\n",
            "-rwxr-xr-x 2 root root    2097720 Nov 19  2018  perl5.26.1\n",
            "-rwxr-xr-x 1 root root      10216 Nov 19  2018  perl5.26-x86_64-linux-gnu\n",
            "-rwxr-xr-x 2 root root      45853 Nov 19  2018  perlbug\n",
            "-rwxr-xr-x 1 root root        125 Nov 19  2018  perldoc\n",
            "-rwxr-xr-x 1 root root      10864 Nov 19  2018  perlivp\n",
            "-rwxr-xr-x 2 root root      45853 Nov 19  2018  perlthanks\n",
            "-rwxr-xr-x 1 root root      26712 Aug  9 15:37  pgrep\n",
            "-rwxr-xr-x 1 root root     208928 Feb 10  2018  pic\n",
            "-rwxr-xr-x 1 root root       8357 Nov 19  2018  piconv\n",
            "lrwxrwxrwx 1 root root         26 Nov 27 19:59  pinentry -> /etc/alternatives/pinentry\n",
            "-rwxr-xr-x 1 root root      63992 Feb  6  2018  pinentry-curses\n",
            "-rwxr-xr-x 1 root root      39128 Jan 18  2018  pinky\n",
            "lrwxrwxrwx 1 root root          9 Dec 21  2017  pixeltool -> qtchooser\n",
            "-rwxr-xr-x 1 root root      14328 Mar 27  2019  pkaction\n",
            "-rwxr-xr-x 1 root root      18504 Mar 27  2019  pkcheck\n",
            "-rwsr-xr-x 1 root root      22520 Mar 27  2019  pkexec\n",
            "-rwxr-xr-x 2 root root      51296 Apr 21  2017  pkg-config\n",
            "-rwxr-xr-x 1 root root      44256 Mar 22  2018  pkgdata\n",
            "lrwxrwxrwx 1 root root          5 Aug  9 15:37  pkill -> pgrep\n",
            "-rwxr-xr-x 1 root root      14328 Mar 27  2019  pkttyagent\n",
            "-rwxr-xr-x 1 root root       4533 Nov 19  2018  pl2pm\n",
            "-rwxr-xr-x 1 root root      18656 Apr 16  2018  pldd\n",
            "-rwxr-xr-x 1 root root      30808 Aug  9 15:37  pmap\n",
            "-rwxr-xr-x 1 root root       4134 Nov 19  2018  pod2html\n",
            "-rwxr-xr-x 1 root root      15079 Nov 19  2018  pod2man\n",
            "-rwxr-xr-x 1 root root      10979 Nov 19  2018  pod2text\n",
            "-rwxr-xr-x 1 root root       3948 Nov 19  2018  pod2usage\n",
            "-rwxr-xr-x 1 root root       3658 Nov 19  2018  podchecker\n",
            "-rwxr-xr-x 1 root root       2527 Nov 19  2018  podselect\n",
            "-rwxr-xr-x 1 root root      71960 Jan 18  2018  pr\n",
            "-rwxr-xr-x 1 root root      47304 Feb 10  2018  preconv\n",
            "lrwxrwxrwx 1 root root         11 Feb 19  2018  prename -> file-rename\n",
            "lrwxrwxrwx 1 root root         11 Jul 15  2016  print -> run-mailcap\n",
            "-rwxr-xr-x 1 root root      30904 Jan 18  2018  printenv\n",
            "-rwxr-xr-x 1 root root      22528 Jan 17  2018  printerbanner\n",
            "-rwxr-xr-x 1 root root      51384 Jan 18  2018  printf\n",
            "-rwxr-xr-x 1 root root      35424 Aug 22 23:47  prlimit\n",
            "-rwxr-xr-x 1 root root      14496 Mar 30  2018  protoc\n",
            "-rwxr-xr-x 1 root root      13588 Nov 19  2018  prove\n",
            "-rwxr-xr-x 1 root root      14376 Mar 24  2018  prune\n",
            "-rwxr-xr-x 1 root root       3549 Nov 19  2018  ptar\n",
            "-rwxr-xr-x 1 root root       2628 Nov 19  2018  ptardiff\n",
            "-rwxr-xr-x 1 root root       4392 Nov 19  2018  ptargrep\n",
            "-rwxr-xr-x 1 root root      71928 Jan 18  2018  ptx\n",
            "-rwxr-xr-x 1 root root      10312 Aug  9 15:37  pwdx\n",
            "-rwxr-xr-x 1 root root       7812 Oct 25  2018  py3clean\n",
            "-rwxr-xr-x 1 root root      12119 Oct 25  2018  py3compile\n",
            "lrwxrwxrwx 1 root root         31 Oct 25  2018  py3versions -> ../share/python3/py3versions.py\n",
            "lrwxrwxrwx 1 root root         26 Mar 26  2018  pybuild -> ../share/dh-python/pybuild\n",
            "-rwxr-xr-x 1 root root       4124 Apr 16  2018  pyclean\n",
            "-rwxr-xr-x 1 root root      11895 Apr 16  2018  pycompile\n",
            "lrwxrwxrwx 1 root root          8 Apr 16  2018  pydoc -> pydoc2.7\n",
            "-rwxr-xr-x 1 root root         79 Nov  7 10:07  pydoc2.7\n",
            "lrwxrwxrwx 1 root root          8 Oct 25  2018  pydoc3 -> pydoc3.6\n",
            "-rwxr-xr-x 1 root root         79 Nov  7 10:44  pydoc3.6\n",
            "lrwxrwxrwx 1 root root         12 Apr 16  2018  pygettext -> pygettext2.7\n",
            "-rwxr-xr-x 1 root root      22082 Nov  7 10:07  pygettext2.7\n",
            "lrwxrwxrwx 1 root root         12 Oct 25  2018  pygettext3 -> pygettext3.6\n",
            "-rwxr-xr-x 1 root root      21547 Nov  7 10:44  pygettext3.6\n",
            "lrwxrwxrwx 1 root root          9 Apr 16  2018  python -> python2.7\n",
            "lrwxrwxrwx 1 root root          9 Apr 16  2018  python2 -> python2.7\n",
            "-rwxr-xr-x 1 root root    3637096 Nov  7 10:07  python2.7\n",
            "lrwxrwxrwx 1 root root         33 Nov  7 10:07  python2.7-config -> x86_64-linux-gnu-python2.7-config\n",
            "lrwxrwxrwx 1 root root         16 Apr 16  2018  python2-config -> python2.7-config\n",
            "lrwxrwxrwx 1 root root          9 Oct 25  2018  python3 -> python3.6\n",
            "-rwxr-xr-x 2 root root    4526456 Nov  7 10:44  python3.6\n",
            "lrwxrwxrwx 1 root root         33 Nov  7 10:44  python3.6-config -> x86_64-linux-gnu-python3.6-config\n",
            "-rwxr-xr-x 2 root root    4526456 Nov  7 10:44  python3.6m\n",
            "lrwxrwxrwx 1 root root         34 Nov  7 10:44  python3.6m-config -> x86_64-linux-gnu-python3.6m-config\n",
            "lrwxrwxrwx 1 root root         16 Oct 25  2018  python3-config -> python3.6-config\n",
            "lrwxrwxrwx 1 root root         10 Oct 25  2018  python3m -> python3.6m\n",
            "lrwxrwxrwx 1 root root         17 Oct 25  2018  python3m-config -> python3.6m-config\n",
            "lrwxrwxrwx 1 root root         16 Apr 16  2018  python-config -> python2.7-config\n",
            "lrwxrwxrwx 1 root root         29 Apr 16  2018  pyversions -> ../share/python/pyversions.py\n",
            "lrwxrwxrwx 1 root root          9 Dec 21  2017  qcollectiongenerator -> qtchooser\n",
            "lrwxrwxrwx 1 root root          9 Dec 21  2017  qdbus -> qtchooser\n",
            "lrwxrwxrwx 1 root root          9 Dec 21  2017  qdbuscpp2xml -> qtchooser\n",
            "lrwxrwxrwx 1 root root          9 Dec 21  2017  qdbusviewer -> qtchooser\n",
            "lrwxrwxrwx 1 root root          9 Dec 21  2017  qdbusxml2cpp -> qtchooser\n",
            "lrwxrwxrwx 1 root root          9 Dec 21  2017  qdoc -> qtchooser\n",
            "lrwxrwxrwx 1 root root          9 Dec 21  2017  qdoc3 -> qtchooser\n",
            "lrwxrwxrwx 1 root root          9 Dec 21  2017  qgltf -> qtchooser\n",
            "lrwxrwxrwx 1 root root          9 Dec 21  2017  qhelpconverter -> qtchooser\n",
            "lrwxrwxrwx 1 root root          9 Dec 21  2017  qhelpgenerator -> qtchooser\n",
            "lrwxrwxrwx 1 root root          9 Dec 21  2017  qlalr -> qtchooser\n",
            "lrwxrwxrwx 1 root root          9 Dec 21  2017  qmake -> qtchooser\n",
            "lrwxrwxrwx 1 root root          9 Dec 21  2017  qml -> qtchooser\n",
            "lrwxrwxrwx 1 root root          9 Dec 21  2017  qml1plugindump -> qtchooser\n",
            "lrwxrwxrwx 1 root root          9 Dec 21  2017  qmlbundle -> qtchooser\n",
            "lrwxrwxrwx 1 root root          9 Dec 21  2017  qmlcachegen -> qtchooser\n",
            "lrwxrwxrwx 1 root root          9 Dec 21  2017  qmleasing -> qtchooser\n",
            "lrwxrwxrwx 1 root root          9 Dec 21  2017  qmlimportscanner -> qtchooser\n",
            "lrwxrwxrwx 1 root root          9 Dec 21  2017  qmljs -> qtchooser\n",
            "lrwxrwxrwx 1 root root          9 Dec 21  2017  qmllint -> qtchooser\n",
            "lrwxrwxrwx 1 root root          9 Dec 21  2017  qmlmin -> qtchooser\n",
            "lrwxrwxrwx 1 root root          9 Dec 21  2017  qmlplugindump -> qtchooser\n",
            "lrwxrwxrwx 1 root root          9 Dec 21  2017  qmlprofiler -> qtchooser\n",
            "lrwxrwxrwx 1 root root          9 Dec 21  2017  qmlscene -> qtchooser\n",
            "lrwxrwxrwx 1 root root          9 Dec 21  2017  qmltestrunner -> qtchooser\n",
            "lrwxrwxrwx 1 root root          9 Dec 21  2017  qmlviewer -> qtchooser\n",
            "-rwxr-xr-x 1 root root      43096 Dec 21  2017  qtchooser\n",
            "lrwxrwxrwx 1 root root          9 Dec 21  2017  qtconfig -> qtchooser\n",
            "lrwxrwxrwx 1 root root          9 Dec 21  2017  qtdiag -> qtchooser\n",
            "-rwxr-xr-x 1 root root      10232 Apr 24  2019  qt-faststart\n",
            "lrwxrwxrwx 1 root root          9 Dec 21  2017  qtpaths -> qtchooser\n",
            "lrwxrwxrwx 1 root root          9 Dec 21  2017  qtplugininfo -> qtchooser\n",
            "-rwxr-xr-x 1 root root    1641840 Mar  6  2018  quickbook\n",
            "lrwxrwxrwx 1 root root          9 Dec 21  2017  qvkgen -> qtchooser\n",
            "-rwxr-xr-x 1 root root       8812 Dec 13 16:46  R\n",
            "lrwxrwxrwx 1 root root         23 May  8  2019  ranlib -> x86_64-linux-gnu-ranlib\n",
            "lrwxrwxrwx 1 root root          9 Dec 21  2017  rcc -> qtchooser\n",
            "lrwxrwxrwx 1 root root         21 Dec 18 16:43  rcp -> /etc/alternatives/rcp\n",
            "lrwxrwxrwx 1 root root         24 May  8  2019  readelf -> x86_64-linux-gnu-readelf\n",
            "-rwxr-xr-x 1 root root      47320 Jan 18  2018  realpath\n",
            "lrwxrwxrwx 1 root root         24 Dec 18 16:43  rename -> /etc/alternatives/rename\n",
            "-rwxr-xr-x 1 root root      14408 Aug 22 23:47  rename.ul\n",
            "-rwxr-xr-x 1 root root      14408 Aug 22 23:47  renice\n",
            "lrwxrwxrwx 1 root root          9 Dec 21  2017  repc -> qtchooser\n",
            "lrwxrwxrwx 1 root root          4 May 23  2018  reset -> tset\n",
            "-rwxr-xr-x 1 root root      38992 Aug 22 23:47  resizepart\n",
            "-rwxr-xr-x 1 root root      10312 Aug 22 23:47  rev\n",
            "-rwxr-xr-x 1 root root       5212 Feb  6  2018  rgb2pct.py\n",
            "-rwxr-xr-x 1 root root         30 Jul 11  2017  rgrep\n",
            "lrwxrwxrwx 1 root root         24 Dec 18 16:43  rlogin -> /etc/alternatives/rlogin\n",
            "lrwxrwxrwx 1 root root         22 Dec 18 16:47  rmic -> /etc/alternatives/rmic\n",
            "lrwxrwxrwx 1 root root         22 Dec 18 16:47  rmid -> /etc/alternatives/rmid\n",
            "lrwxrwxrwx 1 root root         29 Dec 18 16:47  rmiregistry -> /etc/alternatives/rmiregistry\n",
            "-rwxr-xr-x 1 root root     100896 Apr 16  2018  rpcgen\n",
            "-rwxr-xr-x 1 root root      14344 Dec 13 16:46  Rscript\n",
            "lrwxrwxrwx 1 root root         21 Dec 18 16:43  rsh -> /etc/alternatives/rsh\n",
            "-rwxr-xr-x 1 root root     500024 Jan 18  2018  rsync\n",
            "-rwxr-xr-x 1 root root      35000 Jan 18  2018  runcon\n",
            "-rwxr-xr-x 1 root root      18161 Jul 15  2016  run-mailcap\n",
            "-rwxr-xr-x 1 root root      10469 Dec 30  2017  savelog\n",
            "-rwxr-xr-x 1 root root      14376 Mar 24  2018  sccmap\n",
            "lrwxrwxrwx 1 root root         27 Dec 18 16:47  schemagen -> /etc/alternatives/schemagen\n",
            "-rwxr-xr-x 1 root root     100496 Mar  4  2019  scp\n",
            "-rwxr-xr-x 1 root root      30792 Aug 22 23:47  script\n",
            "-rwxr-xr-x 1 root root      26704 Aug 22 23:47  scriptreplay\n",
            "-rwxr-xr-x 1 root root      51296 Aug  4  2017  sdiff\n",
            "lrwxrwxrwx 1 root root         11 Jul 15  2016  see -> run-mailcap\n",
            "-rwxr-xr-x 1 root root       2442 Mar 12  2018  select-editor\n",
            "-rwxr-xr-x 1 root root       1209 Mar 12  2018  sensible-browser\n",
            "-rwxr-xr-x 1 root root       1109 Mar 12  2018  sensible-editor\n",
            "-rwxr-xr-x 1 root root        433 Mar 12  2018  sensible-pager\n",
            "-rwxr-xr-x 1 root root      47288 Jan 18  2018  seq\n",
            "lrwxrwxrwx 1 root root         27 Dec 18 16:47  serialver -> /etc/alternatives/serialver\n",
            "lrwxrwxrwx 1 root root         28 Dec 18 16:47  servertool -> /etc/alternatives/servertool\n",
            "-rwxr-xr-x 1 root root      18784 Aug 22 23:47  setarch\n",
            "-rwxr-xr-x 1 root root      10312 Aug 22 23:47  setsid\n",
            "-rwxr-xr-x 1 root root      43088 Aug 22 23:47  setterm\n",
            "-rwxr-xr-x 1 root root      22928 May 16  2018  setxkbmap\n",
            "lrwxrwxrwx 1 root root          3 Mar 24  2018  sfdp -> dot\n",
            "-rwxr-xr-x 1 root root     153960 Mar  4  2019  sftp\n",
            "lrwxrwxrwx 1 root root          6 Mar 22  2019  sg -> newgrp\n",
            "-rwxr-xr-x 1 root root      47320 Jan 18  2018  sha1sum\n",
            "-rwxr-xr-x 1 root root      55512 Jan 18  2018  sha224sum\n",
            "-rwxr-xr-x 1 root root      55512 Jan 18  2018  sha256sum\n",
            "-rwxr-xr-x 1 root root      59608 Jan 18  2018  sha384sum\n",
            "-rwxr-xr-x 1 root root      59608 Jan 18  2018  sha512sum\n",
            "-rwxr-xr-x 1 root root       9371 Nov 19  2018  shasum\n",
            "-rwxr-xr-x 1 root root      59608 Jan 18  2018  shred\n",
            "-rwxr-xr-x 1 root root      55480 Jan 18  2018  shuf\n",
            "lrwxrwxrwx 1 root root         21 May  8  2019  size -> x86_64-linux-gnu-size\n",
            "-rwxr-xr-x 1 root root      26704 Aug  9 15:37  skill\n",
            "-rwxr-xr-x 1 root root      18512 Aug  9 15:37  slabtop\n",
            "lrwxrwxrwx 1 root root          3 Mar  4  2019  slogin -> ssh\n",
            "lrwxrwxrwx 1 root root          5 Aug  9 15:37  snice -> skill\n",
            "-rwxr-xr-x 1 root root      30920 Feb 10  2018  soelim\n",
            "-rwxr-xr-x 1 root root     113120 Jan 18  2018  sort\n",
            "-rwxr-xr-x 1 root root       4306 Apr 16  2018  sotruss\n",
            "-rwxr-xr-x 1 root root      19150 Nov 19  2018  splain\n",
            "-rwxr-xr-x 1 root root      55936 Jan 18  2018  split\n",
            "-rwxr-xr-x 1 root root      26840 Apr 16  2018  sprof\n",
            "-rwxr-xr-x 1 root root     727848 Mar  4  2019  ssh\n",
            "-rwxr-xr-x 1 root root     346248 Mar  4  2019  ssh-add\n",
            "-rwxr-sr-x 1 root ssh      362640 Mar  4  2019  ssh-agent\n",
            "-rwxr-xr-x 1 root root       1456 Jan 16  2018  ssh-argv0\n",
            "-rwxr-xr-x 1 root root      10658 Oct  2  2017  ssh-copy-id\n",
            "-rwxr-xr-x 1 root root     420000 Mar  4  2019  ssh-keygen\n",
            "-rwxr-xr-x 1 root root     420000 Mar  4  2019  ssh-keyscan\n",
            "-rwxr-xr-x 1 root root      80088 Jan 18  2018  stat\n",
            "-rwxr-xr-x 1 root root      47288 Jan 18  2018  stdbuf\n",
            "lrwxrwxrwx 1 root root         24 May  8  2019  strings -> x86_64-linux-gnu-strings\n",
            "lrwxrwxrwx 1 root root         22 May  8  2019  strip -> x86_64-linux-gnu-strip\n",
            "-rwsr-xr-x 1 root root     149080 Oct 10 18:32  sudo\n",
            "lrwxrwxrwx 1 root root          4 Oct 10 18:32  sudoedit -> sudo\n",
            "-rwxr-xr-x 1 root root      56128 Oct 10 18:32  sudoreplay\n",
            "-rwxr-xr-x 1 root root      39104 Jan 18  2018  sum\n",
            "-rwxr-xr-x 1 root root     113384 Jan 10  2019  symcryptrun\n",
            "-rwxr-xr-x 1 root root    1538312 Nov 15 15:01  systemd-analyze\n",
            "-rwxr-xr-x 1 root root      10312 Nov 15 15:01  systemd-cat\n",
            "-rwxr-xr-x 1 root root      14408 Nov 15 15:01  systemd-cgls\n",
            "-rwxr-xr-x 1 root root      30816 Nov 15 15:01  systemd-cgtop\n",
            "-rwxr-xr-x 1 root root      22600 Nov 15 15:01  systemd-delta\n",
            "-rwxr-xr-x 1 root root      10304 Nov 15 15:01  systemd-detect-virt\n",
            "-rwxr-xr-x 1 root root      43104 Nov 15 15:01  systemd-mount\n",
            "-rwxr-xr-x 1 root root      10304 Nov 15 15:01  systemd-path\n",
            "-rwxr-xr-x 1 root root      88136 Nov 15 15:01  systemd-resolve\n",
            "-rwxr-xr-x 1 root root      43080 Nov 15 15:01  systemd-run\n",
            "-rwxr-xr-x 1 root root      18504 Nov 15 15:01  systemd-socket-activate\n",
            "-rwxr-xr-x 1 root root      14408 Nov 15 15:01  systemd-stdio-bridge\n",
            "lrwxrwxrwx 1 root root         13 Nov 15 15:01  systemd-umount -> systemd-mount\n",
            "-rwxr-xr-x 1 root root      14328 May 23  2018  tabs\n",
            "-rwxr-xr-x 1 root root      39096 Jan 18  2018  tac\n",
            "-rwxr-xr-x 1 root root      67832 Jan 18  2018  tail\n",
            "-rwxr-xr-x 1 root root      30800 Aug 22 23:47  taskset\n",
            "-rwxr-xr-x 1 root root     129224 Feb 10  2018  tbl\n",
            "lrwxrwxrwx 1 root root          8 Nov 20  2015  tclsh -> tclsh8.6\n",
            "-rwxr-xr-x 1 root root       6136 Feb 22  2018  tclsh8.6\n",
            "-rwxr-xr-x 1 root root       7645 Nov 20  2015  tcltk-depends\n",
            "-rwxr-xr-x 1 root root      35032 Jan 18  2018  tee\n",
            "-rwxr-xr-x 1 root root      47288 Jan 18  2018  test\n",
            "-rwxr-xr-x 1 root root      10256 Feb  6  2018  testepsg\n",
            "-rwxr-xr-x 1 root root      84080 May 23  2018  tic\n",
            "-rwxr-xr-x 1 root root      22600 Nov 15 15:01  timedatectl\n",
            "-rwxr-xr-x 1 root root      39552 Jan 18  2018  timeout\n",
            "-rwxr-xr-x 1 root root      14424 Aug  9 15:37  tload\n",
            "lrwxrwxrwx 1 root root         27 Dec 18 16:47  tnameserv -> /etc/alternatives/tnameserv\n",
            "-rwxr-xr-x 1 root root      14328 May 23  2018  toe\n",
            "-rwxr-xr-x 1 root root     108304 Aug  9 15:37  top\n",
            "lrwxrwxrwx 1 root root         10 Oct 29 21:25  touch -> /bin/touch\n",
            "-rwxr-xr-x 1 root root      18456 May 23  2018  tput\n",
            "-rwxr-xr-x 1 root root      47288 Jan 18  2018  tr\n",
            "-rwxr-xr-x 1 root root      14376 Mar 24  2018  tred\n",
            "-rwxr-xr-x 1 root root     736608 Feb 10  2018  troff\n",
            "-rwxr-xr-x 1 root root      39096 Jan 18  2018  truncate\n",
            "-rwxr-xr-x 1 root root      22528 May 23  2018  tset\n",
            "-rwxr-xr-x 1 root root      35000 Jan 18  2018  tsort\n",
            "-rwxr-xr-x 1 root root      30904 Jan 18  2018  tty\n",
            "lrwxrwxrwx 1 root root          3 Mar 24  2018  twopi -> dot\n",
            "-rwxr-xr-x 1 root root      15395 Apr 16  2018  tzselect\n",
            "-rwxr-xr-x 1 root root      40685 Feb 26  2018  ucf\n",
            "-rwxr-xr-x 1 root root      19367 Feb 26  2018  ucfq\n",
            "-rwxr-xr-x 1 root root      10722 Feb 26  2018  ucfr\n",
            "-rwxr-xr-x 1 root root      51816 Mar 22  2018  uconv\n",
            "lrwxrwxrwx 1 root root          9 Dec 21  2017  uic -> qtchooser\n",
            "lrwxrwxrwx 1 root root          9 Dec 21  2017  uic3 -> qtchooser\n",
            "-rwxr-xr-x 1 root root      14344 Jan 17  2018  ul\n",
            "-rwxr-xr-x 1 root root      39128 Jan 18  2018  unexpand\n",
            "-rwxr-xr-x 1 root root      14376 Mar 24  2018  unflatten\n",
            "-rwxr-xr-x 1 root root      43224 Jan 18  2018  uniq\n",
            "-rwxr-xr-x 1 root root      30904 Jan 18  2018  unlink\n",
            "lrwxrwxrwx 1 root root         24 Dec  5 22:40  unlzma -> /etc/alternatives/unlzma\n",
            "lrwxrwxrwx 1 root root         27 Dec 18 16:47  unpack200 -> /etc/alternatives/unpack200\n",
            "lrwxrwxrwx 1 root root         23 Dec 18 16:47  unrar -> /etc/alternatives/unrar\n",
            "-rwxr-xr-x 1 root root     302176 Aug 21  2017  unrar-nonfree\n",
            "-rwxr-xr-x 1 root root      18712 Aug 22 23:47  unshare\n",
            "lrwxrwxrwx 1 root root          2 Jun 28  2017  unxz -> xz\n",
            "-rwxr-xr-x 2 root root     174216 Apr 28  2017  unzip\n",
            "-rwxr-xr-x 1 root root      79992 Apr 28  2017  unzipsfx\n",
            "-rwxr-xr-x 1 root root      47112 Sep  5 21:05  update-alternatives\n",
            "-rwxr-xr-x 1 root root      51392 Oct 10  2017  update-mime-database\n",
            "-rwxr-xr-x 1 root root      10312 Aug  9 15:37  uptime\n",
            "-rwxr-xr-x 1 root root      35000 Jan 18  2018  users\n",
            "-rwxr-xr-x 1 root root      22600 Aug 22 23:47  utmpdump\n",
            "-rwxr-xr-x 1 root root       1082 Mar 24  2018  vimdot\n",
            "-rwxr-xr-x 1 root root      34912 Aug  9 15:37  vmstat\n",
            "lrwxrwxrwx 1 root root         19 Oct 29 21:25  w -> /etc/alternatives/w\n",
            "-rwxr-sr-x 1 root tty       30800 Aug 22 23:47  wall\n",
            "-rwxr-xr-x 1 root root      22952 Aug  9 15:37  watch\n",
            "-rwxr-xr-x 1 root root      14328 Jan 10  2019  watchgnupg\n",
            "-rwxr-xr-x 1 root root      43088 Nov 27  2018  wayland-scanner\n",
            "-rwxr-xr-x 1 root root      43200 Jan 18  2018  wc\n",
            "-rwxr-xr-x 1 root root     499264 Apr  8  2019  wget\n",
            "-rwxr-xr-x 1 root root      48104 Aug  4  2018  whatis\n",
            "-rwxr-xr-x 1 root root      27144 Aug 22 23:47  whereis\n",
            "lrwxrwxrwx 1 root root         10 Oct 29 21:25  which -> /bin/which\n",
            "-rwxr-xr-x 1 root root      51416 Jan 18  2018  who\n",
            "-rwxr-xr-x 1 root root      30904 Jan 18  2018  whoami\n",
            "lrwxrwxrwx 1 root root          7 Nov 20  2015  wish -> wish8.6\n",
            "-rwxr-xr-x 1 root root      10232 Mar 24  2018  wish8.6\n",
            "-rwxr-xr-x 1 root root      18504 Aug  9 15:37  w.procps\n",
            "lrwxrwxrwx 1 root root         23 Dec 18 16:43  write -> /etc/alternatives/write\n",
            "lrwxrwxrwx 1 root root         23 Dec 18 16:47  wsgen -> /etc/alternatives/wsgen\n",
            "lrwxrwxrwx 1 root root         26 Dec 18 16:47  wsimport -> /etc/alternatives/wsimport\n",
            "lrwxrwxrwx 1 root root          4 May  2  2019  X -> Xorg\n",
            "lrwxrwxrwx 1 root root          1 Jun 21  2018  X11 -> .\n",
            "lrwxrwxrwx 1 root root          7 Aug 22 23:47  x86_64 -> setarch\n",
            "-rwxr-xr-x 1 root root      31152 May  8  2019  x86_64-linux-gnu-addr2line\n",
            "-rwxr-xr-x 1 root root      59640 May  8  2019  x86_64-linux-gnu-ar\n",
            "-rwxr-xr-x 1 root root     917488 May  8  2019  x86_64-linux-gnu-as\n",
            "-rwxr-xr-x 1 root root      26744 May  8  2019  x86_64-linux-gnu-c++filt\n",
            "lrwxrwxrwx 1 root root          5 May 20  2019  x86_64-linux-gnu-cpp -> cpp-7\n",
            "-rwxr-xr-x 1 root root    1010624 May  8  2019  x86_64-linux-gnu-cpp-7\n",
            "-rwxr-xr-x 1 root root    2911496 May  8  2019  x86_64-linux-gnu-dwp\n",
            "-rwxr-xr-x 1 root root      31184 May  8  2019  x86_64-linux-gnu-elfedit\n",
            "lrwxrwxrwx 1 root root          5 May 20  2019  x86_64-linux-gnu-g++ -> g++-7\n",
            "-rwxr-xr-x 1 root root    1010624 May  8  2019  x86_64-linux-gnu-g++-7\n",
            "lrwxrwxrwx 1 root root          5 May 20  2019  x86_64-linux-gnu-gcc -> gcc-7\n",
            "-rwxr-xr-x 1 root root    1010624 May  8  2019  x86_64-linux-gnu-gcc-7\n",
            "lrwxrwxrwx 1 root root          8 May 20  2019  x86_64-linux-gnu-gcc-ar -> gcc-ar-7\n",
            "-rwxr-xr-x 1 root root      27104 May  8  2019  x86_64-linux-gnu-gcc-ar-7\n",
            "lrwxrwxrwx 1 root root          8 May 20  2019  x86_64-linux-gnu-gcc-nm -> gcc-nm-7\n",
            "-rwxr-xr-x 1 root root      27104 May  8  2019  x86_64-linux-gnu-gcc-nm-7\n",
            "lrwxrwxrwx 1 root root         12 May 20  2019  x86_64-linux-gnu-gcc-ranlib -> gcc-ranlib-7\n",
            "-rwxr-xr-x 1 root root      27104 May  8  2019  x86_64-linux-gnu-gcc-ranlib-7\n",
            "lrwxrwxrwx 1 root root          6 May 20  2019  x86_64-linux-gnu-gcov -> gcov-7\n",
            "-rwxr-xr-x 1 root root     622688 May  8  2019  x86_64-linux-gnu-gcov-7\n",
            "lrwxrwxrwx 1 root root         11 May 20  2019  x86_64-linux-gnu-gcov-dump -> gcov-dump-7\n",
            "-rwxr-xr-x 1 root root     491448 May  8  2019  x86_64-linux-gnu-gcov-dump-7\n",
            "lrwxrwxrwx 1 root root         11 May 20  2019  x86_64-linux-gnu-gcov-tool -> gcov-tool-7\n",
            "-rwxr-xr-x 1 root root     516088 May  8  2019  x86_64-linux-gnu-gcov-tool-7\n",
            "lrwxrwxrwx 1 root root         10 May 20  2019  x86_64-linux-gnu-gfortran -> gfortran-7\n",
            "-rwxr-xr-x 1 root root    1010624 May  8  2019  x86_64-linux-gnu-gfortran-7\n",
            "lrwxrwxrwx 1 root root         24 May  8  2019  x86_64-linux-gnu-gold -> x86_64-linux-gnu-ld.gold\n",
            "-rwxr-xr-x 1 root root     102120 May  8  2019  x86_64-linux-gnu-gprof\n",
            "lrwxrwxrwx 1 root root         23 May  8  2019  x86_64-linux-gnu-ld -> x86_64-linux-gnu-ld.bfd\n",
            "-rwxr-xr-x 1 root root    1779400 May  8  2019  x86_64-linux-gnu-ld.bfd\n",
            "-rwxr-xr-x 1 root root    3136552 May  8  2019  x86_64-linux-gnu-ld.gold\n",
            "-rwxr-xr-x 1 root root      44184 May  8  2019  x86_64-linux-gnu-nm\n",
            "-rwxr-xr-x 1 root root     235720 May  8  2019  x86_64-linux-gnu-objcopy\n",
            "-rwxr-xr-x 1 root root     414128 May  8  2019  x86_64-linux-gnu-objdump\n",
            "lrwxrwxrwx 1 root root         34 Dec 18 16:43  x86_64-linux-gnu-pkg-config -> /usr/share/pkg-config-crosswrapper\n",
            "-rwxr-xr-x 1 root root       2971 Nov  7 10:07  x86_64-linux-gnu-python2.7-config\n",
            "lrwxrwxrwx 1 root root         34 Nov  7 10:44  x86_64-linux-gnu-python3.6-config -> x86_64-linux-gnu-python3.6m-config\n",
            "-rwxr-xr-x 1 root root       3283 Nov  7 10:44  x86_64-linux-gnu-python3.6m-config\n",
            "lrwxrwxrwx 1 root root         33 Oct 25  2018  x86_64-linux-gnu-python3-config -> x86_64-linux-gnu-python3.6-config\n",
            "lrwxrwxrwx 1 root root         34 Oct 25  2018  x86_64-linux-gnu-python3m-config -> x86_64-linux-gnu-python3.6m-config\n",
            "lrwxrwxrwx 1 root root         33 Apr 16  2018  x86_64-linux-gnu-python-config -> x86_64-linux-gnu-python2.7-config\n",
            "-rwxr-xr-x 1 root root        555 Oct 30 21:00  x86_64-linux-gnu-qmake\n",
            "-rwxr-xr-x 1 root root      59672 May  8  2019  x86_64-linux-gnu-ranlib\n",
            "-rwxr-xr-x 1 root root     596440 May  8  2019  x86_64-linux-gnu-readelf\n",
            "-rwxr-xr-x 1 root root      31024 May  8  2019  x86_64-linux-gnu-size\n",
            "-rwxr-xr-x 1 root root      31232 May  8  2019  x86_64-linux-gnu-strings\n",
            "-rwxr-xr-x 1 root root     235728 May  8  2019  x86_64-linux-gnu-strip\n",
            "-rwxr-xr-x 2 root root      51296 Apr 21  2017  x86_64-pc-linux-gnu-pkg-config\n",
            "-rwxr-xr-x 1 root root      71896 Nov  5  2017  xargs\n",
            "-rwxr-xr-x 1 root root      52032 Nov 21  2017  xauth\n",
            "-rwxr-xr-x 1 root root      20571 Oct  2  2018  xdg-desktop-icon\n",
            "-rwxr-xr-x 1 root root      43209 Oct  2  2018  xdg-desktop-menu\n",
            "-rwxr-xr-x 1 root root      27921 Oct  2  2018  xdg-email\n",
            "-rwxr-xr-x 1 root root      29961 Oct  2  2018  xdg-icon-resource\n",
            "-rwxr-xr-x 1 root root      41987 Oct  2  2018  xdg-mime\n",
            "-rwxr-xr-x 1 root root      25242 Oct  2  2018  xdg-open\n",
            "-rwxr-xr-x 1 root root      37673 Oct  2  2018  xdg-screensaver\n",
            "-rwxr-xr-x 1 root root      37737 Oct  2  2018  xdg-settings\n",
            "lrwxrwxrwx 1 root root         21 Dec 18 16:47  xjc -> /etc/alternatives/xjc\n",
            "-rwxr-xr-x 1 root root      14344 May 16  2018  xkbbell\n",
            "-rwxr-xr-x 1 root root     212704 May 16  2018  xkbcomp\n",
            "-rwxr-xr-x 1 root root      34896 May 16  2018  xkbevd\n",
            "-rwxr-xr-x 1 root root      88096 May 16  2018  xkbprint\n",
            "-rwxr-xr-x 1 root root      23320 May 16  2018  xkbvleds\n",
            "-rwxr-xr-x 1 root root      19320 May 16  2018  xkbwatch\n",
            "-rwxr-xr-x 1 root root       1638 Aug 10  2018  xml2-config\n",
            "lrwxrwxrwx 1 root root          9 Dec 21  2017  xmlpatterns -> qtchooser\n",
            "lrwxrwxrwx 1 root root          9 Dec 21  2017  xmlpatternsvalidator -> qtchooser\n",
            "-rwxr-xr-x 1 root root        274 May  2  2019  Xorg\n",
            "-rwxr-xr-x 1 root root      30712 Oct 15  2017  xsel\n",
            "-rwxr-xr-x 1 root root       5164 Nov 19  2018  xsubpp\n",
            "-rwxr-xr-x 1 root root      76216 Jun 28  2017  xz\n",
            "lrwxrwxrwx 1 root root          2 Jun 28  2017  xzcat -> xz\n",
            "lrwxrwxrwx 1 root root          6 Jun 28  2017  xzcmp -> xzdiff\n",
            "-rwxr-xr-x 1 root root       6632 Jun 28  2017  xzdiff\n",
            "lrwxrwxrwx 1 root root          6 Jun 28  2017  xzegrep -> xzgrep\n",
            "lrwxrwxrwx 1 root root          6 Jun 28  2017  xzfgrep -> xzgrep\n",
            "-rwxr-xr-x 1 root root       5628 Jun 28  2017  xzgrep\n",
            "-rwxr-xr-x 1 root root       1802 Jun 28  2017  xzless\n",
            "-rwxr-xr-x 1 root root       2161 Jun 28  2017  xzmore\n",
            "lrwxrwxrwx 1 root root         30 Apr  5  2018  yaml-bench-6.0 -> ../lib/llvm-6.0/bin/yaml-bench\n",
            "-rwxr-xr-x 1 root root      30904 Jan 18  2018  yes\n",
            "-rwxr-xr-x 1 root root      18488 Apr 16  2018  zdump\n",
            "-rwxr-xr-x 1 root root     216256 Apr 21  2017  zip\n",
            "-rwxr-xr-x 1 root root      93816 Apr 21  2017  zipcloak\n",
            "-rwxr-xr-x 1 root root      48497 Nov 19  2018  zipdetails\n",
            "-rwxr-xr-x 1 root root       2953 Apr 28  2017  zipgrep\n",
            "-rwxr-xr-x 2 root root     174216 Apr 28  2017  zipinfo\n",
            "-rwxr-xr-x 1 root root      89488 Apr 21  2017  zipnote\n",
            "-rwxr-xr-x 1 root root      93584 Apr 21  2017  zipsplit\n"
          ],
          "name": "stdout"
        }
      ]
    },
    {
      "cell_type": "code",
      "metadata": {
        "id": "TBooeC-Pnbev",
        "colab_type": "code",
        "outputId": "a0c85484-9d7c-4bd2-c16c-bb23f5c4b65f",
        "colab": {
          "base_uri": "https://localhost:8080/",
          "height": 526
        }
      },
      "source": [
        "!ls -l /"
      ],
      "execution_count": 0,
      "outputs": [
        {
          "output_type": "stream",
          "text": [
            "total 7908\n",
            "drwxr-xr-x   1 root root    4096 Dec 18 16:45 bin\n",
            "drwxr-xr-x   2 root root    4096 Apr 24  2018 boot\n",
            "drwxr-xr-x   1 root root    4096 Jan 21 19:16 content\n",
            "drwxr-xr-x   1 root root    4096 Jan 13 17:08 datalab\n",
            "drwxr-xr-x   5 root root     360 Jan 21 18:30 dev\n",
            "-rw-r--r--   1 root root 3989833 Jan 13 16:38 dlib-19.18.0-cp27-cp27mu-linux_x86_64.whl\n",
            "-rw-r--r--   1 root root 3997028 Jan 13 16:38 dlib-19.18.0-cp36-cp36m-linux_x86_64.whl\n",
            "drwxr-xr-x   1 root root    4096 Jan 21 18:30 etc\n",
            "drwxr-xr-x   2 root root    4096 Apr 24  2018 home\n",
            "drwxr-xr-x   1 root root    4096 Dec 18 16:47 lib\n",
            "drwxr-xr-x   2 root root    4096 Dec 18 16:43 lib32\n",
            "drwxr-xr-x   2 root root    4096 Oct 29 21:25 lib64\n",
            "drwxr-xr-x   2 root root    4096 Oct 29 21:25 media\n",
            "drwxr-xr-x   2 root root    4096 Oct 29 21:25 mnt\n",
            "drwxr-xr-x   1 root root    4096 Dec 18 16:48 opt\n",
            "dr-xr-xr-x 113 root root       0 Jan 21 18:30 proc\n",
            "drwx------   1 root root    4096 Jan 21 19:16 root\n",
            "drwxr-xr-x   1 root root    4096 Dec 18 16:45 run\n",
            "drwxr-xr-x   1 root root    4096 Dec 18 16:46 sbin\n",
            "drwxr-xr-x   2 root root    4096 Oct 29 21:25 srv\n",
            "drwxr-xr-x   4 root root    4096 Jan 13 17:07 swift\n",
            "dr-xr-xr-x  12 root root       0 Jan 21 19:39 sys\n",
            "drwxr-xr-x   4 root root    4096 Jan 13 17:03 tensorflow-2.1.0\n",
            "drwxrwxrwt   1 root root    4096 Jan 21 19:21 tmp\n",
            "drwxr-xr-x   1 root root    4096 Jan 13 17:08 tools\n",
            "drwxr-xr-x   1 root root    4096 Dec 18 16:48 usr\n",
            "drwxr-xr-x   1 root root    4096 Jan 21 18:30 var\n"
          ],
          "name": "stdout"
        }
      ]
    },
    {
      "cell_type": "code",
      "metadata": {
        "id": "L7YgWSFOoLSG",
        "colab_type": "code",
        "outputId": "85765dcb-4df4-444a-ae23-413ac905ae06",
        "colab": {
          "base_uri": "https://localhost:8080/",
          "height": 72
        }
      },
      "source": [
        "!ls -l /opt/google/drive/"
      ],
      "execution_count": 0,
      "outputs": [
        {
          "output_type": "stream",
          "text": [
            "total 78316\n",
            "-r-xr-xr-x 1 root root 80116560 Dec  5 18:59 drive\n",
            "-r-xr-xr-x 1 root root    74930 Jan  1  2000 roots.pem\n"
          ],
          "name": "stdout"
        }
      ]
    },
    {
      "cell_type": "code",
      "metadata": {
        "id": "zhowuxJ4ohf2",
        "colab_type": "code",
        "outputId": "76eb333e-3bb0-4eef-c577-1d19ed0c6a9f",
        "colab": {
          "base_uri": "https://localhost:8080/",
          "height": 1000
        }
      },
      "source": [
        "!ls -l /usr/bin"
      ],
      "execution_count": 0,
      "outputs": [
        {
          "output_type": "stream",
          "text": [
            "total 144512\n",
            "-rwxr-xr-x 1 root root      51384 Jan 18  2018 '['\n",
            "-rwxr-xr-x 1 root root         96 Nov  7 10:07  2to3-2.7\n",
            "-rwxr-xr-x 1 root root         39 Feb  5  2018  7z\n",
            "-rwxr-xr-x 1 root root         40 Feb  5  2018  7za\n",
            "-rwxr-xr-x 1 root root         40 Feb  5  2018  7zr\n",
            "-rwxr-xr-x 1 root root      10240 Mar 24  2018  acyclic\n",
            "-rwxr-xr-x 1 root root       7258 Jul 12  2019  add-apt-repository\n",
            "-rwxr-xr-x 1 root root      22608 Aug 22 23:47  addpart\n",
            "lrwxrwxrwx 1 root root         26 May  8  2019  addr2line -> x86_64-linux-gnu-addr2line\n",
            "lrwxrwxrwx 1 root root          6 Aug  4  2018  apropos -> whatis\n",
            "-rwxr-xr-x 1 root root      14424 Sep  3 10:05  apt\n",
            "lrwxrwxrwx 1 root root         18 Jul 12  2019  apt-add-repository -> add-apt-repository\n",
            "-rwxr-xr-x 1 root root      80032 Sep  3 10:05  apt-cache\n",
            "-rwxr-xr-x 1 root root      22688 Sep  3 10:05  apt-cdrom\n",
            "-rwxr-xr-x 1 root root      22616 Sep  3 10:05  apt-config\n",
            "-rwxr-xr-x 1 root root      22688 Sep  3 10:05  apt-extracttemplates\n",
            "-rwxr-xr-x 1 root root     239776 Sep  3 10:05  apt-ftparchive\n",
            "-rwxr-xr-x 1 root root      43168 Sep  3 10:05  apt-get\n",
            "-rwxr-xr-x 1 root root      27391 Sep  3 10:05  apt-key\n",
            "-rwxr-xr-x 1 root root      43168 Sep  3 10:05  apt-mark\n",
            "-rwxr-xr-x 1 root root      43096 Sep  3 10:05  apt-sortpkgs\n",
            "lrwxrwxrwx 1 root root         19 May  8  2019  ar -> x86_64-linux-gnu-ar\n",
            "-rwxr-xr-x 1 root root      35032 Jan 18  2018  arch\n",
            "lrwxrwxrwx 1 root root         19 May  8  2019  as -> x86_64-linux-gnu-as\n",
            "lrwxrwxrwx 1 root root         18 May 16  2018  asan_symbolize -> asan_symbolize-6.0\n",
            "-rwxr-xr-x 1 root root      18342 Apr  5  2018  asan_symbolize-6.0\n",
            "lrwxrwxrwx 1 root root          9 Dec 21  2017  assistant -> qtchooser\n",
            "lrwxrwxrwx 1 root root         21 Oct 29 21:25  awk -> /etc/alternatives/awk\n",
            "lrwxrwxrwx 1 root root          4 Mar  6  2018  b2 -> bjam\n",
            "-rwxr-xr-x 1 root root      55512 Jan 18  2018  b2sum\n",
            "-rwxr-xr-x 1 root root      39096 Jan 18  2018  base32\n",
            "-rwxr-xr-x 1 root root      39096 Jan 18  2018  base64\n",
            "-rwxr-xr-x 1 root root      35000 Jan 18  2018  basename\n",
            "-rwxr-xr-x 1 root root       7115 Jun  6  2019  bashbug\n",
            "-rwxr-xr-x 1 root root      14376 Mar 24  2018  bcomps\n",
            "-rwxr-xr-x 1 root root     638864 Mar  6  2018  bcp\n",
            "-rwxr-xr-x 1 root root     357480 Mar  6  2018  bjam\n",
            "-rwxr-xr-x 1 root root      34952 Nov 15 15:01  bootctl\n",
            "lrwxrwxrwx 1 root root          8 Oct  2  2018  browse -> xdg-open\n",
            "-rwxr-xr-x 1 root root      10232 Jan 17  2018  bsd-from\n",
            "-rwxr-sr-x 1 root tty       14328 Jan 17  2018  bsd-write\n",
            "-rwxr-xr-x 1 root root      67672 Nov 15 15:01  busctl\n",
            "lrwxrwxrwx 1 root root         21 Dec  5 22:40  c++ -> /etc/alternatives/c++\n",
            "lrwxrwxrwx 1 root root         21 Dec  5 22:40  c89 -> /etc/alternatives/c89\n",
            "-rwxr-xr-x 1 root root        428 May  7  2006  c89-gcc\n",
            "lrwxrwxrwx 1 root root         21 Dec  5 22:40  c99 -> /etc/alternatives/c99\n",
            "-rwxr-xr-x 1 root root        454 Apr 11  2011  c99-gcc\n",
            "lrwxrwxrwx 1 root root          4 Jan 17  2018  cal -> ncal\n",
            "-rwxr-xr-x 1 root root      31208 Jan 17  2018  calendar\n",
            "lrwxrwxrwx 1 root root          3 May 23  2018  captoinfo -> tic\n",
            "-rwxr-xr-x 1 root root       3327 Apr 16  2018  catchsegv\n",
            "-rwxr-xr-x 1 root root      39384 Aug  4  2018  catman\n",
            "-rwxr-xr-x 1 root root        853 Jul 15  2016  cautious-launcher\n",
            "lrwxrwxrwx 1 root root         20 Dec  5 22:40  cc -> /etc/alternatives/cc\n",
            "-rwxr-xr-x 1 root root      22568 Mar 24  2018  ccomps\n",
            "lrwxrwxrwx 1 root root         24 May  8  2019  c++filt -> x86_64-linux-gnu-c++filt\n",
            "-rwxr-sr-x 1 root shadow    71816 Mar 22  2019  chage\n",
            "-rwxr-xr-x 1 root root      14336 Sep 26 18:01  chattr\n",
            "-rwxr-xr-x 1 root root      63672 Jan 18  2018  chcon\n",
            "-rwsr-xr-x 1 root root      76496 Mar 22  2019  chfn\n",
            "-rwxr-xr-x 1 root root      30800 Aug 22 23:47  chrt\n",
            "-rwsr-xr-x 1 root root      44528 Mar 22  2019  chsh\n",
            "lrwxrwxrwx 1 root root          3 Mar 24  2018  circo -> dot\n",
            "-rwxr-xr-x 1 root root      35000 Jan 18  2018  cksum\n",
            "lrwxrwxrwx 1 root root         25 May 16  2018  clang -> ../lib/llvm-6.0/bin/clang\n",
            "lrwxrwxrwx 1 root root         27 May 16  2018  clang++ -> ../lib/llvm-6.0/bin/clang++\n",
            "lrwxrwxrwx 1 root root         25 Apr  5  2018  clang-6.0 -> ../lib/llvm-6.0/bin/clang\n",
            "lrwxrwxrwx 1 root root         27 Apr  5  2018  clang++-6.0 -> ../lib/llvm-6.0/bin/clang++\n",
            "lrwxrwxrwx 1 root root         29 Apr  5  2018  clang-cpp-6.0 -> ../lib/llvm-6.0/bin/clang-cpp\n",
            "-rwxr-xr-x 1 root root      10240 May 23  2018  clear\n",
            "-rwxr-xr-x 1 root root      10312 Jun  6  2019  clear_console\n",
            "lrwxrwxrwx 1 root root         24 Dec 18 16:47  clhsdb -> /etc/alternatives/clhsdb\n",
            "-rwxr-xr-x 1 root root     105912 Mar 27  2018  clinfo\n",
            "-rwxr-xr-x 1 root root     568624 Mar 24  2018  cluster\n",
            "-rwxr-xr-x 1 root root    5325648 Jul 13  2019  cmake\n",
            "-rwxr-xr-x 1 root root      47200 Aug  4  2017  cmp\n",
            "-rwxr-xr-x 1 root root      10232 Jan 17  2018  col\n",
            "-rwxr-xr-x 1 root root      10240 Jan 17  2018  colcrt\n",
            "-rwxr-xr-x 1 root root      10232 Jan 17  2018  colrm\n",
            "-rwxr-xr-x 1 root root      14344 Jan 17  2018  column\n",
            "-rwxr-xr-x 1 root root      39128 Jan 18  2018  comm\n",
            "lrwxrwxrwx 1 root root         11 Jul 15  2016  compose -> run-mailcap\n",
            "-rwxr-xr-x 1 root root      12835 Nov 19  2018  corelist\n",
            "-rwxr-xr-x 1 root root    5566864 Jul 13  2019  cpack\n",
            "-rwxr-xr-x 1 root root       8156 Nov 19  2018  cpan\n",
            "-rwxr-xr-x 1 root root       8177 Nov 19  2018  cpan5.26-x86_64-linux-gnu\n",
            "lrwxrwxrwx 1 root root          5 May 20  2019  cpp -> cpp-7\n",
            "lrwxrwxrwx 1 root root         22 May  8  2019  cpp-7 -> x86_64-linux-gnu-cpp-7\n",
            "-rwxr-xr-x 1 root root       6332 Nov 12 16:58  c_rehash\n",
            "-rwxr-xr-x 1 root root      51416 Jan 18  2018  csplit\n",
            "-rwxr-xr-x 1 root root    6518192 Jul 13  2019  ctest\n",
            "-rwxr-xr-x 1 root root     223304 Sep  6 05:27  curl\n",
            "-rwxr-xr-x 1 root root       6075 Sep  6 05:27  curl-config\n",
            "-rwxr-xr-x 1 root root      43224 Jan 18  2018  cut\n",
            "-rwxr-xr-x 1 root root      14328 May  2  2019  cvt\n",
            "-rwxr-xr-x 1 root root      10224 Jun 10  2019  dbus-cleanup-sockets\n",
            "-rwxr-xr-x 1 root root     236584 Jun 10  2019  dbus-daemon\n",
            "-rwxr-xr-x 1 root root      22520 Jun 10  2019  dbus-monitor\n",
            "-rwxr-xr-x 1 root root      10224 Jun 10  2019  dbus-run-session\n",
            "-rwxr-xr-x 1 root root      26608 Jun 10  2019  dbus-send\n",
            "-rwxr-xr-x 1 root root      14320 Jun 10  2019  dbus-update-activation-environment\n",
            "-rwxr-xr-x 1 root root      10224 Jun 10  2019  dbus-uuidgen\n",
            "-rwxr-xr-x 1 root root       2859 May  6  2019  debconf\n",
            "-rwxr-xr-x 1 root root      11541 May  6  2019  debconf-apt-progress\n",
            "-rwxr-xr-x 1 root root        608 May  6  2019  debconf-communicate\n",
            "-rwxr-xr-x 1 root root       1719 May  6  2019  debconf-copydb\n",
            "-rwxr-xr-x 1 root root        647 May  6  2019  debconf-escape\n",
            "-rwxr-xr-x 1 root root       2935 May  6  2019  debconf-set-selections\n",
            "-rwxr-xr-x 1 root root       1827 May  6  2019  debconf-show\n",
            "-rwxr-xr-x 1 root root      20142 Oct 25  2017  deb-systemd-helper\n",
            "-rwxr-xr-x 1 root root       4434 Oct 25  2017  deb-systemd-invoke\n",
            "-rwxr-xr-x 1 root root      22608 Aug 22 23:47  delpart\n",
            "-rwxr-xr-x 1 root root      23112 Mar 22  2018  derb\n",
            "lrwxrwxrwx 1 root root          9 Dec 21  2017  designer -> qtchooser\n",
            "-rwxr-xr-x 1 root root       4298 Oct 14 09:50  dh_dkms\n",
            "-rwxr-xr-x 1 root root       1983 Dec  5  2017  dh_numpy\n",
            "-rwxr-xr-x 1 root root       1989 Dec  5  2017  dh_numpy3\n",
            "lrwxrwxrwx 1 root root         26 Mar 26  2018  dh_pypy -> ../share/dh-python/dh_pypy\n",
            "-rwxr-xr-x 1 root root       1056 Apr 16  2018  dh_python2\n",
            "lrwxrwxrwx 1 root root         29 Mar 26  2018  dh_python3 -> ../share/dh-python/dh_python3\n",
            "-rwxr-xr-x 1 root root     145752 Aug  4  2017  diff\n",
            "-rwxr-xr-x 1 root root      63704 Aug  4  2017  diff3\n",
            "-rwxr-xr-x 1 root root      10232 Mar 24  2018  diffimg\n",
            "-rwxr-xr-x 1 root root      14440 Mar 24  2018  dijkstra\n",
            "-rwxr-xr-x 1 root root      47296 Jan 18  2018  dircolors\n",
            "-rwxr-xr-x 1 root root     546360 Jan 10  2019  dirmngr\n",
            "-rwxr-xr-x 1 root root     109320 Jan 10  2019  dirmngr-client\n",
            "-rwxr-xr-x 1 root root      30904 Jan 18  2018  dirname\n",
            "lrwxrwxrwx 1 root root         29 Mar 24  2018  dot -> ../sbin/libgvc6-config-update\n",
            "lrwxrwxrwx 1 root root          6 Mar 24  2018  dot2gxl -> gxl2gv\n",
            "-rwxr-xr-x 1 root root      10344 Mar 24  2018  dot_builtins\n",
            "-rwxr-xr-x 1 root root       2085 Mar 24  2018  dotty\n",
            "-rwxr-xr-x 1 root root     297472 Sep  5 21:05  dpkg\n",
            "-rwxr-xr-x 1 root root      12852 Sep  5 21:05  dpkg-architecture\n",
            "-rwxr-xr-x 1 root root       7565 Sep  5 21:05  dpkg-buildflags\n",
            "-rwxr-xr-x 1 root root      29796 Sep  5 21:05  dpkg-buildpackage\n",
            "-rwxr-xr-x 1 root root       7503 Sep  5 21:05  dpkg-checkbuilddeps\n",
            "-rwxr-xr-x 1 root root     153952 Sep  5 21:05  dpkg-deb\n",
            "-rwxr-xr-x 1 root root       2782 Sep  5 21:05  dpkg-distaddfile\n",
            "-rwxr-xr-x 1 root root     141728 Sep  5 21:05  dpkg-divert\n",
            "-rwxr-xr-x 1 root root      16775 Sep  5 21:05  dpkg-genbuildinfo\n",
            "-rwxr-xr-x 1 root root      17622 Sep  5 21:05  dpkg-genchanges\n",
            "-rwxr-xr-x 1 root root      14059 Sep  5 21:05  dpkg-gencontrol\n",
            "-rwxr-xr-x 1 root root      10629 Sep  5 21:05  dpkg-gensymbols\n",
            "-rwxr-xr-x 1 root root      19031 Sep  5 21:05  dpkg-maintscript-helper\n",
            "-rwxr-xr-x 1 root root       8590 Sep  5 21:05  dpkg-mergechangelogs\n",
            "-rwxr-xr-x 1 root root       6789 Sep  5 21:05  dpkg-name\n",
            "-rwxr-xr-x 1 root root       4435 Sep  5 21:05  dpkg-parsechangelog\n",
            "-rwxr-xr-x 1 root root     149912 Sep  5 21:05  dpkg-query\n",
            "-rwxr-xr-x 1 root root       8425 Sep  5 21:05  dpkg-scanpackages\n",
            "-rwxr-xr-x 1 root root       9167 Sep  5 21:05  dpkg-scansources\n",
            "-rwxr-xr-x 1 root root      31360 Sep  5 21:05  dpkg-shlibdeps\n",
            "-rwxr-xr-x 1 root root      23300 Sep  5 21:05  dpkg-source\n",
            "-rwxr-xr-x 1 root root     121176 Sep  5 21:05  dpkg-split\n",
            "-rwxr-xr-x 1 root root      71936 Sep  5 21:05  dpkg-statoverride\n",
            "-rwxr-xr-x 1 root root      67848 Sep  5 21:05  dpkg-trigger\n",
            "-rwxr-xr-x 1 root root       3262 Sep  5 21:05  dpkg-vendor\n",
            "-rwxr-xr-x 1 root root     100568 Jan 18  2018  du\n",
            "lrwxrwxrwx 1 root root         20 May  8  2019  dwp -> x86_64-linux-gnu-dwp\n",
            "-rwxr-xr-x 1 root root     429280 Mar 24  2018  edgepaint\n",
            "lrwxrwxrwx 1 root root         11 Jul 15  2016  edit -> run-mailcap\n",
            "lrwxrwxrwx 1 root root         24 May  8  2019  elfedit -> x86_64-linux-gnu-elfedit\n",
            "-rwxr-xr-x 1 root root      42153 Nov 19  2018  enc2xs\n",
            "-rwxr-xr-x 1 root root       3066 Nov 19  2018  encguess\n",
            "-rwxr-xr-x 1 root root      35000 Jan 18  2018  env\n",
            "-rwxr-xr-x 1 root root       7428 Feb  6  2018  epsg_tr.py\n",
            "-rwxr-xr-x 1 root root     197824 Feb 10  2018  eqn\n",
            "-rwxr-xr-x 1 root root       2053 Feb  6  2018  esri2wkt.py\n",
            "-rwxr-xr-x 1 root root      39128 Jan 18  2018  expand\n",
            "-rwxr-sr-x 1 root shadow    22808 Mar 22  2019  expiry\n",
            "-rwxr-xr-x 1 root root      47288 Jan 18  2018  expr\n",
            "lrwxrwxrwx 1 root root         26 Dec 18 16:47  extcheck -> /etc/alternatives/extcheck\n",
            "-rwxr-xr-x 1 root root        757 Dec  5  2017  f2py\n",
            "-rwxr-xr-x 1 root root        760 Dec  5  2017  f2py2.7\n",
            "-rwxr-xr-x 1 root root        758 Dec  5  2017  f2py3\n",
            "-rwxr-xr-x 1 root root        760 Dec  5  2017  f2py3.6\n",
            "lrwxrwxrwx 1 root root         21 Dec 18 16:43  f77 -> /etc/alternatives/f77\n",
            "lrwxrwxrwx 1 root root         21 Dec 18 16:43  f95 -> /etc/alternatives/f95\n",
            "-rwxr-xr-x 1 root root      75992 Jan 18  2018  factor\n",
            "-rwxr-xr-x 1 root root      18728 Mar 22  2019  faillog\n",
            "-rwxr-xr-x 1 root root      26704 Aug 22 23:47  fallocate\n",
            "-rwxr-xr-x 1 root root      14408 Apr  5  2018  fc-cache\n",
            "-rwxr-xr-x 1 root root      14408 Apr  5  2018  fc-cat\n",
            "-rwxr-xr-x 1 root root      10312 Apr  5  2018  fc-list\n",
            "-rwxr-xr-x 1 root root      10312 Apr  5  2018  fc-match\n",
            "-rwxr-xr-x 1 root root      10312 Apr  5  2018  fc-pattern\n",
            "-rwxr-xr-x 1 root root      10312 Apr  5  2018  fc-query\n",
            "-rwxr-xr-x 1 root root      10312 Apr  5  2018  fc-scan\n",
            "-rwxr-xr-x 1 root root      10312 Apr  5  2018  fc-validate\n",
            "lrwxrwxrwx 1 root root          3 Mar 24  2018  fdp -> dot\n",
            "-rwxr-xr-x 1 root root     272528 Apr 24  2019  ffmpeg\n",
            "-rwxr-xr-x 1 root root     137376 Apr 24  2019  ffplay\n",
            "-rwxr-xr-x 1 root root     161944 Apr 24  2019  ffprobe\n",
            "-rwxr-xr-x 1 root root     142608 Apr 24  2019  ffserver\n",
            "-rwxr-xr-x 1 root root      18504 Jan  4  2018  fi_info\n",
            "-rwxr-xr-x 1 root root       3085 Feb 19  2018  file-rename\n",
            "-rwxr-xr-x 1 root root     238080 Nov  5  2017  find\n",
            "-rwxr-xr-x 1 root root    1457720 Oct 24  2017  fio\n",
            "-rwxr-xr-x 1 root root      21730 Sep 28  2017  fio2gnuplot\n",
            "-rwxr-xr-x 1 root root      26744 Oct 24  2017  fio-btrace2fio\n",
            "-rwxr-xr-x 1 root root      51368 Oct 24  2017  fio-dedupe\n",
            "-rwxr-xr-x 1 root root       3994 Sep 28  2017  fio_generate_plots\n",
            "-rwxr-xr-x 1 root root      34936 Oct 24  2017  fio-genzipf\n",
            "-rwxr-xr-x 1 root root      47104 Jan  4  2018  fi_pingpong\n",
            "-rwxr-xr-x 1 root root      10232 Jan  4  2018  fi_strerror\n",
            "-rwxr-xr-x 1 root root      30880 Aug 22 23:47  flock\n",
            "-rwxr-xr-x 1 root root      43192 Jan 18  2018  fmt\n",
            "-rwxr-xr-x 1 root root      35000 Jan 18  2018  fold\n",
            "-rwxr-xr-x 1 root root      18512 Aug  9 15:37  free\n",
            "-rwxr-xr-x 1 root root       4726 Apr 13  2018  freetype-config\n",
            "lrwxrwxrwx 1 root root         22 Dec 18 16:43  from -> /etc/alternatives/from\n",
            "-rwxr-xr-x 1 root root      22520 Apr 28  2017  funzip\n",
            "lrwxrwxrwx 1 root root          5 May 20  2019  g++ -> g++-7\n",
            "lrwxrwxrwx 1 root root         22 May  8  2019  g++-7 -> x86_64-linux-gnu-g++-7\n",
            "-rwxr-xr-x 1 root root      18504 Jul  3  2019  gapplication\n",
            "-rwxr-xr-x 1 root root      14376 Mar 24  2018  gc\n",
            "lrwxrwxrwx 1 root root          5 May 20  2019  gcc -> gcc-7\n",
            "lrwxrwxrwx 1 root root         22 May  8  2019  gcc-7 -> x86_64-linux-gnu-gcc-7\n",
            "lrwxrwxrwx 1 root root          8 May 20  2019  gcc-ar -> gcc-ar-7\n",
            "lrwxrwxrwx 1 root root         25 May  8  2019  gcc-ar-7 -> x86_64-linux-gnu-gcc-ar-7\n",
            "lrwxrwxrwx 1 root root          8 May 20  2019  gcc-nm -> gcc-nm-7\n",
            "lrwxrwxrwx 1 root root         25 May  8  2019  gcc-nm-7 -> x86_64-linux-gnu-gcc-nm-7\n",
            "lrwxrwxrwx 1 root root         12 May 20  2019  gcc-ranlib -> gcc-ranlib-7\n",
            "lrwxrwxrwx 1 root root         29 May  8  2019  gcc-ranlib-7 -> x86_64-linux-gnu-gcc-ranlib-7\n",
            "lrwxrwxrwx 1 root root          6 May 20  2019  gcov -> gcov-7\n",
            "lrwxrwxrwx 1 root root         23 May  8  2019  gcov-7 -> x86_64-linux-gnu-gcov-7\n",
            "lrwxrwxrwx 1 root root         11 May 20  2019  gcov-dump -> gcov-dump-7\n",
            "lrwxrwxrwx 1 root root         28 May  8  2019  gcov-dump-7 -> x86_64-linux-gnu-gcov-dump-7\n",
            "lrwxrwxrwx 1 root root         11 May 20  2019  gcov-tool -> gcov-tool-7\n",
            "lrwxrwxrwx 1 root root         28 May  8  2019  gcov-tool-7 -> x86_64-linux-gnu-gcov-tool-7\n",
            "-rwxr-xr-x 1 root root       4942 Feb  6  2018  gcps2vec.py\n",
            "-rwxr-xr-x 1 root root       2488 Feb  6  2018  gcps2wld.py\n",
            "-rwxr-xr-x 1 root root     108507 Feb  6  2018  gdal2tiles.py\n",
            "-rwxr-xr-x 1 root root       5134 Feb  6  2018  gdal2xyz.py\n",
            "-rwxr-xr-x 1 root root      14352 Feb  6  2018  gdaladdo\n",
            "-rwxr-xr-x 1 root root       4082 Feb  6  2018  gdal_auth.py\n",
            "-rwxr-xr-x 1 root root      14264 Feb  6  2018  gdalbuildvrt\n",
            "-rwxr-xr-x 1 root root      17480 Feb  6  2018  gdal_calc.py\n",
            "-rwxr-xr-x 1 root root       2946 Feb  6  2018  gdalchksum.py\n",
            "-rwxr-xr-x 1 root root       9644 Feb  6  2018  gdalcompare.py\n",
            "-rwxr-xr-x 1 root root      14264 Feb  6  2018  gdal_contour\n",
            "-rwxr-xr-x 1 root root      14264 Feb  6  2018  gdaldem\n",
            "-rwxr-xr-x 1 root root       9392 Feb  6  2018  gdal_edit.py\n",
            "-rwxr-xr-x 1 root root      18448 Feb  6  2018  gdalenhance\n",
            "-rwxr-xr-x 1 root root       5962 Feb  6  2018  gdal_fillnodata.py\n",
            "-rwxr-xr-x 1 root root      10168 Feb  6  2018  gdal_grid\n",
            "-rwxr-xr-x 1 root root       3461 Feb  6  2018  gdalident.py\n",
            "-rwxr-xr-x 1 root root       2956 Feb  6  2018  gdalimport.py\n",
            "-rwxr-xr-x 1 root root      10168 Feb  6  2018  gdalinfo\n",
            "-rwxr-xr-x 1 root root      18448 Feb  6  2018  gdallocationinfo\n",
            "-rwxr-xr-x 1 root root      10256 Feb  6  2018  gdalmanage\n",
            "-rwxr-xr-x 1 root root      17815 Feb  6  2018  gdal_merge.py\n",
            "-rwxr-xr-x 1 root root       9341 Feb  6  2018  gdalmove.py\n",
            "-rwxr-xr-x 1 root root       9163 Feb  6  2018  gdal_pansharpen.py\n",
            "-rwxr-xr-x 1 root root       7034 Feb  6  2018  gdal_polygonize.py\n",
            "-rwxr-xr-x 1 root root       5723 Feb  6  2018  gdal_proximity.py\n",
            "-rwxr-xr-x 1 root root      10168 Feb  6  2018  gdal_rasterize\n",
            "-rwxr-xr-x 1 root root      32230 Feb  6  2018  gdal_retile.py\n",
            "-rwxr-xr-x 1 root root      14264 Feb  6  2018  gdalserver\n",
            "-rwxr-xr-x 1 root root       5253 Feb  6  2018  gdal_sieve.py\n",
            "-rwxr-xr-x 1 root root      18448 Feb  6  2018  gdalsrsinfo\n",
            "-rwxr-xr-x 1 root root      22456 Feb  6  2018  gdaltindex\n",
            "-rwxr-xr-x 1 root root      14264 Feb  6  2018  gdaltransform\n",
            "-rwxr-xr-x 1 root root      18448 Feb  6  2018  gdal_translate\n",
            "-rwxr-xr-x 1 root root      14264 Feb  6  2018  gdalwarp\n",
            "-rwxr-xr-x 1 root root      43088 Jul  3  2019  gdbus\n",
            "-rwxr-xr-x 1 root root       2051 Jul  3  2019  gdbus-codegen\n",
            "-rwxr-xr-x 1 root root      14832 Mar 22  2018  genbrk\n",
            "-rwxr-xr-x 1 root root      22752 Apr 16  2018  gencat\n",
            "-rwxr-xr-x 1 root root      10680 Mar 22  2018  gencfu\n",
            "-rwxr-xr-x 1 root root      22856 Mar 22  2018  gencnval\n",
            "-rwxr-xr-x 1 root root      23096 Mar 22  2018  gendict\n",
            "-rwxr-xr-x 1 root root       8756 Sep 28  2017  genfio\n",
            "-rwxr-xr-x 1 root root     126552 Mar 22  2018  genrb\n",
            "lrwxrwxrwx 1 root root          3 Feb 10  2018  geqn -> eqn\n",
            "-rwxr-xr-x 1 root root      30856 Apr 16  2018  getconf\n",
            "-rwxr-xr-x 1 root root      31224 Apr 16  2018  getent\n",
            "-rwxr-xr-x 1 root root      14408 Aug 22 23:47  getopt\n",
            "lrwxrwxrwx 1 root root         10 May 20  2019  gfortran -> gfortran-7\n",
            "lrwxrwxrwx 1 root root         27 May  8  2019  gfortran-7 -> x86_64-linux-gnu-gfortran-7\n",
            "-rwxr-xr-x 1 root root      79960 Jul  3  2019  gio\n",
            "lrwxrwxrwx 1 root root         49 Jul  3  2019  gio-querymodules -> ../lib/x86_64-linux-gnu/glib-2.0/gio-querymodules\n",
            "-rwxr-xr-x 1 root root    2347696 Dec  9 13:29  git\n",
            "lrwxrwxrwx 1 root root          3 Dec  9 13:29  git-receive-pack -> git\n",
            "-rwxr-xr-x 1 root root    1304912 Dec  9 13:29  git-shell\n",
            "lrwxrwxrwx 1 root root          3 Dec  9 13:29  git-upload-archive -> git\n",
            "-rwxr-xr-x 1 root root    1317120 Dec  9 13:29  git-upload-pack\n",
            "-rwxr-xr-x 1 root root      38984 Jul  3  2019  glib-compile-resources\n",
            "lrwxrwxrwx 1 root root         53 Jul  3  2019  glib-compile-schemas -> ../lib/x86_64-linux-gnu/glib-2.0/glib-compile-schemas\n",
            "-rwxr-xr-x 1 root root      40925 Jul  3  2019  glib-genmarshal\n",
            "-rwxr-xr-x 1 root root       5375 Jul  3  2019  glib-gettextize\n",
            "-rwxr-xr-x 1 root root      27800 Jul  3  2019  glib-mkenums\n",
            "-rwxr-xr-x 1 root root      39184 Mar 24  2018  gml2gv\n",
            "-rwxr-xr-x 1 root root      18360 Feb  6  2018  gnmanalyse\n",
            "-rwxr-xr-x 1 root root      22544 Feb  6  2018  gnmmanage\n",
            "-rwxr-xr-x 1 root root      10240 Jul  3  2019  gobject-query\n",
            "lrwxrwxrwx 1 root root         21 May  8  2019  gold -> x86_64-linux-gnu-gold\n",
            "-rwxr-xr-x 1 root root     178608 Apr 25  2018  google-pprof\n",
            "-rwsr-xr-x 1 root root      75824 Mar 22  2019  gpasswd\n",
            "-rwxr-xr-x 1 root root    1017384 Jan 10  2019  gpg\n",
            "lrwxrwxrwx 1 root root          3 Jan 10  2019  gpg2 -> gpg\n",
            "-rwxr-xr-x 1 root root     398024 Jan 10  2019  gpg-agent\n",
            "-rwxr-xr-x 1 root root     166216 Jan 10  2019  gpgconf\n",
            "-rwxr-xr-x 1 root root     158568 Jan 10  2019  gpg-connect-agent\n",
            "-rwxr-xr-x 1 root root      26696 Jan 10  2019  gpgparsemail\n",
            "-rwxr-xr-x 1 root root     502880 Jan 10  2019  gpgsm\n",
            "-rwxr-xr-x 1 root root      80336 Jan 10  2019  gpgsplit\n",
            "-rwxr-xr-x 1 root root     437264 Jan 10  2019  gpgv\n",
            "-rwxr-xr-x 1 root root     191504 Jan 10  2019  gpg-wks-server\n",
            "-rwxr-xr-x 1 root root       3443 Jan 10  2019  gpg-zip\n",
            "lrwxrwxrwx 1 root root          3 Feb 10  2018  gpic -> pic\n",
            "lrwxrwxrwx 1 root root         22 May  8  2019  gprof -> x86_64-linux-gnu-gprof\n",
            "-rwxr-xr-x 1 root root      18512 Mar 24  2018  graphml2gv\n",
            "-rwxr-xr-x 1 root root      18424 Jul  3  2019  gresource\n",
            "-rwxr-xr-x 1 root root     107840 Feb 10  2018  groff\n",
            "-rwxr-xr-x 1 root root       2780 Feb 10  2018  grog\n",
            "-rwxr-xr-x 1 root root     169696 Feb 10  2018  grops\n",
            "-rwxr-xr-x 1 root root     124256 Feb 10  2018  grotty\n",
            "-rwxr-xr-x 1 root root      35000 Jan 18  2018  groups\n",
            "-rwxr-xr-x 1 root root      26696 Jul  3  2019  gsettings\n",
            "lrwxrwxrwx 1 root root          3 Feb 10  2018  gtbl -> tbl\n",
            "-rwxr-xr-x 1 root root      22536 Jul  3  2019  gtester\n",
            "-rwxr-xr-x 1 root root      18831 Jul  3  2019  gtester-report\n",
            "-rwxr-xr-x 1 root root      14328 May  2  2019  gtf\n",
            "-rwxr-xr-x 1 root root      31200 Jun  5  2019  gtk-update-icon-cache\n",
            "-rwxr-xr-x 1 root root      18472 Mar 24  2018  gv2gml\n",
            "lrwxrwxrwx 1 root root          6 Mar 24  2018  gv2gxl -> gxl2gv\n",
            "-rwxr-xr-x 1 root root      45320 Mar 24  2018  gvcolor\n",
            "-rwxr-xr-x 1 root root      22528 Mar 24  2018  gvgen\n",
            "-rwxr-xr-x 1 root root     572720 Mar 24  2018  gvmap\n",
            "-rwxr-xr-x 1 root root       2181 Mar 24  2018  gvmap.sh\n",
            "-rwxr-xr-x 1 root root      22760 Mar 24  2018  gvpack\n",
            "-rwxr-xr-x 1 root root       6136 Mar 24  2018  gvpr\n",
            "lrwxrwxrwx 1 root root          6 Mar 24  2018  gxl2dot -> gxl2gv\n",
            "-rwxr-xr-x 1 root root      35080 Mar 24  2018  gxl2gv\n",
            "-rwxr-xr-x 1 root root      29224 Nov 19  2018  h2ph\n",
            "-rwxr-xr-x 1 root root      60866 Nov 19  2018  h2xs\n",
            "-rwxr-xr-x 1 root root      13425 Aug 13  2017  h5c++\n",
            "-rwxr-xr-x 1 root root      13628 Aug 13  2017  h5cc\n",
            "-rwxr-xr-x 1 root root      13013 Aug 13  2017  h5fc\n",
            "lrwxrwxrwx 1 root root          7 Jan 17  2018  hd -> hexdump\n",
            "-rwxr-xr-x 1 root root      43224 Jan 18  2018  head\n",
            "-rwxr-xr-x 1 root root      26728 Jan 17  2018  hexdump\n",
            "-rwxr-xr-x 1 root root      30904 Jan 18  2018  hostid\n",
            "-rwxr-xr-x 1 root root      18504 Nov 15 15:01  hostnamectl\n",
            "lrwxrwxrwx 1 root root         22 Dec 18 16:47  hsdb -> /etc/alternatives/hsdb\n",
            "lrwxrwxrwx 1 root root          7 Aug 22 23:47  i386 -> setarch\n",
            "-rwxr-xr-x 1 root root      63744 Apr 16  2018  iconv\n",
            "-rwxr-xr-x 1 root root      22184 Mar 22  2018  icu-config\n",
            "-rwxr-xr-x 1 root root      10568 Mar 22  2018  icuinfo\n",
            "-rwxr-xr-x 1 root root      43224 Jan 18  2018  id\n",
            "lrwxrwxrwx 1 root root         22 Dec 18 16:47  idlj -> /etc/alternatives/idlj\n",
            "-rwxr-xr-x 1 root root      59464 May 23  2018  infocmp\n",
            "lrwxrwxrwx 1 root root          3 May 23  2018  infotocap -> tic\n",
            "-rwxr-xr-x 1 root root     532848 Mar  6  2018  inspect\n",
            "-rwxr-xr-x 1 root root     145664 Jan 18  2018  install\n",
            "-rwxr-xr-x 1 root root       4370 Nov 19  2018  instmodsh\n",
            "-rwxr-xr-x 1 root root      26704 Aug 22 23:47  ionice\n",
            "-rwxr-xr-x 1 root root      26768 Aug 22 23:47  ipcmk\n",
            "-rwxr-xr-x 1 root root      26704 Aug 22 23:47  ipcrm\n",
            "-rwxr-xr-x 1 root root      51280 Aug 22 23:47  ipcs\n",
            "-rwxr-xr-x 1 root root      10280 Dec 30  2017  ischroot\n",
            "lrwxrwxrwx 1 root root         21 Dec 18 16:47  jar -> /etc/alternatives/jar\n",
            "lrwxrwxrwx 1 root root         27 Dec 18 16:47  jarsigner -> /etc/alternatives/jarsigner\n",
            "lrwxrwxrwx 1 root root         22 Dec 18 16:47  java -> /etc/alternatives/java\n",
            "lrwxrwxrwx 1 root root         23 Dec 18 16:47  javac -> /etc/alternatives/javac\n",
            "lrwxrwxrwx 1 root root         25 Dec 18 16:47  javadoc -> /etc/alternatives/javadoc\n",
            "lrwxrwxrwx 1 root root         23 Dec 18 16:47  javah -> /etc/alternatives/javah\n",
            "lrwxrwxrwx 1 root root         23 Dec 18 16:47  javap -> /etc/alternatives/javap\n",
            "lrwxrwxrwx 1 root root         22 Dec 18 16:47  jcmd -> /etc/alternatives/jcmd\n",
            "lrwxrwxrwx 1 root root         21 Dec 18 16:47  jdb -> /etc/alternatives/jdb\n",
            "lrwxrwxrwx 1 root root         23 Dec 18 16:47  jdeps -> /etc/alternatives/jdeps\n",
            "lrwxrwxrwx 1 root root         23 Dec 18 16:47  jexec -> /etc/alternatives/jexec\n",
            "lrwxrwxrwx 1 root root         22 Dec 18 16:47  jhat -> /etc/alternatives/jhat\n",
            "lrwxrwxrwx 1 root root         23 Dec 18 16:47  jinfo -> /etc/alternatives/jinfo\n",
            "lrwxrwxrwx 1 root root         21 Dec 18 16:47  jjs -> /etc/alternatives/jjs\n",
            "lrwxrwxrwx 1 root root         22 Dec 18 16:47  jmap -> /etc/alternatives/jmap\n",
            "-rwxr-xr-x 1 root root      47320 Jan 18  2018  join\n",
            "lrwxrwxrwx 1 root root         21 Dec 18 16:47  jps -> /etc/alternatives/jps\n",
            "lrwxrwxrwx 1 root root         28 Dec 18 16:47  jrunscript -> /etc/alternatives/jrunscript\n",
            "lrwxrwxrwx 1 root root         27 Dec 18 16:47  jsadebugd -> /etc/alternatives/jsadebugd\n",
            "-rwxr-xr-x 1 root root       3959 Nov 19  2018  json_pp\n",
            "lrwxrwxrwx 1 root root         24 Dec 18 16:47  jstack -> /etc/alternatives/jstack\n",
            "lrwxrwxrwx 1 root root         23 Dec 18 16:47  jstat -> /etc/alternatives/jstat\n",
            "lrwxrwxrwx 1 root root         24 Dec 18 16:47  jstatd -> /etc/alternatives/jstatd\n",
            "-rwxr-xr-x 1 root root     162496 Jan 10  2019  kbxutil\n",
            "-rwxr-xr-x 1 root root       4508 Jan 28  2018  kernel-install\n",
            "lrwxrwxrwx 1 root root         25 Dec 18 16:47  keytool -> /etc/alternatives/keytool\n",
            "-rwxr-xr-x 1 root root      43088 Aug 22 23:47  last\n",
            "lrwxrwxrwx 1 root root          4 Aug 22 23:47  lastb -> last\n",
            "-rwxr-xr-x 1 root root      18504 Mar 22  2019  lastlog\n",
            "-rwxr-xr-x 1 root root       7786 Feb 26  2018  lcf\n",
            "lrwxrwxrwx 1 root root          9 Dec 21  2017  lconvert -> qtchooser\n",
            "lrwxrwxrwx 1 root root         19 May  8  2019  ld -> x86_64-linux-gnu-ld\n",
            "lrwxrwxrwx 1 root root         23 May  8  2019  ld.bfd -> x86_64-linux-gnu-ld.bfd\n",
            "-rwxr-xr-x 1 root root       5420 Apr 16  2018  ldd\n",
            "lrwxrwxrwx 1 root root         24 May  8  2019  ld.gold -> x86_64-linux-gnu-ld.gold\n",
            "-rwxr-xr-x 1 root root     300616 Mar 24  2018  lefty\n",
            "lrwxrwxrwx 1 root root          9 Dec 18 16:43  less -> /bin/less\n",
            "lrwxrwxrwx 1 root root         13 Dec 18 16:43  lessecho -> /bin/lessecho\n",
            "lrwxrwxrwx 1 root root         13 Dec 18 16:43  lessfile -> /bin/lessfile\n",
            "lrwxrwxrwx 1 root root         12 Dec 18 16:43  lesskey -> /bin/lesskey\n",
            "lrwxrwxrwx 1 root root         13 Dec 18 16:43  lesspipe -> /bin/lesspipe\n",
            "-rwxr-xr-x 1 root root      92744 Aug  4  2018  lexgrog\n",
            "-rwxr-xr-x 1 root root      15775 Nov 19  2018  libnetcfg\n",
            "-rwxr-xr-x 1 root root       2471 Apr 30  2019  libpng16-config\n",
            "lrwxrwxrwx 1 root root         15 Apr 30  2019  libpng-config -> libpng16-config\n",
            "lrwxrwxrwx 1 root root          9 Dec 21  2017  linguist -> qtchooser\n",
            "-rwxr-xr-x 1 root root      30904 Jan 18  2018  link\n",
            "lrwxrwxrwx 1 root root          7 Aug 22 23:47  linux32 -> setarch\n",
            "lrwxrwxrwx 1 root root          7 Aug 22 23:47  linux64 -> setarch\n",
            "-rwxr-xr-x 1 root root       1547 Mar 24  2018  lneato\n",
            "-rwxr-xr-x 1 root root      50592 Apr 16  2018  locale\n",
            "-rwxr-xr-x 1 root root      10240 Sep 27 18:24  locale-check\n",
            "-rwxr-xr-x 1 root root      22600 Nov 15 15:01  localectl\n",
            "-rwxr-xr-x 1 root root     338744 Apr 16  2018  localedef\n",
            "-rwxr-xr-x 1 root root      47792 Aug 22 23:47  logger\n",
            "-rwxr-xr-x 1 root root      30904 Jan 18  2018  logname\n",
            "-rwxr-xr-x 1 root root      10472 Jan 17  2018  look\n",
            "-rwxr-xr-x 1 root root       2885 Jan 17  2018  lorder\n",
            "lrwxrwxrwx 1 root root          9 Dec 21  2017  lrelease -> qtchooser\n",
            "-rwxr-xr-x 1 root root      10240 Sep 26 18:01  lsattr\n",
            "-rwxr-xr-x 1 root root       3638 Aug  7  2017  lsb_release\n",
            "-rwxr-xr-x 1 root root      71760 Aug 22 23:47  lscpu\n",
            "-rwxr-xr-x 1 root root      71760 Aug 22 23:47  lsipc\n",
            "-rwxr-xr-x 1 root root      35232 Aug 22 23:47  lslocks\n",
            "-rwxr-xr-x 1 root root      63568 Aug 22 23:47  lslogins\n",
            "-rwxr-xr-x 1 root root      43088 Aug 22 23:47  lsmem\n",
            "-rwxr-xr-x 1 root root      38992 Aug 22 23:47  lsns\n",
            "-rwxr-xr-x 1 root root     163224 Oct 28  2015  lsof\n",
            "-rwxr-xr-x 1 root root       1081 Aug 28  2017  lspgpot\n",
            "lrwxrwxrwx 1 root root          9 Dec 21  2017  lupdate -> qtchooser\n",
            "lrwxrwxrwx 1 root root         23 Dec  5 22:40  lzcat -> /etc/alternatives/lzcat\n",
            "lrwxrwxrwx 1 root root         23 Dec  5 22:40  lzcmp -> /etc/alternatives/lzcmp\n",
            "lrwxrwxrwx 1 root root         24 Dec  5 22:40  lzdiff -> /etc/alternatives/lzdiff\n",
            "lrwxrwxrwx 1 root root         25 Dec  5 22:40  lzegrep -> /etc/alternatives/lzegrep\n",
            "lrwxrwxrwx 1 root root         25 Dec  5 22:40  lzfgrep -> /etc/alternatives/lzfgrep\n",
            "lrwxrwxrwx 1 root root         24 Dec  5 22:40  lzgrep -> /etc/alternatives/lzgrep\n",
            "lrwxrwxrwx 1 root root         24 Dec  5 22:40  lzless -> /etc/alternatives/lzless\n",
            "lrwxrwxrwx 1 root root         22 Dec  5 22:40  lzma -> /etc/alternatives/lzma\n",
            "-rwxr-xr-x 1 root root      10384 Jun 28  2017  lzmainfo\n",
            "lrwxrwxrwx 1 root root         24 Dec  5 22:40  lzmore -> /etc/alternatives/lzmore\n",
            "-rwxr-xr-x 1 root root     222792 Apr 17  2018  make\n",
            "-rwxr-xr-x 1 root root      47888 Mar 22  2018  makeconv\n",
            "-rwxr-xr-x 1 root root       4905 Apr 17  2018  make-first-existing-target\n",
            "-rwxr-xr-x 1 root root     107008 Aug  4  2018  man\n",
            "-rwxr-xr-x 1 root root     129760 Aug  4  2018  mandb\n",
            "-rwxr-xr-x 1 root root      31200 Aug  4  2018  manpath\n",
            "-rwxr-xr-x 1 root root     125416 Apr  3  2018  mawk\n",
            "-rwxr-xr-x 1 root root      30864 Aug 22 23:47  mcookie\n",
            "-rwxr-xr-x 1 root root      43224 Jan 18  2018  md5sum\n",
            "lrwxrwxrwx 1 root root          6 Jan 18  2018  md5sum.textutils -> md5sum\n",
            "-rwxr-xr-x 1 root root      10312 Aug 22 23:47  mesg\n",
            "-rwxr-xr-x 1 root root       2194 Nov 30  2017  migrate-pubring-from-classic-gpg\n",
            "-rwxr-xr-x 1 root root     429512 Mar 24  2018  mingle\n",
            "-rwxr-xr-x 1 root root      63672 Jan 18  2018  mkfifo\n",
            "-rwxr-xr-x 1 root root       7154 Feb  6  2018  mkgraticule.py\n",
            "-rwxr-xr-x 1 root root      96448 Mar 24  2018  mm2gv\n",
            "lrwxrwxrwx 1 root root          9 Dec 21  2017  moc -> qtchooser\n",
            "lrwxrwxrwx 1 root root         24 Dec 18 16:47  mpic++ -> /etc/alternatives/mpic++\n",
            "lrwxrwxrwx 1 root root         23 Dec 18 16:47  mpicc -> /etc/alternatives/mpicc\n",
            "lrwxrwxrwx 1 root root         23 Dec 18 16:47  mpiCC -> /etc/alternatives/mpiCC\n",
            "lrwxrwxrwx 1 root root         12 Feb  5  2018  mpicc.openmpi -> opal_wrapper\n",
            "lrwxrwxrwx 1 root root         12 Feb  5  2018  mpiCC.openmpi -> opal_wrapper\n",
            "lrwxrwxrwx 1 root root         12 Feb  5  2018  mpic++.openmpi -> opal_wrapper\n",
            "lrwxrwxrwx 1 root root         24 Dec 18 16:47  mpicxx -> /etc/alternatives/mpicxx\n",
            "lrwxrwxrwx 1 root root         12 Feb  5  2018  mpicxx.openmpi -> opal_wrapper\n",
            "lrwxrwxrwx 1 root root         25 Dec 18 16:47  mpiexec -> /etc/alternatives/mpiexec\n",
            "lrwxrwxrwx 1 root root          7 Feb  5  2018  mpiexec.openmpi -> orterun\n",
            "lrwxrwxrwx 1 root root         24 Dec 18 16:47  mpif77 -> /etc/alternatives/mpif77\n",
            "lrwxrwxrwx 1 root root         12 Feb  5  2018  mpif77.openmpi -> opal_wrapper\n",
            "lrwxrwxrwx 1 root root         24 Dec 18 16:47  mpif90 -> /etc/alternatives/mpif90\n",
            "lrwxrwxrwx 1 root root         12 Feb  5  2018  mpif90.openmpi -> opal_wrapper\n",
            "lrwxrwxrwx 1 root root         25 Dec 18 16:47  mpifort -> /etc/alternatives/mpifort\n",
            "lrwxrwxrwx 1 root root         12 Feb  5  2018  mpifort.openmpi -> opal_wrapper\n",
            "lrwxrwxrwx 1 root root         24 Dec 18 16:47  mpirun -> /etc/alternatives/mpirun\n",
            "lrwxrwxrwx 1 root root          7 Feb  5  2018  mpirun.openmpi -> orterun\n",
            "-rwxr-xr-x 1 root root       6494 Apr 16  2018  mtrace\n",
            "-rwxr-xr-x 1 root root      26704 Aug 22 23:47  namei\n",
            "lrwxrwxrwx 1 root root         30 Dec 18 16:47  native2ascii -> /etc/alternatives/native2ascii\n",
            "lrwxrwxrwx 1 root root         22 Oct 29 21:25  nawk -> /etc/alternatives/nawk\n",
            "-rwxr-xr-x 1 root root      29480 Jan 17  2018  ncal\n",
            "-rwxr-xr-x 1 root root       6052 May 23  2018  ncurses5-config\n",
            "-rwxr-xr-x 1 root root      10168 Feb  6  2018  nearblack\n",
            "lrwxrwxrwx 1 root root          3 Mar 24  2018  neato -> dot\n",
            "-rwxr-xr-x 1 root root        908 Feb 10  2018  neqn\n",
            "-rwsr-xr-x 1 root root      40344 Mar 22  2019  newgrp\n",
            "-rwxr-xr-x 1 root root      35000 Jan 18  2018  nice\n",
            "-rwxr-xr-x 1 root root      43288 Jan 18  2018  nl\n",
            "lrwxrwxrwx 1 root root         19 May  8  2019  nm -> x86_64-linux-gnu-nm\n",
            "-rwxr-xr-x 1 root root      35000 Jan 18  2018  nohup\n",
            "-rwxr-xr-x 1 root root      10280 Mar 24  2018  nop\n",
            "-rwxr-xr-x 1 root root      35000 Jan 18  2018  nproc\n",
            "-rwxr-xr-x 1 root root       3323 Feb 10  2018  nroff\n",
            "-rwxr-xr-x 1 root root      31008 Aug 22 23:47  nsenter\n",
            "-rwxr-xr-x 1 root root      63736 Jan 18  2018  numfmt\n",
            "-rwxr-xr-x 1 root root      31256 Dec  8 04:38  nvidia-bug-report.sh\n",
            "-rwxr-xr-x 1 root root      75880 Dec  8 03:56  nvidia-cuda-mps-control\n",
            "-rwxr-xr-x 1 root root      57080 Dec  8 03:56  nvidia-cuda-mps-server\n",
            "-rwxr-xr-x 1 root root     250224 Dec  8 03:32  nvidia-debugdump\n",
            "-rwsr-sr-x 1 root root      34760 Nov 13 21:31  nvidia-modprobe\n",
            "-rwxr-xr-x 1 root root      48096 Dec  8 03:26  nvidia-persistenced\n",
            "-rwxr-xr-x 1 root root     243936 Nov 13 21:30  nvidia-settings\n",
            "-rwxr-xr-x 1 root root     532992 Dec  8 03:34  nvidia-smi\n",
            "-rwxr-xr-x 1 root root     184888 Dec  8 03:28  nvidia-xconfig\n",
            "lrwxrwxrwx 1 root root         24 May  8  2019  objcopy -> x86_64-linux-gnu-objcopy\n",
            "lrwxrwxrwx 1 root root         24 May  8  2019  objdump -> x86_64-linux-gnu-objdump\n",
            "-rwxr-xr-x 1 root root      67800 Jan 18  2018  od\n",
            "-rwxr-xr-x 1 root root      22528 Mar 26  2018  odbcinst\n",
            "-rwxr-xr-x 1 root root      26720 Feb  6  2018  ogr2ogr\n",
            "-rwxr-xr-x 1 root root      22560 Feb  6  2018  ogrinfo\n",
            "-rwxr-xr-x 1 root root      43104 Feb  6  2018  ogrlineref\n",
            "-rwxr-xr-x 1 root root      20224 Feb  6  2018  ogrmerge.py\n",
            "-rwxr-xr-x 1 root root      22544 Feb  6  2018  ogrtindex\n",
            "lrwxrwxrwx 1 root root         10 Feb  5  2018  ompi-clean -> orte-clean\n",
            "-rwxr-xr-x 1 root root      26624 Feb  5  2018  ompi_info\n",
            "lrwxrwxrwx 1 root root          7 Feb  5  2018  ompi-ps -> orte-ps\n",
            "lrwxrwxrwx 1 root root         11 Feb  5  2018  ompi-server -> orte-server\n",
            "lrwxrwxrwx 1 root root          8 Feb  5  2018  ompi-top -> orte-top\n",
            "lrwxrwxrwx 1 root root         12 Feb  5  2018  opalc++ -> opal_wrapper\n",
            "lrwxrwxrwx 1 root root         12 Feb  5  2018  opalcc -> opal_wrapper\n",
            "-rwxr-xr-x 1 root root      22536 Feb  5  2018  opal_wrapper\n",
            "-rwxr-xr-x 1 root root      22616 Sep 20  2018  opencv_annotation\n",
            "-rwxr-xr-x 1 root root      34928 Sep 20  2018  opencv_createsamples\n",
            "-rwxr-xr-x 1 root root     141480 Sep 20  2018  opencv_interactive-calibration\n",
            "-rwxr-xr-x 1 root root     339800 Sep 20  2018  opencv_traincascade\n",
            "-rwxr-xr-x 1 root root      10328 Sep 20  2018  opencv_version\n",
            "-rwxr-xr-x 1 root root      39000 Sep 20  2018  opencv_visualisation\n",
            "-rwxr-xr-x 1 root root      14424 Sep 20  2018  opencv_waldboost_detector\n",
            "-rwxr-xr-x 1 root root     723944 Nov 12 16:58  openssl\n",
            "lrwxrwxrwx 1 root root         22 Dec 18 16:47  orbd -> /etc/alternatives/orbd\n",
            "-rwxr-xr-x 1 root root      14600 Feb  5  2018  orte-clean\n",
            "-rwxr-xr-x 1 root root       6136 Feb  5  2018  orted\n",
            "-rwxr-xr-x 1 root root      23048 Feb  5  2018  orte-dvm\n",
            "-rwxr-xr-x 1 root root      19016 Feb  5  2018  orte-ps\n",
            "-rwxr-xr-x 1 root root      77576 Feb  5  2018  orterun\n",
            "-rwxr-xr-x 1 root root      14664 Feb  5  2018  orte-server\n",
            "-rwxr-xr-x 1 root root      23112 Feb  5  2018  orte-top\n",
            "lrwxrwxrwx 1 root root          3 Mar 24  2018  osage -> dot\n",
            "lrwxrwxrwx 1 root root          5 Feb  5  2018  oshcc -> mpicc\n",
            "lrwxrwxrwx 1 root root          7 Feb  5  2018  oshfort -> mpifort\n",
            "-rwxr-xr-x 1 root root      22528 Feb  5  2018  oshmem_info\n",
            "lrwxrwxrwx 1 root root          6 Feb  5  2018  oshrun -> mpirun\n",
            "-rwxr-xr-x 1 root root       4754 Feb  5  2018  p7zip\n",
            "lrwxrwxrwx 1 root root         25 Dec 18 16:47  pack200 -> /etc/alternatives/pack200\n",
            "lrwxrwxrwx 1 root root         23 Oct 29 21:25  pager -> /etc/alternatives/pager\n",
            "-rwxr-xr-x 1 root root   51859776 Jan 26  2018  pandoc\n",
            "-rwxr-xr-x 1 root root      10232 Apr 28  2017  paperconf\n",
            "-rwxr-xr-x 1 root root      88144 Aug 22 23:47  partx\n",
            "-rwsr-xr-x 1 root root      59640 Mar 22  2019  passwd\n",
            "-rwxr-xr-x 1 root root      35032 Jan 18  2018  paste\n",
            "-rwxr-xr-x 1 root root     182648 Jul 23 12:12  patch\n",
            "lrwxrwxrwx 1 root root          3 Mar 24  2018  patchwork -> dot\n",
            "-rwxr-xr-x 1 root root      35000 Jan 18  2018  pathchk\n",
            "-rwxr-xr-x 1 root root       1976 Feb 24  2018  pcre2-config\n",
            "-rwxr-xr-x 1 root root       2341 Feb  3  2018  pcre-config\n",
            "-rwxr-xr-x 1 root root       5409 Feb  6  2018  pct2rgb.py\n",
            "lrwxrwxrwx 1 root root          6 Apr 16  2018  pdb -> pdb2.7\n",
            "lrwxrwxrwx 1 root root         23 Nov  7 10:07  pdb2.7 -> ../lib/python2.7/pdb.py\n",
            "lrwxrwxrwx 1 root root          6 Oct 25  2018  pdb3 -> pdb3.6\n",
            "lrwxrwxrwx 1 root root         23 Nov  7 10:44  pdb3.6 -> ../lib/python3.6/pdb.py\n",
            "-rwxr-xr-x 2 root root    2097720 Nov 19  2018  perl\n",
            "-rwxr-xr-x 2 root root    2097720 Nov 19  2018  perl5.26.1\n",
            "-rwxr-xr-x 1 root root      10216 Nov 19  2018  perl5.26-x86_64-linux-gnu\n",
            "-rwxr-xr-x 2 root root      45853 Nov 19  2018  perlbug\n",
            "-rwxr-xr-x 1 root root        125 Nov 19  2018  perldoc\n",
            "-rwxr-xr-x 1 root root      10864 Nov 19  2018  perlivp\n",
            "-rwxr-xr-x 2 root root      45853 Nov 19  2018  perlthanks\n",
            "-rwxr-xr-x 1 root root      26712 Aug  9 15:37  pgrep\n",
            "-rwxr-xr-x 1 root root     208928 Feb 10  2018  pic\n",
            "-rwxr-xr-x 1 root root       8357 Nov 19  2018  piconv\n",
            "lrwxrwxrwx 1 root root         26 Nov 27 19:59  pinentry -> /etc/alternatives/pinentry\n",
            "-rwxr-xr-x 1 root root      63992 Feb  6  2018  pinentry-curses\n",
            "-rwxr-xr-x 1 root root      39128 Jan 18  2018  pinky\n",
            "lrwxrwxrwx 1 root root          9 Dec 21  2017  pixeltool -> qtchooser\n",
            "-rwxr-xr-x 1 root root      14328 Mar 27  2019  pkaction\n",
            "-rwxr-xr-x 1 root root      18504 Mar 27  2019  pkcheck\n",
            "-rwsr-xr-x 1 root root      22520 Mar 27  2019  pkexec\n",
            "-rwxr-xr-x 2 root root      51296 Apr 21  2017  pkg-config\n",
            "-rwxr-xr-x 1 root root      44256 Mar 22  2018  pkgdata\n",
            "lrwxrwxrwx 1 root root          5 Aug  9 15:37  pkill -> pgrep\n",
            "-rwxr-xr-x 1 root root      14328 Mar 27  2019  pkttyagent\n",
            "-rwxr-xr-x 1 root root       4533 Nov 19  2018  pl2pm\n",
            "-rwxr-xr-x 1 root root      18656 Apr 16  2018  pldd\n",
            "-rwxr-xr-x 1 root root      30808 Aug  9 15:37  pmap\n",
            "-rwxr-xr-x 1 root root       4134 Nov 19  2018  pod2html\n",
            "-rwxr-xr-x 1 root root      15079 Nov 19  2018  pod2man\n",
            "-rwxr-xr-x 1 root root      10979 Nov 19  2018  pod2text\n",
            "-rwxr-xr-x 1 root root       3948 Nov 19  2018  pod2usage\n",
            "-rwxr-xr-x 1 root root       3658 Nov 19  2018  podchecker\n",
            "-rwxr-xr-x 1 root root       2527 Nov 19  2018  podselect\n",
            "-rwxr-xr-x 1 root root      71960 Jan 18  2018  pr\n",
            "-rwxr-xr-x 1 root root      47304 Feb 10  2018  preconv\n",
            "lrwxrwxrwx 1 root root         11 Feb 19  2018  prename -> file-rename\n",
            "lrwxrwxrwx 1 root root         11 Jul 15  2016  print -> run-mailcap\n",
            "-rwxr-xr-x 1 root root      30904 Jan 18  2018  printenv\n",
            "-rwxr-xr-x 1 root root      22528 Jan 17  2018  printerbanner\n",
            "-rwxr-xr-x 1 root root      51384 Jan 18  2018  printf\n",
            "-rwxr-xr-x 1 root root      35424 Aug 22 23:47  prlimit\n",
            "-rwxr-xr-x 1 root root      14496 Mar 30  2018  protoc\n",
            "-rwxr-xr-x 1 root root      13588 Nov 19  2018  prove\n",
            "-rwxr-xr-x 1 root root      14376 Mar 24  2018  prune\n",
            "-rwxr-xr-x 1 root root       3549 Nov 19  2018  ptar\n",
            "-rwxr-xr-x 1 root root       2628 Nov 19  2018  ptardiff\n",
            "-rwxr-xr-x 1 root root       4392 Nov 19  2018  ptargrep\n",
            "-rwxr-xr-x 1 root root      71928 Jan 18  2018  ptx\n",
            "-rwxr-xr-x 1 root root      10312 Aug  9 15:37  pwdx\n",
            "-rwxr-xr-x 1 root root       7812 Oct 25  2018  py3clean\n",
            "-rwxr-xr-x 1 root root      12119 Oct 25  2018  py3compile\n",
            "lrwxrwxrwx 1 root root         31 Oct 25  2018  py3versions -> ../share/python3/py3versions.py\n",
            "lrwxrwxrwx 1 root root         26 Mar 26  2018  pybuild -> ../share/dh-python/pybuild\n",
            "-rwxr-xr-x 1 root root       4124 Apr 16  2018  pyclean\n",
            "-rwxr-xr-x 1 root root      11895 Apr 16  2018  pycompile\n",
            "lrwxrwxrwx 1 root root          8 Apr 16  2018  pydoc -> pydoc2.7\n",
            "-rwxr-xr-x 1 root root         79 Nov  7 10:07  pydoc2.7\n",
            "lrwxrwxrwx 1 root root          8 Oct 25  2018  pydoc3 -> pydoc3.6\n",
            "-rwxr-xr-x 1 root root         79 Nov  7 10:44  pydoc3.6\n",
            "lrwxrwxrwx 1 root root         12 Apr 16  2018  pygettext -> pygettext2.7\n",
            "-rwxr-xr-x 1 root root      22082 Nov  7 10:07  pygettext2.7\n",
            "lrwxrwxrwx 1 root root         12 Oct 25  2018  pygettext3 -> pygettext3.6\n",
            "-rwxr-xr-x 1 root root      21547 Nov  7 10:44  pygettext3.6\n",
            "lrwxrwxrwx 1 root root          9 Apr 16  2018  python -> python2.7\n",
            "lrwxrwxrwx 1 root root          9 Apr 16  2018  python2 -> python2.7\n",
            "-rwxr-xr-x 1 root root    3637096 Nov  7 10:07  python2.7\n",
            "lrwxrwxrwx 1 root root         33 Nov  7 10:07  python2.7-config -> x86_64-linux-gnu-python2.7-config\n",
            "lrwxrwxrwx 1 root root         16 Apr 16  2018  python2-config -> python2.7-config\n",
            "lrwxrwxrwx 1 root root          9 Oct 25  2018  python3 -> python3.6\n",
            "-rwxr-xr-x 2 root root    4526456 Nov  7 10:44  python3.6\n",
            "lrwxrwxrwx 1 root root         33 Nov  7 10:44  python3.6-config -> x86_64-linux-gnu-python3.6-config\n",
            "-rwxr-xr-x 2 root root    4526456 Nov  7 10:44  python3.6m\n",
            "lrwxrwxrwx 1 root root         34 Nov  7 10:44  python3.6m-config -> x86_64-linux-gnu-python3.6m-config\n",
            "lrwxrwxrwx 1 root root         16 Oct 25  2018  python3-config -> python3.6-config\n",
            "lrwxrwxrwx 1 root root         10 Oct 25  2018  python3m -> python3.6m\n",
            "lrwxrwxrwx 1 root root         17 Oct 25  2018  python3m-config -> python3.6m-config\n",
            "lrwxrwxrwx 1 root root         16 Apr 16  2018  python-config -> python2.7-config\n",
            "lrwxrwxrwx 1 root root         29 Apr 16  2018  pyversions -> ../share/python/pyversions.py\n",
            "lrwxrwxrwx 1 root root          9 Dec 21  2017  qcollectiongenerator -> qtchooser\n",
            "lrwxrwxrwx 1 root root          9 Dec 21  2017  qdbus -> qtchooser\n",
            "lrwxrwxrwx 1 root root          9 Dec 21  2017  qdbuscpp2xml -> qtchooser\n",
            "lrwxrwxrwx 1 root root          9 Dec 21  2017  qdbusviewer -> qtchooser\n",
            "lrwxrwxrwx 1 root root          9 Dec 21  2017  qdbusxml2cpp -> qtchooser\n",
            "lrwxrwxrwx 1 root root          9 Dec 21  2017  qdoc -> qtchooser\n",
            "lrwxrwxrwx 1 root root          9 Dec 21  2017  qdoc3 -> qtchooser\n",
            "lrwxrwxrwx 1 root root          9 Dec 21  2017  qgltf -> qtchooser\n",
            "lrwxrwxrwx 1 root root          9 Dec 21  2017  qhelpconverter -> qtchooser\n",
            "lrwxrwxrwx 1 root root          9 Dec 21  2017  qhelpgenerator -> qtchooser\n",
            "lrwxrwxrwx 1 root root          9 Dec 21  2017  qlalr -> qtchooser\n",
            "lrwxrwxrwx 1 root root          9 Dec 21  2017  qmake -> qtchooser\n",
            "lrwxrwxrwx 1 root root          9 Dec 21  2017  qml -> qtchooser\n",
            "lrwxrwxrwx 1 root root          9 Dec 21  2017  qml1plugindump -> qtchooser\n",
            "lrwxrwxrwx 1 root root          9 Dec 21  2017  qmlbundle -> qtchooser\n",
            "lrwxrwxrwx 1 root root          9 Dec 21  2017  qmlcachegen -> qtchooser\n",
            "lrwxrwxrwx 1 root root          9 Dec 21  2017  qmleasing -> qtchooser\n",
            "lrwxrwxrwx 1 root root          9 Dec 21  2017  qmlimportscanner -> qtchooser\n",
            "lrwxrwxrwx 1 root root          9 Dec 21  2017  qmljs -> qtchooser\n",
            "lrwxrwxrwx 1 root root          9 Dec 21  2017  qmllint -> qtchooser\n",
            "lrwxrwxrwx 1 root root          9 Dec 21  2017  qmlmin -> qtchooser\n",
            "lrwxrwxrwx 1 root root          9 Dec 21  2017  qmlplugindump -> qtchooser\n",
            "lrwxrwxrwx 1 root root          9 Dec 21  2017  qmlprofiler -> qtchooser\n",
            "lrwxrwxrwx 1 root root          9 Dec 21  2017  qmlscene -> qtchooser\n",
            "lrwxrwxrwx 1 root root          9 Dec 21  2017  qmltestrunner -> qtchooser\n",
            "lrwxrwxrwx 1 root root          9 Dec 21  2017  qmlviewer -> qtchooser\n",
            "-rwxr-xr-x 1 root root      43096 Dec 21  2017  qtchooser\n",
            "lrwxrwxrwx 1 root root          9 Dec 21  2017  qtconfig -> qtchooser\n",
            "lrwxrwxrwx 1 root root          9 Dec 21  2017  qtdiag -> qtchooser\n",
            "-rwxr-xr-x 1 root root      10232 Apr 24  2019  qt-faststart\n",
            "lrwxrwxrwx 1 root root          9 Dec 21  2017  qtpaths -> qtchooser\n",
            "lrwxrwxrwx 1 root root          9 Dec 21  2017  qtplugininfo -> qtchooser\n",
            "-rwxr-xr-x 1 root root    1641840 Mar  6  2018  quickbook\n",
            "lrwxrwxrwx 1 root root          9 Dec 21  2017  qvkgen -> qtchooser\n",
            "-rwxr-xr-x 1 root root       8812 Dec 13 16:46  R\n",
            "lrwxrwxrwx 1 root root         23 May  8  2019  ranlib -> x86_64-linux-gnu-ranlib\n",
            "lrwxrwxrwx 1 root root          9 Dec 21  2017  rcc -> qtchooser\n",
            "lrwxrwxrwx 1 root root         21 Dec 18 16:43  rcp -> /etc/alternatives/rcp\n",
            "lrwxrwxrwx 1 root root         24 May  8  2019  readelf -> x86_64-linux-gnu-readelf\n",
            "-rwxr-xr-x 1 root root      47320 Jan 18  2018  realpath\n",
            "lrwxrwxrwx 1 root root         24 Dec 18 16:43  rename -> /etc/alternatives/rename\n",
            "-rwxr-xr-x 1 root root      14408 Aug 22 23:47  rename.ul\n",
            "-rwxr-xr-x 1 root root      14408 Aug 22 23:47  renice\n",
            "lrwxrwxrwx 1 root root          9 Dec 21  2017  repc -> qtchooser\n",
            "lrwxrwxrwx 1 root root          4 May 23  2018  reset -> tset\n",
            "-rwxr-xr-x 1 root root      38992 Aug 22 23:47  resizepart\n",
            "-rwxr-xr-x 1 root root      10312 Aug 22 23:47  rev\n",
            "-rwxr-xr-x 1 root root       5212 Feb  6  2018  rgb2pct.py\n",
            "-rwxr-xr-x 1 root root         30 Jul 11  2017  rgrep\n",
            "lrwxrwxrwx 1 root root         24 Dec 18 16:43  rlogin -> /etc/alternatives/rlogin\n",
            "lrwxrwxrwx 1 root root         22 Dec 18 16:47  rmic -> /etc/alternatives/rmic\n",
            "lrwxrwxrwx 1 root root         22 Dec 18 16:47  rmid -> /etc/alternatives/rmid\n",
            "lrwxrwxrwx 1 root root         29 Dec 18 16:47  rmiregistry -> /etc/alternatives/rmiregistry\n",
            "-rwxr-xr-x 1 root root     100896 Apr 16  2018  rpcgen\n",
            "-rwxr-xr-x 1 root root      14344 Dec 13 16:46  Rscript\n",
            "lrwxrwxrwx 1 root root         21 Dec 18 16:43  rsh -> /etc/alternatives/rsh\n",
            "-rwxr-xr-x 1 root root     500024 Jan 18  2018  rsync\n",
            "-rwxr-xr-x 1 root root      35000 Jan 18  2018  runcon\n",
            "-rwxr-xr-x 1 root root      18161 Jul 15  2016  run-mailcap\n",
            "-rwxr-xr-x 1 root root      10469 Dec 30  2017  savelog\n",
            "-rwxr-xr-x 1 root root      14376 Mar 24  2018  sccmap\n",
            "lrwxrwxrwx 1 root root         27 Dec 18 16:47  schemagen -> /etc/alternatives/schemagen\n",
            "-rwxr-xr-x 1 root root     100496 Mar  4  2019  scp\n",
            "-rwxr-xr-x 1 root root      30792 Aug 22 23:47  script\n",
            "-rwxr-xr-x 1 root root      26704 Aug 22 23:47  scriptreplay\n",
            "-rwxr-xr-x 1 root root      51296 Aug  4  2017  sdiff\n",
            "lrwxrwxrwx 1 root root         11 Jul 15  2016  see -> run-mailcap\n",
            "-rwxr-xr-x 1 root root       2442 Mar 12  2018  select-editor\n",
            "-rwxr-xr-x 1 root root       1209 Mar 12  2018  sensible-browser\n",
            "-rwxr-xr-x 1 root root       1109 Mar 12  2018  sensible-editor\n",
            "-rwxr-xr-x 1 root root        433 Mar 12  2018  sensible-pager\n",
            "-rwxr-xr-x 1 root root      47288 Jan 18  2018  seq\n",
            "lrwxrwxrwx 1 root root         27 Dec 18 16:47  serialver -> /etc/alternatives/serialver\n",
            "lrwxrwxrwx 1 root root         28 Dec 18 16:47  servertool -> /etc/alternatives/servertool\n",
            "-rwxr-xr-x 1 root root      18784 Aug 22 23:47  setarch\n",
            "-rwxr-xr-x 1 root root      10312 Aug 22 23:47  setsid\n",
            "-rwxr-xr-x 1 root root      43088 Aug 22 23:47  setterm\n",
            "-rwxr-xr-x 1 root root      22928 May 16  2018  setxkbmap\n",
            "lrwxrwxrwx 1 root root          3 Mar 24  2018  sfdp -> dot\n",
            "-rwxr-xr-x 1 root root     153960 Mar  4  2019  sftp\n",
            "lrwxrwxrwx 1 root root          6 Mar 22  2019  sg -> newgrp\n",
            "-rwxr-xr-x 1 root root      47320 Jan 18  2018  sha1sum\n",
            "-rwxr-xr-x 1 root root      55512 Jan 18  2018  sha224sum\n",
            "-rwxr-xr-x 1 root root      55512 Jan 18  2018  sha256sum\n",
            "-rwxr-xr-x 1 root root      59608 Jan 18  2018  sha384sum\n",
            "-rwxr-xr-x 1 root root      59608 Jan 18  2018  sha512sum\n",
            "-rwxr-xr-x 1 root root       9371 Nov 19  2018  shasum\n",
            "-rwxr-xr-x 1 root root      59608 Jan 18  2018  shred\n",
            "-rwxr-xr-x 1 root root      55480 Jan 18  2018  shuf\n",
            "lrwxrwxrwx 1 root root         21 May  8  2019  size -> x86_64-linux-gnu-size\n",
            "-rwxr-xr-x 1 root root      26704 Aug  9 15:37  skill\n",
            "-rwxr-xr-x 1 root root      18512 Aug  9 15:37  slabtop\n",
            "lrwxrwxrwx 1 root root          3 Mar  4  2019  slogin -> ssh\n",
            "lrwxrwxrwx 1 root root          5 Aug  9 15:37  snice -> skill\n",
            "-rwxr-xr-x 1 root root      30920 Feb 10  2018  soelim\n",
            "-rwxr-xr-x 1 root root     113120 Jan 18  2018  sort\n",
            "-rwxr-xr-x 1 root root       4306 Apr 16  2018  sotruss\n",
            "-rwxr-xr-x 1 root root      19150 Nov 19  2018  splain\n",
            "-rwxr-xr-x 1 root root      55936 Jan 18  2018  split\n",
            "-rwxr-xr-x 1 root root      26840 Apr 16  2018  sprof\n",
            "-rwxr-xr-x 1 root root     727848 Mar  4  2019  ssh\n",
            "-rwxr-xr-x 1 root root     346248 Mar  4  2019  ssh-add\n",
            "-rwxr-sr-x 1 root ssh      362640 Mar  4  2019  ssh-agent\n",
            "-rwxr-xr-x 1 root root       1456 Jan 16  2018  ssh-argv0\n",
            "-rwxr-xr-x 1 root root      10658 Oct  2  2017  ssh-copy-id\n",
            "-rwxr-xr-x 1 root root     420000 Mar  4  2019  ssh-keygen\n",
            "-rwxr-xr-x 1 root root     420000 Mar  4  2019  ssh-keyscan\n",
            "-rwxr-xr-x 1 root root      80088 Jan 18  2018  stat\n",
            "-rwxr-xr-x 1 root root      47288 Jan 18  2018  stdbuf\n",
            "lrwxrwxrwx 1 root root         24 May  8  2019  strings -> x86_64-linux-gnu-strings\n",
            "lrwxrwxrwx 1 root root         22 May  8  2019  strip -> x86_64-linux-gnu-strip\n",
            "-rwsr-xr-x 1 root root     149080 Oct 10 18:32  sudo\n",
            "lrwxrwxrwx 1 root root          4 Oct 10 18:32  sudoedit -> sudo\n",
            "-rwxr-xr-x 1 root root      56128 Oct 10 18:32  sudoreplay\n",
            "-rwxr-xr-x 1 root root      39104 Jan 18  2018  sum\n",
            "-rwxr-xr-x 1 root root     113384 Jan 10  2019  symcryptrun\n",
            "-rwxr-xr-x 1 root root    1538312 Nov 15 15:01  systemd-analyze\n",
            "-rwxr-xr-x 1 root root      10312 Nov 15 15:01  systemd-cat\n",
            "-rwxr-xr-x 1 root root      14408 Nov 15 15:01  systemd-cgls\n",
            "-rwxr-xr-x 1 root root      30816 Nov 15 15:01  systemd-cgtop\n",
            "-rwxr-xr-x 1 root root      22600 Nov 15 15:01  systemd-delta\n",
            "-rwxr-xr-x 1 root root      10304 Nov 15 15:01  systemd-detect-virt\n",
            "-rwxr-xr-x 1 root root      43104 Nov 15 15:01  systemd-mount\n",
            "-rwxr-xr-x 1 root root      10304 Nov 15 15:01  systemd-path\n",
            "-rwxr-xr-x 1 root root      88136 Nov 15 15:01  systemd-resolve\n",
            "-rwxr-xr-x 1 root root      43080 Nov 15 15:01  systemd-run\n",
            "-rwxr-xr-x 1 root root      18504 Nov 15 15:01  systemd-socket-activate\n",
            "-rwxr-xr-x 1 root root      14408 Nov 15 15:01  systemd-stdio-bridge\n",
            "lrwxrwxrwx 1 root root         13 Nov 15 15:01  systemd-umount -> systemd-mount\n",
            "-rwxr-xr-x 1 root root      14328 May 23  2018  tabs\n",
            "-rwxr-xr-x 1 root root      39096 Jan 18  2018  tac\n",
            "-rwxr-xr-x 1 root root      67832 Jan 18  2018  tail\n",
            "-rwxr-xr-x 1 root root      30800 Aug 22 23:47  taskset\n",
            "-rwxr-xr-x 1 root root     129224 Feb 10  2018  tbl\n",
            "lrwxrwxrwx 1 root root          8 Nov 20  2015  tclsh -> tclsh8.6\n",
            "-rwxr-xr-x 1 root root       6136 Feb 22  2018  tclsh8.6\n",
            "-rwxr-xr-x 1 root root       7645 Nov 20  2015  tcltk-depends\n",
            "-rwxr-xr-x 1 root root      35032 Jan 18  2018  tee\n",
            "-rwxr-xr-x 1 root root      47288 Jan 18  2018  test\n",
            "-rwxr-xr-x 1 root root      10256 Feb  6  2018  testepsg\n",
            "-rwxr-xr-x 1 root root      84080 May 23  2018  tic\n",
            "-rwxr-xr-x 1 root root      22600 Nov 15 15:01  timedatectl\n",
            "-rwxr-xr-x 1 root root      39552 Jan 18  2018  timeout\n",
            "-rwxr-xr-x 1 root root      14424 Aug  9 15:37  tload\n",
            "lrwxrwxrwx 1 root root         27 Dec 18 16:47  tnameserv -> /etc/alternatives/tnameserv\n",
            "-rwxr-xr-x 1 root root      14328 May 23  2018  toe\n",
            "-rwxr-xr-x 1 root root     108304 Aug  9 15:37  top\n",
            "lrwxrwxrwx 1 root root         10 Oct 29 21:25  touch -> /bin/touch\n",
            "-rwxr-xr-x 1 root root      18456 May 23  2018  tput\n",
            "-rwxr-xr-x 1 root root      47288 Jan 18  2018  tr\n",
            "-rwxr-xr-x 1 root root      14376 Mar 24  2018  tred\n",
            "-rwxr-xr-x 1 root root     736608 Feb 10  2018  troff\n",
            "-rwxr-xr-x 1 root root      39096 Jan 18  2018  truncate\n",
            "-rwxr-xr-x 1 root root      22528 May 23  2018  tset\n",
            "-rwxr-xr-x 1 root root      35000 Jan 18  2018  tsort\n",
            "-rwxr-xr-x 1 root root      30904 Jan 18  2018  tty\n",
            "lrwxrwxrwx 1 root root          3 Mar 24  2018  twopi -> dot\n",
            "-rwxr-xr-x 1 root root      15395 Apr 16  2018  tzselect\n",
            "-rwxr-xr-x 1 root root      40685 Feb 26  2018  ucf\n",
            "-rwxr-xr-x 1 root root      19367 Feb 26  2018  ucfq\n",
            "-rwxr-xr-x 1 root root      10722 Feb 26  2018  ucfr\n",
            "-rwxr-xr-x 1 root root      51816 Mar 22  2018  uconv\n",
            "lrwxrwxrwx 1 root root          9 Dec 21  2017  uic -> qtchooser\n",
            "lrwxrwxrwx 1 root root          9 Dec 21  2017  uic3 -> qtchooser\n",
            "-rwxr-xr-x 1 root root      14344 Jan 17  2018  ul\n",
            "-rwxr-xr-x 1 root root      39128 Jan 18  2018  unexpand\n",
            "-rwxr-xr-x 1 root root      14376 Mar 24  2018  unflatten\n",
            "-rwxr-xr-x 1 root root      43224 Jan 18  2018  uniq\n",
            "-rwxr-xr-x 1 root root      30904 Jan 18  2018  unlink\n",
            "lrwxrwxrwx 1 root root         24 Dec  5 22:40  unlzma -> /etc/alternatives/unlzma\n",
            "lrwxrwxrwx 1 root root         27 Dec 18 16:47  unpack200 -> /etc/alternatives/unpack200\n",
            "lrwxrwxrwx 1 root root         23 Dec 18 16:47  unrar -> /etc/alternatives/unrar\n",
            "-rwxr-xr-x 1 root root     302176 Aug 21  2017  unrar-nonfree\n",
            "-rwxr-xr-x 1 root root      18712 Aug 22 23:47  unshare\n",
            "lrwxrwxrwx 1 root root          2 Jun 28  2017  unxz -> xz\n",
            "-rwxr-xr-x 2 root root     174216 Apr 28  2017  unzip\n",
            "-rwxr-xr-x 1 root root      79992 Apr 28  2017  unzipsfx\n",
            "-rwxr-xr-x 1 root root      47112 Sep  5 21:05  update-alternatives\n",
            "-rwxr-xr-x 1 root root      51392 Oct 10  2017  update-mime-database\n",
            "-rwxr-xr-x 1 root root      10312 Aug  9 15:37  uptime\n",
            "-rwxr-xr-x 1 root root      35000 Jan 18  2018  users\n",
            "-rwxr-xr-x 1 root root      22600 Aug 22 23:47  utmpdump\n",
            "-rwxr-xr-x 1 root root       1082 Mar 24  2018  vimdot\n",
            "-rwxr-xr-x 1 root root      34912 Aug  9 15:37  vmstat\n",
            "lrwxrwxrwx 1 root root         19 Oct 29 21:25  w -> /etc/alternatives/w\n",
            "-rwxr-sr-x 1 root tty       30800 Aug 22 23:47  wall\n",
            "-rwxr-xr-x 1 root root      22952 Aug  9 15:37  watch\n",
            "-rwxr-xr-x 1 root root      14328 Jan 10  2019  watchgnupg\n",
            "-rwxr-xr-x 1 root root      43088 Nov 27  2018  wayland-scanner\n",
            "-rwxr-xr-x 1 root root      43200 Jan 18  2018  wc\n",
            "-rwxr-xr-x 1 root root     499264 Apr  8  2019  wget\n",
            "-rwxr-xr-x 1 root root      48104 Aug  4  2018  whatis\n",
            "-rwxr-xr-x 1 root root      27144 Aug 22 23:47  whereis\n",
            "lrwxrwxrwx 1 root root         10 Oct 29 21:25  which -> /bin/which\n",
            "-rwxr-xr-x 1 root root      51416 Jan 18  2018  who\n",
            "-rwxr-xr-x 1 root root      30904 Jan 18  2018  whoami\n",
            "lrwxrwxrwx 1 root root          7 Nov 20  2015  wish -> wish8.6\n",
            "-rwxr-xr-x 1 root root      10232 Mar 24  2018  wish8.6\n",
            "-rwxr-xr-x 1 root root      18504 Aug  9 15:37  w.procps\n",
            "lrwxrwxrwx 1 root root         23 Dec 18 16:43  write -> /etc/alternatives/write\n",
            "lrwxrwxrwx 1 root root         23 Dec 18 16:47  wsgen -> /etc/alternatives/wsgen\n",
            "lrwxrwxrwx 1 root root         26 Dec 18 16:47  wsimport -> /etc/alternatives/wsimport\n",
            "lrwxrwxrwx 1 root root          4 May  2  2019  X -> Xorg\n",
            "lrwxrwxrwx 1 root root          1 Jun 21  2018  X11 -> .\n",
            "lrwxrwxrwx 1 root root          7 Aug 22 23:47  x86_64 -> setarch\n",
            "-rwxr-xr-x 1 root root      31152 May  8  2019  x86_64-linux-gnu-addr2line\n",
            "-rwxr-xr-x 1 root root      59640 May  8  2019  x86_64-linux-gnu-ar\n",
            "-rwxr-xr-x 1 root root     917488 May  8  2019  x86_64-linux-gnu-as\n",
            "-rwxr-xr-x 1 root root      26744 May  8  2019  x86_64-linux-gnu-c++filt\n",
            "lrwxrwxrwx 1 root root          5 May 20  2019  x86_64-linux-gnu-cpp -> cpp-7\n",
            "-rwxr-xr-x 1 root root    1010624 May  8  2019  x86_64-linux-gnu-cpp-7\n",
            "-rwxr-xr-x 1 root root    2911496 May  8  2019  x86_64-linux-gnu-dwp\n",
            "-rwxr-xr-x 1 root root      31184 May  8  2019  x86_64-linux-gnu-elfedit\n",
            "lrwxrwxrwx 1 root root          5 May 20  2019  x86_64-linux-gnu-g++ -> g++-7\n",
            "-rwxr-xr-x 1 root root    1010624 May  8  2019  x86_64-linux-gnu-g++-7\n",
            "lrwxrwxrwx 1 root root          5 May 20  2019  x86_64-linux-gnu-gcc -> gcc-7\n",
            "-rwxr-xr-x 1 root root    1010624 May  8  2019  x86_64-linux-gnu-gcc-7\n",
            "lrwxrwxrwx 1 root root          8 May 20  2019  x86_64-linux-gnu-gcc-ar -> gcc-ar-7\n",
            "-rwxr-xr-x 1 root root      27104 May  8  2019  x86_64-linux-gnu-gcc-ar-7\n",
            "lrwxrwxrwx 1 root root          8 May 20  2019  x86_64-linux-gnu-gcc-nm -> gcc-nm-7\n",
            "-rwxr-xr-x 1 root root      27104 May  8  2019  x86_64-linux-gnu-gcc-nm-7\n",
            "lrwxrwxrwx 1 root root         12 May 20  2019  x86_64-linux-gnu-gcc-ranlib -> gcc-ranlib-7\n",
            "-rwxr-xr-x 1 root root      27104 May  8  2019  x86_64-linux-gnu-gcc-ranlib-7\n",
            "lrwxrwxrwx 1 root root          6 May 20  2019  x86_64-linux-gnu-gcov -> gcov-7\n",
            "-rwxr-xr-x 1 root root     622688 May  8  2019  x86_64-linux-gnu-gcov-7\n",
            "lrwxrwxrwx 1 root root         11 May 20  2019  x86_64-linux-gnu-gcov-dump -> gcov-dump-7\n",
            "-rwxr-xr-x 1 root root     491448 May  8  2019  x86_64-linux-gnu-gcov-dump-7\n",
            "lrwxrwxrwx 1 root root         11 May 20  2019  x86_64-linux-gnu-gcov-tool -> gcov-tool-7\n",
            "-rwxr-xr-x 1 root root     516088 May  8  2019  x86_64-linux-gnu-gcov-tool-7\n",
            "lrwxrwxrwx 1 root root         10 May 20  2019  x86_64-linux-gnu-gfortran -> gfortran-7\n",
            "-rwxr-xr-x 1 root root    1010624 May  8  2019  x86_64-linux-gnu-gfortran-7\n",
            "lrwxrwxrwx 1 root root         24 May  8  2019  x86_64-linux-gnu-gold -> x86_64-linux-gnu-ld.gold\n",
            "-rwxr-xr-x 1 root root     102120 May  8  2019  x86_64-linux-gnu-gprof\n",
            "lrwxrwxrwx 1 root root         23 May  8  2019  x86_64-linux-gnu-ld -> x86_64-linux-gnu-ld.bfd\n",
            "-rwxr-xr-x 1 root root    1779400 May  8  2019  x86_64-linux-gnu-ld.bfd\n",
            "-rwxr-xr-x 1 root root    3136552 May  8  2019  x86_64-linux-gnu-ld.gold\n",
            "-rwxr-xr-x 1 root root      44184 May  8  2019  x86_64-linux-gnu-nm\n",
            "-rwxr-xr-x 1 root root     235720 May  8  2019  x86_64-linux-gnu-objcopy\n",
            "-rwxr-xr-x 1 root root     414128 May  8  2019  x86_64-linux-gnu-objdump\n",
            "lrwxrwxrwx 1 root root         34 Dec 18 16:43  x86_64-linux-gnu-pkg-config -> /usr/share/pkg-config-crosswrapper\n",
            "-rwxr-xr-x 1 root root       2971 Nov  7 10:07  x86_64-linux-gnu-python2.7-config\n",
            "lrwxrwxrwx 1 root root         34 Nov  7 10:44  x86_64-linux-gnu-python3.6-config -> x86_64-linux-gnu-python3.6m-config\n",
            "-rwxr-xr-x 1 root root       3283 Nov  7 10:44  x86_64-linux-gnu-python3.6m-config\n",
            "lrwxrwxrwx 1 root root         33 Oct 25  2018  x86_64-linux-gnu-python3-config -> x86_64-linux-gnu-python3.6-config\n",
            "lrwxrwxrwx 1 root root         34 Oct 25  2018  x86_64-linux-gnu-python3m-config -> x86_64-linux-gnu-python3.6m-config\n",
            "lrwxrwxrwx 1 root root         33 Apr 16  2018  x86_64-linux-gnu-python-config -> x86_64-linux-gnu-python2.7-config\n",
            "-rwxr-xr-x 1 root root        555 Oct 30 21:00  x86_64-linux-gnu-qmake\n",
            "-rwxr-xr-x 1 root root      59672 May  8  2019  x86_64-linux-gnu-ranlib\n",
            "-rwxr-xr-x 1 root root     596440 May  8  2019  x86_64-linux-gnu-readelf\n",
            "-rwxr-xr-x 1 root root      31024 May  8  2019  x86_64-linux-gnu-size\n",
            "-rwxr-xr-x 1 root root      31232 May  8  2019  x86_64-linux-gnu-strings\n",
            "-rwxr-xr-x 1 root root     235728 May  8  2019  x86_64-linux-gnu-strip\n",
            "-rwxr-xr-x 2 root root      51296 Apr 21  2017  x86_64-pc-linux-gnu-pkg-config\n",
            "-rwxr-xr-x 1 root root      71896 Nov  5  2017  xargs\n",
            "-rwxr-xr-x 1 root root      52032 Nov 21  2017  xauth\n",
            "-rwxr-xr-x 1 root root      20571 Oct  2  2018  xdg-desktop-icon\n",
            "-rwxr-xr-x 1 root root      43209 Oct  2  2018  xdg-desktop-menu\n",
            "-rwxr-xr-x 1 root root      27921 Oct  2  2018  xdg-email\n",
            "-rwxr-xr-x 1 root root      29961 Oct  2  2018  xdg-icon-resource\n",
            "-rwxr-xr-x 1 root root      41987 Oct  2  2018  xdg-mime\n",
            "-rwxr-xr-x 1 root root      25242 Oct  2  2018  xdg-open\n",
            "-rwxr-xr-x 1 root root      37673 Oct  2  2018  xdg-screensaver\n",
            "-rwxr-xr-x 1 root root      37737 Oct  2  2018  xdg-settings\n",
            "lrwxrwxrwx 1 root root         21 Dec 18 16:47  xjc -> /etc/alternatives/xjc\n",
            "-rwxr-xr-x 1 root root      14344 May 16  2018  xkbbell\n",
            "-rwxr-xr-x 1 root root     212704 May 16  2018  xkbcomp\n",
            "-rwxr-xr-x 1 root root      34896 May 16  2018  xkbevd\n",
            "-rwxr-xr-x 1 root root      88096 May 16  2018  xkbprint\n",
            "-rwxr-xr-x 1 root root      23320 May 16  2018  xkbvleds\n",
            "-rwxr-xr-x 1 root root      19320 May 16  2018  xkbwatch\n",
            "-rwxr-xr-x 1 root root       1638 Aug 10  2018  xml2-config\n",
            "lrwxrwxrwx 1 root root          9 Dec 21  2017  xmlpatterns -> qtchooser\n",
            "lrwxrwxrwx 1 root root          9 Dec 21  2017  xmlpatternsvalidator -> qtchooser\n",
            "-rwxr-xr-x 1 root root        274 May  2  2019  Xorg\n",
            "-rwxr-xr-x 1 root root      30712 Oct 15  2017  xsel\n",
            "-rwxr-xr-x 1 root root       5164 Nov 19  2018  xsubpp\n",
            "-rwxr-xr-x 1 root root      76216 Jun 28  2017  xz\n",
            "lrwxrwxrwx 1 root root          2 Jun 28  2017  xzcat -> xz\n",
            "lrwxrwxrwx 1 root root          6 Jun 28  2017  xzcmp -> xzdiff\n",
            "-rwxr-xr-x 1 root root       6632 Jun 28  2017  xzdiff\n",
            "lrwxrwxrwx 1 root root          6 Jun 28  2017  xzegrep -> xzgrep\n",
            "lrwxrwxrwx 1 root root          6 Jun 28  2017  xzfgrep -> xzgrep\n",
            "-rwxr-xr-x 1 root root       5628 Jun 28  2017  xzgrep\n",
            "-rwxr-xr-x 1 root root       1802 Jun 28  2017  xzless\n",
            "-rwxr-xr-x 1 root root       2161 Jun 28  2017  xzmore\n",
            "lrwxrwxrwx 1 root root         30 Apr  5  2018  yaml-bench-6.0 -> ../lib/llvm-6.0/bin/yaml-bench\n",
            "-rwxr-xr-x 1 root root      30904 Jan 18  2018  yes\n",
            "-rwxr-xr-x 1 root root      18488 Apr 16  2018  zdump\n",
            "-rwxr-xr-x 1 root root     216256 Apr 21  2017  zip\n",
            "-rwxr-xr-x 1 root root      93816 Apr 21  2017  zipcloak\n",
            "-rwxr-xr-x 1 root root      48497 Nov 19  2018  zipdetails\n",
            "-rwxr-xr-x 1 root root       2953 Apr 28  2017  zipgrep\n",
            "-rwxr-xr-x 2 root root     174216 Apr 28  2017  zipinfo\n",
            "-rwxr-xr-x 1 root root      89488 Apr 21  2017  zipnote\n",
            "-rwxr-xr-x 1 root root      93584 Apr 21  2017  zipsplit\n"
          ],
          "name": "stdout"
        }
      ]
    },
    {
      "cell_type": "code",
      "metadata": {
        "id": "QN2REY2Oosaf",
        "colab_type": "code",
        "outputId": "fd172934-d322-4a9d-874c-9b1056bd7876",
        "colab": {
          "base_uri": "https://localhost:8080/",
          "height": 35
        }
      },
      "source": [
        "!whereis spark-shell"
      ],
      "execution_count": 0,
      "outputs": [
        {
          "output_type": "stream",
          "text": [
            "spark-shell: /usr/local/bin/spark-shell.cmd /usr/local/bin/spark-shell /usr/local/bin/spark-shell2.cmd\n"
          ],
          "name": "stdout"
        }
      ]
    },
    {
      "cell_type": "markdown",
      "metadata": {
        "id": "GL1SK-BdpC2a",
        "colab_type": "text"
      },
      "source": [
        "# Now we are in business"
      ]
    },
    {
      "cell_type": "code",
      "metadata": {
        "id": "2DIqWffzo6jP",
        "colab_type": "code",
        "outputId": "736a6ae8-7ec9-4926-b65e-b9f5f76a19e5",
        "colab": {
          "base_uri": "https://localhost:8080/",
          "height": 1000
        }
      },
      "source": [
        "!ls -l /usr/local/bin"
      ],
      "execution_count": 0,
      "outputs": [
        {
          "output_type": "stream",
          "text": [
            "total 1416\n",
            "-rwxr-xr-x 1 root root   308 Jan 13 17:00 arbitrary_image_stylization_evaluate\n",
            "-rwxr-xr-x 1 root root   305 Jan 13 17:00 arbitrary_image_stylization_train\n",
            "-rwxr-xr-x 1 root root   312 Jan 13 17:00 arbitrary_image_stylization_with_weights\n",
            "-rwxr-xr-x 1 root root 11986 Jan 13 16:59 asadmin\n",
            "-rwxr-xr-x 1 root root  1089 Jan 21 19:04 beeline\n",
            "-rwxr-xr-x 1 root root  1064 Jan 21 19:04 beeline.cmd\n",
            "-rwxr-xr-x 1 root root   213 Jan 13 16:59 bokeh\n",
            "-rwxr-xr-x 1 root root  1552 Jan 13 16:59 bundle_image\n",
            "-rwxr-xr-x 1 root root  3442 Jan 13 16:59 cfadmin\n",
            "-rwxr-xr-x 1 root root   221 Jan 13 16:59 chardetect\n",
            "-rwxr-xr-x 1 root root   206 Jan 13 16:59 cmake\n",
            "-rwxr-xr-x 1 root root   875 Jan 13 17:00 community\n",
            "-rwxr-xr-x 1 root root   252 Jan 13 16:59 convert-caffe2-to-onnx\n",
            "-rwxr-xr-x 1 root root   274 Jan 13 17:00 convert_dir_to_note_sequences\n",
            "-rwxr-xr-x 1 root root   252 Jan 13 16:59 convert-onnx-to-caffe2\n",
            "-rwxr-xr-x 1 root root   207 Jan 13 16:39 coverage\n",
            "-rwxr-xr-x 1 root root   207 Jan 13 16:39 coverage3\n",
            "-rwxr-xr-x 1 root root   207 Jan 13 16:39 coverage-3.6\n",
            "-rwxr-xr-x 1 root root   212 Jan 13 16:39 coveralls\n",
            "-rwxr-xr-x 1 root root   206 Jan 13 16:59 cpack\n",
            "-rwxr-xr-x 1 root root  3051 Jan 13 16:59 cq\n",
            "-rwxr-xr-x 1 root root   206 Jan 13 16:59 ctest\n",
            "-rwxr-xr-x 1 root root  5043 Jan 13 16:59 cwutil\n",
            "-rwxr-xr-x 1 root root   220 Jan 13 16:59 cygdb\n",
            "-rwxr-xr-x 1 root root   241 Jan 13 16:59 cython\n",
            "-rwxr-xr-x 1 root root   221 Jan 13 16:59 cythonize\n",
            "-rwxr-xr-x 1 root root   219 Jan 13 16:59 dask-mpi\n",
            "-rwxr-xr-x 1 root root   222 Jan 13 16:59 dask-remote\n",
            "-rwxr-xr-x 1 root root   225 Jan 13 16:59 dask-scheduler\n",
            "-rwxr-xr-x 1 root root   219 Jan 13 16:59 dask-ssh\n",
            "-rwxr-xr-x 1 root root   222 Jan 13 16:59 dask-submit\n",
            "-rwxr-xr-x 1 root root   222 Jan 13 16:59 dask-worker\n",
            "-rwxr-xr-x 1 root root   263 Jan 13 16:59 django-admin\n",
            "-rwxr-xr-x 1 root root   125 Jan 13 16:59 django-admin.py\n",
            "-rw-r--r-- 1 root root   308 Jan 13 16:59 django-admin.pyc\n",
            "-rwxr-xr-x 1 root root  5440 Jan 21 19:04 docker-image-tool.sh\n",
            "-rwxr-xr-x 1 root root   278 Jan 13 17:00 drums_rnn_create_dataset\n",
            "-rwxr-xr-x 1 root root   272 Jan 13 17:00 drums_rnn_generate\n",
            "-rwxr-xr-x 1 root root   269 Jan 13 17:00 drums_rnn_train\n",
            "-rwxr-xr-x 1 root root  2131 Jan 13 16:59 dynamodb_dump\n",
            "-rwxr-xr-x 1 root root  3501 Jan 13 16:59 dynamodb_load\n",
            "-rwxr-xr-x 1 root root   211 Jan 13 16:50 earthengine\n",
            "-rwxr-xr-x 1 root root   230 Dec 18 16:49 easy_install\n",
            "-rwxr-xr-x 1 root root   230 Dec 18 16:49 easy_install-2.7\n",
            "-rwxr-xr-x 1 root root   230 Dec 18 16:49 easy_install-3.6\n",
            "-rwxr-xr-x 1 root root  9691 Jan 13 16:59 elbadmin\n",
            "-rwxr-xr-x 1 root root  1573 Jan 13 16:59 enhancer.py\n",
            "-rw-r--r-- 1 root root  2087 Jan 13 16:59 enhancer.pyc\n",
            "-rwxr-xr-x 1 root root   263 Jan 13 16:59 estimator_ckpt_converter\n",
            "-rwxr-xr-x 1 root root  2438 Jan 13 16:59 explode.py\n",
            "-rw-r--r-- 1 root root  3014 Jan 13 16:59 explode.pyc\n",
            "-rwxr-xr-x 1 root root   216 Jan 13 16:49 f2py\n",
            "-rwxr-xr-x 1 root root   216 Jan 13 16:39 f2py2\n",
            "-rwxr-xr-x 1 root root   216 Jan 13 16:39 f2py2.7\n",
            "-rwxr-xr-x 1 root root   216 Jan 13 16:49 f2py3\n",
            "-rwxr-xr-x 1 root root   216 Jan 13 16:49 f2py3.6\n",
            "-rwxr-xr-x 1 root root  1871 Jan 13 16:59 fetch_file\n",
            "-rwxr-xr-x 1 root root  1933 Jan 21 19:04 find-spark-home\n",
            "-rwxr-xr-x 1 root root  2681 Jan 21 19:04 find-spark-home.cmd\n",
            "-rwxr-xr-x 1 root root  2763 Jan 21 19:04 find_spark_home.py\n",
            "-rwxr-xr-x 1 root root   225 Jan 13 16:59 fio\n",
            "-rwxr-xr-x 1 root root   240 Jan 13 16:59 fits2bitmap\n",
            "-rwxr-xr-x 1 root root   232 Jan 13 16:59 fitscheck\n",
            "-rwxr-xr-x 1 root root   231 Jan 13 16:59 fitsdiff\n",
            "-rwxr-xr-x 1 root root   233 Jan 13 16:59 fitsheader\n",
            "-rwxr-xr-x 1 root root   231 Jan 13 16:59 fitsinfo\n",
            "-rwxr-xr-x 1 root root   208 Jan 13 16:59 flask\n",
            "-rwxr-xr-x 1 root root   243 Jan 13 16:59 freeze_graph\n",
            "-rwxr-xr-x 1 root root   215 Jan 13 16:59 futurize\n",
            "-rwxr-xr-x 1 root root   208 Jan 13 17:00 gdown\n",
            "-rwxr-xr-x 1 root root  1651 Jan 13 16:59 get_objgraph\n",
            "-rwxr-xr-x 1 root root   641 Jan 13 16:59 gifmaker.py\n",
            "-rw-r--r-- 1 root root   619 Jan 13 16:59 gifmaker.pyc\n",
            "-rwxr-xr-x 1 root root  5244 Jan 13 16:59 glacier\n",
            "-rwxr-xr-x 1 root root  4765 Jan 13 17:00 google\n",
            "-rwxr-xr-x 1 root root   233 Jan 13 17:00 google-oauthlib-tool\n",
            "-rwxr-xr-x 1 root root   217 Jan 13 17:00 gunicorn\n",
            "-rwxr-xr-x 1 root root   219 Jan 13 17:00 gunicorn_paster\n",
            "-rwxr-xr-x 1 root root   216 Jan 13 17:00 hyperopt-mongo-worker\n",
            "-rwxr-xr-x 1 root root   241 Jan 13 17:00 imageio_download_bin\n",
            "-rwxr-xr-x 1 root root   237 Jan 13 17:00 imageio_remove_bin\n",
            "-rwxr-xr-x 1 root root   294 Jan 13 17:00 image_stylization_create_dataset\n",
            "-rwxr-xr-x 1 root root   288 Jan 13 17:00 image_stylization_evaluate\n",
            "-rwxr-xr-x 1 root root   288 Jan 13 17:00 image_stylization_finetune\n",
            "-rwxr-xr-x 1 root root   285 Jan 13 17:00 image_stylization_train\n",
            "-rwxr-xr-x 1 root root   289 Jan 13 17:00 image_stylization_transform\n",
            "-rwxr-xr-x 1 root root   280 Jan 13 17:00 improv_rnn_create_dataset\n",
            "-rwxr-xr-x 1 root root   274 Jan 13 17:00 improv_rnn_generate\n",
            "-rwxr-xr-x 1 root root   271 Jan 13 17:00 improv_rnn_train\n",
            "-rwxr-xr-x 1 root root  5776 Jan 13 16:59 instance_events\n",
            "-rwxr-xr-x 1 root root   231 Jan 13 16:59 iptest\n",
            "-rwxr-xr-x 1 root root   231 Jan 13 16:59 iptest2\n",
            "-rwxr-xr-x 1 root root   231 Jan 13 16:49 iptest3\n",
            "-rwxr-xr-x 1 root root   224 Jan 13 16:59 ipython\n",
            "-rwxr-xr-x 1 root root   224 Jan 13 16:59 ipython2\n",
            "-rwxr-xr-x 1 root root   224 Jan 13 16:49 ipython3\n",
            "-rwxr-xr-x 1 root root 11706 Jan 13 17:01 isympy\n",
            "-rwxr-xr-x 1 root root  1675 Jan 13 16:59 jp.py\n",
            "-rw-r--r-- 1 root root  1846 Jan 13 16:59 jp.pyc\n",
            "-rwxr-xr-x 1 root root   213 Jan 13 16:59 jsonschema\n",
            "-rwxr-xr-x 1 root root   219 Jan 13 16:59 jupyter\n",
            "-rwxr-xr-x 1 root root   233 Jan 13 16:59 jupyter-bundlerextension\n",
            "-rwxr-xr-x 1 root root   218 Jan 13 16:51 jupyter-console\n",
            "-rwxr-xr-x 1 root root   223 Jan 13 16:59 jupyter-kernel\n",
            "-rwxr-xr-x 1 root root   261 Jan 13 16:59 jupyter-kernelspec\n",
            "-rwxr-xr-x 1 root root   219 Jan 13 16:59 jupyter-migrate\n",
            "-rwxr-xr-x 1 root root   221 Jan 13 16:59 jupyter-nbconvert\n",
            "-rwxr-xr-x 1 root root   220 Jan 13 16:59 jupyter-nbextension\n",
            "-rwxr-xr-x 1 root root   219 Jan 13 16:59 jupyter-notebook\n",
            "-rwxr-xr-x 1 root root   221 Jan 13 17:00 jupyter-qtconsole\n",
            "-rwxr-xr-x 1 root root   240 Jan 13 16:59 jupyter-run\n",
            "-rwxr-xr-x 1 root root   224 Jan 13 16:59 jupyter-serverextension\n",
            "-rwxr-xr-x 1 root root   224 Jan 13 16:59 jupyter-troubleshoot\n",
            "-rwxr-xr-x 1 root root   252 Jan 13 16:59 jupyter-trust\n",
            "-rwxr-xr-x 1 root root   209 Jan 13 17:00 kaggle\n",
            "-rwxr-xr-x 1 root root   922 Jan 13 16:59 kill_instance\n",
            "-rwxr-xr-x 1 root root 10603 Jan 13 16:59 launch_instance\n",
            "-rwxr-xr-x 1 root root  3096 Jan 13 16:59 list_instances\n",
            "-rwxr-xr-x 1 root root  1892 Jan 21 19:04 load-spark-env.cmd\n",
            "-rwxr-xr-x 1 root root  2025 Jan 21 19:04 load-spark-env.sh\n",
            "-rwxr-xr-x 1 root root  3442 Jan 13 16:59 lss3\n",
            "-rwxr-xr-x 1 root root   265 Jan 13 17:00 magenta_midi\n",
            "-rwxr-xr-x 1 root root   271 Jan 13 16:51 make_image_classifier\n",
            "-rwxr-xr-x 1 root root   214 Jan 13 16:59 markdown_py\n",
            "-rwxr-xr-x 1 root root   280 Jan 13 17:00 melody_rnn_create_dataset\n",
            "-rwxr-xr-x 1 root root   274 Jan 13 17:00 melody_rnn_generate\n",
            "-rwxr-xr-x 1 root root   271 Jan 13 17:00 melody_rnn_train\n",
            "-rwxr-xr-x 1 root root   263 Jan 13 17:00 midi_clock\n",
            "-rwxr-xr-x 1 root root   854 Jan 13 17:00 mido-connect\n",
            "-rwxr-xr-x 1 root root  2276 Jan 13 17:00 mido-play\n",
            "-rwxr-xr-x 1 root root   763 Jan 13 17:00 mido-ports\n",
            "-rwxr-xr-x 1 root root   913 Jan 13 17:00 mido-serve\n",
            "-rwxr-xr-x 1 root root 19146 Jan 13 16:59 mturk\n",
            "-rwxr-xr-x 1 root root   272 Jan 13 17:00 music_vae_generate\n",
            "-rwxr-xr-x 1 root root   269 Jan 13 17:00 music_vae_train\n",
            "-rwxr-xr-x 1 root root   215 Jan 13 17:00 natsort\n",
            "-rwxr-xr-x 1 root root   527 Jan 13 17:00 nib-dicomfs\n",
            "-rwxr-xr-x 1 root root   542 Jan 13 17:00 nib-diff\n",
            "-rwxr-xr-x 1 root root   571 Jan 13 17:00 nib-ls\n",
            "-rwxr-xr-x 1 root root   536 Jan 13 17:00 nib-nifti-dx\n",
            "-rwxr-xr-x 1 root root   529 Jan 13 17:00 nib-tck2trk\n",
            "-rwxr-xr-x 1 root root   529 Jan 13 17:00 nib-trk2tck\n",
            "-rwxr-xr-x 1 root root   211 Jan 13 16:59 nosetests\n",
            "-rwxr-xr-x 1 root root   211 Jan 13 16:59 nosetests-2.7\n",
            "lrwxrwxrwx 1 root root    28 Dec 18 16:47 nsight-sys -> /etc/alternatives/nsight-sys\n",
            "-rwxr-xr-x 1 root root   274 Jan 13 17:00 nsynth_generate\n",
            "-rwxr-xr-x 1 root root   281 Jan 13 17:00 nsynth_save_embeddings\n",
            "lrwxrwxrwx 1 root root    22 Dec 18 16:47 nsys -> /etc/alternatives/nsys\n",
            "lrwxrwxrwx 1 root root    31 Dec 18 16:47 nsys-exporter -> /etc/alternatives/nsys-exporter\n",
            "-rwxr-xr-x 1 root root   183 Jan 13 17:00 numba\n",
            "-rwxr-xr-x 1 root root   314 Jan 13 17:00 onsets_frames_transcription_create_dataset\n",
            "-rwxr-xr-x 1 root root   305 Jan 13 17:00 onsets_frames_transcription_infer\n",
            "-rwxr-xr-x 1 root root   305 Jan 13 17:00 onsets_frames_transcription_train\n",
            "-rwxr-xr-x 1 root root   310 Jan 13 17:00 onsets_frames_transcription_transcribe\n",
            "-rwxr-xr-x 1 root root  2153 Jan 13 16:59 painter.py\n",
            "-rw-r--r-- 1 root root  2517 Jan 13 16:59 painter.pyc\n",
            "-rwxr-xr-x 1 root root   138 Jan 13 17:00 parrec2nii\n",
            "-rwxr-xr-x 1 root root   217 Jan 13 16:59 pasteurize\n",
            "-rwxr-xr-x 1 root root   211 Jan 13 16:59 pbr\n",
            "-rwxr-xr-x 1 root root   290 Jan 13 17:00 performance_rnn_create_dataset\n",
            "-rwxr-xr-x 1 root root   284 Jan 13 17:00 performance_rnn_generate\n",
            "-rwxr-xr-x 1 root root   281 Jan 13 17:00 performance_rnn_train\n",
            "-rwxr-xr-x 1 root root   296 Jan 13 17:00 pianoroll_rnn_nade_create_dataset\n",
            "-rwxr-xr-x 1 root root   290 Jan 13 17:00 pianoroll_rnn_nade_generate\n",
            "-rwxr-xr-x 1 root root   287 Jan 13 17:00 pianoroll_rnn_nade_train\n",
            "-rwxr-xr-x 1 root root  2358 Jan 13 16:59 pilconvert.py\n",
            "-rw-r--r-- 1 root root  2422 Jan 13 16:59 pilconvert.pyc\n",
            "-rwxr-xr-x 1 root root 15510 Jan 13 16:59 pildriver.py\n",
            "-rw-r--r-- 1 root root 20304 Jan 13 16:59 pildriver.pyc\n",
            "-rwxr-xr-x 1 root root  2666 Jan 13 16:59 pilfile.py\n",
            "-rw-r--r-- 1 root root  2420 Jan 13 16:59 pilfile.pyc\n",
            "-rwxr-xr-x 1 root root  1027 Jan 13 16:59 pilfont.py\n",
            "-rw-r--r-- 1 root root  1129 Jan 13 16:59 pilfont.pyc\n",
            "-rwxr-xr-x 1 root root  2597 Jan 13 16:59 pilprint.py\n",
            "-rw-r--r-- 1 root root  2650 Jan 13 16:59 pilprint.pyc\n",
            "-r-xr-xr-x 1 root root  1374 Jan  1  2000 pip\n",
            "-rwxr-xr-x 1 root root   217 Dec 18 16:49 pip2\n",
            "-rwxr-xr-x 1 root root   217 Dec 18 16:49 pip2.7\n",
            "-rwxr-xr-x 1 root root   217 Dec 18 16:49 pip3\n",
            "-rwxr-xr-x 1 root root   217 Dec 18 16:49 pip3.6\n",
            "-rwxr-xr-x 1 root root   221 Jan 13 17:00 pip-compile\n",
            "-rwxr-xr-x 1 root root   218 Jan 13 17:00 pip-sync\n",
            "-rwxr-xr-x 1 root root  2383 Jan 13 16:53 plac_runner.py\n",
            "-rw-r--r-- 1 root root  2925 Jan 13 17:00 plac_runner.pyc\n",
            "-rwxr-xr-x 1 root root   248 Jan 13 16:59 plasma_store\n",
            "-rwxr-xr-x 1 root root  2023 Jan 13 16:59 player.py\n",
            "-rw-r--r-- 1 root root  2276 Jan 13 16:59 player.pyc\n",
            "-rwxr-xr-x 1 root root   286 Jan 13 17:00 polyphony_rnn_create_dataset\n",
            "-rwxr-xr-x 1 root root   280 Jan 13 17:00 polyphony_rnn_generate\n",
            "-rwxr-xr-x 1 root root   277 Jan 13 17:00 polyphony_rnn_train\n",
            "-rwxr-xr-x 1 root root 13334 Jan 13 16:51 portserver.py\n",
            "-rwxr-xr-x 1 root root  6191 Jan 13 16:51 prichunkpng\n",
            "-rwxr-xr-x 1 root root  5281 Jan 13 16:51 priforgepng\n",
            "-rwxr-xr-x 1 root root  1845 Jan 13 16:51 prigreypng\n",
            "-rwxr-xr-x 1 root root  2806 Jan 13 16:51 pripalpng\n",
            "-rwxr-xr-x 1 root root  8138 Jan 13 16:51 pripamtopng\n",
            "-rwxr-xr-x 1 root root   822 Jan 13 16:51 pripnglsch\n",
            "-rwxr-xr-x 1 root root  2050 Jan 13 16:51 pripngtopam\n",
            "-rwxr-xr-x 1 root root  6647 Jan 13 16:51 priweavepng\n",
            "-rwxr-xr-x 1 root root   220 Jan 13 17:01 pt2to3\n",
            "-rwxr-xr-x 1 root root   220 Jan 13 17:01 ptdump\n",
            "-rwxr-xr-x 1 root root   222 Jan 13 17:01 ptrepack\n",
            "-rwxr-xr-x 1 root root   220 Jan 13 17:01 pttree\n",
            "-rwxr-xr-x 1 root root  2615 Jan 13 16:59 pyami_sendmail\n",
            "-rwxr-xr-x 1 root root   222 Jan 13 16:59 pybabel\n",
            "drwxr-xr-x 1 root root  4096 Jan 21 19:04 __pycache__\n",
            "-rwxr-xr-x 1 root root    54 Jan 13 17:00 pycc\n",
            "-rwxr-xr-x 1 root root   215 Jan 13 16:59 pygmentize\n",
            "-rwxr-xr-x 1 root root   212 Jan 13 17:00 pyrsa-decrypt\n",
            "-rwxr-xr-x 1 root root   212 Jan 13 17:00 pyrsa-encrypt\n",
            "-rwxr-xr-x 1 root root   210 Jan 13 17:00 pyrsa-keygen\n",
            "-rwxr-xr-x 1 root root   233 Jan 13 17:00 pyrsa-priv2pub\n",
            "-rwxr-xr-x 1 root root   206 Jan 13 17:00 pyrsa-sign\n",
            "-rwxr-xr-x 1 root root   210 Jan 13 17:00 pyrsa-verify\n",
            "-rwxr-xr-x 1 root root  2987 Jan 21 19:04 pyspark\n",
            "-rwxr-xr-x 1 root root  1540 Jan 21 19:04 pyspark2.cmd\n",
            "-rwxr-xr-x 1 root root  1170 Jan 21 19:04 pyspark.cmd\n",
            "-rwxr-xr-x 1 root root   205 Jan 13 16:59 pytest\n",
            "-rwxr-xr-x 1 root root   205 Jan 13 16:59 py.test\n",
            "-r-xr-xr-x 1 root root  1374 Jan  1  2000 python\n",
            "-r-xr-xr-x 1 root root   377 Jan  1  2000 R\n",
            "-rwxr-xr-x 1 root root  2855 Jan 13 17:00 range-detector\n",
            "-rwxr-xr-x 1 root root   267 Jan 13 17:00 rl_tuner_train\n",
            "-rwxr-xr-x 1 root root  9032 Jan 13 16:59 route53\n",
            "-rwxr-xr-x 1 root root   714 Jan 13 16:59 rst2html4.py\n",
            "-rw-r--r-- 1 root root   726 Jan 13 16:59 rst2html4.pyc\n",
            "-rwxr-xr-x 1 root root  1139 Jan 13 16:59 rst2html5.py\n",
            "-rw-r--r-- 1 root root   730 Jan 13 16:59 rst2html5.pyc\n",
            "-rwxr-xr-x 1 root root   594 Jan 13 16:59 rst2html.py\n",
            "-rw-r--r-- 1 root root   604 Jan 13 16:59 rst2html.pyc\n",
            "-rwxr-xr-x 1 root root   791 Jan 13 16:59 rst2latex.py\n",
            "-rw-r--r-- 1 root root   734 Jan 13 16:59 rst2latex.pyc\n",
            "-rwxr-xr-x 1 root root   600 Jan 13 16:59 rst2man.py\n",
            "-rw-r--r-- 1 root root   709 Jan 13 16:59 rst2man.pyc\n",
            "-rwxr-xr-x 1 root root  1698 Jan 13 16:59 rst2odt_prepstyles.py\n",
            "-rw-r--r-- 1 root root  2044 Jan 13 16:59 rst2odt_prepstyles.pyc\n",
            "-rwxr-xr-x 1 root root   764 Jan 13 16:59 rst2odt.py\n",
            "-rw-r--r-- 1 root root   803 Jan 13 16:59 rst2odt.pyc\n",
            "-rwxr-xr-x 1 root root   601 Jan 13 16:59 rst2pseudoxml.py\n",
            "-rw-r--r-- 1 root root   600 Jan 13 16:59 rst2pseudoxml.pyc\n",
            "-rwxr-xr-x 1 root root   637 Jan 13 16:59 rst2s5.py\n",
            "-rw-r--r-- 1 root root   649 Jan 13 16:59 rst2s5.pyc\n",
            "-rwxr-xr-x 1 root root   871 Jan 13 16:59 rst2xetex.py\n",
            "-rw-r--r-- 1 root root   817 Jan 13 16:59 rst2xetex.pyc\n",
            "-rwxr-xr-x 1 root root   602 Jan 13 16:59 rst2xml.py\n",
            "-rw-r--r-- 1 root root   612 Jan 13 16:59 rst2xml.pyc\n",
            "-rwxr-xr-x 1 root root   670 Jan 13 16:59 rstpep2html.py\n",
            "-rw-r--r-- 1 root root   680 Jan 13 16:59 rstpep2html.pyc\n",
            "-rwxr-xr-x 1 root root  1030 Jan 21 19:04 run-example\n",
            "-rwxr-xr-x 1 root root  1223 Jan 21 19:04 run-example.cmd\n",
            "-rwxr-xr-x 1 root root 16253 Jan 13 17:01 runxlrd.py\n",
            "-rw-r--r-- 1 root root 14693 Jan 13 17:01 runxlrd.pyc\n",
            "-rwxr-xr-x 1 root root 16837 Jan 13 16:59 s3put\n",
            "-rwxr-xr-x 1 root root   234 Jan 13 16:59 samp_hub\n",
            "-rwxr-xr-x 1 root root   205 Jan 13 17:00 sample\n",
            "-rwxr-xr-x 1 root root   238 Jan 13 16:59 saved_model_cli\n",
            "-rwxr-xr-x 1 root root  6993 Jan 13 16:59 sdbadmin\n",
            "-rwxr-xr-x 1 root root   230 Jan 13 16:49 showtable\n",
            "-rwxr-xr-x 1 root root   271 Jan 13 17:00 sketch_rnn_train\n",
            "-rwxr-xr-x 1 root root   220 Jan 13 17:00 skivi\n",
            "-rwxr-xr-x 1 root root   214 Jan 13 17:00 slugify\n",
            "-rwxr-xr-x 1 root root    21 Jan 13 16:54 spacy\n",
            "-rwxr-xr-x 1 root root  3196 Jan 21 19:04 spark-class\n",
            "-rwxr-xr-x 1 root root  2817 Jan 21 19:04 spark-class2.cmd\n",
            "-rwxr-xr-x 1 root root  1180 Jan 21 19:04 spark-class.cmd\n",
            "-rwxr-xr-x 1 root root  1039 Jan 21 19:04 sparkR\n",
            "-rwxr-xr-x 1 root root  1097 Jan 21 19:04 sparkR2.cmd\n",
            "-rwxr-xr-x 1 root root  1168 Jan 21 19:04 sparkR.cmd\n",
            "-rwxr-xr-x 1 root root  3122 Jan 21 19:04 spark-shell\n",
            "-rwxr-xr-x 1 root root  1818 Jan 21 19:04 spark-shell2.cmd\n",
            "-rwxr-xr-x 1 root root  1178 Jan 21 19:04 spark-shell.cmd\n",
            "-rwxr-xr-x 1 root root  1065 Jan 21 19:04 spark-sql\n",
            "-rwxr-xr-x 1 root root  1118 Jan 21 19:04 spark-sql2.cmd\n",
            "-rwxr-xr-x 1 root root  1173 Jan 21 19:04 spark-sql.cmd\n",
            "-rwxr-xr-x 1 root root  1040 Jan 21 19:04 spark-submit\n",
            "-rwxr-xr-x 1 root root  1155 Jan 21 19:04 spark-submit2.cmd\n",
            "-rwxr-xr-x 1 root root  1180 Jan 21 19:04 spark-submit.cmd\n",
            "-rwxr-xr-x 1 root root   216 Jan 13 17:01 sphinx-apidoc\n",
            "-rwxr-xr-x 1 root root   230 Jan 13 17:01 sphinx-autogen\n",
            "-rwxr-xr-x 1 root root   215 Jan 13 17:01 sphinx-build\n",
            "-rwxr-xr-x 1 root root   220 Jan 13 17:01 sphinx-quickstart\n",
            "-rwxr-xr-x 1 root root   216 Jan 13 17:00 sqlformat\n",
            "-rwxr-xr-x 1 root root   345 Jan 13 17:01 t2t-avg-all\n",
            "-rwxr-xr-x 1 root root   337 Jan 13 17:01 t2t-bleu\n",
            "-rwxr-xr-x 1 root root   635 Jan 13 17:01 t2t-datagen\n",
            "-rwxr-xr-x 1 root root   345 Jan 13 17:01 t2t-decoder\n",
            "-rwxr-xr-x 1 root root   662 Jan 13 16:51 t2t-eval\n",
            "-rwxr-xr-x 1 root root   340 Jan 13 17:01 t2t-exporter\n",
            "-rwxr-xr-x 1 root root   348 Jan 13 17:01 t2t-insights-server\n",
            "-rwxr-xr-x 1 root root   361 Jan 13 17:01 t2t-make-tf-configs\n",
            "-rwxr-xr-x 1 root root   342 Jan 13 17:01 t2t-query-server\n",
            "-rwxr-xr-x 1 root root   734 Jan 13 17:01 t2t-trainer\n",
            "-rwxr-xr-x 1 root root   364 Jan 13 17:01 t2t-translate-all\n",
            "-rwxr-xr-x 1 root root   209 Jan 13 17:01 tabulate\n",
            "-rwxr-xr-x 1 root root  3767 Jan 13 16:59 taskadmin\n",
            "-rwxr-xr-x 1 root root   223 Jan 13 16:59 tensorboard\n",
            "-r-xr-xr-x 1 root root  4015 Jan  1  2000 test-importability.py\n",
            "-rwxr-xr-x 1 root root   236 Jan 13 16:59 tflite_convert\n",
            "-rwxr-xr-x 1 root root   248 Jan 13 16:59 tf_upgrade_v2\n",
            "-rwxr-xr-x 1 root root   215 Jan 13 17:00 theano-cache\n",
            "-rwxr-xr-x 1 root root   214 Jan 13 17:00 theano-nose\n",
            "-rwxr-xr-x 1 root root  1981 Jan 13 16:59 thresholder.py\n",
            "-rw-r--r-- 1 root root  2547 Jan 13 16:59 thresholder.pyc\n",
            "-rwxr-xr-x 1 root root   236 Jan 13 16:59 toco\n",
            "-rwxr-xr-x 1 root root   243 Jan 13 16:59 toco_from_protos\n",
            "-rwxr-xr-x 1 root root   209 Jan 13 16:59 tqdm\n",
            "-rwxr-xr-x 1 root root   587 Jan 13 16:59 undill\n",
            "-rwxr-xr-x 1 root root  1020 Jan 13 16:59 viewer.py\n",
            "-rw-r--r-- 1 root root  1419 Jan 13 16:59 viewer.pyc\n",
            "-rwxr-xr-x 1 root root   224 Jan 13 16:59 volint\n",
            "-rwxr-xr-x 1 root root   218 Jan 13 16:59 wcslint\n",
            "-rwxr-xr-x 1 root root   208 Dec 18 16:49 wheel\n",
            "-rwxr-xr-x 1 root root   217 Jan 13 17:01 wordcloud_cli\n"
          ],
          "name": "stdout"
        }
      ]
    },
    {
      "cell_type": "code",
      "metadata": {
        "id": "_HLuaS0Eo-C-",
        "colab_type": "code",
        "outputId": "a571c8c8-3f5a-4d48-bc9f-8a496328925d",
        "colab": {
          "base_uri": "https://localhost:8080/",
          "height": 1000
        }
      },
      "source": [
        "!ls -l /usr/local/bin"
      ],
      "execution_count": 0,
      "outputs": [
        {
          "output_type": "stream",
          "text": [
            "total 1416\n",
            "-rwxr-xr-x 1 root root   308 Jan 13 17:00 arbitrary_image_stylization_evaluate\n",
            "-rwxr-xr-x 1 root root   305 Jan 13 17:00 arbitrary_image_stylization_train\n",
            "-rwxr-xr-x 1 root root   312 Jan 13 17:00 arbitrary_image_stylization_with_weights\n",
            "-rwxr-xr-x 1 root root 11986 Jan 13 16:59 asadmin\n",
            "-rwxr-xr-x 1 root root  1089 Jan 21 19:04 beeline\n",
            "-rwxr-xr-x 1 root root  1064 Jan 21 19:04 beeline.cmd\n",
            "-rwxr-xr-x 1 root root   213 Jan 13 16:59 bokeh\n",
            "-rwxr-xr-x 1 root root  1552 Jan 13 16:59 bundle_image\n",
            "-rwxr-xr-x 1 root root  3442 Jan 13 16:59 cfadmin\n",
            "-rwxr-xr-x 1 root root   221 Jan 13 16:59 chardetect\n",
            "-rwxr-xr-x 1 root root   206 Jan 13 16:59 cmake\n",
            "-rwxr-xr-x 1 root root   875 Jan 13 17:00 community\n",
            "-rwxr-xr-x 1 root root   252 Jan 13 16:59 convert-caffe2-to-onnx\n",
            "-rwxr-xr-x 1 root root   274 Jan 13 17:00 convert_dir_to_note_sequences\n",
            "-rwxr-xr-x 1 root root   252 Jan 13 16:59 convert-onnx-to-caffe2\n",
            "-rwxr-xr-x 1 root root   207 Jan 13 16:39 coverage\n",
            "-rwxr-xr-x 1 root root   207 Jan 13 16:39 coverage3\n",
            "-rwxr-xr-x 1 root root   207 Jan 13 16:39 coverage-3.6\n",
            "-rwxr-xr-x 1 root root   212 Jan 13 16:39 coveralls\n",
            "-rwxr-xr-x 1 root root   206 Jan 13 16:59 cpack\n",
            "-rwxr-xr-x 1 root root  3051 Jan 13 16:59 cq\n",
            "-rwxr-xr-x 1 root root   206 Jan 13 16:59 ctest\n",
            "-rwxr-xr-x 1 root root  5043 Jan 13 16:59 cwutil\n",
            "-rwxr-xr-x 1 root root   220 Jan 13 16:59 cygdb\n",
            "-rwxr-xr-x 1 root root   241 Jan 13 16:59 cython\n",
            "-rwxr-xr-x 1 root root   221 Jan 13 16:59 cythonize\n",
            "-rwxr-xr-x 1 root root   219 Jan 13 16:59 dask-mpi\n",
            "-rwxr-xr-x 1 root root   222 Jan 13 16:59 dask-remote\n",
            "-rwxr-xr-x 1 root root   225 Jan 13 16:59 dask-scheduler\n",
            "-rwxr-xr-x 1 root root   219 Jan 13 16:59 dask-ssh\n",
            "-rwxr-xr-x 1 root root   222 Jan 13 16:59 dask-submit\n",
            "-rwxr-xr-x 1 root root   222 Jan 13 16:59 dask-worker\n",
            "-rwxr-xr-x 1 root root   263 Jan 13 16:59 django-admin\n",
            "-rwxr-xr-x 1 root root   125 Jan 13 16:59 django-admin.py\n",
            "-rw-r--r-- 1 root root   308 Jan 13 16:59 django-admin.pyc\n",
            "-rwxr-xr-x 1 root root  5440 Jan 21 19:04 docker-image-tool.sh\n",
            "-rwxr-xr-x 1 root root   278 Jan 13 17:00 drums_rnn_create_dataset\n",
            "-rwxr-xr-x 1 root root   272 Jan 13 17:00 drums_rnn_generate\n",
            "-rwxr-xr-x 1 root root   269 Jan 13 17:00 drums_rnn_train\n",
            "-rwxr-xr-x 1 root root  2131 Jan 13 16:59 dynamodb_dump\n",
            "-rwxr-xr-x 1 root root  3501 Jan 13 16:59 dynamodb_load\n",
            "-rwxr-xr-x 1 root root   211 Jan 13 16:50 earthengine\n",
            "-rwxr-xr-x 1 root root   230 Dec 18 16:49 easy_install\n",
            "-rwxr-xr-x 1 root root   230 Dec 18 16:49 easy_install-2.7\n",
            "-rwxr-xr-x 1 root root   230 Dec 18 16:49 easy_install-3.6\n",
            "-rwxr-xr-x 1 root root  9691 Jan 13 16:59 elbadmin\n",
            "-rwxr-xr-x 1 root root  1573 Jan 13 16:59 enhancer.py\n",
            "-rw-r--r-- 1 root root  2087 Jan 13 16:59 enhancer.pyc\n",
            "-rwxr-xr-x 1 root root   263 Jan 13 16:59 estimator_ckpt_converter\n",
            "-rwxr-xr-x 1 root root  2438 Jan 13 16:59 explode.py\n",
            "-rw-r--r-- 1 root root  3014 Jan 13 16:59 explode.pyc\n",
            "-rwxr-xr-x 1 root root   216 Jan 13 16:49 f2py\n",
            "-rwxr-xr-x 1 root root   216 Jan 13 16:39 f2py2\n",
            "-rwxr-xr-x 1 root root   216 Jan 13 16:39 f2py2.7\n",
            "-rwxr-xr-x 1 root root   216 Jan 13 16:49 f2py3\n",
            "-rwxr-xr-x 1 root root   216 Jan 13 16:49 f2py3.6\n",
            "-rwxr-xr-x 1 root root  1871 Jan 13 16:59 fetch_file\n",
            "-rwxr-xr-x 1 root root  1933 Jan 21 19:04 find-spark-home\n",
            "-rwxr-xr-x 1 root root  2681 Jan 21 19:04 find-spark-home.cmd\n",
            "-rwxr-xr-x 1 root root  2763 Jan 21 19:04 find_spark_home.py\n",
            "-rwxr-xr-x 1 root root   225 Jan 13 16:59 fio\n",
            "-rwxr-xr-x 1 root root   240 Jan 13 16:59 fits2bitmap\n",
            "-rwxr-xr-x 1 root root   232 Jan 13 16:59 fitscheck\n",
            "-rwxr-xr-x 1 root root   231 Jan 13 16:59 fitsdiff\n",
            "-rwxr-xr-x 1 root root   233 Jan 13 16:59 fitsheader\n",
            "-rwxr-xr-x 1 root root   231 Jan 13 16:59 fitsinfo\n",
            "-rwxr-xr-x 1 root root   208 Jan 13 16:59 flask\n",
            "-rwxr-xr-x 1 root root   243 Jan 13 16:59 freeze_graph\n",
            "-rwxr-xr-x 1 root root   215 Jan 13 16:59 futurize\n",
            "-rwxr-xr-x 1 root root   208 Jan 13 17:00 gdown\n",
            "-rwxr-xr-x 1 root root  1651 Jan 13 16:59 get_objgraph\n",
            "-rwxr-xr-x 1 root root   641 Jan 13 16:59 gifmaker.py\n",
            "-rw-r--r-- 1 root root   619 Jan 13 16:59 gifmaker.pyc\n",
            "-rwxr-xr-x 1 root root  5244 Jan 13 16:59 glacier\n",
            "-rwxr-xr-x 1 root root  4765 Jan 13 17:00 google\n",
            "-rwxr-xr-x 1 root root   233 Jan 13 17:00 google-oauthlib-tool\n",
            "-rwxr-xr-x 1 root root   217 Jan 13 17:00 gunicorn\n",
            "-rwxr-xr-x 1 root root   219 Jan 13 17:00 gunicorn_paster\n",
            "-rwxr-xr-x 1 root root   216 Jan 13 17:00 hyperopt-mongo-worker\n",
            "-rwxr-xr-x 1 root root   241 Jan 13 17:00 imageio_download_bin\n",
            "-rwxr-xr-x 1 root root   237 Jan 13 17:00 imageio_remove_bin\n",
            "-rwxr-xr-x 1 root root   294 Jan 13 17:00 image_stylization_create_dataset\n",
            "-rwxr-xr-x 1 root root   288 Jan 13 17:00 image_stylization_evaluate\n",
            "-rwxr-xr-x 1 root root   288 Jan 13 17:00 image_stylization_finetune\n",
            "-rwxr-xr-x 1 root root   285 Jan 13 17:00 image_stylization_train\n",
            "-rwxr-xr-x 1 root root   289 Jan 13 17:00 image_stylization_transform\n",
            "-rwxr-xr-x 1 root root   280 Jan 13 17:00 improv_rnn_create_dataset\n",
            "-rwxr-xr-x 1 root root   274 Jan 13 17:00 improv_rnn_generate\n",
            "-rwxr-xr-x 1 root root   271 Jan 13 17:00 improv_rnn_train\n",
            "-rwxr-xr-x 1 root root  5776 Jan 13 16:59 instance_events\n",
            "-rwxr-xr-x 1 root root   231 Jan 13 16:59 iptest\n",
            "-rwxr-xr-x 1 root root   231 Jan 13 16:59 iptest2\n",
            "-rwxr-xr-x 1 root root   231 Jan 13 16:49 iptest3\n",
            "-rwxr-xr-x 1 root root   224 Jan 13 16:59 ipython\n",
            "-rwxr-xr-x 1 root root   224 Jan 13 16:59 ipython2\n",
            "-rwxr-xr-x 1 root root   224 Jan 13 16:49 ipython3\n",
            "-rwxr-xr-x 1 root root 11706 Jan 13 17:01 isympy\n",
            "-rwxr-xr-x 1 root root  1675 Jan 13 16:59 jp.py\n",
            "-rw-r--r-- 1 root root  1846 Jan 13 16:59 jp.pyc\n",
            "-rwxr-xr-x 1 root root   213 Jan 13 16:59 jsonschema\n",
            "-rwxr-xr-x 1 root root   219 Jan 13 16:59 jupyter\n",
            "-rwxr-xr-x 1 root root   233 Jan 13 16:59 jupyter-bundlerextension\n",
            "-rwxr-xr-x 1 root root   218 Jan 13 16:51 jupyter-console\n",
            "-rwxr-xr-x 1 root root   223 Jan 13 16:59 jupyter-kernel\n",
            "-rwxr-xr-x 1 root root   261 Jan 13 16:59 jupyter-kernelspec\n",
            "-rwxr-xr-x 1 root root   219 Jan 13 16:59 jupyter-migrate\n",
            "-rwxr-xr-x 1 root root   221 Jan 13 16:59 jupyter-nbconvert\n",
            "-rwxr-xr-x 1 root root   220 Jan 13 16:59 jupyter-nbextension\n",
            "-rwxr-xr-x 1 root root   219 Jan 13 16:59 jupyter-notebook\n",
            "-rwxr-xr-x 1 root root   221 Jan 13 17:00 jupyter-qtconsole\n",
            "-rwxr-xr-x 1 root root   240 Jan 13 16:59 jupyter-run\n",
            "-rwxr-xr-x 1 root root   224 Jan 13 16:59 jupyter-serverextension\n",
            "-rwxr-xr-x 1 root root   224 Jan 13 16:59 jupyter-troubleshoot\n",
            "-rwxr-xr-x 1 root root   252 Jan 13 16:59 jupyter-trust\n",
            "-rwxr-xr-x 1 root root   209 Jan 13 17:00 kaggle\n",
            "-rwxr-xr-x 1 root root   922 Jan 13 16:59 kill_instance\n",
            "-rwxr-xr-x 1 root root 10603 Jan 13 16:59 launch_instance\n",
            "-rwxr-xr-x 1 root root  3096 Jan 13 16:59 list_instances\n",
            "-rwxr-xr-x 1 root root  1892 Jan 21 19:04 load-spark-env.cmd\n",
            "-rwxr-xr-x 1 root root  2025 Jan 21 19:04 load-spark-env.sh\n",
            "-rwxr-xr-x 1 root root  3442 Jan 13 16:59 lss3\n",
            "-rwxr-xr-x 1 root root   265 Jan 13 17:00 magenta_midi\n",
            "-rwxr-xr-x 1 root root   271 Jan 13 16:51 make_image_classifier\n",
            "-rwxr-xr-x 1 root root   214 Jan 13 16:59 markdown_py\n",
            "-rwxr-xr-x 1 root root   280 Jan 13 17:00 melody_rnn_create_dataset\n",
            "-rwxr-xr-x 1 root root   274 Jan 13 17:00 melody_rnn_generate\n",
            "-rwxr-xr-x 1 root root   271 Jan 13 17:00 melody_rnn_train\n",
            "-rwxr-xr-x 1 root root   263 Jan 13 17:00 midi_clock\n",
            "-rwxr-xr-x 1 root root   854 Jan 13 17:00 mido-connect\n",
            "-rwxr-xr-x 1 root root  2276 Jan 13 17:00 mido-play\n",
            "-rwxr-xr-x 1 root root   763 Jan 13 17:00 mido-ports\n",
            "-rwxr-xr-x 1 root root   913 Jan 13 17:00 mido-serve\n",
            "-rwxr-xr-x 1 root root 19146 Jan 13 16:59 mturk\n",
            "-rwxr-xr-x 1 root root   272 Jan 13 17:00 music_vae_generate\n",
            "-rwxr-xr-x 1 root root   269 Jan 13 17:00 music_vae_train\n",
            "-rwxr-xr-x 1 root root   215 Jan 13 17:00 natsort\n",
            "-rwxr-xr-x 1 root root   527 Jan 13 17:00 nib-dicomfs\n",
            "-rwxr-xr-x 1 root root   542 Jan 13 17:00 nib-diff\n",
            "-rwxr-xr-x 1 root root   571 Jan 13 17:00 nib-ls\n",
            "-rwxr-xr-x 1 root root   536 Jan 13 17:00 nib-nifti-dx\n",
            "-rwxr-xr-x 1 root root   529 Jan 13 17:00 nib-tck2trk\n",
            "-rwxr-xr-x 1 root root   529 Jan 13 17:00 nib-trk2tck\n",
            "-rwxr-xr-x 1 root root   211 Jan 13 16:59 nosetests\n",
            "-rwxr-xr-x 1 root root   211 Jan 13 16:59 nosetests-2.7\n",
            "lrwxrwxrwx 1 root root    28 Dec 18 16:47 nsight-sys -> /etc/alternatives/nsight-sys\n",
            "-rwxr-xr-x 1 root root   274 Jan 13 17:00 nsynth_generate\n",
            "-rwxr-xr-x 1 root root   281 Jan 13 17:00 nsynth_save_embeddings\n",
            "lrwxrwxrwx 1 root root    22 Dec 18 16:47 nsys -> /etc/alternatives/nsys\n",
            "lrwxrwxrwx 1 root root    31 Dec 18 16:47 nsys-exporter -> /etc/alternatives/nsys-exporter\n",
            "-rwxr-xr-x 1 root root   183 Jan 13 17:00 numba\n",
            "-rwxr-xr-x 1 root root   314 Jan 13 17:00 onsets_frames_transcription_create_dataset\n",
            "-rwxr-xr-x 1 root root   305 Jan 13 17:00 onsets_frames_transcription_infer\n",
            "-rwxr-xr-x 1 root root   305 Jan 13 17:00 onsets_frames_transcription_train\n",
            "-rwxr-xr-x 1 root root   310 Jan 13 17:00 onsets_frames_transcription_transcribe\n",
            "-rwxr-xr-x 1 root root  2153 Jan 13 16:59 painter.py\n",
            "-rw-r--r-- 1 root root  2517 Jan 13 16:59 painter.pyc\n",
            "-rwxr-xr-x 1 root root   138 Jan 13 17:00 parrec2nii\n",
            "-rwxr-xr-x 1 root root   217 Jan 13 16:59 pasteurize\n",
            "-rwxr-xr-x 1 root root   211 Jan 13 16:59 pbr\n",
            "-rwxr-xr-x 1 root root   290 Jan 13 17:00 performance_rnn_create_dataset\n",
            "-rwxr-xr-x 1 root root   284 Jan 13 17:00 performance_rnn_generate\n",
            "-rwxr-xr-x 1 root root   281 Jan 13 17:00 performance_rnn_train\n",
            "-rwxr-xr-x 1 root root   296 Jan 13 17:00 pianoroll_rnn_nade_create_dataset\n",
            "-rwxr-xr-x 1 root root   290 Jan 13 17:00 pianoroll_rnn_nade_generate\n",
            "-rwxr-xr-x 1 root root   287 Jan 13 17:00 pianoroll_rnn_nade_train\n",
            "-rwxr-xr-x 1 root root  2358 Jan 13 16:59 pilconvert.py\n",
            "-rw-r--r-- 1 root root  2422 Jan 13 16:59 pilconvert.pyc\n",
            "-rwxr-xr-x 1 root root 15510 Jan 13 16:59 pildriver.py\n",
            "-rw-r--r-- 1 root root 20304 Jan 13 16:59 pildriver.pyc\n",
            "-rwxr-xr-x 1 root root  2666 Jan 13 16:59 pilfile.py\n",
            "-rw-r--r-- 1 root root  2420 Jan 13 16:59 pilfile.pyc\n",
            "-rwxr-xr-x 1 root root  1027 Jan 13 16:59 pilfont.py\n",
            "-rw-r--r-- 1 root root  1129 Jan 13 16:59 pilfont.pyc\n",
            "-rwxr-xr-x 1 root root  2597 Jan 13 16:59 pilprint.py\n",
            "-rw-r--r-- 1 root root  2650 Jan 13 16:59 pilprint.pyc\n",
            "-r-xr-xr-x 1 root root  1374 Jan  1  2000 pip\n",
            "-rwxr-xr-x 1 root root   217 Dec 18 16:49 pip2\n",
            "-rwxr-xr-x 1 root root   217 Dec 18 16:49 pip2.7\n",
            "-rwxr-xr-x 1 root root   217 Dec 18 16:49 pip3\n",
            "-rwxr-xr-x 1 root root   217 Dec 18 16:49 pip3.6\n",
            "-rwxr-xr-x 1 root root   221 Jan 13 17:00 pip-compile\n",
            "-rwxr-xr-x 1 root root   218 Jan 13 17:00 pip-sync\n",
            "-rwxr-xr-x 1 root root  2383 Jan 13 16:53 plac_runner.py\n",
            "-rw-r--r-- 1 root root  2925 Jan 13 17:00 plac_runner.pyc\n",
            "-rwxr-xr-x 1 root root   248 Jan 13 16:59 plasma_store\n",
            "-rwxr-xr-x 1 root root  2023 Jan 13 16:59 player.py\n",
            "-rw-r--r-- 1 root root  2276 Jan 13 16:59 player.pyc\n",
            "-rwxr-xr-x 1 root root   286 Jan 13 17:00 polyphony_rnn_create_dataset\n",
            "-rwxr-xr-x 1 root root   280 Jan 13 17:00 polyphony_rnn_generate\n",
            "-rwxr-xr-x 1 root root   277 Jan 13 17:00 polyphony_rnn_train\n",
            "-rwxr-xr-x 1 root root 13334 Jan 13 16:51 portserver.py\n",
            "-rwxr-xr-x 1 root root  6191 Jan 13 16:51 prichunkpng\n",
            "-rwxr-xr-x 1 root root  5281 Jan 13 16:51 priforgepng\n",
            "-rwxr-xr-x 1 root root  1845 Jan 13 16:51 prigreypng\n",
            "-rwxr-xr-x 1 root root  2806 Jan 13 16:51 pripalpng\n",
            "-rwxr-xr-x 1 root root  8138 Jan 13 16:51 pripamtopng\n",
            "-rwxr-xr-x 1 root root   822 Jan 13 16:51 pripnglsch\n",
            "-rwxr-xr-x 1 root root  2050 Jan 13 16:51 pripngtopam\n",
            "-rwxr-xr-x 1 root root  6647 Jan 13 16:51 priweavepng\n",
            "-rwxr-xr-x 1 root root   220 Jan 13 17:01 pt2to3\n",
            "-rwxr-xr-x 1 root root   220 Jan 13 17:01 ptdump\n",
            "-rwxr-xr-x 1 root root   222 Jan 13 17:01 ptrepack\n",
            "-rwxr-xr-x 1 root root   220 Jan 13 17:01 pttree\n",
            "-rwxr-xr-x 1 root root  2615 Jan 13 16:59 pyami_sendmail\n",
            "-rwxr-xr-x 1 root root   222 Jan 13 16:59 pybabel\n",
            "drwxr-xr-x 1 root root  4096 Jan 21 19:04 __pycache__\n",
            "-rwxr-xr-x 1 root root    54 Jan 13 17:00 pycc\n",
            "-rwxr-xr-x 1 root root   215 Jan 13 16:59 pygmentize\n",
            "-rwxr-xr-x 1 root root   212 Jan 13 17:00 pyrsa-decrypt\n",
            "-rwxr-xr-x 1 root root   212 Jan 13 17:00 pyrsa-encrypt\n",
            "-rwxr-xr-x 1 root root   210 Jan 13 17:00 pyrsa-keygen\n",
            "-rwxr-xr-x 1 root root   233 Jan 13 17:00 pyrsa-priv2pub\n",
            "-rwxr-xr-x 1 root root   206 Jan 13 17:00 pyrsa-sign\n",
            "-rwxr-xr-x 1 root root   210 Jan 13 17:00 pyrsa-verify\n",
            "-rwxr-xr-x 1 root root  2987 Jan 21 19:04 pyspark\n",
            "-rwxr-xr-x 1 root root  1540 Jan 21 19:04 pyspark2.cmd\n",
            "-rwxr-xr-x 1 root root  1170 Jan 21 19:04 pyspark.cmd\n",
            "-rwxr-xr-x 1 root root   205 Jan 13 16:59 pytest\n",
            "-rwxr-xr-x 1 root root   205 Jan 13 16:59 py.test\n",
            "-r-xr-xr-x 1 root root  1374 Jan  1  2000 python\n",
            "-r-xr-xr-x 1 root root   377 Jan  1  2000 R\n",
            "-rwxr-xr-x 1 root root  2855 Jan 13 17:00 range-detector\n",
            "-rwxr-xr-x 1 root root   267 Jan 13 17:00 rl_tuner_train\n",
            "-rwxr-xr-x 1 root root  9032 Jan 13 16:59 route53\n",
            "-rwxr-xr-x 1 root root   714 Jan 13 16:59 rst2html4.py\n",
            "-rw-r--r-- 1 root root   726 Jan 13 16:59 rst2html4.pyc\n",
            "-rwxr-xr-x 1 root root  1139 Jan 13 16:59 rst2html5.py\n",
            "-rw-r--r-- 1 root root   730 Jan 13 16:59 rst2html5.pyc\n",
            "-rwxr-xr-x 1 root root   594 Jan 13 16:59 rst2html.py\n",
            "-rw-r--r-- 1 root root   604 Jan 13 16:59 rst2html.pyc\n",
            "-rwxr-xr-x 1 root root   791 Jan 13 16:59 rst2latex.py\n",
            "-rw-r--r-- 1 root root   734 Jan 13 16:59 rst2latex.pyc\n",
            "-rwxr-xr-x 1 root root   600 Jan 13 16:59 rst2man.py\n",
            "-rw-r--r-- 1 root root   709 Jan 13 16:59 rst2man.pyc\n",
            "-rwxr-xr-x 1 root root  1698 Jan 13 16:59 rst2odt_prepstyles.py\n",
            "-rw-r--r-- 1 root root  2044 Jan 13 16:59 rst2odt_prepstyles.pyc\n",
            "-rwxr-xr-x 1 root root   764 Jan 13 16:59 rst2odt.py\n",
            "-rw-r--r-- 1 root root   803 Jan 13 16:59 rst2odt.pyc\n",
            "-rwxr-xr-x 1 root root   601 Jan 13 16:59 rst2pseudoxml.py\n",
            "-rw-r--r-- 1 root root   600 Jan 13 16:59 rst2pseudoxml.pyc\n",
            "-rwxr-xr-x 1 root root   637 Jan 13 16:59 rst2s5.py\n",
            "-rw-r--r-- 1 root root   649 Jan 13 16:59 rst2s5.pyc\n",
            "-rwxr-xr-x 1 root root   871 Jan 13 16:59 rst2xetex.py\n",
            "-rw-r--r-- 1 root root   817 Jan 13 16:59 rst2xetex.pyc\n",
            "-rwxr-xr-x 1 root root   602 Jan 13 16:59 rst2xml.py\n",
            "-rw-r--r-- 1 root root   612 Jan 13 16:59 rst2xml.pyc\n",
            "-rwxr-xr-x 1 root root   670 Jan 13 16:59 rstpep2html.py\n",
            "-rw-r--r-- 1 root root   680 Jan 13 16:59 rstpep2html.pyc\n",
            "-rwxr-xr-x 1 root root  1030 Jan 21 19:04 run-example\n",
            "-rwxr-xr-x 1 root root  1223 Jan 21 19:04 run-example.cmd\n",
            "-rwxr-xr-x 1 root root 16253 Jan 13 17:01 runxlrd.py\n",
            "-rw-r--r-- 1 root root 14693 Jan 13 17:01 runxlrd.pyc\n",
            "-rwxr-xr-x 1 root root 16837 Jan 13 16:59 s3put\n",
            "-rwxr-xr-x 1 root root   234 Jan 13 16:59 samp_hub\n",
            "-rwxr-xr-x 1 root root   205 Jan 13 17:00 sample\n",
            "-rwxr-xr-x 1 root root   238 Jan 13 16:59 saved_model_cli\n",
            "-rwxr-xr-x 1 root root  6993 Jan 13 16:59 sdbadmin\n",
            "-rwxr-xr-x 1 root root   230 Jan 13 16:49 showtable\n",
            "-rwxr-xr-x 1 root root   271 Jan 13 17:00 sketch_rnn_train\n",
            "-rwxr-xr-x 1 root root   220 Jan 13 17:00 skivi\n",
            "-rwxr-xr-x 1 root root   214 Jan 13 17:00 slugify\n",
            "-rwxr-xr-x 1 root root    21 Jan 13 16:54 spacy\n",
            "-rwxr-xr-x 1 root root  3196 Jan 21 19:04 spark-class\n",
            "-rwxr-xr-x 1 root root  2817 Jan 21 19:04 spark-class2.cmd\n",
            "-rwxr-xr-x 1 root root  1180 Jan 21 19:04 spark-class.cmd\n",
            "-rwxr-xr-x 1 root root  1039 Jan 21 19:04 sparkR\n",
            "-rwxr-xr-x 1 root root  1097 Jan 21 19:04 sparkR2.cmd\n",
            "-rwxr-xr-x 1 root root  1168 Jan 21 19:04 sparkR.cmd\n",
            "-rwxr-xr-x 1 root root  3122 Jan 21 19:04 spark-shell\n",
            "-rwxr-xr-x 1 root root  1818 Jan 21 19:04 spark-shell2.cmd\n",
            "-rwxr-xr-x 1 root root  1178 Jan 21 19:04 spark-shell.cmd\n",
            "-rwxr-xr-x 1 root root  1065 Jan 21 19:04 spark-sql\n",
            "-rwxr-xr-x 1 root root  1118 Jan 21 19:04 spark-sql2.cmd\n",
            "-rwxr-xr-x 1 root root  1173 Jan 21 19:04 spark-sql.cmd\n",
            "-rwxr-xr-x 1 root root  1040 Jan 21 19:04 spark-submit\n",
            "-rwxr-xr-x 1 root root  1155 Jan 21 19:04 spark-submit2.cmd\n",
            "-rwxr-xr-x 1 root root  1180 Jan 21 19:04 spark-submit.cmd\n",
            "-rwxr-xr-x 1 root root   216 Jan 13 17:01 sphinx-apidoc\n",
            "-rwxr-xr-x 1 root root   230 Jan 13 17:01 sphinx-autogen\n",
            "-rwxr-xr-x 1 root root   215 Jan 13 17:01 sphinx-build\n",
            "-rwxr-xr-x 1 root root   220 Jan 13 17:01 sphinx-quickstart\n",
            "-rwxr-xr-x 1 root root   216 Jan 13 17:00 sqlformat\n",
            "-rwxr-xr-x 1 root root   345 Jan 13 17:01 t2t-avg-all\n",
            "-rwxr-xr-x 1 root root   337 Jan 13 17:01 t2t-bleu\n",
            "-rwxr-xr-x 1 root root   635 Jan 13 17:01 t2t-datagen\n",
            "-rwxr-xr-x 1 root root   345 Jan 13 17:01 t2t-decoder\n",
            "-rwxr-xr-x 1 root root   662 Jan 13 16:51 t2t-eval\n",
            "-rwxr-xr-x 1 root root   340 Jan 13 17:01 t2t-exporter\n",
            "-rwxr-xr-x 1 root root   348 Jan 13 17:01 t2t-insights-server\n",
            "-rwxr-xr-x 1 root root   361 Jan 13 17:01 t2t-make-tf-configs\n",
            "-rwxr-xr-x 1 root root   342 Jan 13 17:01 t2t-query-server\n",
            "-rwxr-xr-x 1 root root   734 Jan 13 17:01 t2t-trainer\n",
            "-rwxr-xr-x 1 root root   364 Jan 13 17:01 t2t-translate-all\n",
            "-rwxr-xr-x 1 root root   209 Jan 13 17:01 tabulate\n",
            "-rwxr-xr-x 1 root root  3767 Jan 13 16:59 taskadmin\n",
            "-rwxr-xr-x 1 root root   223 Jan 13 16:59 tensorboard\n",
            "-r-xr-xr-x 1 root root  4015 Jan  1  2000 test-importability.py\n",
            "-rwxr-xr-x 1 root root   236 Jan 13 16:59 tflite_convert\n",
            "-rwxr-xr-x 1 root root   248 Jan 13 16:59 tf_upgrade_v2\n",
            "-rwxr-xr-x 1 root root   215 Jan 13 17:00 theano-cache\n",
            "-rwxr-xr-x 1 root root   214 Jan 13 17:00 theano-nose\n",
            "-rwxr-xr-x 1 root root  1981 Jan 13 16:59 thresholder.py\n",
            "-rw-r--r-- 1 root root  2547 Jan 13 16:59 thresholder.pyc\n",
            "-rwxr-xr-x 1 root root   236 Jan 13 16:59 toco\n",
            "-rwxr-xr-x 1 root root   243 Jan 13 16:59 toco_from_protos\n",
            "-rwxr-xr-x 1 root root   209 Jan 13 16:59 tqdm\n",
            "-rwxr-xr-x 1 root root   587 Jan 13 16:59 undill\n",
            "-rwxr-xr-x 1 root root  1020 Jan 13 16:59 viewer.py\n",
            "-rw-r--r-- 1 root root  1419 Jan 13 16:59 viewer.pyc\n",
            "-rwxr-xr-x 1 root root   224 Jan 13 16:59 volint\n",
            "-rwxr-xr-x 1 root root   218 Jan 13 16:59 wcslint\n",
            "-rwxr-xr-x 1 root root   208 Dec 18 16:49 wheel\n",
            "-rwxr-xr-x 1 root root   217 Jan 13 17:01 wordcloud_cli\n"
          ],
          "name": "stdout"
        }
      ]
    },
    {
      "cell_type": "code",
      "metadata": {
        "id": "s2TVKq8lpI9f",
        "colab_type": "code",
        "outputId": "d65907b3-de7e-4008-a34f-11ae4d1a4d32",
        "colab": {
          "base_uri": "https://localhost:8080/",
          "height": 35
        }
      },
      "source": [
        ""
      ],
      "execution_count": 0,
      "outputs": [
        {
          "output_type": "stream",
          "text": [
            "ls: cannot access '/src/main': No such file or directory\n"
          ],
          "name": "stdout"
        }
      ]
    },
    {
      "cell_type": "code",
      "metadata": {
        "id": "KHWP4nvZpR4P",
        "colab_type": "code",
        "outputId": "d6cebf4f-c902-4ca6-a62b-4fe05d54e1fe",
        "colab": {
          "base_uri": "https://localhost:8080/",
          "height": 654
        }
      },
      "source": [
        "!/usr/local/bin/pyspark"
      ],
      "execution_count": 0,
      "outputs": [
        {
          "output_type": "stream",
          "text": [
            "Python 3.6.9 (default, Nov  7 2019, 10:44:02) \n",
            "[GCC 8.3.0] on linux\n",
            "Type \"help\", \"copyright\", \"credits\" or \"license\" for more information.\n",
            "20/01/21 19:54:34 WARN NativeCodeLoader: Unable to load native-hadoop library for your platform... using builtin-java classes where applicable\n",
            "Using Spark's default log4j profile: org/apache/spark/log4j-defaults.properties\n",
            "Setting default log level to \"WARN\".\n",
            "To adjust logging level use sc.setLogLevel(newLevel). For SparkR, use setLogLevel(newLevel).\n",
            "20/01/21 19:54:36 WARN Utils: Service 'SparkUI' could not bind on port 4040. Attempting port 4041.\n",
            "Welcome to\n",
            "      ____              __\n",
            "     / __/__  ___ _____/ /__\n",
            "    _\\ \\/ _ \\/ _ `/ __/  '_/\n",
            "   /__ / .__/\\_,_/_/ /_/\\_\\   version 2.4.4\n",
            "      /_/\n",
            "\n",
            "Using Python version 3.6.9 (default, Nov  7 2019 10:44:02)\n",
            "SparkSession available as 'spark'.\n",
            ">>> spark\n",
            "<pyspark.sql.session.SparkSession object at 0x7f6a1d5a62e8>\n",
            ">>> \n",
            "Traceback (most recent call last):\n",
            "  File \"/content/spark-2.4.4-bin-hadoop2.7/python/pyspark/context.py\", line 269, in signal_handler\n",
            "    self.cancelAllJobs()\n",
            "  File \"/content/spark-2.4.4-bin-hadoop2.7/python/pyspark/context.py\", line 1039, in cancelAllJobs\n",
            "    self._jsc.sc().cancelAllJobs()\n",
            "  File \"/content/spark-2.4.4-bin-hadoop2.7/python/lib/py4j-0.10.7-src.zip/py4j/java_gateway.py\", line 1255, in __call__\n",
            "  File \"/content/spark-2.4.4-bin-hadoop2.7/python/lib/py4j-0.10.7-src.zip/py4j/java_gateway.py\", line 985, in send_command\n",
            "  File \"/content/spark-2.4.4-bin-hadoop2.7/python/lib/py4j-0.10.7-src.zip/py4j/java_gateway.py\", line 1152, in send_command\n",
            "  File \"/usr/lib/python3.6/socket.py\", line 586, in readinto\n",
            "    return self._sock.recv_into(b)\n",
            "  File \"/content/spark-2.4.4-bin-hadoop2.7/python/pyspark/context.py\", line 270, in signal_handler\n",
            "    raise KeyboardInterrupt()\n",
            "KeyboardInterrupt\n",
            ">>> \n",
            "^C\n"
          ],
          "name": "stdout"
        }
      ]
    },
    {
      "cell_type": "code",
      "metadata": {
        "id": "fIUbWPixq6DW",
        "colab_type": "code",
        "outputId": "cdfed7ff-d6cf-4225-ffbb-5c2ac0b28dc4",
        "colab": {
          "base_uri": "https://localhost:8080/",
          "height": 1000
        }
      },
      "source": [
        "!/usr/local/bin/run-example SparkPi 10"
      ],
      "execution_count": 0,
      "outputs": [
        {
          "output_type": "stream",
          "text": [
            "20/01/21 19:56:15 WARN NativeCodeLoader: Unable to load native-hadoop library for your platform... using builtin-java classes where applicable\n",
            "Using Spark's default log4j profile: org/apache/spark/log4j-defaults.properties\n",
            "20/01/21 19:56:15 INFO SparkContext: Running Spark version 2.4.4\n",
            "20/01/21 19:56:15 INFO SparkContext: Submitted application: Spark Pi\n",
            "20/01/21 19:56:15 INFO SecurityManager: Changing view acls to: root\n",
            "20/01/21 19:56:15 INFO SecurityManager: Changing modify acls to: root\n",
            "20/01/21 19:56:15 INFO SecurityManager: Changing view acls groups to: \n",
            "20/01/21 19:56:15 INFO SecurityManager: Changing modify acls groups to: \n",
            "20/01/21 19:56:15 INFO SecurityManager: SecurityManager: authentication disabled; ui acls disabled; users  with view permissions: Set(root); groups with view permissions: Set(); users  with modify permissions: Set(root); groups with modify permissions: Set()\n",
            "20/01/21 19:56:16 INFO Utils: Successfully started service 'sparkDriver' on port 42741.\n",
            "20/01/21 19:56:16 INFO SparkEnv: Registering MapOutputTracker\n",
            "20/01/21 19:56:16 INFO SparkEnv: Registering BlockManagerMaster\n",
            "20/01/21 19:56:16 INFO BlockManagerMasterEndpoint: Using org.apache.spark.storage.DefaultTopologyMapper for getting topology information\n",
            "20/01/21 19:56:16 INFO BlockManagerMasterEndpoint: BlockManagerMasterEndpoint up\n",
            "20/01/21 19:56:16 INFO DiskBlockManager: Created local directory at /tmp/blockmgr-c76f7f4c-bac6-43ea-ac5b-57c8c79c8396\n",
            "20/01/21 19:56:16 INFO MemoryStore: MemoryStore started with capacity 366.3 MB\n",
            "20/01/21 19:56:16 INFO SparkEnv: Registering OutputCommitCoordinator\n",
            "20/01/21 19:56:16 WARN Utils: Service 'SparkUI' could not bind on port 4040. Attempting port 4041.\n",
            "20/01/21 19:56:16 INFO Utils: Successfully started service 'SparkUI' on port 4041.\n",
            "20/01/21 19:56:16 INFO SparkUI: Bound SparkUI to 0.0.0.0, and started at http://1228b4012bf3:4041\n",
            "20/01/21 19:56:16 INFO SparkContext: Added JAR file:///content/spark-2.4.4-bin-hadoop2.7/examples/jars/spark-examples_2.11-2.4.4.jar at spark://1228b4012bf3:42741/jars/spark-examples_2.11-2.4.4.jar with timestamp 1579636576728\n",
            "20/01/21 19:56:16 INFO SparkContext: Added JAR file:///content/spark-2.4.4-bin-hadoop2.7/examples/jars/scopt_2.11-3.7.0.jar at spark://1228b4012bf3:42741/jars/scopt_2.11-3.7.0.jar with timestamp 1579636576729\n",
            "20/01/21 19:56:16 INFO Executor: Starting executor ID driver on host localhost\n",
            "20/01/21 19:56:16 INFO Utils: Successfully started service 'org.apache.spark.network.netty.NettyBlockTransferService' on port 37105.\n",
            "20/01/21 19:56:16 INFO NettyBlockTransferService: Server created on 1228b4012bf3:37105\n",
            "20/01/21 19:56:16 INFO BlockManager: Using org.apache.spark.storage.RandomBlockReplicationPolicy for block replication policy\n",
            "20/01/21 19:56:16 INFO BlockManagerMaster: Registering BlockManager BlockManagerId(driver, 1228b4012bf3, 37105, None)\n",
            "20/01/21 19:56:16 INFO BlockManagerMasterEndpoint: Registering block manager 1228b4012bf3:37105 with 366.3 MB RAM, BlockManagerId(driver, 1228b4012bf3, 37105, None)\n",
            "20/01/21 19:56:16 INFO BlockManagerMaster: Registered BlockManager BlockManagerId(driver, 1228b4012bf3, 37105, None)\n",
            "20/01/21 19:56:16 INFO BlockManager: Initialized BlockManager: BlockManagerId(driver, 1228b4012bf3, 37105, None)\n",
            "20/01/21 19:56:17 INFO SparkContext: Starting job: reduce at SparkPi.scala:38\n",
            "20/01/21 19:56:17 INFO DAGScheduler: Got job 0 (reduce at SparkPi.scala:38) with 10 output partitions\n",
            "20/01/21 19:56:17 INFO DAGScheduler: Final stage: ResultStage 0 (reduce at SparkPi.scala:38)\n",
            "20/01/21 19:56:17 INFO DAGScheduler: Parents of final stage: List()\n",
            "20/01/21 19:56:17 INFO DAGScheduler: Missing parents: List()\n",
            "20/01/21 19:56:17 INFO DAGScheduler: Submitting ResultStage 0 (MapPartitionsRDD[1] at map at SparkPi.scala:34), which has no missing parents\n",
            "20/01/21 19:56:17 INFO MemoryStore: Block broadcast_0 stored as values in memory (estimated size 1936.0 B, free 366.3 MB)\n",
            "20/01/21 19:56:18 INFO MemoryStore: Block broadcast_0_piece0 stored as bytes in memory (estimated size 1256.0 B, free 366.3 MB)\n",
            "20/01/21 19:56:18 INFO BlockManagerInfo: Added broadcast_0_piece0 in memory on 1228b4012bf3:37105 (size: 1256.0 B, free: 366.3 MB)\n",
            "20/01/21 19:56:18 INFO SparkContext: Created broadcast 0 from broadcast at DAGScheduler.scala:1161\n",
            "20/01/21 19:56:18 INFO DAGScheduler: Submitting 10 missing tasks from ResultStage 0 (MapPartitionsRDD[1] at map at SparkPi.scala:34) (first 15 tasks are for partitions Vector(0, 1, 2, 3, 4, 5, 6, 7, 8, 9))\n",
            "20/01/21 19:56:18 INFO TaskSchedulerImpl: Adding task set 0.0 with 10 tasks\n",
            "20/01/21 19:56:18 INFO TaskSetManager: Starting task 0.0 in stage 0.0 (TID 0, localhost, executor driver, partition 0, PROCESS_LOCAL, 7866 bytes)\n",
            "20/01/21 19:56:18 INFO TaskSetManager: Starting task 1.0 in stage 0.0 (TID 1, localhost, executor driver, partition 1, PROCESS_LOCAL, 7866 bytes)\n",
            "20/01/21 19:56:18 INFO Executor: Running task 0.0 in stage 0.0 (TID 0)\n",
            "20/01/21 19:56:18 INFO Executor: Fetching spark://1228b4012bf3:42741/jars/spark-examples_2.11-2.4.4.jar with timestamp 1579636576728\n",
            "20/01/21 19:56:18 INFO Executor: Running task 1.0 in stage 0.0 (TID 1)\n",
            "20/01/21 19:56:18 INFO TransportClientFactory: Successfully created connection to 1228b4012bf3/172.28.0.2:42741 after 50 ms (0 ms spent in bootstraps)\n",
            "20/01/21 19:56:18 INFO Utils: Fetching spark://1228b4012bf3:42741/jars/spark-examples_2.11-2.4.4.jar to /tmp/spark-1cf79731-f71b-44eb-b713-7f73d281ea36/userFiles-c5651447-1420-4ef0-9011-9dc048eeb26a/fetchFileTemp1033834767781438173.tmp\n",
            "20/01/21 19:56:18 INFO Executor: Adding file:/tmp/spark-1cf79731-f71b-44eb-b713-7f73d281ea36/userFiles-c5651447-1420-4ef0-9011-9dc048eeb26a/spark-examples_2.11-2.4.4.jar to class loader\n",
            "20/01/21 19:56:18 INFO Executor: Fetching spark://1228b4012bf3:42741/jars/scopt_2.11-3.7.0.jar with timestamp 1579636576729\n",
            "20/01/21 19:56:18 INFO Utils: Fetching spark://1228b4012bf3:42741/jars/scopt_2.11-3.7.0.jar to /tmp/spark-1cf79731-f71b-44eb-b713-7f73d281ea36/userFiles-c5651447-1420-4ef0-9011-9dc048eeb26a/fetchFileTemp5767242729051541245.tmp\n",
            "20/01/21 19:56:18 INFO Executor: Adding file:/tmp/spark-1cf79731-f71b-44eb-b713-7f73d281ea36/userFiles-c5651447-1420-4ef0-9011-9dc048eeb26a/scopt_2.11-3.7.0.jar to class loader\n",
            "20/01/21 19:56:18 INFO Executor: Finished task 0.0 in stage 0.0 (TID 0). 824 bytes result sent to driver\n",
            "20/01/21 19:56:18 INFO Executor: Finished task 1.0 in stage 0.0 (TID 1). 824 bytes result sent to driver\n",
            "20/01/21 19:56:18 INFO TaskSetManager: Starting task 2.0 in stage 0.0 (TID 2, localhost, executor driver, partition 2, PROCESS_LOCAL, 7866 bytes)\n",
            "20/01/21 19:56:18 INFO Executor: Running task 2.0 in stage 0.0 (TID 2)\n",
            "20/01/21 19:56:18 INFO TaskSetManager: Starting task 3.0 in stage 0.0 (TID 3, localhost, executor driver, partition 3, PROCESS_LOCAL, 7866 bytes)\n",
            "20/01/21 19:56:18 INFO Executor: Running task 3.0 in stage 0.0 (TID 3)\n",
            "20/01/21 19:56:18 INFO TaskSetManager: Finished task 1.0 in stage 0.0 (TID 1) in 470 ms on localhost (executor driver) (1/10)\n",
            "20/01/21 19:56:18 INFO TaskSetManager: Finished task 0.0 in stage 0.0 (TID 0) in 515 ms on localhost (executor driver) (2/10)\n",
            "20/01/21 19:56:18 INFO Executor: Finished task 3.0 in stage 0.0 (TID 3). 824 bytes result sent to driver\n",
            "20/01/21 19:56:18 INFO Executor: Finished task 2.0 in stage 0.0 (TID 2). 824 bytes result sent to driver\n",
            "20/01/21 19:56:18 INFO TaskSetManager: Starting task 4.0 in stage 0.0 (TID 4, localhost, executor driver, partition 4, PROCESS_LOCAL, 7866 bytes)\n",
            "20/01/21 19:56:18 INFO Executor: Running task 4.0 in stage 0.0 (TID 4)\n",
            "20/01/21 19:56:18 INFO TaskSetManager: Starting task 5.0 in stage 0.0 (TID 5, localhost, executor driver, partition 5, PROCESS_LOCAL, 7866 bytes)\n",
            "20/01/21 19:56:18 INFO Executor: Running task 5.0 in stage 0.0 (TID 5)\n",
            "20/01/21 19:56:18 INFO TaskSetManager: Finished task 3.0 in stage 0.0 (TID 3) in 97 ms on localhost (executor driver) (3/10)\n",
            "20/01/21 19:56:18 INFO TaskSetManager: Finished task 2.0 in stage 0.0 (TID 2) in 107 ms on localhost (executor driver) (4/10)\n",
            "20/01/21 19:56:18 INFO Executor: Finished task 5.0 in stage 0.0 (TID 5). 824 bytes result sent to driver\n",
            "20/01/21 19:56:18 INFO Executor: Finished task 4.0 in stage 0.0 (TID 4). 824 bytes result sent to driver\n",
            "20/01/21 19:56:18 INFO TaskSetManager: Starting task 6.0 in stage 0.0 (TID 6, localhost, executor driver, partition 6, PROCESS_LOCAL, 7866 bytes)\n",
            "20/01/21 19:56:18 INFO TaskSetManager: Finished task 5.0 in stage 0.0 (TID 5) in 50 ms on localhost (executor driver) (5/10)\n",
            "20/01/21 19:56:18 INFO TaskSetManager: Starting task 7.0 in stage 0.0 (TID 7, localhost, executor driver, partition 7, PROCESS_LOCAL, 7866 bytes)\n",
            "20/01/21 19:56:18 INFO Executor: Running task 7.0 in stage 0.0 (TID 7)\n",
            "20/01/21 19:56:18 INFO TaskSetManager: Finished task 4.0 in stage 0.0 (TID 4) in 68 ms on localhost (executor driver) (6/10)\n",
            "20/01/21 19:56:18 INFO Executor: Running task 6.0 in stage 0.0 (TID 6)\n",
            "20/01/21 19:56:18 INFO Executor: Finished task 6.0 in stage 0.0 (TID 6). 824 bytes result sent to driver\n",
            "20/01/21 19:56:18 INFO TaskSetManager: Starting task 8.0 in stage 0.0 (TID 8, localhost, executor driver, partition 8, PROCESS_LOCAL, 7866 bytes)\n",
            "20/01/21 19:56:18 INFO Executor: Running task 8.0 in stage 0.0 (TID 8)\n",
            "20/01/21 19:56:18 INFO TaskSetManager: Finished task 6.0 in stage 0.0 (TID 6) in 35 ms on localhost (executor driver) (7/10)\n",
            "20/01/21 19:56:18 INFO Executor: Finished task 7.0 in stage 0.0 (TID 7). 824 bytes result sent to driver\n",
            "20/01/21 19:56:18 INFO TaskSetManager: Starting task 9.0 in stage 0.0 (TID 9, localhost, executor driver, partition 9, PROCESS_LOCAL, 7866 bytes)\n",
            "20/01/21 19:56:18 INFO Executor: Running task 9.0 in stage 0.0 (TID 9)\n",
            "20/01/21 19:56:18 INFO TaskSetManager: Finished task 7.0 in stage 0.0 (TID 7) in 75 ms on localhost (executor driver) (8/10)\n",
            "20/01/21 19:56:18 INFO Executor: Finished task 8.0 in stage 0.0 (TID 8). 824 bytes result sent to driver\n",
            "20/01/21 19:56:18 INFO TaskSetManager: Finished task 8.0 in stage 0.0 (TID 8) in 65 ms on localhost (executor driver) (9/10)\n",
            "20/01/21 19:56:18 INFO Executor: Finished task 9.0 in stage 0.0 (TID 9). 824 bytes result sent to driver\n",
            "20/01/21 19:56:18 INFO TaskSetManager: Finished task 9.0 in stage 0.0 (TID 9) in 31 ms on localhost (executor driver) (10/10)\n",
            "20/01/21 19:56:18 INFO DAGScheduler: ResultStage 0 (reduce at SparkPi.scala:38) finished in 0.996 s\n",
            "20/01/21 19:56:18 INFO TaskSchedulerImpl: Removed TaskSet 0.0, whose tasks have all completed, from pool \n",
            "20/01/21 19:56:18 INFO DAGScheduler: Job 0 finished: reduce at SparkPi.scala:38, took 1.109023 s\n",
            "Pi is roughly 3.141983141983142\n",
            "20/01/21 19:56:18 INFO SparkUI: Stopped Spark web UI at http://1228b4012bf3:4041\n",
            "20/01/21 19:56:18 INFO MapOutputTrackerMasterEndpoint: MapOutputTrackerMasterEndpoint stopped!\n",
            "20/01/21 19:56:18 INFO MemoryStore: MemoryStore cleared\n",
            "20/01/21 19:56:18 INFO BlockManager: BlockManager stopped\n",
            "20/01/21 19:56:18 INFO BlockManagerMaster: BlockManagerMaster stopped\n",
            "20/01/21 19:56:18 INFO OutputCommitCoordinator$OutputCommitCoordinatorEndpoint: OutputCommitCoordinator stopped!\n",
            "20/01/21 19:56:18 INFO SparkContext: Successfully stopped SparkContext\n",
            "20/01/21 19:56:18 INFO ShutdownHookManager: Shutdown hook called\n",
            "20/01/21 19:56:18 INFO ShutdownHookManager: Deleting directory /tmp/spark-1cf79731-f71b-44eb-b713-7f73d281ea36\n",
            "20/01/21 19:56:18 INFO ShutdownHookManager: Deleting directory /tmp/spark-6f4d7210-93a7-4653-aa88-2d07dfac30fe\n"
          ],
          "name": "stdout"
        }
      ]
    },
    {
      "cell_type": "code",
      "metadata": {
        "id": "3K4V9nSlrULe",
        "colab_type": "code",
        "colab": {}
      },
      "source": [
        "!wget -q https://gist.githubusercontent.com/PurpleBooth/109311bb0361f32d87a2/raw/8254b53ab8dcb18afc64287aaddd9e5b6059f880/README-Template.md"
      ],
      "execution_count": 0,
      "outputs": []
    },
    {
      "cell_type": "code",
      "metadata": {
        "id": "34jtsgqEwuBV",
        "colab_type": "code",
        "colab": {}
      },
      "source": [
        "textFile = spark.read.text(\"README-Template.md\")"
      ],
      "execution_count": 0,
      "outputs": []
    },
    {
      "cell_type": "code",
      "metadata": {
        "id": "fpnkPT3owyZc",
        "colab_type": "code",
        "outputId": "47e0dd0b-3339-4401-eb2e-8a04f6dcb1dc",
        "colab": {
          "base_uri": "https://localhost:8080/",
          "height": 490
        }
      },
      "source": [
        "textFile.show()"
      ],
      "execution_count": 0,
      "outputs": [
        {
          "output_type": "stream",
          "text": [
            "+--------------------+\n",
            "|               value|\n",
            "+--------------------+\n",
            "|     # Project Title|\n",
            "|                    |\n",
            "|One Paragraph of ...|\n",
            "|                    |\n",
            "|  ## Getting Started|\n",
            "|                    |\n",
            "|These instruction...|\n",
            "|                    |\n",
            "|   ### Prerequisites|\n",
            "|                    |\n",
            "|What things you n...|\n",
            "|                    |\n",
            "|                 ```|\n",
            "|       Give examples|\n",
            "|                 ```|\n",
            "|                    |\n",
            "|      ### Installing|\n",
            "|                    |\n",
            "|A step by step se...|\n",
            "|                    |\n",
            "+--------------------+\n",
            "only showing top 20 rows\n",
            "\n"
          ],
          "name": "stdout"
        }
      ]
    },
    {
      "cell_type": "code",
      "metadata": {
        "id": "gUFZKz8Jw3wE",
        "colab_type": "code",
        "outputId": "208dd7a8-7c02-4e29-b0ca-78250fd29376",
        "colab": {
          "base_uri": "https://localhost:8080/",
          "height": 35
        }
      },
      "source": [
        "textFile.count()"
      ],
      "execution_count": 0,
      "outputs": [
        {
          "output_type": "execute_result",
          "data": {
            "text/plain": [
              "88"
            ]
          },
          "metadata": {
            "tags": []
          },
          "execution_count": 119
        }
      ]
    },
    {
      "cell_type": "code",
      "metadata": {
        "id": "_nfH5ZFWw7FE",
        "colab_type": "code",
        "outputId": "bda94264-0451-44ae-dd51-e0c91d16b81e",
        "colab": {
          "base_uri": "https://localhost:8080/",
          "height": 35
        }
      },
      "source": [
        "textFile.first()"
      ],
      "execution_count": 0,
      "outputs": [
        {
          "output_type": "execute_result",
          "data": {
            "text/plain": [
              "Row(value='# Project Title')"
            ]
          },
          "metadata": {
            "tags": []
          },
          "execution_count": 120
        }
      ]
    },
    {
      "cell_type": "code",
      "metadata": {
        "id": "TM5JyL44w83U",
        "colab_type": "code",
        "colab": {}
      },
      "source": [
        "from pyspark.sql import SparkSession"
      ],
      "execution_count": 0,
      "outputs": []
    },
    {
      "cell_type": "code",
      "metadata": {
        "id": "gty96mkUxPkC",
        "colab_type": "code",
        "colab": {}
      },
      "source": [
        "\n",
        "\n",
        "# spark is an existing SparkSession\n",
        "df = spark.read.json(\"examples/src/main/resources/people.json\")\n",
        "# Displays the content of the DataFrame to stdout\n",
        "df.show()\n",
        "\n"
      ],
      "execution_count": 0,
      "outputs": []
    },
    {
      "cell_type": "code",
      "metadata": {
        "id": "zh0c6ZBTxWa9",
        "colab_type": "code",
        "outputId": "d98cc532-bf08-4c80-9788-0b4f75bb381d",
        "colab": {
          "base_uri": "https://localhost:8080/",
          "height": 217
        }
      },
      "source": [
        "!ls -l /usr/"
      ],
      "execution_count": 0,
      "outputs": [
        {
          "output_type": "stream",
          "text": [
            "total 44\n",
            "drwxr-xr-x 1 root root 4096 Dec 18 16:51 bin\n",
            "drwxr-xr-x 2 root root 4096 Apr 24  2018 games\n",
            "drwxr-xr-x 1 root root 4096 Dec 18 16:48 grte\n",
            "drwxr-xr-x 1 root root 4096 Dec 18 16:47 include\n",
            "drwxr-xr-x 1 root root 4096 Dec 18 16:47 lib\n",
            "drwxr-xr-x 3 root root 4096 Dec 18 16:43 lib32\n",
            "drwxr-xr-x 1 root root 4096 Jan 13 16:59 local\n",
            "drwxr-xr-x 1 root root 4096 Dec 18 16:46 sbin\n",
            "drwxr-xr-x 1 root root 4096 Dec 18 16:51 share\n",
            "drwxr-xr-x 1 root root 4096 Dec 18 16:47 src\n"
          ],
          "name": "stdout"
        }
      ]
    },
    {
      "cell_type": "code",
      "metadata": {
        "id": "t5E1G5icxYQT",
        "colab_type": "code",
        "outputId": "60ca9206-e1ee-48e3-9dc7-1d7bb55a8b7a",
        "colab": {
          "base_uri": "https://localhost:8080/",
          "height": 35
        }
      },
      "source": [
        "!whereis *bin-hadoop2.7"
      ],
      "execution_count": 0,
      "outputs": [
        {
          "output_type": "stream",
          "text": [
            "spark-2.4.4-bin-hadoop2:\n"
          ],
          "name": "stdout"
        }
      ]
    },
    {
      "cell_type": "code",
      "metadata": {
        "id": "DNKpt1s5xxwB",
        "colab_type": "code",
        "outputId": "f2ab366d-8f35-46a2-885d-5b579f040912",
        "colab": {
          "base_uri": "https://localhost:8080/",
          "height": 35
        }
      },
      "source": [
        "!whereis spark-2.4.4-bin-hadoop2"
      ],
      "execution_count": 0,
      "outputs": [
        {
          "output_type": "stream",
          "text": [
            "spark-2.4:\n"
          ],
          "name": "stdout"
        }
      ]
    },
    {
      "cell_type": "code",
      "metadata": {
        "id": "kK6l6EBWyAWX",
        "colab_type": "code",
        "outputId": "e45c38f9-55c2-4c9e-949e-639e6beffd93",
        "colab": {
          "base_uri": "https://localhost:8080/",
          "height": 35
        }
      },
      "source": [
        "!whereis spark-2.4"
      ],
      "execution_count": 0,
      "outputs": [
        {
          "output_type": "stream",
          "text": [
            "spark-2:\n"
          ],
          "name": "stdout"
        }
      ]
    },
    {
      "cell_type": "code",
      "metadata": {
        "id": "l6mIQUtbyEpv",
        "colab_type": "code",
        "outputId": "56b0bd0a-3090-42f5-998f-b78a8fdc7c50",
        "colab": {
          "base_uri": "https://localhost:8080/",
          "height": 35
        }
      },
      "source": [
        "!whereis spark-2"
      ],
      "execution_count": 0,
      "outputs": [
        {
          "output_type": "stream",
          "text": [
            "spark-2:\n"
          ],
          "name": "stdout"
        }
      ]
    },
    {
      "cell_type": "code",
      "metadata": {
        "id": "QFNyblgNyGHg",
        "colab_type": "code",
        "outputId": "3bc065b3-de62-4579-aaf7-80e47ac8ad60",
        "colab": {
          "base_uri": "https://localhost:8080/",
          "height": 1000
        }
      },
      "source": [
        "!ls -l /usr/local/bin"
      ],
      "execution_count": 0,
      "outputs": [
        {
          "output_type": "stream",
          "text": [
            "total 1416\n",
            "-rwxr-xr-x 1 root root   308 Jan 13 17:00 arbitrary_image_stylization_evaluate\n",
            "-rwxr-xr-x 1 root root   305 Jan 13 17:00 arbitrary_image_stylization_train\n",
            "-rwxr-xr-x 1 root root   312 Jan 13 17:00 arbitrary_image_stylization_with_weights\n",
            "-rwxr-xr-x 1 root root 11986 Jan 13 16:59 asadmin\n",
            "-rwxr-xr-x 1 root root  1089 Jan 21 19:04 beeline\n",
            "-rwxr-xr-x 1 root root  1064 Jan 21 19:04 beeline.cmd\n",
            "-rwxr-xr-x 1 root root   213 Jan 13 16:59 bokeh\n",
            "-rwxr-xr-x 1 root root  1552 Jan 13 16:59 bundle_image\n",
            "-rwxr-xr-x 1 root root  3442 Jan 13 16:59 cfadmin\n",
            "-rwxr-xr-x 1 root root   221 Jan 13 16:59 chardetect\n",
            "-rwxr-xr-x 1 root root   206 Jan 13 16:59 cmake\n",
            "-rwxr-xr-x 1 root root   875 Jan 13 17:00 community\n",
            "-rwxr-xr-x 1 root root   252 Jan 13 16:59 convert-caffe2-to-onnx\n",
            "-rwxr-xr-x 1 root root   274 Jan 13 17:00 convert_dir_to_note_sequences\n",
            "-rwxr-xr-x 1 root root   252 Jan 13 16:59 convert-onnx-to-caffe2\n",
            "-rwxr-xr-x 1 root root   207 Jan 13 16:39 coverage\n",
            "-rwxr-xr-x 1 root root   207 Jan 13 16:39 coverage3\n",
            "-rwxr-xr-x 1 root root   207 Jan 13 16:39 coverage-3.6\n",
            "-rwxr-xr-x 1 root root   212 Jan 13 16:39 coveralls\n",
            "-rwxr-xr-x 1 root root   206 Jan 13 16:59 cpack\n",
            "-rwxr-xr-x 1 root root  3051 Jan 13 16:59 cq\n",
            "-rwxr-xr-x 1 root root   206 Jan 13 16:59 ctest\n",
            "-rwxr-xr-x 1 root root  5043 Jan 13 16:59 cwutil\n",
            "-rwxr-xr-x 1 root root   220 Jan 13 16:59 cygdb\n",
            "-rwxr-xr-x 1 root root   241 Jan 13 16:59 cython\n",
            "-rwxr-xr-x 1 root root   221 Jan 13 16:59 cythonize\n",
            "-rwxr-xr-x 1 root root   219 Jan 13 16:59 dask-mpi\n",
            "-rwxr-xr-x 1 root root   222 Jan 13 16:59 dask-remote\n",
            "-rwxr-xr-x 1 root root   225 Jan 13 16:59 dask-scheduler\n",
            "-rwxr-xr-x 1 root root   219 Jan 13 16:59 dask-ssh\n",
            "-rwxr-xr-x 1 root root   222 Jan 13 16:59 dask-submit\n",
            "-rwxr-xr-x 1 root root   222 Jan 13 16:59 dask-worker\n",
            "-rwxr-xr-x 1 root root   263 Jan 13 16:59 django-admin\n",
            "-rwxr-xr-x 1 root root   125 Jan 13 16:59 django-admin.py\n",
            "-rw-r--r-- 1 root root   308 Jan 13 16:59 django-admin.pyc\n",
            "-rwxr-xr-x 1 root root  5440 Jan 21 19:04 docker-image-tool.sh\n",
            "-rwxr-xr-x 1 root root   278 Jan 13 17:00 drums_rnn_create_dataset\n",
            "-rwxr-xr-x 1 root root   272 Jan 13 17:00 drums_rnn_generate\n",
            "-rwxr-xr-x 1 root root   269 Jan 13 17:00 drums_rnn_train\n",
            "-rwxr-xr-x 1 root root  2131 Jan 13 16:59 dynamodb_dump\n",
            "-rwxr-xr-x 1 root root  3501 Jan 13 16:59 dynamodb_load\n",
            "-rwxr-xr-x 1 root root   211 Jan 13 16:50 earthengine\n",
            "-rwxr-xr-x 1 root root   230 Dec 18 16:49 easy_install\n",
            "-rwxr-xr-x 1 root root   230 Dec 18 16:49 easy_install-2.7\n",
            "-rwxr-xr-x 1 root root   230 Dec 18 16:49 easy_install-3.6\n",
            "-rwxr-xr-x 1 root root  9691 Jan 13 16:59 elbadmin\n",
            "-rwxr-xr-x 1 root root  1573 Jan 13 16:59 enhancer.py\n",
            "-rw-r--r-- 1 root root  2087 Jan 13 16:59 enhancer.pyc\n",
            "-rwxr-xr-x 1 root root   263 Jan 13 16:59 estimator_ckpt_converter\n",
            "-rwxr-xr-x 1 root root  2438 Jan 13 16:59 explode.py\n",
            "-rw-r--r-- 1 root root  3014 Jan 13 16:59 explode.pyc\n",
            "-rwxr-xr-x 1 root root   216 Jan 13 16:49 f2py\n",
            "-rwxr-xr-x 1 root root   216 Jan 13 16:39 f2py2\n",
            "-rwxr-xr-x 1 root root   216 Jan 13 16:39 f2py2.7\n",
            "-rwxr-xr-x 1 root root   216 Jan 13 16:49 f2py3\n",
            "-rwxr-xr-x 1 root root   216 Jan 13 16:49 f2py3.6\n",
            "-rwxr-xr-x 1 root root  1871 Jan 13 16:59 fetch_file\n",
            "-rwxr-xr-x 1 root root  1933 Jan 21 19:04 find-spark-home\n",
            "-rwxr-xr-x 1 root root  2681 Jan 21 19:04 find-spark-home.cmd\n",
            "-rwxr-xr-x 1 root root  2763 Jan 21 19:04 find_spark_home.py\n",
            "-rwxr-xr-x 1 root root   225 Jan 13 16:59 fio\n",
            "-rwxr-xr-x 1 root root   240 Jan 13 16:59 fits2bitmap\n",
            "-rwxr-xr-x 1 root root   232 Jan 13 16:59 fitscheck\n",
            "-rwxr-xr-x 1 root root   231 Jan 13 16:59 fitsdiff\n",
            "-rwxr-xr-x 1 root root   233 Jan 13 16:59 fitsheader\n",
            "-rwxr-xr-x 1 root root   231 Jan 13 16:59 fitsinfo\n",
            "-rwxr-xr-x 1 root root   208 Jan 13 16:59 flask\n",
            "-rwxr-xr-x 1 root root   243 Jan 13 16:59 freeze_graph\n",
            "-rwxr-xr-x 1 root root   215 Jan 13 16:59 futurize\n",
            "-rwxr-xr-x 1 root root   208 Jan 13 17:00 gdown\n",
            "-rwxr-xr-x 1 root root  1651 Jan 13 16:59 get_objgraph\n",
            "-rwxr-xr-x 1 root root   641 Jan 13 16:59 gifmaker.py\n",
            "-rw-r--r-- 1 root root   619 Jan 13 16:59 gifmaker.pyc\n",
            "-rwxr-xr-x 1 root root  5244 Jan 13 16:59 glacier\n",
            "-rwxr-xr-x 1 root root  4765 Jan 13 17:00 google\n",
            "-rwxr-xr-x 1 root root   233 Jan 13 17:00 google-oauthlib-tool\n",
            "-rwxr-xr-x 1 root root   217 Jan 13 17:00 gunicorn\n",
            "-rwxr-xr-x 1 root root   219 Jan 13 17:00 gunicorn_paster\n",
            "-rwxr-xr-x 1 root root   216 Jan 13 17:00 hyperopt-mongo-worker\n",
            "-rwxr-xr-x 1 root root   241 Jan 13 17:00 imageio_download_bin\n",
            "-rwxr-xr-x 1 root root   237 Jan 13 17:00 imageio_remove_bin\n",
            "-rwxr-xr-x 1 root root   294 Jan 13 17:00 image_stylization_create_dataset\n",
            "-rwxr-xr-x 1 root root   288 Jan 13 17:00 image_stylization_evaluate\n",
            "-rwxr-xr-x 1 root root   288 Jan 13 17:00 image_stylization_finetune\n",
            "-rwxr-xr-x 1 root root   285 Jan 13 17:00 image_stylization_train\n",
            "-rwxr-xr-x 1 root root   289 Jan 13 17:00 image_stylization_transform\n",
            "-rwxr-xr-x 1 root root   280 Jan 13 17:00 improv_rnn_create_dataset\n",
            "-rwxr-xr-x 1 root root   274 Jan 13 17:00 improv_rnn_generate\n",
            "-rwxr-xr-x 1 root root   271 Jan 13 17:00 improv_rnn_train\n",
            "-rwxr-xr-x 1 root root  5776 Jan 13 16:59 instance_events\n",
            "-rwxr-xr-x 1 root root   231 Jan 13 16:59 iptest\n",
            "-rwxr-xr-x 1 root root   231 Jan 13 16:59 iptest2\n",
            "-rwxr-xr-x 1 root root   231 Jan 13 16:49 iptest3\n",
            "-rwxr-xr-x 1 root root   224 Jan 13 16:59 ipython\n",
            "-rwxr-xr-x 1 root root   224 Jan 13 16:59 ipython2\n",
            "-rwxr-xr-x 1 root root   224 Jan 13 16:49 ipython3\n",
            "-rwxr-xr-x 1 root root 11706 Jan 13 17:01 isympy\n",
            "-rwxr-xr-x 1 root root  1675 Jan 13 16:59 jp.py\n",
            "-rw-r--r-- 1 root root  1846 Jan 13 16:59 jp.pyc\n",
            "-rwxr-xr-x 1 root root   213 Jan 13 16:59 jsonschema\n",
            "-rwxr-xr-x 1 root root   219 Jan 13 16:59 jupyter\n",
            "-rwxr-xr-x 1 root root   233 Jan 13 16:59 jupyter-bundlerextension\n",
            "-rwxr-xr-x 1 root root   218 Jan 13 16:51 jupyter-console\n",
            "-rwxr-xr-x 1 root root   223 Jan 13 16:59 jupyter-kernel\n",
            "-rwxr-xr-x 1 root root   261 Jan 13 16:59 jupyter-kernelspec\n",
            "-rwxr-xr-x 1 root root   219 Jan 13 16:59 jupyter-migrate\n",
            "-rwxr-xr-x 1 root root   221 Jan 13 16:59 jupyter-nbconvert\n",
            "-rwxr-xr-x 1 root root   220 Jan 13 16:59 jupyter-nbextension\n",
            "-rwxr-xr-x 1 root root   219 Jan 13 16:59 jupyter-notebook\n",
            "-rwxr-xr-x 1 root root   221 Jan 13 17:00 jupyter-qtconsole\n",
            "-rwxr-xr-x 1 root root   240 Jan 13 16:59 jupyter-run\n",
            "-rwxr-xr-x 1 root root   224 Jan 13 16:59 jupyter-serverextension\n",
            "-rwxr-xr-x 1 root root   224 Jan 13 16:59 jupyter-troubleshoot\n",
            "-rwxr-xr-x 1 root root   252 Jan 13 16:59 jupyter-trust\n",
            "-rwxr-xr-x 1 root root   209 Jan 13 17:00 kaggle\n",
            "-rwxr-xr-x 1 root root   922 Jan 13 16:59 kill_instance\n",
            "-rwxr-xr-x 1 root root 10603 Jan 13 16:59 launch_instance\n",
            "-rwxr-xr-x 1 root root  3096 Jan 13 16:59 list_instances\n",
            "-rwxr-xr-x 1 root root  1892 Jan 21 19:04 load-spark-env.cmd\n",
            "-rwxr-xr-x 1 root root  2025 Jan 21 19:04 load-spark-env.sh\n",
            "-rwxr-xr-x 1 root root  3442 Jan 13 16:59 lss3\n",
            "-rwxr-xr-x 1 root root   265 Jan 13 17:00 magenta_midi\n",
            "-rwxr-xr-x 1 root root   271 Jan 13 16:51 make_image_classifier\n",
            "-rwxr-xr-x 1 root root   214 Jan 13 16:59 markdown_py\n",
            "-rwxr-xr-x 1 root root   280 Jan 13 17:00 melody_rnn_create_dataset\n",
            "-rwxr-xr-x 1 root root   274 Jan 13 17:00 melody_rnn_generate\n",
            "-rwxr-xr-x 1 root root   271 Jan 13 17:00 melody_rnn_train\n",
            "-rwxr-xr-x 1 root root   263 Jan 13 17:00 midi_clock\n",
            "-rwxr-xr-x 1 root root   854 Jan 13 17:00 mido-connect\n",
            "-rwxr-xr-x 1 root root  2276 Jan 13 17:00 mido-play\n",
            "-rwxr-xr-x 1 root root   763 Jan 13 17:00 mido-ports\n",
            "-rwxr-xr-x 1 root root   913 Jan 13 17:00 mido-serve\n",
            "-rwxr-xr-x 1 root root 19146 Jan 13 16:59 mturk\n",
            "-rwxr-xr-x 1 root root   272 Jan 13 17:00 music_vae_generate\n",
            "-rwxr-xr-x 1 root root   269 Jan 13 17:00 music_vae_train\n",
            "-rwxr-xr-x 1 root root   215 Jan 13 17:00 natsort\n",
            "-rwxr-xr-x 1 root root   527 Jan 13 17:00 nib-dicomfs\n",
            "-rwxr-xr-x 1 root root   542 Jan 13 17:00 nib-diff\n",
            "-rwxr-xr-x 1 root root   571 Jan 13 17:00 nib-ls\n",
            "-rwxr-xr-x 1 root root   536 Jan 13 17:00 nib-nifti-dx\n",
            "-rwxr-xr-x 1 root root   529 Jan 13 17:00 nib-tck2trk\n",
            "-rwxr-xr-x 1 root root   529 Jan 13 17:00 nib-trk2tck\n",
            "-rwxr-xr-x 1 root root   211 Jan 13 16:59 nosetests\n",
            "-rwxr-xr-x 1 root root   211 Jan 13 16:59 nosetests-2.7\n",
            "lrwxrwxrwx 1 root root    28 Dec 18 16:47 nsight-sys -> /etc/alternatives/nsight-sys\n",
            "-rwxr-xr-x 1 root root   274 Jan 13 17:00 nsynth_generate\n",
            "-rwxr-xr-x 1 root root   281 Jan 13 17:00 nsynth_save_embeddings\n",
            "lrwxrwxrwx 1 root root    22 Dec 18 16:47 nsys -> /etc/alternatives/nsys\n",
            "lrwxrwxrwx 1 root root    31 Dec 18 16:47 nsys-exporter -> /etc/alternatives/nsys-exporter\n",
            "-rwxr-xr-x 1 root root   183 Jan 13 17:00 numba\n",
            "-rwxr-xr-x 1 root root   314 Jan 13 17:00 onsets_frames_transcription_create_dataset\n",
            "-rwxr-xr-x 1 root root   305 Jan 13 17:00 onsets_frames_transcription_infer\n",
            "-rwxr-xr-x 1 root root   305 Jan 13 17:00 onsets_frames_transcription_train\n",
            "-rwxr-xr-x 1 root root   310 Jan 13 17:00 onsets_frames_transcription_transcribe\n",
            "-rwxr-xr-x 1 root root  2153 Jan 13 16:59 painter.py\n",
            "-rw-r--r-- 1 root root  2517 Jan 13 16:59 painter.pyc\n",
            "-rwxr-xr-x 1 root root   138 Jan 13 17:00 parrec2nii\n",
            "-rwxr-xr-x 1 root root   217 Jan 13 16:59 pasteurize\n",
            "-rwxr-xr-x 1 root root   211 Jan 13 16:59 pbr\n",
            "-rwxr-xr-x 1 root root   290 Jan 13 17:00 performance_rnn_create_dataset\n",
            "-rwxr-xr-x 1 root root   284 Jan 13 17:00 performance_rnn_generate\n",
            "-rwxr-xr-x 1 root root   281 Jan 13 17:00 performance_rnn_train\n",
            "-rwxr-xr-x 1 root root   296 Jan 13 17:00 pianoroll_rnn_nade_create_dataset\n",
            "-rwxr-xr-x 1 root root   290 Jan 13 17:00 pianoroll_rnn_nade_generate\n",
            "-rwxr-xr-x 1 root root   287 Jan 13 17:00 pianoroll_rnn_nade_train\n",
            "-rwxr-xr-x 1 root root  2358 Jan 13 16:59 pilconvert.py\n",
            "-rw-r--r-- 1 root root  2422 Jan 13 16:59 pilconvert.pyc\n",
            "-rwxr-xr-x 1 root root 15510 Jan 13 16:59 pildriver.py\n",
            "-rw-r--r-- 1 root root 20304 Jan 13 16:59 pildriver.pyc\n",
            "-rwxr-xr-x 1 root root  2666 Jan 13 16:59 pilfile.py\n",
            "-rw-r--r-- 1 root root  2420 Jan 13 16:59 pilfile.pyc\n",
            "-rwxr-xr-x 1 root root  1027 Jan 13 16:59 pilfont.py\n",
            "-rw-r--r-- 1 root root  1129 Jan 13 16:59 pilfont.pyc\n",
            "-rwxr-xr-x 1 root root  2597 Jan 13 16:59 pilprint.py\n",
            "-rw-r--r-- 1 root root  2650 Jan 13 16:59 pilprint.pyc\n",
            "-r-xr-xr-x 1 root root  1374 Jan  1  2000 pip\n",
            "-rwxr-xr-x 1 root root   217 Dec 18 16:49 pip2\n",
            "-rwxr-xr-x 1 root root   217 Dec 18 16:49 pip2.7\n",
            "-rwxr-xr-x 1 root root   217 Dec 18 16:49 pip3\n",
            "-rwxr-xr-x 1 root root   217 Dec 18 16:49 pip3.6\n",
            "-rwxr-xr-x 1 root root   221 Jan 13 17:00 pip-compile\n",
            "-rwxr-xr-x 1 root root   218 Jan 13 17:00 pip-sync\n",
            "-rwxr-xr-x 1 root root  2383 Jan 13 16:53 plac_runner.py\n",
            "-rw-r--r-- 1 root root  2925 Jan 13 17:00 plac_runner.pyc\n",
            "-rwxr-xr-x 1 root root   248 Jan 13 16:59 plasma_store\n",
            "-rwxr-xr-x 1 root root  2023 Jan 13 16:59 player.py\n",
            "-rw-r--r-- 1 root root  2276 Jan 13 16:59 player.pyc\n",
            "-rwxr-xr-x 1 root root   286 Jan 13 17:00 polyphony_rnn_create_dataset\n",
            "-rwxr-xr-x 1 root root   280 Jan 13 17:00 polyphony_rnn_generate\n",
            "-rwxr-xr-x 1 root root   277 Jan 13 17:00 polyphony_rnn_train\n",
            "-rwxr-xr-x 1 root root 13334 Jan 13 16:51 portserver.py\n",
            "-rwxr-xr-x 1 root root  6191 Jan 13 16:51 prichunkpng\n",
            "-rwxr-xr-x 1 root root  5281 Jan 13 16:51 priforgepng\n",
            "-rwxr-xr-x 1 root root  1845 Jan 13 16:51 prigreypng\n",
            "-rwxr-xr-x 1 root root  2806 Jan 13 16:51 pripalpng\n",
            "-rwxr-xr-x 1 root root  8138 Jan 13 16:51 pripamtopng\n",
            "-rwxr-xr-x 1 root root   822 Jan 13 16:51 pripnglsch\n",
            "-rwxr-xr-x 1 root root  2050 Jan 13 16:51 pripngtopam\n",
            "-rwxr-xr-x 1 root root  6647 Jan 13 16:51 priweavepng\n",
            "-rwxr-xr-x 1 root root   220 Jan 13 17:01 pt2to3\n",
            "-rwxr-xr-x 1 root root   220 Jan 13 17:01 ptdump\n",
            "-rwxr-xr-x 1 root root   222 Jan 13 17:01 ptrepack\n",
            "-rwxr-xr-x 1 root root   220 Jan 13 17:01 pttree\n",
            "-rwxr-xr-x 1 root root  2615 Jan 13 16:59 pyami_sendmail\n",
            "-rwxr-xr-x 1 root root   222 Jan 13 16:59 pybabel\n",
            "drwxr-xr-x 1 root root  4096 Jan 21 19:04 __pycache__\n",
            "-rwxr-xr-x 1 root root    54 Jan 13 17:00 pycc\n",
            "-rwxr-xr-x 1 root root   215 Jan 13 16:59 pygmentize\n",
            "-rwxr-xr-x 1 root root   212 Jan 13 17:00 pyrsa-decrypt\n",
            "-rwxr-xr-x 1 root root   212 Jan 13 17:00 pyrsa-encrypt\n",
            "-rwxr-xr-x 1 root root   210 Jan 13 17:00 pyrsa-keygen\n",
            "-rwxr-xr-x 1 root root   233 Jan 13 17:00 pyrsa-priv2pub\n",
            "-rwxr-xr-x 1 root root   206 Jan 13 17:00 pyrsa-sign\n",
            "-rwxr-xr-x 1 root root   210 Jan 13 17:00 pyrsa-verify\n",
            "-rwxr-xr-x 1 root root  2987 Jan 21 19:04 pyspark\n",
            "-rwxr-xr-x 1 root root  1540 Jan 21 19:04 pyspark2.cmd\n",
            "-rwxr-xr-x 1 root root  1170 Jan 21 19:04 pyspark.cmd\n",
            "-rwxr-xr-x 1 root root   205 Jan 13 16:59 pytest\n",
            "-rwxr-xr-x 1 root root   205 Jan 13 16:59 py.test\n",
            "-r-xr-xr-x 1 root root  1374 Jan  1  2000 python\n",
            "-r-xr-xr-x 1 root root   377 Jan  1  2000 R\n",
            "-rwxr-xr-x 1 root root  2855 Jan 13 17:00 range-detector\n",
            "-rwxr-xr-x 1 root root   267 Jan 13 17:00 rl_tuner_train\n",
            "-rwxr-xr-x 1 root root  9032 Jan 13 16:59 route53\n",
            "-rwxr-xr-x 1 root root   714 Jan 13 16:59 rst2html4.py\n",
            "-rw-r--r-- 1 root root   726 Jan 13 16:59 rst2html4.pyc\n",
            "-rwxr-xr-x 1 root root  1139 Jan 13 16:59 rst2html5.py\n",
            "-rw-r--r-- 1 root root   730 Jan 13 16:59 rst2html5.pyc\n",
            "-rwxr-xr-x 1 root root   594 Jan 13 16:59 rst2html.py\n",
            "-rw-r--r-- 1 root root   604 Jan 13 16:59 rst2html.pyc\n",
            "-rwxr-xr-x 1 root root   791 Jan 13 16:59 rst2latex.py\n",
            "-rw-r--r-- 1 root root   734 Jan 13 16:59 rst2latex.pyc\n",
            "-rwxr-xr-x 1 root root   600 Jan 13 16:59 rst2man.py\n",
            "-rw-r--r-- 1 root root   709 Jan 13 16:59 rst2man.pyc\n",
            "-rwxr-xr-x 1 root root  1698 Jan 13 16:59 rst2odt_prepstyles.py\n",
            "-rw-r--r-- 1 root root  2044 Jan 13 16:59 rst2odt_prepstyles.pyc\n",
            "-rwxr-xr-x 1 root root   764 Jan 13 16:59 rst2odt.py\n",
            "-rw-r--r-- 1 root root   803 Jan 13 16:59 rst2odt.pyc\n",
            "-rwxr-xr-x 1 root root   601 Jan 13 16:59 rst2pseudoxml.py\n",
            "-rw-r--r-- 1 root root   600 Jan 13 16:59 rst2pseudoxml.pyc\n",
            "-rwxr-xr-x 1 root root   637 Jan 13 16:59 rst2s5.py\n",
            "-rw-r--r-- 1 root root   649 Jan 13 16:59 rst2s5.pyc\n",
            "-rwxr-xr-x 1 root root   871 Jan 13 16:59 rst2xetex.py\n",
            "-rw-r--r-- 1 root root   817 Jan 13 16:59 rst2xetex.pyc\n",
            "-rwxr-xr-x 1 root root   602 Jan 13 16:59 rst2xml.py\n",
            "-rw-r--r-- 1 root root   612 Jan 13 16:59 rst2xml.pyc\n",
            "-rwxr-xr-x 1 root root   670 Jan 13 16:59 rstpep2html.py\n",
            "-rw-r--r-- 1 root root   680 Jan 13 16:59 rstpep2html.pyc\n",
            "-rwxr-xr-x 1 root root  1030 Jan 21 19:04 run-example\n",
            "-rwxr-xr-x 1 root root  1223 Jan 21 19:04 run-example.cmd\n",
            "-rwxr-xr-x 1 root root 16253 Jan 13 17:01 runxlrd.py\n",
            "-rw-r--r-- 1 root root 14693 Jan 13 17:01 runxlrd.pyc\n",
            "-rwxr-xr-x 1 root root 16837 Jan 13 16:59 s3put\n",
            "-rwxr-xr-x 1 root root   234 Jan 13 16:59 samp_hub\n",
            "-rwxr-xr-x 1 root root   205 Jan 13 17:00 sample\n",
            "-rwxr-xr-x 1 root root   238 Jan 13 16:59 saved_model_cli\n",
            "-rwxr-xr-x 1 root root  6993 Jan 13 16:59 sdbadmin\n",
            "-rwxr-xr-x 1 root root   230 Jan 13 16:49 showtable\n",
            "-rwxr-xr-x 1 root root   271 Jan 13 17:00 sketch_rnn_train\n",
            "-rwxr-xr-x 1 root root   220 Jan 13 17:00 skivi\n",
            "-rwxr-xr-x 1 root root   214 Jan 13 17:00 slugify\n",
            "-rwxr-xr-x 1 root root    21 Jan 13 16:54 spacy\n",
            "-rwxr-xr-x 1 root root  3196 Jan 21 19:04 spark-class\n",
            "-rwxr-xr-x 1 root root  2817 Jan 21 19:04 spark-class2.cmd\n",
            "-rwxr-xr-x 1 root root  1180 Jan 21 19:04 spark-class.cmd\n",
            "-rwxr-xr-x 1 root root  1039 Jan 21 19:04 sparkR\n",
            "-rwxr-xr-x 1 root root  1097 Jan 21 19:04 sparkR2.cmd\n",
            "-rwxr-xr-x 1 root root  1168 Jan 21 19:04 sparkR.cmd\n",
            "-rwxr-xr-x 1 root root  3122 Jan 21 19:04 spark-shell\n",
            "-rwxr-xr-x 1 root root  1818 Jan 21 19:04 spark-shell2.cmd\n",
            "-rwxr-xr-x 1 root root  1178 Jan 21 19:04 spark-shell.cmd\n",
            "-rwxr-xr-x 1 root root  1065 Jan 21 19:04 spark-sql\n",
            "-rwxr-xr-x 1 root root  1118 Jan 21 19:04 spark-sql2.cmd\n",
            "-rwxr-xr-x 1 root root  1173 Jan 21 19:04 spark-sql.cmd\n",
            "-rwxr-xr-x 1 root root  1040 Jan 21 19:04 spark-submit\n",
            "-rwxr-xr-x 1 root root  1155 Jan 21 19:04 spark-submit2.cmd\n",
            "-rwxr-xr-x 1 root root  1180 Jan 21 19:04 spark-submit.cmd\n",
            "-rwxr-xr-x 1 root root   216 Jan 13 17:01 sphinx-apidoc\n",
            "-rwxr-xr-x 1 root root   230 Jan 13 17:01 sphinx-autogen\n",
            "-rwxr-xr-x 1 root root   215 Jan 13 17:01 sphinx-build\n",
            "-rwxr-xr-x 1 root root   220 Jan 13 17:01 sphinx-quickstart\n",
            "-rwxr-xr-x 1 root root   216 Jan 13 17:00 sqlformat\n",
            "-rwxr-xr-x 1 root root   345 Jan 13 17:01 t2t-avg-all\n",
            "-rwxr-xr-x 1 root root   337 Jan 13 17:01 t2t-bleu\n",
            "-rwxr-xr-x 1 root root   635 Jan 13 17:01 t2t-datagen\n",
            "-rwxr-xr-x 1 root root   345 Jan 13 17:01 t2t-decoder\n",
            "-rwxr-xr-x 1 root root   662 Jan 13 16:51 t2t-eval\n",
            "-rwxr-xr-x 1 root root   340 Jan 13 17:01 t2t-exporter\n",
            "-rwxr-xr-x 1 root root   348 Jan 13 17:01 t2t-insights-server\n",
            "-rwxr-xr-x 1 root root   361 Jan 13 17:01 t2t-make-tf-configs\n",
            "-rwxr-xr-x 1 root root   342 Jan 13 17:01 t2t-query-server\n",
            "-rwxr-xr-x 1 root root   734 Jan 13 17:01 t2t-trainer\n",
            "-rwxr-xr-x 1 root root   364 Jan 13 17:01 t2t-translate-all\n",
            "-rwxr-xr-x 1 root root   209 Jan 13 17:01 tabulate\n",
            "-rwxr-xr-x 1 root root  3767 Jan 13 16:59 taskadmin\n",
            "-rwxr-xr-x 1 root root   223 Jan 13 16:59 tensorboard\n",
            "-r-xr-xr-x 1 root root  4015 Jan  1  2000 test-importability.py\n",
            "-rwxr-xr-x 1 root root   236 Jan 13 16:59 tflite_convert\n",
            "-rwxr-xr-x 1 root root   248 Jan 13 16:59 tf_upgrade_v2\n",
            "-rwxr-xr-x 1 root root   215 Jan 13 17:00 theano-cache\n",
            "-rwxr-xr-x 1 root root   214 Jan 13 17:00 theano-nose\n",
            "-rwxr-xr-x 1 root root  1981 Jan 13 16:59 thresholder.py\n",
            "-rw-r--r-- 1 root root  2547 Jan 13 16:59 thresholder.pyc\n",
            "-rwxr-xr-x 1 root root   236 Jan 13 16:59 toco\n",
            "-rwxr-xr-x 1 root root   243 Jan 13 16:59 toco_from_protos\n",
            "-rwxr-xr-x 1 root root   209 Jan 13 16:59 tqdm\n",
            "-rwxr-xr-x 1 root root   587 Jan 13 16:59 undill\n",
            "-rwxr-xr-x 1 root root  1020 Jan 13 16:59 viewer.py\n",
            "-rw-r--r-- 1 root root  1419 Jan 13 16:59 viewer.pyc\n",
            "-rwxr-xr-x 1 root root   224 Jan 13 16:59 volint\n",
            "-rwxr-xr-x 1 root root   218 Jan 13 16:59 wcslint\n",
            "-rwxr-xr-x 1 root root   208 Dec 18 16:49 wheel\n",
            "-rwxr-xr-x 1 root root   217 Jan 13 17:01 wordcloud_cli\n"
          ],
          "name": "stdout"
        }
      ]
    },
    {
      "cell_type": "code",
      "metadata": {
        "id": "opao509tyMwF",
        "colab_type": "code",
        "colab": {}
      },
      "source": [
        "#  df = spark.read.json(\"/examples/src/main/resources/people.json\")"
      ],
      "execution_count": 0,
      "outputs": []
    },
    {
      "cell_type": "code",
      "metadata": {
        "id": "0H5WR4cJzvr6",
        "colab_type": "code",
        "outputId": "c3fd6e2a-3585-4fa8-ba72-3933b1e29e0f",
        "colab": {
          "base_uri": "https://localhost:8080/",
          "height": 526
        }
      },
      "source": [
        "!ls -l /"
      ],
      "execution_count": 0,
      "outputs": [
        {
          "output_type": "stream",
          "text": [
            "total 7908\n",
            "drwxr-xr-x   1 root root    4096 Dec 18 16:45 bin\n",
            "drwxr-xr-x   2 root root    4096 Apr 24  2018 boot\n",
            "drwxr-xr-x   1 root root    4096 Jan 21 20:19 content\n",
            "drwxr-xr-x   1 root root    4096 Jan 13 17:08 datalab\n",
            "drwxr-xr-x   5 root root     360 Jan 21 18:30 dev\n",
            "-rw-r--r--   1 root root 3989833 Jan 13 16:38 dlib-19.18.0-cp27-cp27mu-linux_x86_64.whl\n",
            "-rw-r--r--   1 root root 3997028 Jan 13 16:38 dlib-19.18.0-cp36-cp36m-linux_x86_64.whl\n",
            "drwxr-xr-x   1 root root    4096 Jan 21 18:30 etc\n",
            "drwxr-xr-x   2 root root    4096 Apr 24  2018 home\n",
            "drwxr-xr-x   1 root root    4096 Dec 18 16:47 lib\n",
            "drwxr-xr-x   2 root root    4096 Dec 18 16:43 lib32\n",
            "drwxr-xr-x   2 root root    4096 Oct 29 21:25 lib64\n",
            "drwxr-xr-x   2 root root    4096 Oct 29 21:25 media\n",
            "drwxr-xr-x   2 root root    4096 Oct 29 21:25 mnt\n",
            "drwxr-xr-x   1 root root    4096 Dec 18 16:48 opt\n",
            "dr-xr-xr-x 116 root root       0 Jan 21 18:30 proc\n",
            "drwx------   1 root root    4096 Jan 21 19:16 root\n",
            "drwxr-xr-x   1 root root    4096 Dec 18 16:45 run\n",
            "drwxr-xr-x   1 root root    4096 Dec 18 16:46 sbin\n",
            "drwxr-xr-x   2 root root    4096 Oct 29 21:25 srv\n",
            "drwxr-xr-x   4 root root    4096 Jan 13 17:07 swift\n",
            "dr-xr-xr-x  12 root root       0 Jan 21 19:39 sys\n",
            "drwxr-xr-x   4 root root    4096 Jan 13 17:03 tensorflow-2.1.0\n",
            "drwxrwxrwt   1 root root    4096 Jan 21 19:56 tmp\n",
            "drwxr-xr-x   1 root root    4096 Jan 13 17:08 tools\n",
            "drwxr-xr-x   1 root root    4096 Dec 18 16:48 usr\n",
            "drwxr-xr-x   1 root root    4096 Jan 21 18:30 var\n"
          ],
          "name": "stdout"
        }
      ]
    },
    {
      "cell_type": "code",
      "metadata": {
        "id": "S_9Yw4_Fz6cp",
        "colab_type": "code",
        "outputId": "44bd7531-b9cd-47fd-825f-2ad489bc98d0",
        "colab": {
          "base_uri": "https://localhost:8080/",
          "height": 35
        }
      },
      "source": [
        "!pwd"
      ],
      "execution_count": 0,
      "outputs": [
        {
          "output_type": "stream",
          "text": [
            "/content\n"
          ],
          "name": "stdout"
        }
      ]
    },
    {
      "cell_type": "code",
      "metadata": {
        "id": "kq758LiT0RXJ",
        "colab_type": "code",
        "colab": {}
      },
      "source": [
        "!cd  $SPARK_HOME"
      ],
      "execution_count": 0,
      "outputs": []
    },
    {
      "cell_type": "code",
      "metadata": {
        "id": "JelsSdFi0TEY",
        "colab_type": "code",
        "outputId": "809b5a0e-8e88-4df6-c1e5-81425a96fdad",
        "colab": {
          "base_uri": "https://localhost:8080/",
          "height": 35
        }
      },
      "source": [
        "!pwd"
      ],
      "execution_count": 0,
      "outputs": [
        {
          "output_type": "stream",
          "text": [
            "/content\n"
          ],
          "name": "stdout"
        }
      ]
    },
    {
      "cell_type": "code",
      "metadata": {
        "id": "h4vIeu0-0VzY",
        "colab_type": "code",
        "outputId": "d990c852-783d-4dc2-d89f-83ec818574cf",
        "colab": {
          "base_uri": "https://localhost:8080/",
          "height": 35
        }
      },
      "source": [
        "!echo $SPARK_HOME"
      ],
      "execution_count": 0,
      "outputs": [
        {
          "output_type": "stream",
          "text": [
            "/content/spark-2.4.4-bin-hadoop2.7\n"
          ],
          "name": "stdout"
        }
      ]
    },
    {
      "cell_type": "code",
      "metadata": {
        "id": "sjyZtwJU0ZUY",
        "colab_type": "code",
        "outputId": "26e154a9-0fb5-4d2a-880d-54058de6dcf4",
        "colab": {
          "base_uri": "https://localhost:8080/",
          "height": 308
        }
      },
      "source": [
        "!ls -l /content/spark-2.4.4-bin-hadoop2.7"
      ],
      "execution_count": 0,
      "outputs": [
        {
          "output_type": "stream",
          "text": [
            "total 128\n",
            "drwxr-xr-x 2 1000 1000  4096 Aug 27 21:30 bin\n",
            "drwxr-xr-x 2 1000 1000  4096 Aug 27 21:30 conf\n",
            "drwxr-xr-x 5 1000 1000  4096 Aug 27 21:30 data\n",
            "drwxr-xr-x 4 1000 1000  4096 Aug 27 21:30 examples\n",
            "drwxr-xr-x 2 1000 1000 12288 Aug 27 21:30 jars\n",
            "drwxr-xr-x 4 1000 1000  4096 Aug 27 21:30 kubernetes\n",
            "-rw-r--r-- 1 1000 1000 21316 Aug 27 21:30 LICENSE\n",
            "drwxr-xr-x 2 1000 1000  4096 Aug 27 21:30 licenses\n",
            "-rw-r--r-- 1 1000 1000 42919 Aug 27 21:30 NOTICE\n",
            "drwxr-xr-x 9 1000 1000  4096 Aug 27 21:30 python\n",
            "drwxr-xr-x 3 1000 1000  4096 Aug 27 21:30 R\n",
            "-rw-r--r-- 1 1000 1000  3952 Aug 27 21:30 README.md\n",
            "-rw-r--r-- 1 1000 1000   164 Aug 27 21:30 RELEASE\n",
            "drwxr-xr-x 2 1000 1000  4096 Aug 27 21:30 sbin\n",
            "drwxr-xr-x 2 1000 1000  4096 Aug 27 21:30 yarn\n"
          ],
          "name": "stdout"
        }
      ]
    },
    {
      "cell_type": "code",
      "metadata": {
        "id": "zXx9YQPW0cdY",
        "colab_type": "code",
        "outputId": "460e8425-b4e7-4aa2-9f2d-9bf38c886d2c",
        "colab": {
          "base_uri": "https://localhost:8080/",
          "height": 308
        }
      },
      "source": [
        "!ls -l /content/spark-2.4.4-bin-hadoop2.7/examples/src/main/python"
      ],
      "execution_count": 0,
      "outputs": [
        {
          "output_type": "stream",
          "text": [
            "total 60\n",
            "-rwxr-xr-x 1 1000 1000 3267 Aug 27 21:30 als.py\n",
            "-rw-r--r-- 1 1000 1000 3170 Aug 27 21:30 avro_inputformat.py\n",
            "-rwxr-xr-x 1 1000 1000 2777 Aug 27 21:30 kmeans.py\n",
            "-rwxr-xr-x 1 1000 1000 3199 Aug 27 21:30 logistic_regression.py\n",
            "drwxr-xr-x 2 1000 1000 4096 Aug 27 21:30 ml\n",
            "drwxr-xr-x 2 1000 1000 4096 Aug 27 21:30 mllib\n",
            "-rwxr-xr-x 1 1000 1000 3175 Aug 27 21:30 pagerank.py\n",
            "-rw-r--r-- 1 1000 1000 2390 Aug 27 21:30 parquet_inputformat.py\n",
            "-rwxr-xr-x 1 1000 1000 1469 Aug 27 21:30 pi.py\n",
            "-rwxr-xr-x 1 1000 1000 1558 Aug 27 21:30 sort.py\n",
            "drwxr-xr-x 3 1000 1000 4096 Aug 27 21:30 sql\n",
            "-rw-r--r-- 1 1000 1000 2258 Aug 27 21:30 status_api_demo.py\n",
            "drwxr-xr-x 2 1000 1000 4096 Aug 27 21:30 streaming\n",
            "-rwxr-xr-x 1 1000 1000 2408 Aug 27 21:30 transitive_closure.py\n",
            "-rwxr-xr-x 1 1000 1000 1457 Aug 27 21:30 wordcount.py\n"
          ],
          "name": "stdout"
        }
      ]
    },
    {
      "cell_type": "markdown",
      "metadata": {
        "id": "QZWlRMCl0-4t",
        "colab_type": "text"
      },
      "source": [
        "/content/spark-2.4.4-bin-hadoop2.7/![alt text](https://)"
      ]
    },
    {
      "cell_type": "markdown",
      "metadata": {
        "id": "7I0GT7cB0n5S",
        "colab_type": "text"
      },
      "source": [
        "# Now we can officially get started with running examples etc "
      ]
    },
    {
      "cell_type": "code",
      "metadata": {
        "id": "rCuNudtf0qRH",
        "colab_type": "code",
        "colab": {}
      },
      "source": [
        "textFile = spark.read.text(\"/content/spark-2.4.4-bin-hadoop2.7/README.md\")"
      ],
      "execution_count": 0,
      "outputs": []
    },
    {
      "cell_type": "code",
      "metadata": {
        "id": "EQDbgYmB1Gw_",
        "colab_type": "code",
        "outputId": "a0b2904d-af1b-4a19-b093-e74cfefc9188",
        "colab": {
          "base_uri": "https://localhost:8080/",
          "height": 35
        }
      },
      "source": [
        "textFile"
      ],
      "execution_count": 0,
      "outputs": [
        {
          "output_type": "execute_result",
          "data": {
            "text/plain": [
              "DataFrame[value: string]"
            ]
          },
          "metadata": {
            "tags": []
          },
          "execution_count": 162
        }
      ]
    },
    {
      "cell_type": "code",
      "metadata": {
        "id": "Al3MTPxs1Ht2",
        "colab_type": "code",
        "outputId": "de6255a9-8f58-443f-835b-4781cd12132f",
        "colab": {
          "base_uri": "https://localhost:8080/",
          "height": 35
        }
      },
      "source": [
        "textFile.count()"
      ],
      "execution_count": 0,
      "outputs": [
        {
          "output_type": "execute_result",
          "data": {
            "text/plain": [
              "105"
            ]
          },
          "metadata": {
            "tags": []
          },
          "execution_count": 164
        }
      ]
    },
    {
      "cell_type": "code",
      "metadata": {
        "id": "AEq_BHwy1UJ2",
        "colab_type": "code",
        "outputId": "6d132ab5-fd01-4ad1-9600-11e637a8fa59",
        "colab": {
          "base_uri": "https://localhost:8080/",
          "height": 35
        }
      },
      "source": [
        "textFile.first()"
      ],
      "execution_count": 0,
      "outputs": [
        {
          "output_type": "execute_result",
          "data": {
            "text/plain": [
              "Row(value='# Apache Spark')"
            ]
          },
          "metadata": {
            "tags": []
          },
          "execution_count": 165
        }
      ]
    },
    {
      "cell_type": "code",
      "metadata": {
        "id": "bLmngyCg1fqe",
        "colab_type": "code",
        "outputId": "80a44c7f-ff40-4816-d54f-ff549807cd40",
        "colab": {
          "base_uri": "https://localhost:8080/",
          "height": 35
        }
      },
      "source": [
        "textFile.value"
      ],
      "execution_count": 0,
      "outputs": [
        {
          "output_type": "execute_result",
          "data": {
            "text/plain": [
              "Column<b'value'>"
            ]
          },
          "metadata": {
            "tags": []
          },
          "execution_count": 168
        }
      ]
    },
    {
      "cell_type": "code",
      "metadata": {
        "id": "Y4XMKApd1jqu",
        "colab_type": "code",
        "outputId": "41d5dadf-66be-411c-b36b-cbbb68134bc4",
        "colab": {
          "base_uri": "https://localhost:8080/",
          "height": 35
        }
      },
      "source": [
        "textFile.filter(textFile.value.contains(\"Spark\")).count()  # How many lines contain \"Spark\"?"
      ],
      "execution_count": 0,
      "outputs": [
        {
          "output_type": "execute_result",
          "data": {
            "text/plain": [
              "20"
            ]
          },
          "metadata": {
            "tags": []
          },
          "execution_count": 169
        }
      ]
    },
    {
      "cell_type": "code",
      "metadata": {
        "id": "dbbtbCaw1pyO",
        "colab_type": "code",
        "outputId": "daa374f5-2ccc-4131-a435-9b82863d3e04",
        "colab": {
          "base_uri": "https://localhost:8080/",
          "height": 35
        }
      },
      "source": [
        "from pyspark.sql.functions import *\n",
        "textFile.select(size(split(textFile.value, \"\\s+\")).name(\"numWords\")).agg(max(col(\"numWords\"))).collect()"
      ],
      "execution_count": 0,
      "outputs": [
        {
          "output_type": "execute_result",
          "data": {
            "text/plain": [
              "[Row(max(numWords)=22)]"
            ]
          },
          "metadata": {
            "tags": []
          },
          "execution_count": 171
        }
      ]
    },
    {
      "cell_type": "code",
      "metadata": {
        "id": "m6ddT3CP1tsX",
        "colab_type": "code",
        "colab": {}
      },
      "source": [
        "wordCounts = textFile.select(explode(split(textFile.value, \"\\s+\")).alias(\"word\")).groupBy(\"word\").count()"
      ],
      "execution_count": 0,
      "outputs": []
    },
    {
      "cell_type": "code",
      "metadata": {
        "id": "cHsRiKqj10mu",
        "colab_type": "code",
        "outputId": "ebc24ac0-ab53-4e5c-e874-156df1f48f61",
        "colab": {
          "base_uri": "https://localhost:8080/",
          "height": 1000
        }
      },
      "source": [
        "wordCounts.collect()"
      ],
      "execution_count": 0,
      "outputs": [
        {
          "output_type": "execute_result",
          "data": {
            "text/plain": [
              "[Row(word='online', count=1),\n",
              " Row(word='graphs', count=1),\n",
              " Row(word='[\"Parallel', count=1),\n",
              " Row(word='[\"Building', count=1),\n",
              " Row(word='thread', count=1),\n",
              " Row(word='documentation', count=3),\n",
              " Row(word='command,', count=2),\n",
              " Row(word='abbreviated', count=1),\n",
              " Row(word='overview', count=1),\n",
              " Row(word='rich', count=1),\n",
              " Row(word='set', count=2),\n",
              " Row(word='-DskipTests', count=1),\n",
              " Row(word='name', count=1),\n",
              " Row(word='page](http://spark.apache.org/documentation.html).', count=1),\n",
              " Row(word='[\"Specifying', count=1),\n",
              " Row(word='stream', count=1),\n",
              " Row(word='run:', count=1),\n",
              " Row(word='not', count=1),\n",
              " Row(word='programs', count=2),\n",
              " Row(word='tests', count=2),\n",
              " Row(word='./dev/run-tests', count=1),\n",
              " Row(word='will', count=1),\n",
              " Row(word='[run', count=1),\n",
              " Row(word='particular', count=2),\n",
              " Row(word='option', count=1),\n",
              " Row(word='Alternatively,', count=1),\n",
              " Row(word='by', count=1),\n",
              " Row(word='must', count=1),\n",
              " Row(word='using', count=5),\n",
              " Row(word='you', count=4),\n",
              " Row(word='MLlib', count=1),\n",
              " Row(word='DataFrames,', count=1),\n",
              " Row(word='variable', count=1),\n",
              " Row(word='Note', count=1),\n",
              " Row(word='core', count=1),\n",
              " Row(word='more', count=1),\n",
              " Row(word='protocols', count=1),\n",
              " Row(word='guidance', count=2),\n",
              " Row(word='shell:', count=2),\n",
              " Row(word='can', count=7),\n",
              " Row(word='site,', count=1),\n",
              " Row(word='systems.', count=1),\n",
              " Row(word='Maven', count=1),\n",
              " Row(word='[building', count=1),\n",
              " Row(word='configure', count=1),\n",
              " Row(word='for', count=12),\n",
              " Row(word='README', count=1),\n",
              " Row(word='Interactive', count=2),\n",
              " Row(word='how', count=3),\n",
              " Row(word='[Configuration', count=1),\n",
              " Row(word='Hive', count=2),\n",
              " Row(word='system', count=1),\n",
              " Row(word='provides', count=1),\n",
              " Row(word='Hadoop-supported', count=1),\n",
              " Row(word='pre-built', count=1),\n",
              " Row(word='[\"Useful', count=1),\n",
              " Row(word='directory.', count=1),\n",
              " Row(word='Example', count=1),\n",
              " Row(word='example', count=3),\n",
              " Row(word='Kubernetes', count=1),\n",
              " Row(word='one', count=3),\n",
              " Row(word='MASTER', count=1),\n",
              " Row(word='in', count=6),\n",
              " Row(word='library', count=1),\n",
              " Row(word='Spark.', count=1),\n",
              " Row(word='contains', count=1),\n",
              " Row(word='Configuration', count=1),\n",
              " Row(word='programming', count=1),\n",
              " Row(word='with', count=4),\n",
              " Row(word='contributing', count=1),\n",
              " Row(word='downloaded', count=1),\n",
              " Row(word='1000).count()', count=1),\n",
              " Row(word='comes', count=1),\n",
              " Row(word='machine', count=1),\n",
              " Row(word='Tools\"](http://spark.apache.org/developer-tools.html).', count=1),\n",
              " Row(word='building', count=2),\n",
              " Row(word='params', count=1),\n",
              " Row(word='Guide](http://spark.apache.org/docs/latest/configuration.html)', count=1),\n",
              " Row(word='given.', count=1),\n",
              " Row(word='be', count=2),\n",
              " Row(word='same', count=1),\n",
              " Row(word='integration', count=1),\n",
              " Row(word='than', count=1),\n",
              " Row(word='Programs', count=1),\n",
              " Row(word='locally', count=2),\n",
              " Row(word='using:', count=1),\n",
              " Row(word='fast', count=1),\n",
              " Row(word='[Apache', count=1),\n",
              " Row(word='your', count=1),\n",
              " Row(word='optimized', count=1),\n",
              " Row(word='Developer', count=1),\n",
              " Row(word='R,', count=1),\n",
              " Row(word='should', count=2),\n",
              " Row(word='graph', count=1),\n",
              " Row(word='package', count=1),\n",
              " Row(word='-T', count=1),\n",
              " Row(word='[project', count=1),\n",
              " Row(word='project', count=1),\n",
              " Row(word='`examples`', count=2),\n",
              " Row(word='resource-managers/kubernetes/integration-tests/README.md', count=1),\n",
              " Row(word='versions', count=1),\n",
              " Row(word='Spark](#building-spark).', count=1),\n",
              " Row(word='general', count=3),\n",
              " Row(word='other', count=1),\n",
              " Row(word='learning,', count=1),\n",
              " Row(word='when', count=1),\n",
              " Row(word='submit', count=1),\n",
              " Row(word='Apache', count=1),\n",
              " Row(word='1000:', count=2),\n",
              " Row(word='detailed', count=2),\n",
              " Row(word='About', count=1),\n",
              " Row(word='is', count=7),\n",
              " Row(word='on', count=7),\n",
              " Row(word='scala>', count=1),\n",
              " Row(word='print', count=1),\n",
              " Row(word='use', count=3),\n",
              " Row(word='different', count=1),\n",
              " Row(word='following', count=2),\n",
              " Row(word='SparkPi', count=2),\n",
              " Row(word='refer', count=2),\n",
              " Row(word='./bin/run-example', count=2),\n",
              " Row(word='data', count=1),\n",
              " Row(word='Tests', count=1),\n",
              " Row(word='Versions', count=1),\n",
              " Row(word='Data.', count=1),\n",
              " Row(word='processing.', count=1),\n",
              " Row(word='its', count=1),\n",
              " Row(word='basic', count=1),\n",
              " Row(word='latest', count=1),\n",
              " Row(word='only', count=1),\n",
              " Row(word='<class>', count=1),\n",
              " Row(word='have', count=1),\n",
              " Row(word='runs.', count=1),\n",
              " Row(word='You', count=4),\n",
              " Row(word='tips,', count=1),\n",
              " Row(word='project.', count=1),\n",
              " Row(word='developing', count=1),\n",
              " Row(word='YARN,', count=1),\n",
              " Row(word='It', count=2),\n",
              " Row(word='\"local\"', count=1),\n",
              " Row(word='processing,', count=1),\n",
              " Row(word='built', count=1),\n",
              " Row(word='Pi', count=1),\n",
              " Row(word='thread,', count=1),\n",
              " Row(word='A', count=1),\n",
              " Row(word='APIs', count=1),\n",
              " Row(word='Scala,', count=1),\n",
              " Row(word='file', count=1),\n",
              " Row(word='computation', count=1),\n",
              " Row(word='Once', count=1),\n",
              " Row(word='find', count=1),\n",
              " Row(word='the', count=24),\n",
              " Row(word='To', count=2),\n",
              " Row(word='sc.parallelize(1', count=1),\n",
              " Row(word='uses', count=1),\n",
              " Row(word='Version', count=1),\n",
              " Row(word='N', count=1),\n",
              " Row(word='programs,', count=1),\n",
              " Row(word='\"yarn\"', count=1),\n",
              " Row(word='see', count=4),\n",
              " Row(word='./bin/pyspark', count=1),\n",
              " Row(word='return', count=2),\n",
              " Row(word='computing', count=1),\n",
              " Row(word='Java,', count=1),\n",
              " Row(word='from', count=1),\n",
              " Row(word='Because', count=1),\n",
              " Row(word='cluster', count=2),\n",
              " Row(word='Streaming', count=1),\n",
              " Row(word='More', count=1),\n",
              " Row(word='analysis.', count=1),\n",
              " Row(word='Maven](http://maven.apache.org/).', count=1),\n",
              " Row(word='cluster.', count=1),\n",
              " Row(word='Running', count=1),\n",
              " Row(word='Please', count=4),\n",
              " Row(word='talk', count=1),\n",
              " Row(word='distributions.', count=1),\n",
              " Row(word='guide,', count=1),\n",
              " Row(word='tests](http://spark.apache.org/developer-tools.html#individual-tests).', count=1),\n",
              " Row(word='There', count=1),\n",
              " Row(word='\"local[N]\"', count=1),\n",
              " Row(word='Try', count=1),\n",
              " Row(word='and', count=10),\n",
              " Row(word='do', count=2),\n",
              " Row(word='Scala', count=2),\n",
              " Row(word='class', count=2),\n",
              " Row(word='build', count=4),\n",
              " Row(word='3\"](https://cwiki.apache.org/confluence/display/MAVEN/Parallel+builds+in+Maven+3).', count=1),\n",
              " Row(word='setup', count=1),\n",
              " Row(word='need', count=1),\n",
              " Row(word='spark://', count=1),\n",
              " Row(word='Hadoop,', count=2),\n",
              " Row(word='Thriftserver', count=1),\n",
              " Row(word='are', count=1),\n",
              " Row(word='requires', count=1),\n",
              " Row(word='package.', count=1),\n",
              " Row(word='Enabling', count=1),\n",
              " Row(word='clean', count=1),\n",
              " Row(word='sc.parallelize(range(1000)).count()', count=1),\n",
              " Row(word='high-level', count=1),\n",
              " Row(word='SQL', count=2),\n",
              " Row(word='against', count=1),\n",
              " Row(word='of', count=5),\n",
              " Row(word='through', count=1),\n",
              " Row(word='review', count=1),\n",
              " Row(word='package.)', count=1),\n",
              " Row(word='Python,', count=2),\n",
              " Row(word='easiest', count=1),\n",
              " Row(word='no', count=1),\n",
              " Row(word='Testing', count=1),\n",
              " Row(word='several', count=1),\n",
              " Row(word='help', count=1),\n",
              " Row(word='The', count=1),\n",
              " Row(word='sample', count=1),\n",
              " Row(word='MASTER=spark://host:7077', count=1),\n",
              " Row(word='Big', count=1),\n",
              " Row(word='examples', count=2),\n",
              " Row(word='an', count=4),\n",
              " Row(word='#', count=1),\n",
              " Row(word='Online', count=1),\n",
              " Row(word='test,', count=1),\n",
              " Row(word='including', count=4),\n",
              " Row(word='usage', count=1),\n",
              " Row(word='Python', count=2),\n",
              " Row(word='at', count=2),\n",
              " Row(word='development', count=1),\n",
              " Row(word='Spark\"](http://spark.apache.org/docs/latest/building-spark.html).', count=1),\n",
              " Row(word='IDE,', count=1),\n",
              " Row(word='way', count=1),\n",
              " Row(word='Contributing', count=1),\n",
              " Row(word='get', count=1),\n",
              " Row(word='that', count=2),\n",
              " Row(word='##', count=9),\n",
              " Row(word='For', count=3),\n",
              " Row(word='prefer', count=1),\n",
              " Row(word='This', count=2),\n",
              " Row(word='build/mvn', count=1),\n",
              " Row(word='builds', count=1),\n",
              " Row(word='running', count=1),\n",
              " Row(word='web', count=1),\n",
              " Row(word='run', count=7),\n",
              " Row(word='locally.', count=1),\n",
              " Row(word='Spark', count=16),\n",
              " Row(word='URL,', count=1),\n",
              " Row(word='a', count=9),\n",
              " Row(word='higher-level', count=1),\n",
              " Row(word='tools', count=1),\n",
              " Row(word='if', count=4),\n",
              " Row(word='available', count=1),\n",
              " Row(word='', count=48),\n",
              " Row(word='Documentation', count=1),\n",
              " Row(word='this', count=1),\n",
              " Row(word='(You', count=1),\n",
              " Row(word='>>>', count=1),\n",
              " Row(word='information', count=1),\n",
              " Row(word='info', count=1),\n",
              " Row(word='<http://spark.apache.org/>', count=1),\n",
              " Row(word='Shell', count=2),\n",
              " Row(word='environment', count=1),\n",
              " Row(word='built,', count=1),\n",
              " Row(word='module,', count=1),\n",
              " Row(word='them,', count=1),\n",
              " Row(word='`./bin/run-example', count=1),\n",
              " Row(word='instance:', count=1),\n",
              " Row(word='first', count=1),\n",
              " Row(word='[Contribution', count=1),\n",
              " Row(word='guide](http://spark.apache.org/contributing.html)', count=1),\n",
              " Row(word='documentation,', count=1),\n",
              " Row(word='[params]`.', count=1),\n",
              " Row(word='mesos://', count=1),\n",
              " Row(word='engine', count=1),\n",
              " Row(word='GraphX', count=1),\n",
              " Row(word='Maven,', count=1),\n",
              " Row(word='example:', count=1),\n",
              " Row(word='HDFS', count=1),\n",
              " Row(word='YARN\"](http://spark.apache.org/docs/latest/building-spark.html#specifying-the-hadoop-version-and-enabling-yarn)', count=1),\n",
              " Row(word='or', count=3),\n",
              " Row(word='to', count=17),\n",
              " Row(word='Hadoop', count=3),\n",
              " Row(word='individual', count=1),\n",
              " Row(word='also', count=5),\n",
              " Row(word='changed', count=1),\n",
              " Row(word='started', count=1),\n",
              " Row(word='./bin/spark-shell', count=1),\n",
              " Row(word='threads.', count=1),\n",
              " Row(word='supports', count=2),\n",
              " Row(word='storage', count=1),\n",
              " Row(word='version', count=1),\n",
              " Row(word='instructions.', count=1),\n",
              " Row(word='Building', count=1),\n",
              " Row(word='start', count=1),\n",
              " Row(word='Many', count=1),\n",
              " Row(word='which', count=2),\n",
              " Row(word='And', count=1),\n",
              " Row(word='distribution', count=1)]"
            ]
          },
          "metadata": {
            "tags": []
          },
          "execution_count": 173
        }
      ]
    },
    {
      "cell_type": "code",
      "metadata": {
        "id": "FsHTR-IA12Ze",
        "colab_type": "code",
        "outputId": "b4f63a80-9912-41e9-84bf-a928e7944bc8",
        "colab": {
          "base_uri": "https://localhost:8080/",
          "height": 171
        }
      },
      "source": [
        ""
      ],
      "execution_count": 0,
      "outputs": [
        {
          "output_type": "error",
          "ename": "NameError",
          "evalue": "ignored",
          "traceback": [
            "\u001b[0;31m---------------------------------------------------------------------------\u001b[0m",
            "\u001b[0;31mNameError\u001b[0m                                 Traceback (most recent call last)",
            "\u001b[0;32m<ipython-input-174-db290cadfcb8>\u001b[0m in \u001b[0;36m<module>\u001b[0;34m()\u001b[0m\n\u001b[0;32m----> 1\u001b[0;31m \u001b[0mlinesWithSpark\u001b[0m\u001b[0;34m.\u001b[0m\u001b[0mcache\u001b[0m\u001b[0;34m(\u001b[0m\u001b[0;34m)\u001b[0m\u001b[0;34m\u001b[0m\u001b[0;34m\u001b[0m\u001b[0m\n\u001b[0m",
            "\u001b[0;31mNameError\u001b[0m: name 'linesWithSpark' is not defined"
          ]
        }
      ]
    },
    {
      "cell_type": "code",
      "metadata": {
        "id": "dohNMSGJ17sm",
        "colab_type": "code",
        "outputId": "74b6b7c2-21ae-4de8-d5a3-a1ee36ad5942",
        "colab": {
          "base_uri": "https://localhost:8080/",
          "height": 171
        }
      },
      "source": [
        "linesWithSpark"
      ],
      "execution_count": 0,
      "outputs": [
        {
          "output_type": "error",
          "ename": "NameError",
          "evalue": "ignored",
          "traceback": [
            "\u001b[0;31m---------------------------------------------------------------------------\u001b[0m",
            "\u001b[0;31mNameError\u001b[0m                                 Traceback (most recent call last)",
            "\u001b[0;32m<ipython-input-175-b8ebbae1ee97>\u001b[0m in \u001b[0;36m<module>\u001b[0;34m()\u001b[0m\n\u001b[0;32m----> 1\u001b[0;31m \u001b[0mlinesWithSpark\u001b[0m\u001b[0;34m\u001b[0m\u001b[0;34m\u001b[0m\u001b[0m\n\u001b[0m",
            "\u001b[0;31mNameError\u001b[0m: name 'linesWithSpark' is not defined"
          ]
        }
      ]
    },
    {
      "cell_type": "code",
      "metadata": {
        "id": "YTD0JVoe2Amm",
        "colab_type": "code",
        "colab": {}
      },
      "source": [
        "linesWithSpark = textFile.filter(textFile.value.contains(\"Spark\"))"
      ],
      "execution_count": 0,
      "outputs": []
    },
    {
      "cell_type": "code",
      "metadata": {
        "id": "AL3jrdoq2IBO",
        "colab_type": "code",
        "outputId": "203679d4-80ad-4251-bc72-4fe88fee73d0",
        "colab": {
          "base_uri": "https://localhost:8080/",
          "height": 35
        }
      },
      "source": [
        "textFile.filter(textFile.value.contains(\"Spark\")).count()  # How many lines contain \"Spark\"?"
      ],
      "execution_count": 0,
      "outputs": [
        {
          "output_type": "execute_result",
          "data": {
            "text/plain": [
              "20"
            ]
          },
          "metadata": {
            "tags": []
          },
          "execution_count": 177
        }
      ]
    },
    {
      "cell_type": "code",
      "metadata": {
        "id": "RVJx4TSq2KOd",
        "colab_type": "code",
        "outputId": "bbe8e35a-a430-44bd-a0df-df485ccf1979",
        "colab": {
          "base_uri": "https://localhost:8080/",
          "height": 35
        }
      },
      "source": [
        "from pyspark.sql.functions import *\n",
        "textFile.select(size(split(textFile.value, \"\\s+\")).name(\"numWords\")).agg(max(col(\"numWords\"))).collect()"
      ],
      "execution_count": 0,
      "outputs": [
        {
          "output_type": "execute_result",
          "data": {
            "text/plain": [
              "[Row(max(numWords)=22)]"
            ]
          },
          "metadata": {
            "tags": []
          },
          "execution_count": 178
        }
      ]
    },
    {
      "cell_type": "code",
      "metadata": {
        "id": "P8t1tWm92NBe",
        "colab_type": "code",
        "colab": {}
      },
      "source": [
        "wordCounts = textFile.select(explode(split(textFile.value, \"\\s+\")).alias(\"word\")).groupBy(\"word\").count()"
      ],
      "execution_count": 0,
      "outputs": []
    },
    {
      "cell_type": "code",
      "metadata": {
        "id": "aHTn7ECR2Q49",
        "colab_type": "code",
        "outputId": "da66cef1-d2c4-4b72-f656-1b342865fc3a",
        "colab": {
          "base_uri": "https://localhost:8080/",
          "height": 1000
        }
      },
      "source": [
        "wordCounts.collect()"
      ],
      "execution_count": 0,
      "outputs": [
        {
          "output_type": "execute_result",
          "data": {
            "text/plain": [
              "[Row(word='online', count=1),\n",
              " Row(word='graphs', count=1),\n",
              " Row(word='[\"Parallel', count=1),\n",
              " Row(word='[\"Building', count=1),\n",
              " Row(word='thread', count=1),\n",
              " Row(word='documentation', count=3),\n",
              " Row(word='command,', count=2),\n",
              " Row(word='abbreviated', count=1),\n",
              " Row(word='overview', count=1),\n",
              " Row(word='rich', count=1),\n",
              " Row(word='set', count=2),\n",
              " Row(word='-DskipTests', count=1),\n",
              " Row(word='name', count=1),\n",
              " Row(word='page](http://spark.apache.org/documentation.html).', count=1),\n",
              " Row(word='[\"Specifying', count=1),\n",
              " Row(word='stream', count=1),\n",
              " Row(word='run:', count=1),\n",
              " Row(word='not', count=1),\n",
              " Row(word='programs', count=2),\n",
              " Row(word='tests', count=2),\n",
              " Row(word='./dev/run-tests', count=1),\n",
              " Row(word='will', count=1),\n",
              " Row(word='[run', count=1),\n",
              " Row(word='particular', count=2),\n",
              " Row(word='option', count=1),\n",
              " Row(word='Alternatively,', count=1),\n",
              " Row(word='by', count=1),\n",
              " Row(word='must', count=1),\n",
              " Row(word='using', count=5),\n",
              " Row(word='you', count=4),\n",
              " Row(word='MLlib', count=1),\n",
              " Row(word='DataFrames,', count=1),\n",
              " Row(word='variable', count=1),\n",
              " Row(word='Note', count=1),\n",
              " Row(word='core', count=1),\n",
              " Row(word='more', count=1),\n",
              " Row(word='protocols', count=1),\n",
              " Row(word='guidance', count=2),\n",
              " Row(word='shell:', count=2),\n",
              " Row(word='can', count=7),\n",
              " Row(word='site,', count=1),\n",
              " Row(word='systems.', count=1),\n",
              " Row(word='Maven', count=1),\n",
              " Row(word='[building', count=1),\n",
              " Row(word='configure', count=1),\n",
              " Row(word='for', count=12),\n",
              " Row(word='README', count=1),\n",
              " Row(word='Interactive', count=2),\n",
              " Row(word='how', count=3),\n",
              " Row(word='[Configuration', count=1),\n",
              " Row(word='Hive', count=2),\n",
              " Row(word='system', count=1),\n",
              " Row(word='provides', count=1),\n",
              " Row(word='Hadoop-supported', count=1),\n",
              " Row(word='pre-built', count=1),\n",
              " Row(word='[\"Useful', count=1),\n",
              " Row(word='directory.', count=1),\n",
              " Row(word='Example', count=1),\n",
              " Row(word='example', count=3),\n",
              " Row(word='Kubernetes', count=1),\n",
              " Row(word='one', count=3),\n",
              " Row(word='MASTER', count=1),\n",
              " Row(word='in', count=6),\n",
              " Row(word='library', count=1),\n",
              " Row(word='Spark.', count=1),\n",
              " Row(word='contains', count=1),\n",
              " Row(word='Configuration', count=1),\n",
              " Row(word='programming', count=1),\n",
              " Row(word='with', count=4),\n",
              " Row(word='contributing', count=1),\n",
              " Row(word='downloaded', count=1),\n",
              " Row(word='1000).count()', count=1),\n",
              " Row(word='comes', count=1),\n",
              " Row(word='machine', count=1),\n",
              " Row(word='Tools\"](http://spark.apache.org/developer-tools.html).', count=1),\n",
              " Row(word='building', count=2),\n",
              " Row(word='params', count=1),\n",
              " Row(word='Guide](http://spark.apache.org/docs/latest/configuration.html)', count=1),\n",
              " Row(word='given.', count=1),\n",
              " Row(word='be', count=2),\n",
              " Row(word='same', count=1),\n",
              " Row(word='integration', count=1),\n",
              " Row(word='than', count=1),\n",
              " Row(word='Programs', count=1),\n",
              " Row(word='locally', count=2),\n",
              " Row(word='using:', count=1),\n",
              " Row(word='fast', count=1),\n",
              " Row(word='[Apache', count=1),\n",
              " Row(word='your', count=1),\n",
              " Row(word='optimized', count=1),\n",
              " Row(word='Developer', count=1),\n",
              " Row(word='R,', count=1),\n",
              " Row(word='should', count=2),\n",
              " Row(word='graph', count=1),\n",
              " Row(word='package', count=1),\n",
              " Row(word='-T', count=1),\n",
              " Row(word='[project', count=1),\n",
              " Row(word='project', count=1),\n",
              " Row(word='`examples`', count=2),\n",
              " Row(word='resource-managers/kubernetes/integration-tests/README.md', count=1),\n",
              " Row(word='versions', count=1),\n",
              " Row(word='Spark](#building-spark).', count=1),\n",
              " Row(word='general', count=3),\n",
              " Row(word='other', count=1),\n",
              " Row(word='learning,', count=1),\n",
              " Row(word='when', count=1),\n",
              " Row(word='submit', count=1),\n",
              " Row(word='Apache', count=1),\n",
              " Row(word='1000:', count=2),\n",
              " Row(word='detailed', count=2),\n",
              " Row(word='About', count=1),\n",
              " Row(word='is', count=7),\n",
              " Row(word='on', count=7),\n",
              " Row(word='scala>', count=1),\n",
              " Row(word='print', count=1),\n",
              " Row(word='use', count=3),\n",
              " Row(word='different', count=1),\n",
              " Row(word='following', count=2),\n",
              " Row(word='SparkPi', count=2),\n",
              " Row(word='refer', count=2),\n",
              " Row(word='./bin/run-example', count=2),\n",
              " Row(word='data', count=1),\n",
              " Row(word='Tests', count=1),\n",
              " Row(word='Versions', count=1),\n",
              " Row(word='Data.', count=1),\n",
              " Row(word='processing.', count=1),\n",
              " Row(word='its', count=1),\n",
              " Row(word='basic', count=1),\n",
              " Row(word='latest', count=1),\n",
              " Row(word='only', count=1),\n",
              " Row(word='<class>', count=1),\n",
              " Row(word='have', count=1),\n",
              " Row(word='runs.', count=1),\n",
              " Row(word='You', count=4),\n",
              " Row(word='tips,', count=1),\n",
              " Row(word='project.', count=1),\n",
              " Row(word='developing', count=1),\n",
              " Row(word='YARN,', count=1),\n",
              " Row(word='It', count=2),\n",
              " Row(word='\"local\"', count=1),\n",
              " Row(word='processing,', count=1),\n",
              " Row(word='built', count=1),\n",
              " Row(word='Pi', count=1),\n",
              " Row(word='thread,', count=1),\n",
              " Row(word='A', count=1),\n",
              " Row(word='APIs', count=1),\n",
              " Row(word='Scala,', count=1),\n",
              " Row(word='file', count=1),\n",
              " Row(word='computation', count=1),\n",
              " Row(word='Once', count=1),\n",
              " Row(word='find', count=1),\n",
              " Row(word='the', count=24),\n",
              " Row(word='To', count=2),\n",
              " Row(word='sc.parallelize(1', count=1),\n",
              " Row(word='uses', count=1),\n",
              " Row(word='Version', count=1),\n",
              " Row(word='N', count=1),\n",
              " Row(word='programs,', count=1),\n",
              " Row(word='\"yarn\"', count=1),\n",
              " Row(word='see', count=4),\n",
              " Row(word='./bin/pyspark', count=1),\n",
              " Row(word='return', count=2),\n",
              " Row(word='computing', count=1),\n",
              " Row(word='Java,', count=1),\n",
              " Row(word='from', count=1),\n",
              " Row(word='Because', count=1),\n",
              " Row(word='cluster', count=2),\n",
              " Row(word='Streaming', count=1),\n",
              " Row(word='More', count=1),\n",
              " Row(word='analysis.', count=1),\n",
              " Row(word='Maven](http://maven.apache.org/).', count=1),\n",
              " Row(word='cluster.', count=1),\n",
              " Row(word='Running', count=1),\n",
              " Row(word='Please', count=4),\n",
              " Row(word='talk', count=1),\n",
              " Row(word='distributions.', count=1),\n",
              " Row(word='guide,', count=1),\n",
              " Row(word='tests](http://spark.apache.org/developer-tools.html#individual-tests).', count=1),\n",
              " Row(word='There', count=1),\n",
              " Row(word='\"local[N]\"', count=1),\n",
              " Row(word='Try', count=1),\n",
              " Row(word='and', count=10),\n",
              " Row(word='do', count=2),\n",
              " Row(word='Scala', count=2),\n",
              " Row(word='class', count=2),\n",
              " Row(word='build', count=4),\n",
              " Row(word='3\"](https://cwiki.apache.org/confluence/display/MAVEN/Parallel+builds+in+Maven+3).', count=1),\n",
              " Row(word='setup', count=1),\n",
              " Row(word='need', count=1),\n",
              " Row(word='spark://', count=1),\n",
              " Row(word='Hadoop,', count=2),\n",
              " Row(word='Thriftserver', count=1),\n",
              " Row(word='are', count=1),\n",
              " Row(word='requires', count=1),\n",
              " Row(word='package.', count=1),\n",
              " Row(word='Enabling', count=1),\n",
              " Row(word='clean', count=1),\n",
              " Row(word='sc.parallelize(range(1000)).count()', count=1),\n",
              " Row(word='high-level', count=1),\n",
              " Row(word='SQL', count=2),\n",
              " Row(word='against', count=1),\n",
              " Row(word='of', count=5),\n",
              " Row(word='through', count=1),\n",
              " Row(word='review', count=1),\n",
              " Row(word='package.)', count=1),\n",
              " Row(word='Python,', count=2),\n",
              " Row(word='easiest', count=1),\n",
              " Row(word='no', count=1),\n",
              " Row(word='Testing', count=1),\n",
              " Row(word='several', count=1),\n",
              " Row(word='help', count=1),\n",
              " Row(word='The', count=1),\n",
              " Row(word='sample', count=1),\n",
              " Row(word='MASTER=spark://host:7077', count=1),\n",
              " Row(word='Big', count=1),\n",
              " Row(word='examples', count=2),\n",
              " Row(word='an', count=4),\n",
              " Row(word='#', count=1),\n",
              " Row(word='Online', count=1),\n",
              " Row(word='test,', count=1),\n",
              " Row(word='including', count=4),\n",
              " Row(word='usage', count=1),\n",
              " Row(word='Python', count=2),\n",
              " Row(word='at', count=2),\n",
              " Row(word='development', count=1),\n",
              " Row(word='Spark\"](http://spark.apache.org/docs/latest/building-spark.html).', count=1),\n",
              " Row(word='IDE,', count=1),\n",
              " Row(word='way', count=1),\n",
              " Row(word='Contributing', count=1),\n",
              " Row(word='get', count=1),\n",
              " Row(word='that', count=2),\n",
              " Row(word='##', count=9),\n",
              " Row(word='For', count=3),\n",
              " Row(word='prefer', count=1),\n",
              " Row(word='This', count=2),\n",
              " Row(word='build/mvn', count=1),\n",
              " Row(word='builds', count=1),\n",
              " Row(word='running', count=1),\n",
              " Row(word='web', count=1),\n",
              " Row(word='run', count=7),\n",
              " Row(word='locally.', count=1),\n",
              " Row(word='Spark', count=16),\n",
              " Row(word='URL,', count=1),\n",
              " Row(word='a', count=9),\n",
              " Row(word='higher-level', count=1),\n",
              " Row(word='tools', count=1),\n",
              " Row(word='if', count=4),\n",
              " Row(word='available', count=1),\n",
              " Row(word='', count=48),\n",
              " Row(word='Documentation', count=1),\n",
              " Row(word='this', count=1),\n",
              " Row(word='(You', count=1),\n",
              " Row(word='>>>', count=1),\n",
              " Row(word='information', count=1),\n",
              " Row(word='info', count=1),\n",
              " Row(word='<http://spark.apache.org/>', count=1),\n",
              " Row(word='Shell', count=2),\n",
              " Row(word='environment', count=1),\n",
              " Row(word='built,', count=1),\n",
              " Row(word='module,', count=1),\n",
              " Row(word='them,', count=1),\n",
              " Row(word='`./bin/run-example', count=1),\n",
              " Row(word='instance:', count=1),\n",
              " Row(word='first', count=1),\n",
              " Row(word='[Contribution', count=1),\n",
              " Row(word='guide](http://spark.apache.org/contributing.html)', count=1),\n",
              " Row(word='documentation,', count=1),\n",
              " Row(word='[params]`.', count=1),\n",
              " Row(word='mesos://', count=1),\n",
              " Row(word='engine', count=1),\n",
              " Row(word='GraphX', count=1),\n",
              " Row(word='Maven,', count=1),\n",
              " Row(word='example:', count=1),\n",
              " Row(word='HDFS', count=1),\n",
              " Row(word='YARN\"](http://spark.apache.org/docs/latest/building-spark.html#specifying-the-hadoop-version-and-enabling-yarn)', count=1),\n",
              " Row(word='or', count=3),\n",
              " Row(word='to', count=17),\n",
              " Row(word='Hadoop', count=3),\n",
              " Row(word='individual', count=1),\n",
              " Row(word='also', count=5),\n",
              " Row(word='changed', count=1),\n",
              " Row(word='started', count=1),\n",
              " Row(word='./bin/spark-shell', count=1),\n",
              " Row(word='threads.', count=1),\n",
              " Row(word='supports', count=2),\n",
              " Row(word='storage', count=1),\n",
              " Row(word='version', count=1),\n",
              " Row(word='instructions.', count=1),\n",
              " Row(word='Building', count=1),\n",
              " Row(word='start', count=1),\n",
              " Row(word='Many', count=1),\n",
              " Row(word='which', count=2),\n",
              " Row(word='And', count=1),\n",
              " Row(word='distribution', count=1)]"
            ]
          },
          "metadata": {
            "tags": []
          },
          "execution_count": 180
        }
      ]
    },
    {
      "cell_type": "code",
      "metadata": {
        "id": "DxyXKtqd2SoV",
        "colab_type": "code",
        "outputId": "afc5f82a-c01e-4ac7-e54c-56ebe3e09725",
        "colab": {
          "base_uri": "https://localhost:8080/",
          "height": 35
        }
      },
      "source": [
        "linesWithSpark.cache()"
      ],
      "execution_count": 0,
      "outputs": [
        {
          "output_type": "execute_result",
          "data": {
            "text/plain": [
              "DataFrame[value: string]"
            ]
          },
          "metadata": {
            "tags": []
          },
          "execution_count": 181
        }
      ]
    },
    {
      "cell_type": "code",
      "metadata": {
        "id": "PGc-Ffxy2Ut9",
        "colab_type": "code",
        "outputId": "56c547f4-1dc1-4a55-f0fb-42d6eb0c11b3",
        "colab": {
          "base_uri": "https://localhost:8080/",
          "height": 35
        }
      },
      "source": [
        "linesWithSpark.count()"
      ],
      "execution_count": 0,
      "outputs": [
        {
          "output_type": "execute_result",
          "data": {
            "text/plain": [
              "20"
            ]
          },
          "metadata": {
            "tags": []
          },
          "execution_count": 182
        }
      ]
    },
    {
      "cell_type": "code",
      "metadata": {
        "id": "qfg6iHhD2XZ1",
        "colab_type": "code",
        "outputId": "43895f5e-8942-4d3b-f6b2-379ff074cf24",
        "colab": {
          "base_uri": "https://localhost:8080/",
          "height": 35
        }
      },
      "source": [
        "# For Python examples, use spark-submit directly:\n",
        "!./bin/spark-submit examples/src/main/python/pi.py"
      ],
      "execution_count": 0,
      "outputs": [
        {
          "output_type": "stream",
          "text": [
            "/bin/bash: ./bin/spark-submit: No such file or directory\n"
          ],
          "name": "stdout"
        }
      ]
    },
    {
      "cell_type": "code",
      "metadata": {
        "id": "Q8e8TwBh2tW1",
        "colab_type": "code",
        "outputId": "ec171019-618a-47c8-beb9-280fb66e52c0",
        "colab": {
          "base_uri": "https://localhost:8080/",
          "height": 108
        }
      },
      "source": [
        "\n",
        "!cd /content/spark-2.4.4-bin-hadoop2.7/bin/\n",
        "!spark-submit examples/src/main/python/pi.py"
      ],
      "execution_count": 0,
      "outputs": [
        {
          "output_type": "stream",
          "text": [
            "20/01/21 20:47:51 WARN NativeCodeLoader: Unable to load native-hadoop library for your platform... using builtin-java classes where applicable\n",
            "python3: can't open file '/content/examples/src/main/python/pi.py': [Errno 2] No such file or directory\n",
            "log4j:WARN No appenders could be found for logger (org.apache.spark.util.ShutdownHookManager).\n",
            "log4j:WARN Please initialize the log4j system properly.\n",
            "log4j:WARN See http://logging.apache.org/log4j/1.2/faq.html#noconfig for more info.\n"
          ],
          "name": "stdout"
        }
      ]
    },
    {
      "cell_type": "code",
      "metadata": {
        "id": "aek21VSy28Jn",
        "colab_type": "code",
        "outputId": "2486a2ae-fd66-42fa-9ed7-79b640b9c408",
        "colab": {
          "base_uri": "https://localhost:8080/",
          "height": 35
        }
      },
      "source": [
        "!ls -l /content/examples/src/main/python/"
      ],
      "execution_count": 0,
      "outputs": [
        {
          "output_type": "stream",
          "text": [
            "ls: cannot access '/content/examples/src/main/python/': No such file or directory\n"
          ],
          "name": "stdout"
        }
      ]
    },
    {
      "cell_type": "code",
      "metadata": {
        "id": "R0DzFM9D3Lkd",
        "colab_type": "code",
        "colab": {}
      },
      "source": [
        "main_folder = \"/content/spark-2.4.4-bin-hadoop2.7/examples/src/main/python\""
      ],
      "execution_count": 0,
      "outputs": []
    },
    {
      "cell_type": "code",
      "metadata": {
        "id": "MG4t1OQ_3gt1",
        "colab_type": "code",
        "outputId": "393805b4-693c-4402-d094-dfd443fd0610",
        "colab": {
          "base_uri": "https://localhost:8080/",
          "height": 35
        }
      },
      "source": [
        "main_folder"
      ],
      "execution_count": 0,
      "outputs": [
        {
          "output_type": "execute_result",
          "data": {
            "text/plain": [
              "'/content/spark-2.4.4-bin-hadoop2.7/examples/src/main/python'"
            ]
          },
          "metadata": {
            "tags": []
          },
          "execution_count": 192
        }
      ]
    },
    {
      "cell_type": "code",
      "metadata": {
        "id": "IhzfqiBD3jod",
        "colab_type": "code",
        "outputId": "038c24d2-fb48-4501-d772-1eed4b1dea83",
        "colab": {
          "base_uri": "https://localhost:8080/",
          "height": 35
        }
      },
      "source": [
        "!ls -l main_folder"
      ],
      "execution_count": 0,
      "outputs": [
        {
          "output_type": "stream",
          "text": [
            "ls: cannot access 'main_folder': No such file or directory\n"
          ],
          "name": "stdout"
        }
      ]
    },
    {
      "cell_type": "code",
      "metadata": {
        "id": "sQgoOaln3l4u",
        "colab_type": "code",
        "outputId": "35acce88-90a6-4188-c2ec-48a2b7c45614",
        "colab": {
          "base_uri": "https://localhost:8080/",
          "height": 1000
        }
      },
      "source": [
        "!/content/spark-2.4.4-bin-hadoop2.7/bin/spark-submit /content/spark-2.4.4-bin-hadoop2.7/examples/src/main/python/pi.py\n",
        "\n"
      ],
      "execution_count": 0,
      "outputs": [
        {
          "output_type": "stream",
          "text": [
            "20/01/21 20:51:20 WARN NativeCodeLoader: Unable to load native-hadoop library for your platform... using builtin-java classes where applicable\n",
            "Using Spark's default log4j profile: org/apache/spark/log4j-defaults.properties\n",
            "20/01/21 20:51:21 INFO SparkContext: Running Spark version 2.4.4\n",
            "20/01/21 20:51:21 INFO SparkContext: Submitted application: PythonPi\n",
            "20/01/21 20:51:21 INFO SecurityManager: Changing view acls to: root\n",
            "20/01/21 20:51:21 INFO SecurityManager: Changing modify acls to: root\n",
            "20/01/21 20:51:21 INFO SecurityManager: Changing view acls groups to: \n",
            "20/01/21 20:51:21 INFO SecurityManager: Changing modify acls groups to: \n",
            "20/01/21 20:51:21 INFO SecurityManager: SecurityManager: authentication disabled; ui acls disabled; users  with view permissions: Set(root); groups with view permissions: Set(); users  with modify permissions: Set(root); groups with modify permissions: Set()\n",
            "20/01/21 20:51:21 INFO Utils: Successfully started service 'sparkDriver' on port 44659.\n",
            "20/01/21 20:51:21 INFO SparkEnv: Registering MapOutputTracker\n",
            "20/01/21 20:51:21 INFO SparkEnv: Registering BlockManagerMaster\n",
            "20/01/21 20:51:21 INFO BlockManagerMasterEndpoint: Using org.apache.spark.storage.DefaultTopologyMapper for getting topology information\n",
            "20/01/21 20:51:21 INFO BlockManagerMasterEndpoint: BlockManagerMasterEndpoint up\n",
            "20/01/21 20:51:21 INFO DiskBlockManager: Created local directory at /tmp/blockmgr-a4cfd31e-17f3-4f45-a9fb-34f55661891e\n",
            "20/01/21 20:51:21 INFO MemoryStore: MemoryStore started with capacity 366.3 MB\n",
            "20/01/21 20:51:21 INFO SparkEnv: Registering OutputCommitCoordinator\n",
            "20/01/21 20:51:21 WARN Utils: Service 'SparkUI' could not bind on port 4040. Attempting port 4041.\n",
            "20/01/21 20:51:21 INFO Utils: Successfully started service 'SparkUI' on port 4041.\n",
            "20/01/21 20:51:21 INFO SparkUI: Bound SparkUI to 0.0.0.0, and started at http://1228b4012bf3:4041\n",
            "20/01/21 20:51:22 INFO Executor: Starting executor ID driver on host localhost\n",
            "20/01/21 20:51:22 INFO Utils: Successfully started service 'org.apache.spark.network.netty.NettyBlockTransferService' on port 34503.\n",
            "20/01/21 20:51:22 INFO NettyBlockTransferService: Server created on 1228b4012bf3:34503\n",
            "20/01/21 20:51:22 INFO BlockManager: Using org.apache.spark.storage.RandomBlockReplicationPolicy for block replication policy\n",
            "20/01/21 20:51:22 INFO BlockManagerMaster: Registering BlockManager BlockManagerId(driver, 1228b4012bf3, 34503, None)\n",
            "20/01/21 20:51:22 INFO BlockManagerMasterEndpoint: Registering block manager 1228b4012bf3:34503 with 366.3 MB RAM, BlockManagerId(driver, 1228b4012bf3, 34503, None)\n",
            "20/01/21 20:51:22 INFO BlockManagerMaster: Registered BlockManager BlockManagerId(driver, 1228b4012bf3, 34503, None)\n",
            "20/01/21 20:51:22 INFO BlockManager: Initialized BlockManager: BlockManagerId(driver, 1228b4012bf3, 34503, None)\n",
            "20/01/21 20:51:22 INFO SharedState: Setting hive.metastore.warehouse.dir ('null') to the value of spark.sql.warehouse.dir ('file:/content/spark-warehouse').\n",
            "20/01/21 20:51:22 INFO SharedState: Warehouse path is 'file:/content/spark-warehouse'.\n",
            "20/01/21 20:51:23 INFO StateStoreCoordinatorRef: Registered StateStoreCoordinator endpoint\n",
            "20/01/21 20:51:23 INFO SparkContext: Starting job: reduce at /content/spark-2.4.4-bin-hadoop2.7/examples/src/main/python/pi.py:44\n",
            "20/01/21 20:51:23 INFO DAGScheduler: Got job 0 (reduce at /content/spark-2.4.4-bin-hadoop2.7/examples/src/main/python/pi.py:44) with 2 output partitions\n",
            "20/01/21 20:51:23 INFO DAGScheduler: Final stage: ResultStage 0 (reduce at /content/spark-2.4.4-bin-hadoop2.7/examples/src/main/python/pi.py:44)\n",
            "20/01/21 20:51:23 INFO DAGScheduler: Parents of final stage: List()\n",
            "20/01/21 20:51:23 INFO DAGScheduler: Missing parents: List()\n",
            "20/01/21 20:51:23 INFO DAGScheduler: Submitting ResultStage 0 (PythonRDD[1] at reduce at /content/spark-2.4.4-bin-hadoop2.7/examples/src/main/python/pi.py:44), which has no missing parents\n",
            "20/01/21 20:51:24 INFO MemoryStore: Block broadcast_0 stored as values in memory (estimated size 6.2 KB, free 366.3 MB)\n",
            "20/01/21 20:51:24 INFO MemoryStore: Block broadcast_0_piece0 stored as bytes in memory (estimated size 4.2 KB, free 366.3 MB)\n",
            "20/01/21 20:51:24 INFO BlockManagerInfo: Added broadcast_0_piece0 in memory on 1228b4012bf3:34503 (size: 4.2 KB, free: 366.3 MB)\n",
            "20/01/21 20:51:24 INFO SparkContext: Created broadcast 0 from broadcast at DAGScheduler.scala:1161\n",
            "20/01/21 20:51:24 INFO DAGScheduler: Submitting 2 missing tasks from ResultStage 0 (PythonRDD[1] at reduce at /content/spark-2.4.4-bin-hadoop2.7/examples/src/main/python/pi.py:44) (first 15 tasks are for partitions Vector(0, 1))\n",
            "20/01/21 20:51:24 INFO TaskSchedulerImpl: Adding task set 0.0 with 2 tasks\n",
            "20/01/21 20:51:24 INFO TaskSetManager: Starting task 0.0 in stage 0.0 (TID 0, localhost, executor driver, partition 0, PROCESS_LOCAL, 7852 bytes)\n",
            "20/01/21 20:51:24 INFO TaskSetManager: Starting task 1.0 in stage 0.0 (TID 1, localhost, executor driver, partition 1, PROCESS_LOCAL, 7852 bytes)\n",
            "20/01/21 20:51:24 INFO Executor: Running task 1.0 in stage 0.0 (TID 1)\n",
            "20/01/21 20:51:24 INFO Executor: Running task 0.0 in stage 0.0 (TID 0)\n",
            "20/01/21 20:51:25 INFO PythonRunner: Times: total = 755, boot = 519, init = 62, finish = 174\n",
            "20/01/21 20:51:25 INFO PythonRunner: Times: total = 752, boot = 521, init = 56, finish = 175\n",
            "20/01/21 20:51:25 INFO Executor: Finished task 0.0 in stage 0.0 (TID 0). 1421 bytes result sent to driver\n",
            "20/01/21 20:51:25 INFO Executor: Finished task 1.0 in stage 0.0 (TID 1). 1421 bytes result sent to driver\n",
            "20/01/21 20:51:25 INFO TaskSetManager: Finished task 0.0 in stage 0.0 (TID 0) in 932 ms on localhost (executor driver) (1/2)\n",
            "20/01/21 20:51:25 INFO TaskSetManager: Finished task 1.0 in stage 0.0 (TID 1) in 888 ms on localhost (executor driver) (2/2)\n",
            "20/01/21 20:51:25 INFO PythonAccumulatorV2: Connected to AccumulatorServer at host: 127.0.0.1 port: 36787\n",
            "20/01/21 20:51:25 INFO TaskSchedulerImpl: Removed TaskSet 0.0, whose tasks have all completed, from pool \n",
            "20/01/21 20:51:25 INFO DAGScheduler: ResultStage 0 (reduce at /content/spark-2.4.4-bin-hadoop2.7/examples/src/main/python/pi.py:44) finished in 1.158 s\n",
            "20/01/21 20:51:25 INFO DAGScheduler: Job 0 finished: reduce at /content/spark-2.4.4-bin-hadoop2.7/examples/src/main/python/pi.py:44, took 1.226389 s\n",
            "Pi is roughly 3.144640\n",
            "20/01/21 20:51:25 INFO SparkUI: Stopped Spark web UI at http://1228b4012bf3:4041\n",
            "20/01/21 20:51:25 INFO MapOutputTrackerMasterEndpoint: MapOutputTrackerMasterEndpoint stopped!\n",
            "20/01/21 20:51:25 INFO MemoryStore: MemoryStore cleared\n",
            "20/01/21 20:51:25 INFO BlockManager: BlockManager stopped\n",
            "20/01/21 20:51:25 INFO BlockManagerMaster: BlockManagerMaster stopped\n",
            "20/01/21 20:51:25 INFO OutputCommitCoordinator$OutputCommitCoordinatorEndpoint: OutputCommitCoordinator stopped!\n",
            "20/01/21 20:51:25 INFO SparkContext: Successfully stopped SparkContext\n",
            "20/01/21 20:51:26 INFO ShutdownHookManager: Shutdown hook called\n",
            "20/01/21 20:51:26 INFO ShutdownHookManager: Deleting directory /tmp/spark-a9a164fb-5046-4a4a-a9f8-c88d7dedb0eb/pyspark-0f8f8123-347a-4996-973a-8a9089e32445\n",
            "20/01/21 20:51:26 INFO ShutdownHookManager: Deleting directory /tmp/spark-a9a164fb-5046-4a4a-a9f8-c88d7dedb0eb\n",
            "20/01/21 20:51:26 INFO ShutdownHookManager: Deleting directory /tmp/spark-d454a960-1b1b-4c20-91a4-4b7380a122ad\n"
          ],
          "name": "stdout"
        }
      ]
    },
    {
      "cell_type": "code",
      "metadata": {
        "id": "r4JsCM8y37D8",
        "colab_type": "code",
        "colab": {}
      },
      "source": [
        ""
      ],
      "execution_count": 0,
      "outputs": []
    },
    {
      "cell_type": "code",
      "metadata": {
        "id": "D8sm0sSS4DMU",
        "colab_type": "code",
        "outputId": "641df207-3e9e-44d2-f63a-366704a3f8d2",
        "colab": {
          "base_uri": "https://localhost:8080/",
          "height": 217
        }
      },
      "source": [
        "df2 = spark.createDataFrame([{\"hello\": \"world\"} for x in range(1000)])\n",
        "df2.show(3)"
      ],
      "execution_count": 0,
      "outputs": [
        {
          "output_type": "stream",
          "text": [
            "/usr/local/lib/python3.6/dist-packages/pyspark/sql/session.py:346: UserWarning: inferring schema from dict is deprecated,please use pyspark.sql.Row instead\n",
            "  warnings.warn(\"inferring schema from dict is deprecated,\"\n"
          ],
          "name": "stderr"
        },
        {
          "output_type": "stream",
          "text": [
            "+-----+\n",
            "|hello|\n",
            "+-----+\n",
            "|world|\n",
            "|world|\n",
            "|world|\n",
            "+-----+\n",
            "only showing top 3 rows\n",
            "\n"
          ],
          "name": "stdout"
        }
      ]
    },
    {
      "cell_type": "code",
      "metadata": {
        "id": "Rxr2sVCv42A8",
        "colab_type": "code",
        "colab": {}
      },
      "source": [
        "import findspark\n",
        "findspark.init(\"spark-2.4.4-bin-hadoop2.7\")# SPARK_HOME"
      ],
      "execution_count": 0,
      "outputs": []
    },
    {
      "cell_type": "code",
      "metadata": {
        "id": "f1o5fRKY48ms",
        "colab_type": "code",
        "colab": {}
      },
      "source": [
        "from pyspark.sql import SparkSession\n",
        "spark = SparkSession.builder.master(\"local[*]\").getOrCreate()"
      ],
      "execution_count": 0,
      "outputs": []
    },
    {
      "cell_type": "code",
      "metadata": {
        "id": "8JBj991B4-zb",
        "colab_type": "code",
        "outputId": "77b84aae-e092-4e15-98eb-3fed89e947eb",
        "colab": {
          "base_uri": "https://localhost:8080/",
          "height": 135
        }
      },
      "source": [
        "#print(os.listdir('./sample_data'))\n",
        "file_loc = ‘./sample_data/california_housing_train.csv’\n",
        "df_spark = spark.read.csv(file_loc, inferSchema=True, header=True)\n",
        "print(type(df_spark))"
      ],
      "execution_count": 0,
      "outputs": [
        {
          "output_type": "error",
          "ename": "SyntaxError",
          "evalue": "ignored",
          "traceback": [
            "\u001b[0;36m  File \u001b[0;32m\"<ipython-input-201-b69d7e35ab00>\"\u001b[0;36m, line \u001b[0;32m1\u001b[0m\n\u001b[0;31m    file_loc = ‘./sample_data/california_housing_train.csv’\u001b[0m\n\u001b[0m               ^\u001b[0m\n\u001b[0;31mSyntaxError\u001b[0m\u001b[0;31m:\u001b[0m invalid character in identifier\n"
          ]
        }
      ]
    },
    {
      "cell_type": "code",
      "metadata": {
        "id": "j_ItjzkF5Jec",
        "colab_type": "code",
        "outputId": "7e798eab-594f-4574-85cc-ee0bf8eaa425",
        "colab": {
          "base_uri": "https://localhost:8080/",
          "height": 126
        }
      },
      "source": [
        "# this is where java is ! \n",
        "\n",
        "!ls -l /usr/lib/jvm"
      ],
      "execution_count": 0,
      "outputs": [
        {
          "output_type": "stream",
          "text": [
            "total 8\n",
            "lrwxrwxrwx 1 root root   25 Feb 20  2019 default-java -> java-1.11.0-openjdk-amd64\n",
            "lrwxrwxrwx 1 root root   21 Oct 16 22:01 java-1.11.0-openjdk-amd64 -> java-11-openjdk-amd64\n",
            "drwxr-xr-x 7 root root 4096 Dec 18 16:45 java-11-openjdk-amd64\n",
            "lrwxrwxrwx 1 root root   20 Oct 16 20:38 java-1.8.0-openjdk-amd64 -> java-8-openjdk-amd64\n",
            "drwxr-xr-x 7 root root 4096 Dec 18 16:47 java-8-openjdk-amd64\n"
          ],
          "name": "stdout"
        }
      ]
    },
    {
      "cell_type": "code",
      "metadata": {
        "id": "oFKGVmu55VhW",
        "colab_type": "code",
        "outputId": "9f1018aa-abcf-4aa0-c555-5ba5f6d89b03",
        "colab": {
          "base_uri": "https://localhost:8080/",
          "height": 171
        }
      },
      "source": [
        "print(os.listdir('.sample_data'))"
      ],
      "execution_count": 0,
      "outputs": [
        {
          "output_type": "error",
          "ename": "FileNotFoundError",
          "evalue": "ignored",
          "traceback": [
            "\u001b[0;31m---------------------------------------------------------------------------\u001b[0m",
            "\u001b[0;31mFileNotFoundError\u001b[0m                         Traceback (most recent call last)",
            "\u001b[0;32m<ipython-input-207-9d81c2376b04>\u001b[0m in \u001b[0;36m<module>\u001b[0;34m()\u001b[0m\n\u001b[0;32m----> 1\u001b[0;31m \u001b[0mprint\u001b[0m\u001b[0;34m(\u001b[0m\u001b[0mos\u001b[0m\u001b[0;34m.\u001b[0m\u001b[0mlistdir\u001b[0m\u001b[0;34m(\u001b[0m\u001b[0;34m'.sample_data'\u001b[0m\u001b[0;34m)\u001b[0m\u001b[0;34m)\u001b[0m\u001b[0;34m\u001b[0m\u001b[0;34m\u001b[0m\u001b[0m\n\u001b[0m",
            "\u001b[0;31mFileNotFoundError\u001b[0m: [Errno 2] No such file or directory: '.sample_data'"
          ]
        }
      ]
    },
    {
      "cell_type": "code",
      "metadata": {
        "id": "M0aYSFjS5zoU",
        "colab_type": "code",
        "outputId": "7e64b172-9f1f-465c-a4ce-4d344a6cd27a",
        "colab": {
          "base_uri": "https://localhost:8080/",
          "height": 145
        }
      },
      "source": [
        "!ls -l"
      ],
      "execution_count": 0,
      "outputs": [
        {
          "output_type": "stream",
          "text": [
            "total 227424\n",
            "-rw-r--r--  1 root root   2772143 Jan 21 19:16 diamonds.csv\n",
            "drwx------  4 root root      4096 Jan 21 19:05 gdrive\n",
            "-rw-r--r--  1 root root      2033 Jan 21 20:19 README-Template.md\n",
            "drwxr-xr-x  1 root root      4096 Jan 13 16:38 sample_data\n",
            "drwxr-xr-x 13 1000 1000      4096 Aug 27 21:30 spark-2.4.4-bin-hadoop2.7\n",
            "-rw-r--r--  1 root root 230091034 Aug 27 22:01 spark-2.4.4-bin-hadoop2.7.tgz\n"
          ],
          "name": "stdout"
        }
      ]
    },
    {
      "cell_type": "code",
      "metadata": {
        "id": "nxtVPSn29mOe",
        "colab_type": "code",
        "outputId": "36e20c1c-a9e0-44f6-ddd6-5569246cdfa7",
        "colab": {
          "base_uri": "https://localhost:8080/",
          "height": 145
        }
      },
      "source": [
        "!ls -l "
      ],
      "execution_count": 0,
      "outputs": [
        {
          "output_type": "stream",
          "text": [
            "total 227424\n",
            "-rw-r--r--  1 root root   2772143 Jan 21 19:16 diamonds.csv\n",
            "drwx------  4 root root      4096 Jan 21 19:05 gdrive\n",
            "-rw-r--r--  1 root root      2033 Jan 21 20:19 README-Template.md\n",
            "drwxr-xr-x  1 root root      4096 Jan 13 16:38 sample_data\n",
            "drwxr-xr-x 13 1000 1000      4096 Aug 27 21:30 spark-2.4.4-bin-hadoop2.7\n",
            "-rw-r--r--  1 root root 230091034 Aug 27 22:01 spark-2.4.4-bin-hadoop2.7.tgz\n"
          ],
          "name": "stdout"
        }
      ]
    },
    {
      "cell_type": "code",
      "metadata": {
        "id": "SO9zJeIs9ocj",
        "colab_type": "code",
        "colab": {}
      },
      "source": [
        "# ORIGINAL:\n",
        "# import findspark\n",
        "# findspark.init()\n",
        "# from pyspark.sql import SparkSession\n",
        "# spark = SparkSession.builder.master(\"local[*]\").getOrCreate()"
      ],
      "execution_count": 0,
      "outputs": []
    },
    {
      "cell_type": "markdown",
      "metadata": {
        "id": "RizxW1z--_4V",
        "colab_type": "text"
      },
      "source": [
        "# PI.PYTHON"
      ]
    },
    {
      "cell_type": "code",
      "metadata": {
        "id": "A54ddtQl-C_3",
        "colab_type": "code",
        "outputId": "ddeb2750-09b4-4328-d76f-e4022722b1f1",
        "colab": {
          "base_uri": "https://localhost:8080/",
          "height": 126
        }
      },
      "source": [
        "!python /content/spark-2.4.4-bin-hadoop2.7/examples/src/main/python/pi.py"
      ],
      "execution_count": 0,
      "outputs": [
        {
          "output_type": "stream",
          "text": [
            "20/01/21 21:21:49 WARN NativeCodeLoader: Unable to load native-hadoop library for your platform... using builtin-java classes where applicable\n",
            "Using Spark's default log4j profile: org/apache/spark/log4j-defaults.properties\n",
            "Setting default log level to \"WARN\".\n",
            "To adjust logging level use sc.setLogLevel(newLevel). For SparkR, use setLogLevel(newLevel).\n",
            "20/01/21 21:21:50 WARN Utils: Service 'SparkUI' could not bind on port 4040. Attempting port 4041.\n",
            "Pi is roughly 3.141520\n"
          ],
          "name": "stdout"
        }
      ]
    },
    {
      "cell_type": "code",
      "metadata": {
        "id": "tt8AO4nq-5cb",
        "colab_type": "code",
        "outputId": "ee6adf92-891f-42df-a255-ed1fb57e9145",
        "colab": {
          "base_uri": "https://localhost:8080/",
          "height": 872
        }
      },
      "source": [
        "!cat /content/spark-2.4.4-bin-hadoop2.7/examples/src/main/python/pi.py"
      ],
      "execution_count": 0,
      "outputs": [
        {
          "output_type": "stream",
          "text": [
            "#\n",
            "# Licensed to the Apache Software Foundation (ASF) under one or more\n",
            "# contributor license agreements.  See the NOTICE file distributed with\n",
            "# this work for additional information regarding copyright ownership.\n",
            "# The ASF licenses this file to You under the Apache License, Version 2.0\n",
            "# (the \"License\"); you may not use this file except in compliance with\n",
            "# the License.  You may obtain a copy of the License at\n",
            "#\n",
            "#    http://www.apache.org/licenses/LICENSE-2.0\n",
            "#\n",
            "# Unless required by applicable law or agreed to in writing, software\n",
            "# distributed under the License is distributed on an \"AS IS\" BASIS,\n",
            "# WITHOUT WARRANTIES OR CONDITIONS OF ANY KIND, either express or implied.\n",
            "# See the License for the specific language governing permissions and\n",
            "# limitations under the License.\n",
            "#\n",
            "\n",
            "from __future__ import print_function\n",
            "\n",
            "import sys\n",
            "from random import random\n",
            "from operator import add\n",
            "\n",
            "from pyspark.sql import SparkSession\n",
            "\n",
            "\n",
            "if __name__ == \"__main__\":\n",
            "    \"\"\"\n",
            "        Usage: pi [partitions]\n",
            "    \"\"\"\n",
            "    spark = SparkSession\\\n",
            "        .builder\\\n",
            "        .appName(\"PythonPi\")\\\n",
            "        .getOrCreate()\n",
            "\n",
            "    partitions = int(sys.argv[1]) if len(sys.argv) > 1 else 2\n",
            "    n = 100000 * partitions\n",
            "\n",
            "    def f(_):\n",
            "        x = random() * 2 - 1\n",
            "        y = random() * 2 - 1\n",
            "        return 1 if x ** 2 + y ** 2 <= 1 else 0\n",
            "\n",
            "    count = spark.sparkContext.parallelize(range(1, n + 1), partitions).map(f).reduce(add)\n",
            "    print(\"Pi is roughly %f\" % (4.0 * count / n))\n",
            "\n",
            "    spark.stop()\n"
          ],
          "name": "stdout"
        }
      ]
    },
    {
      "cell_type": "markdown",
      "metadata": {
        "id": "XvPG2gymGQrU",
        "colab_type": "text"
      },
      "source": [
        "# Example-X"
      ]
    },
    {
      "cell_type": "code",
      "metadata": {
        "id": "gJXXVLJT_QHj",
        "colab_type": "code",
        "colab": {}
      },
      "source": [
        "df = spark.read.json(\"/content/spark-2.4.4-bin-hadoop2.7/examples/src/main/resources/people.json\")"
      ],
      "execution_count": 0,
      "outputs": []
    },
    {
      "cell_type": "code",
      "metadata": {
        "id": "vq5TSwgIGNM7",
        "colab_type": "code",
        "outputId": "1c3fbab1-dcf3-4600-d751-165e0e108722",
        "colab": {
          "base_uri": "https://localhost:8080/",
          "height": 35
        }
      },
      "source": [
        "df"
      ],
      "execution_count": 71,
      "outputs": [
        {
          "output_type": "execute_result",
          "data": {
            "text/plain": [
              "DataFrame[age: bigint, name: string]"
            ]
          },
          "metadata": {
            "tags": []
          },
          "execution_count": 71
        }
      ]
    },
    {
      "cell_type": "code",
      "metadata": {
        "id": "2Zo_g4ayGNyU",
        "colab_type": "code",
        "outputId": "33e43868-19c4-40cd-bc61-d02c0c5211b0",
        "colab": {
          "base_uri": "https://localhost:8080/",
          "height": 163
        }
      },
      "source": [
        "df.show()"
      ],
      "execution_count": 72,
      "outputs": [
        {
          "output_type": "stream",
          "text": [
            "+----+-------+\n",
            "| age|   name|\n",
            "+----+-------+\n",
            "|null|Michael|\n",
            "|  30|   Andy|\n",
            "|  19| Justin|\n",
            "+----+-------+\n",
            "\n"
          ],
          "name": "stdout"
        }
      ]
    },
    {
      "cell_type": "code",
      "metadata": {
        "id": "c71Y_bwPGPE8",
        "colab_type": "code",
        "outputId": "35e447a5-2800-4e8f-a91d-58694f889755",
        "colab": {
          "base_uri": "https://localhost:8080/",
          "height": 90
        }
      },
      "source": [
        "df.printSchema()\n"
      ],
      "execution_count": 73,
      "outputs": [
        {
          "output_type": "stream",
          "text": [
            "root\n",
            " |-- age: long (nullable = true)\n",
            " |-- name: string (nullable = true)\n",
            "\n"
          ],
          "name": "stdout"
        }
      ]
    },
    {
      "cell_type": "code",
      "metadata": {
        "id": "nQUqu6NpGWzU",
        "colab_type": "code",
        "outputId": "02780b57-5ed4-43fd-e1f8-3ebf02d92cc1",
        "colab": {
          "base_uri": "https://localhost:8080/",
          "height": 163
        }
      },
      "source": [
        "df.select(\"name\").show()"
      ],
      "execution_count": 74,
      "outputs": [
        {
          "output_type": "stream",
          "text": [
            "+-------+\n",
            "|   name|\n",
            "+-------+\n",
            "|Michael|\n",
            "|   Andy|\n",
            "| Justin|\n",
            "+-------+\n",
            "\n"
          ],
          "name": "stdout"
        }
      ]
    },
    {
      "cell_type": "code",
      "metadata": {
        "id": "4fbTmED4GZG9",
        "colab_type": "code",
        "outputId": "ed540c2d-5983-4d50-c136-4f9144f268a7",
        "colab": {
          "base_uri": "https://localhost:8080/",
          "height": 163
        }
      },
      "source": [
        "# Select everybody, but increment the age by 1\n",
        "df.select(df['name'], df['age'] + 1).show()"
      ],
      "execution_count": 75,
      "outputs": [
        {
          "output_type": "stream",
          "text": [
            "+-------+---------+\n",
            "|   name|(age + 1)|\n",
            "+-------+---------+\n",
            "|Michael|     null|\n",
            "|   Andy|       31|\n",
            "| Justin|       20|\n",
            "+-------+---------+\n",
            "\n"
          ],
          "name": "stdout"
        }
      ]
    },
    {
      "cell_type": "code",
      "metadata": {
        "id": "ZwUkGjjNGbE8",
        "colab_type": "code",
        "outputId": "afe57483-6731-4aa0-8846-98accdebff62",
        "colab": {
          "base_uri": "https://localhost:8080/",
          "height": 126
        }
      },
      "source": [
        "# Select people older than 21\n",
        "df.filter(df['age'] > 21).show()"
      ],
      "execution_count": 76,
      "outputs": [
        {
          "output_type": "stream",
          "text": [
            "+---+----+\n",
            "|age|name|\n",
            "+---+----+\n",
            "| 30|Andy|\n",
            "+---+----+\n",
            "\n"
          ],
          "name": "stdout"
        }
      ]
    },
    {
      "cell_type": "code",
      "metadata": {
        "id": "_mS7LudxGdZ0",
        "colab_type": "code",
        "outputId": "3dd6c33c-dcd8-4f65-f28a-15831a780217",
        "colab": {
          "base_uri": "https://localhost:8080/",
          "height": 163
        }
      },
      "source": [
        "# Count people by age\n",
        "df.groupBy(\"age\").count().show()"
      ],
      "execution_count": 77,
      "outputs": [
        {
          "output_type": "stream",
          "text": [
            "+----+-----+\n",
            "| age|count|\n",
            "+----+-----+\n",
            "|  19|    1|\n",
            "|null|    1|\n",
            "|  30|    1|\n",
            "+----+-----+\n",
            "\n"
          ],
          "name": "stdout"
        }
      ]
    },
    {
      "cell_type": "code",
      "metadata": {
        "id": "bk3jijJQGfN0",
        "colab_type": "code",
        "outputId": "1b0f711c-695b-4a9c-ab65-9bdc14d9d941",
        "colab": {
          "base_uri": "https://localhost:8080/",
          "height": 163
        }
      },
      "source": [
        "# Register the DataFrame as a SQL temporary view\n",
        "df.createOrReplaceTempView(\"people\")\n",
        "\n",
        "sqlDF = spark.sql(\"SELECT * FROM people\")\n",
        "sqlDF.show()"
      ],
      "execution_count": 78,
      "outputs": [
        {
          "output_type": "stream",
          "text": [
            "+----+-------+\n",
            "| age|   name|\n",
            "+----+-------+\n",
            "|null|Michael|\n",
            "|  30|   Andy|\n",
            "|  19| Justin|\n",
            "+----+-------+\n",
            "\n"
          ],
          "name": "stdout"
        }
      ]
    },
    {
      "cell_type": "code",
      "metadata": {
        "id": "mtNmvqPlGnns",
        "colab_type": "code",
        "outputId": "61947a9f-fc77-4260-a4ee-9cf8e7217592",
        "colab": {
          "base_uri": "https://localhost:8080/",
          "height": 163
        }
      },
      "source": [
        "# Register the DataFrame as a global temporary view\n",
        "df.createGlobalTempView(\"people\")\n",
        "\n",
        "# Global temporary view is tied to a system preserved database `global_temp`\n",
        "spark.sql(\"SELECT * FROM global_temp.people\").show()"
      ],
      "execution_count": 79,
      "outputs": [
        {
          "output_type": "stream",
          "text": [
            "+----+-------+\n",
            "| age|   name|\n",
            "+----+-------+\n",
            "|null|Michael|\n",
            "|  30|   Andy|\n",
            "|  19| Justin|\n",
            "+----+-------+\n",
            "\n"
          ],
          "name": "stdout"
        }
      ]
    },
    {
      "cell_type": "code",
      "metadata": {
        "id": "86o0O_o8GtkM",
        "colab_type": "code",
        "outputId": "06cbb579-a2ba-45cd-c1af-374fc0219d76",
        "colab": {
          "base_uri": "https://localhost:8080/",
          "height": 163
        }
      },
      "source": [
        "# Global temporary view is cross-session\n",
        "spark.newSession().sql(\"SELECT * FROM global_temp.people\").show()"
      ],
      "execution_count": 80,
      "outputs": [
        {
          "output_type": "stream",
          "text": [
            "+----+-------+\n",
            "| age|   name|\n",
            "+----+-------+\n",
            "|null|Michael|\n",
            "|  30|   Andy|\n",
            "|  19| Justin|\n",
            "+----+-------+\n",
            "\n"
          ],
          "name": "stdout"
        }
      ]
    },
    {
      "cell_type": "code",
      "metadata": {
        "id": "odl5Ryq1Gvw8",
        "colab_type": "code",
        "colab": {}
      },
      "source": [
        "df = spark.read.load(\"/content/spark-2.4.4-bin-hadoop2.7/examples/src/main/resources/users.parquet\")\n",
        "df.select(\"name\", \"favorite_color\").write.save(\"namesAndFavColors.parquet\")"
      ],
      "execution_count": 0,
      "outputs": []
    },
    {
      "cell_type": "code",
      "metadata": {
        "id": "5ln08lDHHNB2",
        "colab_type": "code",
        "outputId": "661eb89c-be37-4454-a22b-9aee6de96919",
        "colab": {
          "base_uri": "https://localhost:8080/",
          "height": 145
        }
      },
      "source": [
        "df.show()"
      ],
      "execution_count": 82,
      "outputs": [
        {
          "output_type": "stream",
          "text": [
            "+------+--------------+----------------+\n",
            "|  name|favorite_color|favorite_numbers|\n",
            "+------+--------------+----------------+\n",
            "|Alyssa|          null|  [3, 9, 15, 20]|\n",
            "|   Ben|           red|              []|\n",
            "+------+--------------+----------------+\n",
            "\n"
          ],
          "name": "stdout"
        }
      ]
    },
    {
      "cell_type": "markdown",
      "metadata": {
        "id": "T9OXKHFeE_2a",
        "colab_type": "text"
      },
      "source": [
        "# Next Step - sc examination: "
      ]
    },
    {
      "cell_type": "code",
      "metadata": {
        "id": "lLFIkbXnFCdw",
        "colab_type": "code",
        "colab": {
          "base_uri": "https://localhost:8080/",
          "height": 1000
        },
        "outputId": "856007e1-b36a-497c-a17e-4a62f6e2f05d"
      },
      "source": [
        "dir(spark)"
      ],
      "execution_count": 83,
      "outputs": [
        {
          "output_type": "execute_result",
          "data": {
            "text/plain": [
              "['Builder',\n",
              " '__class__',\n",
              " '__delattr__',\n",
              " '__dict__',\n",
              " '__dir__',\n",
              " '__doc__',\n",
              " '__enter__',\n",
              " '__eq__',\n",
              " '__exit__',\n",
              " '__format__',\n",
              " '__ge__',\n",
              " '__getattribute__',\n",
              " '__gt__',\n",
              " '__hash__',\n",
              " '__init__',\n",
              " '__init_subclass__',\n",
              " '__le__',\n",
              " '__lt__',\n",
              " '__module__',\n",
              " '__ne__',\n",
              " '__new__',\n",
              " '__reduce__',\n",
              " '__reduce_ex__',\n",
              " '__repr__',\n",
              " '__setattr__',\n",
              " '__sizeof__',\n",
              " '__str__',\n",
              " '__subclasshook__',\n",
              " '__weakref__',\n",
              " '_conf',\n",
              " '_convert_from_pandas',\n",
              " '_createFromLocal',\n",
              " '_createFromRDD',\n",
              " '_create_from_pandas_with_arrow',\n",
              " '_create_shell_session',\n",
              " '_get_numpy_record_dtype',\n",
              " '_inferSchema',\n",
              " '_inferSchemaFromList',\n",
              " '_instantiatedSession',\n",
              " '_jsc',\n",
              " '_jsparkSession',\n",
              " '_jvm',\n",
              " '_jwrapped',\n",
              " '_repr_html_',\n",
              " '_sc',\n",
              " '_wrapped',\n",
              " 'builder',\n",
              " 'catalog',\n",
              " 'conf',\n",
              " 'createDataFrame',\n",
              " 'newSession',\n",
              " 'range',\n",
              " 'read',\n",
              " 'readStream',\n",
              " 'sparkContext',\n",
              " 'sql',\n",
              " 'stop',\n",
              " 'streams',\n",
              " 'table',\n",
              " 'udf',\n",
              " 'version']"
            ]
          },
          "metadata": {
            "tags": []
          },
          "execution_count": 83
        }
      ]
    },
    {
      "cell_type": "code",
      "metadata": {
        "id": "AUNZ5T7VFGRa",
        "colab_type": "code",
        "colab": {
          "base_uri": "https://localhost:8080/",
          "height": 198
        },
        "outputId": "b5b99c5b-5429-4461-cc02-eb399440d8eb"
      },
      "source": [
        "spark.sparkContext"
      ],
      "execution_count": 84,
      "outputs": [
        {
          "output_type": "execute_result",
          "data": {
            "text/html": [
              "\n",
              "        <div>\n",
              "            <p><b>SparkContext</b></p>\n",
              "\n",
              "            <p><a href=\"http://844ed3290cf1:4040\">Spark UI</a></p>\n",
              "\n",
              "            <dl>\n",
              "              <dt>Version</dt>\n",
              "                <dd><code>v2.4.4</code></dd>\n",
              "              <dt>Master</dt>\n",
              "                <dd><code>local[*]</code></dd>\n",
              "              <dt>AppName</dt>\n",
              "                <dd><code>Spark_App_Oscar_Mike</code></dd>\n",
              "            </dl>\n",
              "        </div>\n",
              "        "
            ],
            "text/plain": [
              "<SparkContext master=local[*] appName=Spark_App_Oscar_Mike>"
            ]
          },
          "metadata": {
            "tags": []
          },
          "execution_count": 84
        }
      ]
    },
    {
      "cell_type": "code",
      "metadata": {
        "id": "cA_g9doBFJDZ",
        "colab_type": "code",
        "colab": {}
      },
      "source": [
        "#  this is a very very interesting question:\n",
        "#     am i supposed to set sc = to the spark.sparkContext ??? or maybe i can just use parallelize directly from there ????"
      ],
      "execution_count": 0,
      "outputs": []
    },
    {
      "cell_type": "code",
      "metadata": {
        "id": "ETuBHvU9FSAS",
        "colab_type": "code",
        "colab": {}
      },
      "source": [
        "#  this is a very very interesting question:\n",
        "#     am i supposed to set sc = to the spark.sparkContext ??? or maybe i can just use parallelize directly from there ????"
      ],
      "execution_count": 0,
      "outputs": []
    },
    {
      "cell_type": "markdown",
      "metadata": {
        "id": "XEuq27pGGOef",
        "colab_type": "text"
      },
      "source": [
        "# Spark Example Github:  Pi "
      ]
    },
    {
      "cell_type": "code",
      "metadata": {
        "id": "6DZDTrbCGRkC",
        "colab_type": "code",
        "colab": {
          "base_uri": "https://localhost:8080/",
          "height": 35
        },
        "outputId": "fcbb049d-0245-4b72-c449-24f3b39219bc"
      },
      "source": [
        "import sys\n",
        "from random import random\n",
        "from operator import add   # what is this ???\n",
        "\n",
        "n = 10000000\n",
        "\n",
        "\n",
        "def f(_):\n",
        "        x = random() * 2 - 1\n",
        "        y = random() * 2 - 1\n",
        "        return 1 if x ** 2 + y ** 2 <= 1 else 0\n",
        "\n",
        "#count = spark.sparkContext.parallelize(range(1, n + 1), partitions).map(f).reduce(add)\n",
        "count = spark.sparkContext.parallelize(range(1, n + 1)).map(f).reduce(add)\n",
        "print(\"Pi is roughly %f\" % (4.0 * count / n))\n",
        "\n",
        "# Here’s a simple example that creates a list of 10 integers with 3 partitions –\n",
        "# integer_RDD = sc.parallelize (range (10), 3)\n",
        "# Note:  in my example, i dont think i can parallelize ! \n",
        "\n"
      ],
      "execution_count": 90,
      "outputs": [
        {
          "output_type": "stream",
          "text": [
            "Pi is roughly 3.141109\n"
          ],
          "name": "stdout"
        }
      ]
    },
    {
      "cell_type": "code",
      "metadata": {
        "id": "ANLkc2c0GSzh",
        "colab_type": "code",
        "colab": {}
      },
      "source": [
        "#  at the end should i do this ?   spark.stop()"
      ],
      "execution_count": 0,
      "outputs": []
    },
    {
      "cell_type": "markdown",
      "metadata": {
        "id": "de4nlPFcHIZO",
        "colab_type": "text"
      },
      "source": [
        "# SC Definition and Examination:  "
      ]
    },
    {
      "cell_type": "code",
      "metadata": {
        "id": "SwZZUMsZHzQy",
        "colab_type": "code",
        "colab": {
          "base_uri": "https://localhost:8080/",
          "height": 198
        },
        "outputId": "d8aa7e1b-5f55-4dad-f8c7-239370b5aa1d"
      },
      "source": [
        "sc"
      ],
      "execution_count": 93,
      "outputs": [
        {
          "output_type": "execute_result",
          "data": {
            "text/html": [
              "\n",
              "        <div>\n",
              "            <p><b>SparkContext</b></p>\n",
              "\n",
              "            <p><a href=\"http://844ed3290cf1:4040\">Spark UI</a></p>\n",
              "\n",
              "            <dl>\n",
              "              <dt>Version</dt>\n",
              "                <dd><code>v2.4.4</code></dd>\n",
              "              <dt>Master</dt>\n",
              "                <dd><code>local[*]</code></dd>\n",
              "              <dt>AppName</dt>\n",
              "                <dd><code>Spark_App_Oscar_Mike</code></dd>\n",
              "            </dl>\n",
              "        </div>\n",
              "        "
            ],
            "text/plain": [
              "<SparkContext master=local[*] appName=Spark_App_Oscar_Mike>"
            ]
          },
          "metadata": {
            "tags": []
          },
          "execution_count": 93
        }
      ]
    },
    {
      "cell_type": "code",
      "metadata": {
        "id": "RY0qKy5wHz0i",
        "colab_type": "code",
        "colab": {
          "base_uri": "https://localhost:8080/",
          "height": 1000
        },
        "outputId": "0d12472b-5d19-458c-eb34-6f4d79b3e419"
      },
      "source": [
        "dir(sc)"
      ],
      "execution_count": 94,
      "outputs": [
        {
          "output_type": "execute_result",
          "data": {
            "text/plain": [
              "['PACKAGE_EXTENSIONS',\n",
              " '__class__',\n",
              " '__delattr__',\n",
              " '__dict__',\n",
              " '__dir__',\n",
              " '__doc__',\n",
              " '__enter__',\n",
              " '__eq__',\n",
              " '__exit__',\n",
              " '__format__',\n",
              " '__ge__',\n",
              " '__getattribute__',\n",
              " '__getnewargs__',\n",
              " '__gt__',\n",
              " '__hash__',\n",
              " '__init__',\n",
              " '__init_subclass__',\n",
              " '__le__',\n",
              " '__lt__',\n",
              " '__module__',\n",
              " '__ne__',\n",
              " '__new__',\n",
              " '__reduce__',\n",
              " '__reduce_ex__',\n",
              " '__repr__',\n",
              " '__setattr__',\n",
              " '__sizeof__',\n",
              " '__str__',\n",
              " '__subclasshook__',\n",
              " '__weakref__',\n",
              " '_accumulatorServer',\n",
              " '_active_spark_context',\n",
              " '_batchSize',\n",
              " '_callsite',\n",
              " '_checkpointFile',\n",
              " '_conf',\n",
              " '_dictToJavaMap',\n",
              " '_do_init',\n",
              " '_encryption_enabled',\n",
              " '_ensure_initialized',\n",
              " '_gateway',\n",
              " '_getJavaStorageLevel',\n",
              " '_initialize_context',\n",
              " '_javaAccumulator',\n",
              " '_jsc',\n",
              " '_jvm',\n",
              " '_lock',\n",
              " '_next_accum_id',\n",
              " '_pickled_broadcast_vars',\n",
              " '_python_includes',\n",
              " '_repr_html_',\n",
              " '_serialize_to_jvm',\n",
              " '_temp_dir',\n",
              " '_unbatched_serializer',\n",
              " 'accumulator',\n",
              " 'addFile',\n",
              " 'addPyFile',\n",
              " 'appName',\n",
              " 'applicationId',\n",
              " 'binaryFiles',\n",
              " 'binaryRecords',\n",
              " 'broadcast',\n",
              " 'cancelAllJobs',\n",
              " 'cancelJobGroup',\n",
              " 'defaultMinPartitions',\n",
              " 'defaultParallelism',\n",
              " 'dump_profiles',\n",
              " 'emptyRDD',\n",
              " 'environment',\n",
              " 'getConf',\n",
              " 'getLocalProperty',\n",
              " 'getOrCreate',\n",
              " 'hadoopFile',\n",
              " 'hadoopRDD',\n",
              " 'master',\n",
              " 'newAPIHadoopFile',\n",
              " 'newAPIHadoopRDD',\n",
              " 'parallelize',\n",
              " 'pickleFile',\n",
              " 'profiler_collector',\n",
              " 'pythonExec',\n",
              " 'pythonVer',\n",
              " 'range',\n",
              " 'runJob',\n",
              " 'sequenceFile',\n",
              " 'serializer',\n",
              " 'setCheckpointDir',\n",
              " 'setJobDescription',\n",
              " 'setJobGroup',\n",
              " 'setLocalProperty',\n",
              " 'setLogLevel',\n",
              " 'setSystemProperty',\n",
              " 'show_profiles',\n",
              " 'sparkHome',\n",
              " 'sparkUser',\n",
              " 'startTime',\n",
              " 'statusTracker',\n",
              " 'stop',\n",
              " 'textFile',\n",
              " 'uiWebUrl',\n",
              " 'union',\n",
              " 'version',\n",
              " 'wholeTextFiles']"
            ]
          },
          "metadata": {
            "tags": []
          },
          "execution_count": 94
        }
      ]
    },
    {
      "cell_type": "code",
      "metadata": {
        "id": "TLfbaMlQH0nJ",
        "colab_type": "code",
        "colab": {
          "base_uri": "https://localhost:8080/",
          "height": 926
        },
        "outputId": "d30dda83-905a-4ac3-f89f-a0dce7d2f53d"
      },
      "source": [
        "for method in dir(sc):\n",
        "  if not method.startswith(\"_\"):\n",
        "    print(method)"
      ],
      "execution_count": 95,
      "outputs": [
        {
          "output_type": "stream",
          "text": [
            "PACKAGE_EXTENSIONS\n",
            "accumulator\n",
            "addFile\n",
            "addPyFile\n",
            "appName\n",
            "applicationId\n",
            "binaryFiles\n",
            "binaryRecords\n",
            "broadcast\n",
            "cancelAllJobs\n",
            "cancelJobGroup\n",
            "defaultMinPartitions\n",
            "defaultParallelism\n",
            "dump_profiles\n",
            "emptyRDD\n",
            "environment\n",
            "getConf\n",
            "getLocalProperty\n",
            "getOrCreate\n",
            "hadoopFile\n",
            "hadoopRDD\n",
            "master\n",
            "newAPIHadoopFile\n",
            "newAPIHadoopRDD\n",
            "parallelize\n",
            "pickleFile\n",
            "profiler_collector\n",
            "pythonExec\n",
            "pythonVer\n",
            "range\n",
            "runJob\n",
            "sequenceFile\n",
            "serializer\n",
            "setCheckpointDir\n",
            "setJobDescription\n",
            "setJobGroup\n",
            "setLocalProperty\n",
            "setLogLevel\n",
            "setSystemProperty\n",
            "show_profiles\n",
            "sparkHome\n",
            "sparkUser\n",
            "startTime\n",
            "statusTracker\n",
            "stop\n",
            "textFile\n",
            "uiWebUrl\n",
            "union\n",
            "version\n",
            "wholeTextFiles\n"
          ],
          "name": "stdout"
        }
      ]
    },
    {
      "cell_type": "markdown",
      "metadata": {
        "id": "mBAtYezdH_iU",
        "colab_type": "text"
      },
      "source": [
        "accumulator\n",
        "addFile\n",
        "addPyFile\n",
        "appName\n",
        "applicationId\n",
        "binaryFiles\n",
        "binaryRecords\n",
        "broadcast\n",
        "cancelAllJobs\n",
        "cancelJobGroup\n",
        "defaultMinPartitions\n",
        "defaultParallelism\n",
        "dump_profiles\n",
        "emptyRDD\n",
        "environment\n",
        "getConf\n",
        "getLocalProperty\n",
        "getOrCreate\n",
        "hadoopFile\n",
        "hadoopRDD\n",
        "master\n",
        "newAPIHadoopFile\n",
        "newAPIHadoopRDD\n",
        "parallelize\n",
        "pickleFile\n",
        "profiler_collector\n",
        "pythonExec\n",
        "pythonVer\n",
        "range\n",
        "runJob\n",
        "sequenceFile\n",
        "serializer\n",
        "setCheckpointDir\n",
        "setJobDescription\n",
        "setJobGroup\n",
        "setLocalProperty\n",
        "setLogLevel\n",
        "setSystemProperty\n",
        "show_profiles\n",
        "sparkHome\n",
        "sparkUser\n",
        "startTime\n",
        "statusTracker\n",
        "stop\n",
        "textFile\n",
        "uiWebUrl\n",
        "union\n",
        "version\n",
        "wholeTextFiles\n"
      ]
    },
    {
      "cell_type": "markdown",
      "metadata": {
        "id": "KlG6Dj4CI68o",
        "colab_type": "text"
      },
      "source": [
        "# Diamonds: "
      ]
    },
    {
      "cell_type": "code",
      "metadata": {
        "colab_type": "code",
        "id": "499WiHzhI4lr",
        "colab": {
          "base_uri": "https://localhost:8080/",
          "height": 72
        },
        "outputId": "c116461b-c923-48b1-fc36-84b877b32636"
      },
      "source": [
        "CSV_FILE = \"/content/diamonds.csv\"\n",
        "df = spark.read.options(header=\"true\",inferschema = \"true\").csv(CSV_FILE)\n",
        "# type(df)=='pyspark.sql.dataframe.DataFrame'\n",
        "print(\"\\nYou have created this:  \", type(df), \"\\n\")"
      ],
      "execution_count": 108,
      "outputs": [
        {
          "output_type": "stream",
          "text": [
            "\n",
            "You have created this:   <class 'pyspark.sql.dataframe.DataFrame'> \n",
            "\n"
          ],
          "name": "stdout"
        }
      ]
    },
    {
      "cell_type": "markdown",
      "metadata": {
        "id": "Mrk-wy6HJwwd",
        "colab_type": "text"
      },
      "source": [
        "# INVESTIGATING RDD METHODS:  "
      ]
    },
    {
      "cell_type": "markdown",
      "metadata": {
        "id": "kJTd2Zt4UV5E",
        "colab_type": "text"
      },
      "source": [
        "## Begin investigation of RDDS:"
      ]
    },
    {
      "cell_type": "code",
      "metadata": {
        "id": "oHPeJso4JuBA",
        "colab_type": "code",
        "colab": {}
      },
      "source": [
        "# lets see if this actually works\n",
        "# i THINK i am in local mode, so not sure i can partition\n",
        "\n",
        "numRDD = sc.parallelize(range(50))"
      ],
      "execution_count": 0,
      "outputs": []
    },
    {
      "cell_type": "code",
      "metadata": {
        "id": "LZnbxKOqKT5Z",
        "colab_type": "code",
        "colab": {
          "base_uri": "https://localhost:8080/",
          "height": 1000
        },
        "outputId": "0a679559-1b9f-4c51-f7b2-eaa8e3ca2dab"
      },
      "source": [
        "for method in dir(numRDD):\n",
        "  if not method.startswith(\"_\"):\n",
        "    print(method)"
      ],
      "execution_count": 122,
      "outputs": [
        {
          "output_type": "stream",
          "text": [
            "aggregate\n",
            "aggregateByKey\n",
            "barrier\n",
            "cache\n",
            "cartesian\n",
            "checkpoint\n",
            "coalesce\n",
            "cogroup\n",
            "collect\n",
            "collectAsMap\n",
            "combineByKey\n",
            "context\n",
            "count\n",
            "countApprox\n",
            "countApproxDistinct\n",
            "countByKey\n",
            "countByValue\n",
            "ctx\n",
            "distinct\n",
            "filter\n",
            "first\n",
            "flatMap\n",
            "flatMapValues\n",
            "fold\n",
            "foldByKey\n",
            "foreach\n",
            "foreachPartition\n",
            "fullOuterJoin\n",
            "func\n",
            "getCheckpointFile\n",
            "getNumPartitions\n",
            "getStorageLevel\n",
            "glom\n",
            "groupBy\n",
            "groupByKey\n",
            "groupWith\n",
            "histogram\n",
            "id\n",
            "intersection\n",
            "isCheckpointed\n",
            "isEmpty\n",
            "isLocallyCheckpointed\n",
            "is_barrier\n",
            "is_cached\n",
            "is_checkpointed\n",
            "join\n",
            "keyBy\n",
            "keys\n",
            "leftOuterJoin\n",
            "localCheckpoint\n",
            "lookup\n",
            "map\n",
            "mapPartitions\n",
            "mapPartitionsWithIndex\n",
            "mapPartitionsWithSplit\n",
            "mapValues\n",
            "max\n",
            "mean\n",
            "meanApprox\n",
            "min\n",
            "name\n",
            "partitionBy\n",
            "partitioner\n",
            "persist\n",
            "pipe\n",
            "preservesPartitioning\n",
            "prev\n",
            "randomSplit\n",
            "reduce\n",
            "reduceByKey\n",
            "reduceByKeyLocally\n",
            "repartition\n",
            "repartitionAndSortWithinPartitions\n",
            "rightOuterJoin\n",
            "sample\n",
            "sampleByKey\n",
            "sampleStdev\n",
            "sampleVariance\n",
            "saveAsHadoopDataset\n",
            "saveAsHadoopFile\n",
            "saveAsNewAPIHadoopDataset\n",
            "saveAsNewAPIHadoopFile\n",
            "saveAsPickleFile\n",
            "saveAsSequenceFile\n",
            "saveAsTextFile\n",
            "setName\n",
            "sortBy\n",
            "sortByKey\n",
            "stats\n",
            "stdev\n",
            "subtract\n",
            "subtractByKey\n",
            "sum\n",
            "sumApprox\n",
            "take\n",
            "takeOrdered\n",
            "takeSample\n",
            "toDF\n",
            "toDebugString\n",
            "toLocalIterator\n",
            "top\n",
            "treeAggregate\n",
            "treeReduce\n",
            "union\n",
            "unpersist\n",
            "values\n",
            "variance\n",
            "zip\n",
            "zipWithIndex\n",
            "zipWithUniqueId\n"
          ],
          "name": "stdout"
        }
      ]
    },
    {
      "cell_type": "code",
      "metadata": {
        "id": "-wvYVOW8Kr96",
        "colab_type": "code",
        "colab": {}
      },
      "source": [
        "\n",
        "\n",
        "\n",
        "#  THESE ARE ALL THE THINGS YOU CAN DO WITH A RDD ! \n",
        "\n",
        "\n",
        "# aggregate\n",
        "# aggregateByKey\n",
        "# barrier\n",
        "# cache\n",
        "# cartesian\n",
        "# checkpoint\n",
        "# coalesce\n",
        "# cogroup\n",
        "# collect\n",
        "# collectAsMap\n",
        "# combineByKey\n",
        "# context\n",
        "# count\n",
        "# countApprox\n",
        "# countApproxDistinct\n",
        "# countByKey\n",
        "# countByValue\n",
        "# ctx\n",
        "# distinct\n",
        "# filter\n",
        "# first\n",
        "# flatMap\n",
        "# flatMapValues\n",
        "# fold\n",
        "# foldByKey\n",
        "# foreach\n",
        "# foreachPartition\n",
        "# fullOuterJoin\n",
        "# func\n",
        "# getCheckpointFile\n",
        "# getNumPartitions\n",
        "# getStorageLevel\n",
        "# glom\n",
        "# groupBy\n",
        "# groupByKey\n",
        "# groupWith\n",
        "# histogram\n",
        "# id\n",
        "# intersection\n",
        "# isCheckpointed\n",
        "# isEmpty\n",
        "# isLocallyCheckpointed\n",
        "# is_barrier\n",
        "# is_cached\n",
        "# is_checkpointed\n",
        "# join\n",
        "# keyBy\n",
        "# keys\n",
        "# leftOuterJoin\n",
        "# localCheckpoint\n",
        "# lookup\n",
        "# map\n",
        "# mapPartitions\n",
        "# mapPartitionsWithIndex\n",
        "# mapPartitionsWithSplit\n",
        "# mapValues\n",
        "# max\n",
        "# mean\n",
        "# meanApprox\n",
        "# min\n",
        "# name\n",
        "# partitionBy\n",
        "# partitioner\n",
        "# persist\n",
        "# pipe\n",
        "# preservesPartitioning\n",
        "# prev\n",
        "# randomSplit\n",
        "# reduce\n",
        "# reduceByKey\n",
        "# reduceByKeyLocally\n",
        "# repartition\n",
        "# repartitionAndSortWithinPartitions\n",
        "# rightOuterJoin\n",
        "# sample\n",
        "# sampleByKey\n",
        "# sampleStdev\n",
        "# sampleVariance\n",
        "# saveAsHadoopDataset\n",
        "# saveAsHadoopFile\n",
        "# saveAsNewAPIHadoopDataset\n",
        "# saveAsNewAPIHadoopFile\n",
        "# saveAsPickleFile\n",
        "# saveAsSequenceFile\n",
        "# saveAsTextFile\n",
        "# setName\n",
        "# sortBy\n",
        "# sortByKey\n",
        "# stats\n",
        "# stdev\n",
        "# subtract\n",
        "# subtractByKey\n",
        "# sum\n",
        "# sumApprox\n",
        "# take\n",
        "# takeOrdered\n",
        "# takeSample\n",
        "# toDF\n",
        "# toDebugString\n",
        "# toLocalIterator\n",
        "# top\n",
        "# treeAggregate\n",
        "# treeReduce\n",
        "# union\n",
        "# unpersist\n",
        "# values\n",
        "# variance\n",
        "# zip\n",
        "# zipWithIndex\n",
        "# zipWithUniqueId"
      ],
      "execution_count": 0,
      "outputs": []
    },
    {
      "cell_type": "code",
      "metadata": {
        "id": "QMiJE5yjLOY2",
        "colab_type": "code",
        "colab": {}
      },
      "source": [
        "\n",
        "# numRDD.show()  \n",
        "\n",
        "# 'PipelinedRDD' object has no attribute 'show'\n"
      ],
      "execution_count": 0,
      "outputs": []
    },
    {
      "cell_type": "code",
      "metadata": {
        "id": "cMEvm2TCLRZa",
        "colab_type": "code",
        "colab": {
          "base_uri": "https://localhost:8080/",
          "height": 35
        },
        "outputId": "03833af1-2245-4be6-d8b9-b12281c5cd05"
      },
      "source": [
        "\n",
        "numRDD.count()\n"
      ],
      "execution_count": 123,
      "outputs": [
        {
          "output_type": "execute_result",
          "data": {
            "text/plain": [
              "50"
            ]
          },
          "metadata": {
            "tags": []
          },
          "execution_count": 123
        }
      ]
    },
    {
      "cell_type": "code",
      "metadata": {
        "id": "662HOqhhLZF6",
        "colab_type": "code",
        "colab": {
          "base_uri": "https://localhost:8080/",
          "height": 945
        },
        "outputId": "9c171e3e-f88b-435c-c646-8e83ada4e04b"
      },
      "source": [
        "\n",
        "numRDD.countByValue()\n"
      ],
      "execution_count": 124,
      "outputs": [
        {
          "output_type": "execute_result",
          "data": {
            "text/plain": [
              "defaultdict(int,\n",
              "            {0: 1,\n",
              "             1: 1,\n",
              "             2: 1,\n",
              "             3: 1,\n",
              "             4: 1,\n",
              "             5: 1,\n",
              "             6: 1,\n",
              "             7: 1,\n",
              "             8: 1,\n",
              "             9: 1,\n",
              "             10: 1,\n",
              "             11: 1,\n",
              "             12: 1,\n",
              "             13: 1,\n",
              "             14: 1,\n",
              "             15: 1,\n",
              "             16: 1,\n",
              "             17: 1,\n",
              "             18: 1,\n",
              "             19: 1,\n",
              "             20: 1,\n",
              "             21: 1,\n",
              "             22: 1,\n",
              "             23: 1,\n",
              "             24: 1,\n",
              "             25: 1,\n",
              "             26: 1,\n",
              "             27: 1,\n",
              "             28: 1,\n",
              "             29: 1,\n",
              "             30: 1,\n",
              "             31: 1,\n",
              "             32: 1,\n",
              "             33: 1,\n",
              "             34: 1,\n",
              "             35: 1,\n",
              "             36: 1,\n",
              "             37: 1,\n",
              "             38: 1,\n",
              "             39: 1,\n",
              "             40: 1,\n",
              "             41: 1,\n",
              "             42: 1,\n",
              "             43: 1,\n",
              "             44: 1,\n",
              "             45: 1,\n",
              "             46: 1,\n",
              "             47: 1,\n",
              "             48: 1,\n",
              "             49: 1})"
            ]
          },
          "metadata": {
            "tags": []
          },
          "execution_count": 124
        }
      ]
    },
    {
      "cell_type": "code",
      "metadata": {
        "id": "xQc9iUeNLb3p",
        "colab_type": "code",
        "colab": {
          "base_uri": "https://localhost:8080/",
          "height": 926
        },
        "outputId": "d48cc6a7-f2cd-4a7b-98f5-4229f4e18f9d"
      },
      "source": [
        "\n",
        "numRDD.distinct().collect()\n"
      ],
      "execution_count": 125,
      "outputs": [
        {
          "output_type": "execute_result",
          "data": {
            "text/plain": [
              "[0,\n",
              " 2,\n",
              " 4,\n",
              " 6,\n",
              " 8,\n",
              " 10,\n",
              " 12,\n",
              " 14,\n",
              " 16,\n",
              " 18,\n",
              " 20,\n",
              " 22,\n",
              " 24,\n",
              " 26,\n",
              " 28,\n",
              " 30,\n",
              " 32,\n",
              " 34,\n",
              " 36,\n",
              " 38,\n",
              " 40,\n",
              " 42,\n",
              " 44,\n",
              " 46,\n",
              " 48,\n",
              " 1,\n",
              " 3,\n",
              " 5,\n",
              " 7,\n",
              " 9,\n",
              " 11,\n",
              " 13,\n",
              " 15,\n",
              " 17,\n",
              " 19,\n",
              " 21,\n",
              " 23,\n",
              " 25,\n",
              " 27,\n",
              " 29,\n",
              " 31,\n",
              " 33,\n",
              " 35,\n",
              " 37,\n",
              " 39,\n",
              " 41,\n",
              " 43,\n",
              " 45,\n",
              " 47,\n",
              " 49]"
            ]
          },
          "metadata": {
            "tags": []
          },
          "execution_count": 125
        }
      ]
    },
    {
      "cell_type": "code",
      "metadata": {
        "id": "CMSXM2HkLjLa",
        "colab_type": "code",
        "colab": {
          "base_uri": "https://localhost:8080/",
          "height": 35
        },
        "outputId": "3fa77470-f0bd-44cf-ae87-747b3132f8b5"
      },
      "source": [
        "\n",
        "numRDD.sum()\n"
      ],
      "execution_count": 126,
      "outputs": [
        {
          "output_type": "execute_result",
          "data": {
            "text/plain": [
              "1225"
            ]
          },
          "metadata": {
            "tags": []
          },
          "execution_count": 126
        }
      ]
    },
    {
      "cell_type": "code",
      "metadata": {
        "id": "4yJoWSzaL2SC",
        "colab_type": "code",
        "colab": {
          "base_uri": "https://localhost:8080/",
          "height": 35
        },
        "outputId": "c21261a5-a902-45cb-ef82-a063444c2113"
      },
      "source": [
        "\n",
        "numRDD.stats()\n"
      ],
      "execution_count": 127,
      "outputs": [
        {
          "output_type": "execute_result",
          "data": {
            "text/plain": [
              "(count: 50, mean: 24.5, stdev: 14.430869689661812, max: 49.0, min: 0.0)"
            ]
          },
          "metadata": {
            "tags": []
          },
          "execution_count": 127
        }
      ]
    },
    {
      "cell_type": "code",
      "metadata": {
        "id": "xiQ7pR6ML40S",
        "colab_type": "code",
        "colab": {
          "base_uri": "https://localhost:8080/",
          "height": 35
        },
        "outputId": "2c6a94cf-df51-4e51-83a5-675dc91729ad"
      },
      "source": [
        "\n",
        "numRDD.take(10)\n"
      ],
      "execution_count": 128,
      "outputs": [
        {
          "output_type": "execute_result",
          "data": {
            "text/plain": [
              "[0, 1, 2, 3, 4, 5, 6, 7, 8, 9]"
            ]
          },
          "metadata": {
            "tags": []
          },
          "execution_count": 128
        }
      ]
    },
    {
      "cell_type": "code",
      "metadata": {
        "id": "MI9YbaCCL7wj",
        "colab_type": "code",
        "colab": {
          "base_uri": "https://localhost:8080/",
          "height": 35
        },
        "outputId": "7d16d4df-7a61-4a01-a3d8-9c862445afa0"
      },
      "source": [
        "\n",
        "numRDD.isEmpty()\n"
      ],
      "execution_count": 129,
      "outputs": [
        {
          "output_type": "execute_result",
          "data": {
            "text/plain": [
              "False"
            ]
          },
          "metadata": {
            "tags": []
          },
          "execution_count": 129
        }
      ]
    },
    {
      "cell_type": "code",
      "metadata": {
        "id": "XirBdEhdMA8D",
        "colab_type": "code",
        "colab": {
          "base_uri": "https://localhost:8080/",
          "height": 35
        },
        "outputId": "25b25885-8ba6-49ad-d808-0616d552a6a9"
      },
      "source": [
        "\n",
        "numRDD.sample(1, .3)\n"
      ],
      "execution_count": 132,
      "outputs": [
        {
          "output_type": "execute_result",
          "data": {
            "text/plain": [
              "PythonRDD[178] at RDD at PythonRDD.scala:53"
            ]
          },
          "metadata": {
            "tags": []
          },
          "execution_count": 132
        }
      ]
    },
    {
      "cell_type": "code",
      "metadata": {
        "id": "tprZfefVMH5y",
        "colab_type": "code",
        "colab": {
          "base_uri": "https://localhost:8080/",
          "height": 35
        },
        "outputId": "d0612c7a-380c-4391-9c04-b0eb131f5706"
      },
      "source": [
        "\n",
        "numRDD.getNumPartitions()\n"
      ],
      "execution_count": 133,
      "outputs": [
        {
          "output_type": "execute_result",
          "data": {
            "text/plain": [
              "2"
            ]
          },
          "metadata": {
            "tags": []
          },
          "execution_count": 133
        }
      ]
    },
    {
      "cell_type": "code",
      "metadata": {
        "id": "Yb7AwahSMVXC",
        "colab_type": "code",
        "colab": {}
      },
      "source": [
        "\n",
        "# now you see why it was storing odds and evens ! ! ! !  it had two partitions...\n"
      ],
      "execution_count": 0,
      "outputs": []
    },
    {
      "cell_type": "code",
      "metadata": {
        "id": "YZCHTug4MZsS",
        "colab_type": "code",
        "colab": {
          "base_uri": "https://localhost:8080/",
          "height": 35
        },
        "outputId": "7b9d4ed5-f9cf-4ba3-f1a0-62308cde473e"
      },
      "source": [
        "numRDD.getStorageLevel()"
      ],
      "execution_count": 134,
      "outputs": [
        {
          "output_type": "execute_result",
          "data": {
            "text/plain": [
              "StorageLevel(False, False, False, False, 1)"
            ]
          },
          "metadata": {
            "tags": []
          },
          "execution_count": 134
        }
      ]
    },
    {
      "cell_type": "code",
      "metadata": {
        "id": "AUkzOWpBO_rD",
        "colab_type": "code",
        "colab": {
          "base_uri": "https://localhost:8080/",
          "height": 35
        },
        "outputId": "ded73baf-fa5d-4759-e0ff-fe33bb3e20eb"
      },
      "source": [
        "\n",
        "\n",
        "numRDD.mean()\n"
      ],
      "execution_count": 153,
      "outputs": [
        {
          "output_type": "execute_result",
          "data": {
            "text/plain": [
              "24.5"
            ]
          },
          "metadata": {
            "tags": []
          },
          "execution_count": 153
        }
      ]
    },
    {
      "cell_type": "code",
      "metadata": {
        "id": "dEIZ-zRNRBq-",
        "colab_type": "code",
        "colab": {
          "base_uri": "https://localhost:8080/",
          "height": 35
        },
        "outputId": "74d6696a-4251-480c-d029-fe63bb337e7d"
      },
      "source": [
        "\n",
        "numRDD.max()\n"
      ],
      "execution_count": 154,
      "outputs": [
        {
          "output_type": "execute_result",
          "data": {
            "text/plain": [
              "49"
            ]
          },
          "metadata": {
            "tags": []
          },
          "execution_count": 154
        }
      ]
    },
    {
      "cell_type": "code",
      "metadata": {
        "id": "H6TLHQYlRC8r",
        "colab_type": "code",
        "colab": {
          "base_uri": "https://localhost:8080/",
          "height": 35
        },
        "outputId": "41255831-336a-4894-8f4f-a9f37ac53468"
      },
      "source": [
        "\n",
        "numRDD.first()\n"
      ],
      "execution_count": 156,
      "outputs": [
        {
          "output_type": "execute_result",
          "data": {
            "text/plain": [
              "0"
            ]
          },
          "metadata": {
            "tags": []
          },
          "execution_count": 156
        }
      ]
    },
    {
      "cell_type": "markdown",
      "metadata": {
        "id": "OA098YQcRZSc",
        "colab_type": "text"
      },
      "source": [
        "## Trying multi-core partitions for rdd:"
      ]
    },
    {
      "cell_type": "code",
      "metadata": {
        "id": "BhkLlaIvRNf7",
        "colab_type": "code",
        "colab": {}
      },
      "source": [
        "rdd2 = numRDD = sc.parallelize(range(100), 4)"
      ],
      "execution_count": 0,
      "outputs": []
    },
    {
      "cell_type": "code",
      "metadata": {
        "id": "JNncuEt6RXVj",
        "colab_type": "code",
        "colab": {
          "base_uri": "https://localhost:8080/",
          "height": 35
        },
        "outputId": "51396e84-cdb0-4816-c501-f723f4f09bfe"
      },
      "source": [
        "rdd2.getNumPartitions()"
      ],
      "execution_count": 165,
      "outputs": [
        {
          "output_type": "execute_result",
          "data": {
            "text/plain": [
              "4"
            ]
          },
          "metadata": {
            "tags": []
          },
          "execution_count": 165
        }
      ]
    },
    {
      "cell_type": "code",
      "metadata": {
        "id": "YOowUSr8Rewb",
        "colab_type": "code",
        "colab": {
          "base_uri": "https://localhost:8080/",
          "height": 92
        },
        "outputId": "d8df31f0-8348-4458-d0b4-a58094a92b97"
      },
      "source": [
        "    \n",
        "    print(\"Number of partitions: {}\".format(rdd2.getNumPartitions()))\n",
        "    print(\"Partitioner: {}\".format(rdd2.partitioner))\n",
        "    print(\"Partitions structure: {}\".format(rdd2.glom().collect()))\n",
        "\n",
        "    # if you want to see how it is partitioned ! ! ! (glom)\n",
        "    #  If there is no partitioner the partitioning is not based upon characteristic of data but distribution is random and uniformed across nodes.\n",
        "\n"
      ],
      "execution_count": 167,
      "outputs": [
        {
          "output_type": "stream",
          "text": [
            "Number of partitions: 4\n",
            "Partitioner: None\n",
            "Partitions structure: [[0, 1, 2, 3, 4, 5, 6, 7, 8, 9, 10, 11, 12, 13, 14, 15, 16, 17, 18, 19, 20, 21, 22, 23, 24], [25, 26, 27, 28, 29, 30, 31, 32, 33, 34, 35, 36, 37, 38, 39, 40, 41, 42, 43, 44, 45, 46, 47, 48, 49], [50, 51, 52, 53, 54, 55, 56, 57, 58, 59, 60, 61, 62, 63, 64, 65, 66, 67, 68, 69, 70, 71, 72, 73, 74], [75, 76, 77, 78, 79, 80, 81, 82, 83, 84, 85, 86, 87, 88, 89, 90, 91, 92, 93, 94, 95, 96, 97, 98, 99]]\n"
          ],
          "name": "stdout"
        }
      ]
    },
    {
      "cell_type": "code",
      "metadata": {
        "id": "PG7EJRncSlTf",
        "colab_type": "code",
        "colab": {}
      },
      "source": [
        "# im going to try to stop spark ! "
      ],
      "execution_count": 0,
      "outputs": []
    },
    {
      "cell_type": "code",
      "metadata": {
        "id": "-6OLVvpKSnuI",
        "colab_type": "code",
        "colab": {}
      },
      "source": [
        "spark.stop()"
      ],
      "execution_count": 0,
      "outputs": []
    },
    {
      "cell_type": "code",
      "metadata": {
        "id": "dNPY19xPRpJb",
        "colab_type": "code",
        "colab": {
          "base_uri": "https://localhost:8080/",
          "height": 92
        },
        "outputId": "afe981af-cb8a-4901-8549-205af571b7e9"
      },
      "source": [
        "with SparkContext(\"local\") as sc:\n",
        "    rdd = sc.parallelize(range(100))\n",
        "    \n",
        "    print(\"Number of partitions: {}\".format(rdd.getNumPartitions()))\n",
        "    print(\"Partitioner: {}\".format(rdd.partitioner))\n",
        "    print(\"Partitions structure: {}\".format(rdd.glom().collect()))\n"
      ],
      "execution_count": 175,
      "outputs": [
        {
          "output_type": "stream",
          "text": [
            "Number of partitions: 1\n",
            "Partitioner: None\n",
            "Partitions structure: [[0, 1, 2, 3, 4, 5, 6, 7, 8, 9, 10, 11, 12, 13, 14, 15, 16, 17, 18, 19, 20, 21, 22, 23, 24, 25, 26, 27, 28, 29, 30, 31, 32, 33, 34, 35, 36, 37, 38, 39, 40, 41, 42, 43, 44, 45, 46, 47, 48, 49, 50, 51, 52, 53, 54, 55, 56, 57, 58, 59, 60, 61, 62, 63, 64, 65, 66, 67, 68, 69, 70, 71, 72, 73, 74, 75, 76, 77, 78, 79, 80, 81, 82, 83, 84, 85, 86, 87, 88, 89, 90, 91, 92, 93, 94, 95, 96, 97, 98, 99]]\n"
          ],
          "name": "stdout"
        }
      ]
    },
    {
      "cell_type": "code",
      "metadata": {
        "id": "vb7WbJidSQ2b",
        "colab_type": "code",
        "colab": {}
      },
      "source": [
        "spark.stop()"
      ],
      "execution_count": 0,
      "outputs": []
    },
    {
      "cell_type": "code",
      "metadata": {
        "id": "FYhEzvytSv9a",
        "colab_type": "code",
        "colab": {
          "base_uri": "https://localhost:8080/",
          "height": 110
        },
        "outputId": "7d12319e-8815-4ec0-cfbf-a1dff5e6fec3"
      },
      "source": [
        "with SparkContext(\"local[2]\") as sc:\n",
        "    rdd = sc.parallelize(range(100))\n",
        "    \n",
        "    print(\"Default parallelism: {}\".format(sc.defaultParallelism))\n",
        "    print(\"Number of partitions: {}\".format(rdd.getNumPartitions()))\n",
        "    print(\"Partitioner: {}\".format(rdd.partitioner))\n",
        "    print(\"Partitions structure: {}\".format(rdd.glom().collect()))"
      ],
      "execution_count": 177,
      "outputs": [
        {
          "output_type": "stream",
          "text": [
            "Default parallelism: 2\n",
            "Number of partitions: 2\n",
            "Partitioner: None\n",
            "Partitions structure: [[0, 1, 2, 3, 4, 5, 6, 7, 8, 9, 10, 11, 12, 13, 14, 15, 16, 17, 18, 19, 20, 21, 22, 23, 24, 25, 26, 27, 28, 29, 30, 31, 32, 33, 34, 35, 36, 37, 38, 39, 40, 41, 42, 43, 44, 45, 46, 47, 48, 49], [50, 51, 52, 53, 54, 55, 56, 57, 58, 59, 60, 61, 62, 63, 64, 65, 66, 67, 68, 69, 70, 71, 72, 73, 74, 75, 76, 77, 78, 79, 80, 81, 82, 83, 84, 85, 86, 87, 88, 89, 90, 91, 92, 93, 94, 95, 96, 97, 98, 99]]\n"
          ],
          "name": "stdout"
        }
      ]
    },
    {
      "cell_type": "code",
      "metadata": {
        "id": "kCZ91PEsSzqM",
        "colab_type": "code",
        "colab": {}
      },
      "source": [
        "spark.stop()"
      ],
      "execution_count": 0,
      "outputs": []
    },
    {
      "cell_type": "code",
      "metadata": {
        "id": "LAQOMBnTS2AL",
        "colab_type": "code",
        "colab": {
          "base_uri": "https://localhost:8080/",
          "height": 110
        },
        "outputId": "3cbf77c9-8898-407a-fe0d-e3dfe92d468c"
      },
      "source": [
        "with SparkContext(\"local[4]\") as sc:\n",
        "    rdd = sc.parallelize(range(100))\n",
        "    \n",
        "    print(\"Default parallelism: {}\".format(sc.defaultParallelism))\n",
        "    print(\"Number of partitions: {}\".format(rdd.getNumPartitions()))\n",
        "    print(\"Partitioner: {}\".format(rdd.partitioner))\n",
        "    print(\"Partitions structure: {}\".format(rdd.glom().collect()))"
      ],
      "execution_count": 179,
      "outputs": [
        {
          "output_type": "stream",
          "text": [
            "Default parallelism: 4\n",
            "Number of partitions: 4\n",
            "Partitioner: None\n",
            "Partitions structure: [[0, 1, 2, 3, 4, 5, 6, 7, 8, 9, 10, 11, 12, 13, 14, 15, 16, 17, 18, 19, 20, 21, 22, 23, 24], [25, 26, 27, 28, 29, 30, 31, 32, 33, 34, 35, 36, 37, 38, 39, 40, 41, 42, 43, 44, 45, 46, 47, 48, 49], [50, 51, 52, 53, 54, 55, 56, 57, 58, 59, 60, 61, 62, 63, 64, 65, 66, 67, 68, 69, 70, 71, 72, 73, 74], [75, 76, 77, 78, 79, 80, 81, 82, 83, 84, 85, 86, 87, 88, 89, 90, 91, 92, 93, 94, 95, 96, 97, 98, 99]]\n"
          ],
          "name": "stdout"
        }
      ]
    },
    {
      "cell_type": "code",
      "metadata": {
        "id": "nj0Gs6i5S48z",
        "colab_type": "code",
        "colab": {
          "base_uri": "https://localhost:8080/",
          "height": 35
        },
        "outputId": "7d8f28cf-0551-4ee1-9c96-6967532bd9cc"
      },
      "source": [
        "rdd.getNumPartitions()"
      ],
      "execution_count": 180,
      "outputs": [
        {
          "output_type": "execute_result",
          "data": {
            "text/plain": [
              "4"
            ]
          },
          "metadata": {
            "tags": []
          },
          "execution_count": 180
        }
      ]
    },
    {
      "cell_type": "markdown",
      "metadata": {
        "id": "9WSGOl_aTNX6",
        "colab_type": "text"
      },
      "source": [
        "**Review:** https://medium.com/parrot-prediction/partitioning-in-apache-spark-8134ad840b0"
      ]
    },
    {
      "cell_type": "code",
      "metadata": {
        "id": "Ee54DGVgTEsc",
        "colab_type": "code",
        "colab": {
          "base_uri": "https://localhost:8080/",
          "height": 35
        },
        "outputId": "03f2017c-d664-4ed1-b16a-86e093aaf782"
      },
      "source": [
        "SparkContext"
      ],
      "execution_count": 187,
      "outputs": [
        {
          "output_type": "execute_result",
          "data": {
            "text/plain": [
              "pyspark.context.SparkContext"
            ]
          },
          "metadata": {
            "tags": []
          },
          "execution_count": 187
        }
      ]
    },
    {
      "cell_type": "code",
      "metadata": {
        "id": "ibKk65yjT7Ul",
        "colab_type": "code",
        "colab": {
          "base_uri": "https://localhost:8080/",
          "height": 413
        },
        "outputId": "87a67f2a-77b9-4224-c38d-158bdd1285db"
      },
      "source": [
        "spark"
      ],
      "execution_count": 189,
      "outputs": [
        {
          "output_type": "error",
          "ename": "AttributeError",
          "evalue": "ignored",
          "traceback": [
            "\u001b[0;31m---------------------------------------------------------------------------\u001b[0m",
            "\u001b[0;31mAttributeError\u001b[0m                            Traceback (most recent call last)",
            "\u001b[0;32m/usr/local/lib/python3.6/dist-packages/IPython/core/formatters.py\u001b[0m in \u001b[0;36m__call__\u001b[0;34m(self, obj)\u001b[0m\n\u001b[1;32m    336\u001b[0m             \u001b[0mmethod\u001b[0m \u001b[0;34m=\u001b[0m \u001b[0mget_real_method\u001b[0m\u001b[0;34m(\u001b[0m\u001b[0mobj\u001b[0m\u001b[0;34m,\u001b[0m \u001b[0mself\u001b[0m\u001b[0;34m.\u001b[0m\u001b[0mprint_method\u001b[0m\u001b[0;34m)\u001b[0m\u001b[0;34m\u001b[0m\u001b[0;34m\u001b[0m\u001b[0m\n\u001b[1;32m    337\u001b[0m             \u001b[0;32mif\u001b[0m \u001b[0mmethod\u001b[0m \u001b[0;32mis\u001b[0m \u001b[0;32mnot\u001b[0m \u001b[0;32mNone\u001b[0m\u001b[0;34m:\u001b[0m\u001b[0;34m\u001b[0m\u001b[0;34m\u001b[0m\u001b[0m\n\u001b[0;32m--> 338\u001b[0;31m                 \u001b[0;32mreturn\u001b[0m \u001b[0mmethod\u001b[0m\u001b[0;34m(\u001b[0m\u001b[0;34m)\u001b[0m\u001b[0;34m\u001b[0m\u001b[0;34m\u001b[0m\u001b[0m\n\u001b[0m\u001b[1;32m    339\u001b[0m             \u001b[0;32mreturn\u001b[0m \u001b[0;32mNone\u001b[0m\u001b[0;34m\u001b[0m\u001b[0;34m\u001b[0m\u001b[0m\n\u001b[1;32m    340\u001b[0m         \u001b[0;32melse\u001b[0m\u001b[0;34m:\u001b[0m\u001b[0;34m\u001b[0m\u001b[0;34m\u001b[0m\u001b[0m\n",
            "\u001b[0;32m/usr/local/lib/python3.6/dist-packages/pyspark/sql/session.py\u001b[0m in \u001b[0;36m_repr_html_\u001b[0;34m(self)\u001b[0m\n\u001b[1;32m    241\u001b[0m         \"\"\".format(\n\u001b[1;32m    242\u001b[0m             \u001b[0mcatalogImplementation\u001b[0m\u001b[0;34m=\u001b[0m\u001b[0mself\u001b[0m\u001b[0;34m.\u001b[0m\u001b[0mconf\u001b[0m\u001b[0;34m.\u001b[0m\u001b[0mget\u001b[0m\u001b[0;34m(\u001b[0m\u001b[0;34m\"spark.sql.catalogImplementation\"\u001b[0m\u001b[0;34m)\u001b[0m\u001b[0;34m,\u001b[0m\u001b[0;34m\u001b[0m\u001b[0;34m\u001b[0m\u001b[0m\n\u001b[0;32m--> 243\u001b[0;31m             \u001b[0msc_HTML\u001b[0m\u001b[0;34m=\u001b[0m\u001b[0mself\u001b[0m\u001b[0;34m.\u001b[0m\u001b[0msparkContext\u001b[0m\u001b[0;34m.\u001b[0m\u001b[0m_repr_html_\u001b[0m\u001b[0;34m(\u001b[0m\u001b[0;34m)\u001b[0m\u001b[0;34m\u001b[0m\u001b[0;34m\u001b[0m\u001b[0m\n\u001b[0m\u001b[1;32m    244\u001b[0m         )\n\u001b[1;32m    245\u001b[0m \u001b[0;34m\u001b[0m\u001b[0m\n",
            "\u001b[0;32m/usr/local/lib/python3.6/dist-packages/pyspark/context.py\u001b[0m in \u001b[0;36m_repr_html_\u001b[0;34m(self)\u001b[0m\n\u001b[1;32m    297\u001b[0m         \u001b[0;34m<\u001b[0m\u001b[0;34m/\u001b[0m\u001b[0mdiv\u001b[0m\u001b[0;34m>\u001b[0m\u001b[0;34m\u001b[0m\u001b[0;34m\u001b[0m\u001b[0m\n\u001b[1;32m    298\u001b[0m         \"\"\".format(\n\u001b[0;32m--> 299\u001b[0;31m             \u001b[0msc\u001b[0m\u001b[0;34m=\u001b[0m\u001b[0mself\u001b[0m\u001b[0;34m\u001b[0m\u001b[0;34m\u001b[0m\u001b[0m\n\u001b[0m\u001b[1;32m    300\u001b[0m         )\n\u001b[1;32m    301\u001b[0m \u001b[0;34m\u001b[0m\u001b[0m\n",
            "\u001b[0;32m/usr/local/lib/python3.6/dist-packages/pyspark/context.py\u001b[0m in \u001b[0;36muiWebUrl\u001b[0;34m(self)\u001b[0m\n\u001b[1;32m    409\u001b[0m     \u001b[0;32mdef\u001b[0m \u001b[0muiWebUrl\u001b[0m\u001b[0;34m(\u001b[0m\u001b[0mself\u001b[0m\u001b[0;34m)\u001b[0m\u001b[0;34m:\u001b[0m\u001b[0;34m\u001b[0m\u001b[0;34m\u001b[0m\u001b[0m\n\u001b[1;32m    410\u001b[0m         \u001b[0;34m\"\"\"Return the URL of the SparkUI instance started by this SparkContext\"\"\"\u001b[0m\u001b[0;34m\u001b[0m\u001b[0;34m\u001b[0m\u001b[0m\n\u001b[0;32m--> 411\u001b[0;31m         \u001b[0;32mreturn\u001b[0m \u001b[0mself\u001b[0m\u001b[0;34m.\u001b[0m\u001b[0m_jsc\u001b[0m\u001b[0;34m.\u001b[0m\u001b[0msc\u001b[0m\u001b[0;34m(\u001b[0m\u001b[0;34m)\u001b[0m\u001b[0;34m.\u001b[0m\u001b[0muiWebUrl\u001b[0m\u001b[0;34m(\u001b[0m\u001b[0;34m)\u001b[0m\u001b[0;34m.\u001b[0m\u001b[0mget\u001b[0m\u001b[0;34m(\u001b[0m\u001b[0;34m)\u001b[0m\u001b[0;34m\u001b[0m\u001b[0;34m\u001b[0m\u001b[0m\n\u001b[0m\u001b[1;32m    412\u001b[0m \u001b[0;34m\u001b[0m\u001b[0m\n\u001b[1;32m    413\u001b[0m     \u001b[0;34m@\u001b[0m\u001b[0mproperty\u001b[0m\u001b[0;34m\u001b[0m\u001b[0;34m\u001b[0m\u001b[0m\n",
            "\u001b[0;31mAttributeError\u001b[0m: 'NoneType' object has no attribute 'sc'"
          ]
        },
        {
          "output_type": "execute_result",
          "data": {
            "text/plain": [
              "<pyspark.sql.session.SparkSession at 0x7f7ec15b4e48>"
            ]
          },
          "metadata": {
            "tags": []
          },
          "execution_count": 189
        }
      ]
    },
    {
      "cell_type": "code",
      "metadata": {
        "id": "Ipzn-TOkT8CE",
        "colab_type": "code",
        "colab": {
          "base_uri": "https://localhost:8080/",
          "height": 413
        },
        "outputId": "28d6d781-d71e-4060-b09c-bbe9d9177cc7"
      },
      "source": [
        "sc"
      ],
      "execution_count": 190,
      "outputs": [
        {
          "output_type": "error",
          "ename": "AttributeError",
          "evalue": "ignored",
          "traceback": [
            "\u001b[0;31m---------------------------------------------------------------------------\u001b[0m",
            "\u001b[0;31mAttributeError\u001b[0m                            Traceback (most recent call last)",
            "\u001b[0;32m/usr/local/lib/python3.6/dist-packages/IPython/core/formatters.py\u001b[0m in \u001b[0;36m__call__\u001b[0;34m(self, obj)\u001b[0m\n\u001b[1;32m    336\u001b[0m             \u001b[0mmethod\u001b[0m \u001b[0;34m=\u001b[0m \u001b[0mget_real_method\u001b[0m\u001b[0;34m(\u001b[0m\u001b[0mobj\u001b[0m\u001b[0;34m,\u001b[0m \u001b[0mself\u001b[0m\u001b[0;34m.\u001b[0m\u001b[0mprint_method\u001b[0m\u001b[0;34m)\u001b[0m\u001b[0;34m\u001b[0m\u001b[0;34m\u001b[0m\u001b[0m\n\u001b[1;32m    337\u001b[0m             \u001b[0;32mif\u001b[0m \u001b[0mmethod\u001b[0m \u001b[0;32mis\u001b[0m \u001b[0;32mnot\u001b[0m \u001b[0;32mNone\u001b[0m\u001b[0;34m:\u001b[0m\u001b[0;34m\u001b[0m\u001b[0;34m\u001b[0m\u001b[0m\n\u001b[0;32m--> 338\u001b[0;31m                 \u001b[0;32mreturn\u001b[0m \u001b[0mmethod\u001b[0m\u001b[0;34m(\u001b[0m\u001b[0;34m)\u001b[0m\u001b[0;34m\u001b[0m\u001b[0;34m\u001b[0m\u001b[0m\n\u001b[0m\u001b[1;32m    339\u001b[0m             \u001b[0;32mreturn\u001b[0m \u001b[0;32mNone\u001b[0m\u001b[0;34m\u001b[0m\u001b[0;34m\u001b[0m\u001b[0m\n\u001b[1;32m    340\u001b[0m         \u001b[0;32melse\u001b[0m\u001b[0;34m:\u001b[0m\u001b[0;34m\u001b[0m\u001b[0;34m\u001b[0m\u001b[0m\n",
            "\u001b[0;32m/usr/local/lib/python3.6/dist-packages/pyspark/context.py\u001b[0m in \u001b[0;36m_repr_html_\u001b[0;34m(self)\u001b[0m\n\u001b[1;32m    297\u001b[0m         \u001b[0;34m<\u001b[0m\u001b[0;34m/\u001b[0m\u001b[0mdiv\u001b[0m\u001b[0;34m>\u001b[0m\u001b[0;34m\u001b[0m\u001b[0;34m\u001b[0m\u001b[0m\n\u001b[1;32m    298\u001b[0m         \"\"\".format(\n\u001b[0;32m--> 299\u001b[0;31m             \u001b[0msc\u001b[0m\u001b[0;34m=\u001b[0m\u001b[0mself\u001b[0m\u001b[0;34m\u001b[0m\u001b[0;34m\u001b[0m\u001b[0m\n\u001b[0m\u001b[1;32m    300\u001b[0m         )\n\u001b[1;32m    301\u001b[0m \u001b[0;34m\u001b[0m\u001b[0m\n",
            "\u001b[0;32m/usr/local/lib/python3.6/dist-packages/pyspark/context.py\u001b[0m in \u001b[0;36muiWebUrl\u001b[0;34m(self)\u001b[0m\n\u001b[1;32m    409\u001b[0m     \u001b[0;32mdef\u001b[0m \u001b[0muiWebUrl\u001b[0m\u001b[0;34m(\u001b[0m\u001b[0mself\u001b[0m\u001b[0;34m)\u001b[0m\u001b[0;34m:\u001b[0m\u001b[0;34m\u001b[0m\u001b[0;34m\u001b[0m\u001b[0m\n\u001b[1;32m    410\u001b[0m         \u001b[0;34m\"\"\"Return the URL of the SparkUI instance started by this SparkContext\"\"\"\u001b[0m\u001b[0;34m\u001b[0m\u001b[0;34m\u001b[0m\u001b[0m\n\u001b[0;32m--> 411\u001b[0;31m         \u001b[0;32mreturn\u001b[0m \u001b[0mself\u001b[0m\u001b[0;34m.\u001b[0m\u001b[0m_jsc\u001b[0m\u001b[0;34m.\u001b[0m\u001b[0msc\u001b[0m\u001b[0;34m(\u001b[0m\u001b[0;34m)\u001b[0m\u001b[0;34m.\u001b[0m\u001b[0muiWebUrl\u001b[0m\u001b[0;34m(\u001b[0m\u001b[0;34m)\u001b[0m\u001b[0;34m.\u001b[0m\u001b[0mget\u001b[0m\u001b[0;34m(\u001b[0m\u001b[0;34m)\u001b[0m\u001b[0;34m\u001b[0m\u001b[0;34m\u001b[0m\u001b[0m\n\u001b[0m\u001b[1;32m    412\u001b[0m \u001b[0;34m\u001b[0m\u001b[0m\n\u001b[1;32m    413\u001b[0m     \u001b[0;34m@\u001b[0m\u001b[0mproperty\u001b[0m\u001b[0;34m\u001b[0m\u001b[0;34m\u001b[0m\u001b[0m\n",
            "\u001b[0;31mAttributeError\u001b[0m: 'NoneType' object has no attribute 'sc'"
          ]
        },
        {
          "output_type": "execute_result",
          "data": {
            "text/plain": [
              "<SparkContext master=local[4] appName=Spark_App_Oscar_Mike>"
            ]
          },
          "metadata": {
            "tags": []
          },
          "execution_count": 190
        }
      ]
    },
    {
      "cell_type": "code",
      "metadata": {
        "id": "nhLNok4nT9nk",
        "colab_type": "code",
        "colab": {}
      },
      "source": [
        "spark.stop()"
      ],
      "execution_count": 0,
      "outputs": []
    },
    {
      "cell_type": "code",
      "metadata": {
        "id": "_CeYCXa4ZPi9",
        "colab_type": "code",
        "colab": {}
      },
      "source": [
        ""
      ],
      "execution_count": 0,
      "outputs": []
    },
    {
      "cell_type": "markdown",
      "metadata": {
        "id": "t6qqsJHNZeae",
        "colab_type": "text"
      },
      "source": [
        "# Transformations: "
      ]
    },
    {
      "cell_type": "code",
      "metadata": {
        "id": "nQIPX1UAZhCN",
        "colab_type": "code",
        "colab": {}
      },
      "source": [
        "SPARK_URL = \"local[*]\"\n",
        "\n",
        "spark = SparkSession.builder.appName(\"Spark_App_Oscar_Mike\").master(SPARK_URL).getOrCreate()"
      ],
      "execution_count": 0,
      "outputs": []
    },
    {
      "cell_type": "code",
      "metadata": {
        "id": "Zt8TDkgxZhZN",
        "colab_type": "code",
        "colab": {
          "base_uri": "https://localhost:8080/",
          "height": 221
        },
        "outputId": "0112fd1e-c32d-4b2e-c4e2-97f26295e384"
      },
      "source": [
        "spark"
      ],
      "execution_count": 196,
      "outputs": [
        {
          "output_type": "execute_result",
          "data": {
            "text/html": [
              "\n",
              "            <div>\n",
              "                <p><b>SparkSession - in-memory</b></p>\n",
              "                \n",
              "        <div>\n",
              "            <p><b>SparkContext</b></p>\n",
              "\n",
              "            <p><a href=\"http://844ed3290cf1:4040\">Spark UI</a></p>\n",
              "\n",
              "            <dl>\n",
              "              <dt>Version</dt>\n",
              "                <dd><code>v2.4.4</code></dd>\n",
              "              <dt>Master</dt>\n",
              "                <dd><code>local[*]</code></dd>\n",
              "              <dt>AppName</dt>\n",
              "                <dd><code>Spark_App_Oscar_Mike</code></dd>\n",
              "            </dl>\n",
              "        </div>\n",
              "        \n",
              "            </div>\n",
              "        "
            ],
            "text/plain": [
              "<pyspark.sql.session.SparkSession at 0x7f7ec0aac1d0>"
            ]
          },
          "metadata": {
            "tags": []
          },
          "execution_count": 196
        }
      ]
    },
    {
      "cell_type": "code",
      "metadata": {
        "id": "r5WvLB2LZiFa",
        "colab_type": "code",
        "colab": {}
      },
      "source": [
        "sc = spark.sparkContext"
      ],
      "execution_count": 0,
      "outputs": []
    },
    {
      "cell_type": "code",
      "metadata": {
        "id": "_kGtd_3gZlAa",
        "colab_type": "code",
        "colab": {}
      },
      "source": [
        "\n",
        "RDD = sc.parallelize(range(100))\n",
        "\n",
        "RDD_map = RDD.map(lambda x: x*x)\n",
        "\n",
        "# RDD_map.collect()  huge output \n"
      ],
      "execution_count": 0,
      "outputs": []
    },
    {
      "cell_type": "code",
      "metadata": {
        "id": "ehbv2FiSZwBe",
        "colab_type": "code",
        "colab": {
          "base_uri": "https://localhost:8080/",
          "height": 35
        },
        "outputId": "4bc61e47-f387-4bfd-a62e-2f530179477d"
      },
      "source": [
        "type(RDD_map)"
      ],
      "execution_count": 202,
      "outputs": [
        {
          "output_type": "execute_result",
          "data": {
            "text/plain": [
              "pyspark.rdd.PipelinedRDD"
            ]
          },
          "metadata": {
            "tags": []
          },
          "execution_count": 202
        }
      ]
    },
    {
      "cell_type": "code",
      "metadata": {
        "id": "cSBKXbtJaVcQ",
        "colab_type": "code",
        "colab": {}
      },
      "source": [
        "# RDD.collect()"
      ],
      "execution_count": 0,
      "outputs": []
    },
    {
      "cell_type": "code",
      "metadata": {
        "id": "rWsbeFnOZ98W",
        "colab_type": "code",
        "colab": {
          "base_uri": "https://localhost:8080/",
          "height": 35
        },
        "outputId": "bd015b52-a581-460d-f538-4a8d60f0c0bb"
      },
      "source": [
        "\n",
        "# filtering now:\n",
        "\n",
        "RDD_filtered = RDD.filter(lambda x: x > 20)\n",
        "\n",
        "RDD_filtered.take(10)\n",
        "\n",
        "# the original values but that are greater than 20 ...\n"
      ],
      "execution_count": 211,
      "outputs": [
        {
          "output_type": "execute_result",
          "data": {
            "text/plain": [
              "[21, 22, 23, 24, 25, 26, 27, 28, 29, 30]"
            ]
          },
          "metadata": {
            "tags": []
          },
          "execution_count": 211
        }
      ]
    },
    {
      "cell_type": "code",
      "metadata": {
        "id": "01C1W4s2av3G",
        "colab_type": "code",
        "colab": {
          "base_uri": "https://localhost:8080/",
          "height": 171
        },
        "outputId": "48fe394f-77c7-49c9-8d6d-3862d68e0314"
      },
      "source": [
        ""
      ],
      "execution_count": 212,
      "outputs": [
        {
          "output_type": "error",
          "ename": "NameError",
          "evalue": "ignored",
          "traceback": [
            "\u001b[0;31m---------------------------------------------------------------------------\u001b[0m",
            "\u001b[0;31mNameError\u001b[0m                                 Traceback (most recent call last)",
            "\u001b[0;32m<ipython-input-212-06f342d4bc0b>\u001b[0m in \u001b[0;36m<module>\u001b[0;34m()\u001b[0m\n\u001b[0;32m----> 1\u001b[0;31m \u001b[0mdd\u001b[0m\u001b[0;34m\u001b[0m\u001b[0;34m\u001b[0m\u001b[0m\n\u001b[0m",
            "\u001b[0;31mNameError\u001b[0m: name 'dd' is not defined"
          ]
        }
      ]
    },
    {
      "cell_type": "code",
      "metadata": {
        "id": "5Iwg1YIwaxXv",
        "colab_type": "code",
        "colab": {}
      },
      "source": [
        ""
      ],
      "execution_count": 0,
      "outputs": []
    },
    {
      "cell_type": "markdown",
      "metadata": {
        "id": "Qm3SC_64a2SZ",
        "colab_type": "text"
      },
      "source": [
        "### flatMap():"
      ]
    },
    {
      "cell_type": "code",
      "metadata": {
        "id": "PTxjshO7a4te",
        "colab_type": "code",
        "colab": {
          "base_uri": "https://localhost:8080/",
          "height": 35
        },
        "outputId": "b3d0a42c-413c-4795-b9da-23ae366570ef"
      },
      "source": [
        "RDD = sc.parallelize(  [\"hello world how are you doing\", \"this company sucks\"]  )\n",
        "\n",
        "RDD_flatmap = RDD.flatMap(lambda x: x.split(\" \"))\n",
        "\n",
        "RDD_flatmap.collect()\n"
      ],
      "execution_count": 215,
      "outputs": [
        {
          "output_type": "execute_result",
          "data": {
            "text/plain": [
              "['hello', 'world', 'how', 'are', 'you', 'doing', 'this', 'company', 'sucks']"
            ]
          },
          "metadata": {
            "tags": []
          },
          "execution_count": 215
        }
      ]
    },
    {
      "cell_type": "code",
      "metadata": {
        "id": "t3gtEVuObHRO",
        "colab_type": "code",
        "colab": {}
      },
      "source": [
        ""
      ],
      "execution_count": 0,
      "outputs": []
    },
    {
      "cell_type": "markdown",
      "metadata": {
        "colab_type": "text",
        "id": "BdcfzXpbbX7U"
      },
      "source": [
        "### union():"
      ]
    },
    {
      "cell_type": "code",
      "metadata": {
        "id": "0-KB3ERMbbX2",
        "colab_type": "code",
        "colab": {}
      },
      "source": [
        "\n",
        "# example:\n",
        "\n",
        "# inputRDD = sc.textFile(\"logs.txt\")\n",
        "\n",
        "# errorRDD = inputRDD.filter(lambda x:  \"error\" in x.split())\n",
        "\n",
        "# warningsRDD = inputRDD.filter(lambda x:  \"warnings\" in x.split())\n",
        "\n",
        "# combinedRDD = errorRDD.union(warningsRDD)\n"
      ],
      "execution_count": 0,
      "outputs": []
    },
    {
      "cell_type": "markdown",
      "metadata": {
        "id": "6ZaUWVUmcTzA",
        "colab_type": "text"
      },
      "source": [
        "### Actions:"
      ]
    },
    {
      "cell_type": "code",
      "metadata": {
        "id": "mDA1fbOkcJGn",
        "colab_type": "code",
        "colab": {
          "base_uri": "https://localhost:8080/",
          "height": 35
        },
        "outputId": "ec4accb3-abf7-4c82-acbd-34549b20fb27"
      },
      "source": [
        "RDD.count()"
      ],
      "execution_count": 216,
      "outputs": [
        {
          "output_type": "execute_result",
          "data": {
            "text/plain": [
              "2"
            ]
          },
          "metadata": {
            "tags": []
          },
          "execution_count": 216
        }
      ]
    },
    {
      "cell_type": "code",
      "metadata": {
        "id": "rugw6Kv9cXRu",
        "colab_type": "code",
        "colab": {
          "base_uri": "https://localhost:8080/",
          "height": 35
        },
        "outputId": "9b43c48b-ecc0-4c6e-af4b-e589f74f67d7"
      },
      "source": [
        "RDD_map.take(2)"
      ],
      "execution_count": 217,
      "outputs": [
        {
          "output_type": "execute_result",
          "data": {
            "text/plain": [
              "[0, 1]"
            ]
          },
          "metadata": {
            "tags": []
          },
          "execution_count": 217
        }
      ]
    },
    {
      "cell_type": "code",
      "metadata": {
        "id": "rYDMdUS0cZdW",
        "colab_type": "code",
        "colab": {
          "base_uri": "https://localhost:8080/",
          "height": 35
        },
        "outputId": "6156c78c-5117-468d-cb2f-0b166036815c"
      },
      "source": [
        "RDD_map.first()"
      ],
      "execution_count": 218,
      "outputs": [
        {
          "output_type": "execute_result",
          "data": {
            "text/plain": [
              "0"
            ]
          },
          "metadata": {
            "tags": []
          },
          "execution_count": 218
        }
      ]
    },
    {
      "cell_type": "code",
      "metadata": {
        "id": "QmpfKEsecdkm",
        "colab_type": "code",
        "colab": {
          "base_uri": "https://localhost:8080/",
          "height": 35
        },
        "outputId": "833ad1fb-dfa9-4164-e1a8-ee4ac3e5ec21"
      },
      "source": [
        "RDD_map.count()"
      ],
      "execution_count": 219,
      "outputs": [
        {
          "output_type": "execute_result",
          "data": {
            "text/plain": [
              "100"
            ]
          },
          "metadata": {
            "tags": []
          },
          "execution_count": 219
        }
      ]
    },
    {
      "cell_type": "markdown",
      "metadata": {
        "id": "qjQYfU3Zfgaw",
        "colab_type": "text"
      },
      "source": [
        "# Pair RDD: "
      ]
    },
    {
      "cell_type": "code",
      "metadata": {
        "id": "QYC7I-oQchM-",
        "colab_type": "code",
        "colab": {
          "base_uri": "https://localhost:8080/",
          "height": 35
        },
        "outputId": "1a6aad32-0a69-4461-a738-4ad219b3391e"
      },
      "source": [
        "my_tuple = [ ('Sam', 23),  ('Tom', 100), ('Mary', 200), ('Teresa', 300)]\n",
        "type(my_tuple)"
      ],
      "execution_count": 233,
      "outputs": [
        {
          "output_type": "execute_result",
          "data": {
            "text/plain": [
              "list"
            ]
          },
          "metadata": {
            "tags": []
          },
          "execution_count": 233
        }
      ]
    },
    {
      "cell_type": "code",
      "metadata": {
        "id": "TrFI42FQf2Sf",
        "colab_type": "code",
        "colab": {}
      },
      "source": [
        "pairRDD_tuple_based = sc.parallelize(my_tuple)   # just throw the list of tuples directly in ! "
      ],
      "execution_count": 0,
      "outputs": []
    },
    {
      "cell_type": "code",
      "metadata": {
        "id": "_LHrnn8-f8M_",
        "colab_type": "code",
        "colab": {
          "base_uri": "https://localhost:8080/",
          "height": 35
        },
        "outputId": "bee2dc22-a617-40ad-bc10-495e1af3f348"
      },
      "source": [
        "pairRDD_tuple_based"
      ],
      "execution_count": 235,
      "outputs": [
        {
          "output_type": "execute_result",
          "data": {
            "text/plain": [
              "ParallelCollectionRDD[29] at parallelize at PythonRDD.scala:195"
            ]
          },
          "metadata": {
            "tags": []
          },
          "execution_count": 235
        }
      ]
    },
    {
      "cell_type": "code",
      "metadata": {
        "id": "g6IyGMdIf-33",
        "colab_type": "code",
        "colab": {
          "base_uri": "https://localhost:8080/",
          "height": 35
        },
        "outputId": "3ac8e749-d6e9-4b26-d367-13165f784ba1"
      },
      "source": [
        "RDD"
      ],
      "execution_count": 236,
      "outputs": [
        {
          "output_type": "execute_result",
          "data": {
            "text/plain": [
              "ParallelCollectionRDD[18] at parallelize at PythonRDD.scala:195"
            ]
          },
          "metadata": {
            "tags": []
          },
          "execution_count": 236
        }
      ]
    },
    {
      "cell_type": "code",
      "metadata": {
        "id": "92cm6sXJgBO_",
        "colab_type": "code",
        "colab": {}
      },
      "source": [
        "# you can't tell the difference between paired and non-paired based on that output..."
      ],
      "execution_count": 0,
      "outputs": []
    },
    {
      "cell_type": "code",
      "metadata": {
        "id": "Pfo3W76QgHRv",
        "colab_type": "code",
        "colab": {}
      },
      "source": [
        "\n",
        "# another example\n",
        "\n",
        "my_list = [  'Sam 100',  \"Tom 200\", \"T 300\", \"Chuck 400\"]\n",
        "normalRDD = sc.parallelize(my_list)\n",
        "pairRDD_RDD = normalRDD.map(lambda s: (s.split(' ')[0], (s.split(' ')[1])))\n",
        "# im assuming that technically that map converts the string to a tuple of (s1, s2) \n"
      ],
      "execution_count": 0,
      "outputs": []
    },
    {
      "cell_type": "code",
      "metadata": {
        "id": "925oCXGyg7zw",
        "colab_type": "code",
        "colab": {
          "base_uri": "https://localhost:8080/",
          "height": 35
        },
        "outputId": "a6722f28-8e2f-4ed9-8748-99bfe4d3069b"
      },
      "source": [
        "pairRDD_RDD.collect()"
      ],
      "execution_count": 239,
      "outputs": [
        {
          "output_type": "execute_result",
          "data": {
            "text/plain": [
              "[('Sam', '100'), ('Tom', '200'), ('T', '300'), ('Chuck', '400')]"
            ]
          },
          "metadata": {
            "tags": []
          },
          "execution_count": 239
        }
      ]
    },
    {
      "cell_type": "code",
      "metadata": {
        "id": "8QTceEv6g94n",
        "colab_type": "code",
        "colab": {}
      },
      "source": [
        "# you have pair like functions like reduceByKey(func), groupByKey(), sortByKey(), join()"
      ],
      "execution_count": 0,
      "outputs": []
    },
    {
      "cell_type": "markdown",
      "metadata": {
        "id": "IB132PL33h6g",
        "colab_type": "text"
      },
      "source": [
        "### reduceByKey():"
      ]
    },
    {
      "cell_type": "code",
      "metadata": {
        "id": "OGbEN1QS3joa",
        "colab_type": "code",
        "colab": {
          "base_uri": "https://localhost:8080/",
          "height": 35
        },
        "outputId": "605a1698-55b0-4588-f264-15c6e2f7b04e"
      },
      "source": [
        "\n",
        "# take a function, which is \n",
        "\n",
        "regularRDD = sc.parallelize( \n",
        "    [(\"Messi\", 23), \n",
        "     (\"Renoldo\", 24),\n",
        "     (\"Neymar\", 22), \n",
        "     (\"Messi\", 22)]\n",
        ")\n",
        "\n",
        "pairRDD_red = regularRDD.reduceByKey(lambda x,y: x+y)\n",
        "\n",
        "pairRDD_red.collect()"
      ],
      "execution_count": 243,
      "outputs": [
        {
          "output_type": "execute_result",
          "data": {
            "text/plain": [
              "[('Messi', 45), ('Renoldo', 24), ('Neymar', 22)]"
            ]
          },
          "metadata": {
            "tags": []
          },
          "execution_count": 243
        }
      ]
    },
    {
      "cell_type": "code",
      "metadata": {
        "id": "wUNt-_1s4TJk",
        "colab_type": "code",
        "colab": {
          "base_uri": "https://localhost:8080/",
          "height": 35
        },
        "outputId": "935a8a68-6063-4d12-ab3d-65f306c61c42"
      },
      "source": [
        "rdd1 = sc.parallelize( [(5,10), (5,15),\n",
        "                       (4,8),\n",
        "                       (4,12),\n",
        "                       (5,20),\n",
        "                       (10,50)])\n",
        "\n",
        "\n",
        "rdd2 = rdd1.reduceByKey(lambda x,y: x+y)\n",
        "\n",
        "rdd2.collect()\n",
        "\n",
        "# anything that has the same key, add the VALUES together, but keep the same key ! "
      ],
      "execution_count": 249,
      "outputs": [
        {
          "output_type": "execute_result",
          "data": {
            "text/plain": [
              "[(4, 20), (10, 50), (5, 45)]"
            ]
          },
          "metadata": {
            "tags": []
          },
          "execution_count": 249
        }
      ]
    },
    {
      "cell_type": "code",
      "metadata": {
        "id": "Yv6d5HEh5byz",
        "colab_type": "code",
        "colab": {
          "base_uri": "https://localhost:8080/",
          "height": 54
        },
        "outputId": "b0f2b82a-2bdb-4dea-b78c-c073c4588e4d"
      },
      "source": [
        "\n",
        "\n",
        "# Bazic reduceByKey example in python\n",
        "\n",
        "# creating PairRDD x with key value pairs\n",
        "x = sc.parallelize([(\"a\", 1), (\"b\", 1), (\"a\", 1), (\"a\", 1),\n",
        "                    (\"b\", 1), (\"b\", 1), (\"b\", 1), (\"b\", 1)], 3)\n",
        " \n",
        "# Applying reduceByKey operation on x\n",
        "y = x.reduceByKey(lambda accum, n: accum + n)\n",
        "\n",
        "print(y.collect())\n",
        "# [('b', 5), ('a', 3)]\n",
        " \n",
        "\n",
        " \n",
        "# Define associative function separately \n",
        "def sumFunc(accum, n):\n",
        "    return accum + n\n",
        " \n",
        "y = x.reduceByKey(sumFunc)\n",
        "\n",
        "print(y.collect())\n",
        "# [('b', 5), ('a', 3)]\n",
        "\n"
      ],
      "execution_count": 250,
      "outputs": [
        {
          "output_type": "stream",
          "text": [
            "[('b', 5), ('a', 3)]\n",
            "[('b', 5), ('a', 3)]\n"
          ],
          "name": "stdout"
        }
      ]
    },
    {
      "cell_type": "code",
      "metadata": {
        "id": "PDMZo-2F6Qkk",
        "colab_type": "code",
        "colab": {}
      },
      "source": [
        "#   https://backtobazics.com/big-data/spark/apache-spark-reducebykey-example/"
      ],
      "execution_count": 0,
      "outputs": []
    },
    {
      "cell_type": "markdown",
      "metadata": {
        "id": "jEQYgokY7m_1",
        "colab_type": "text"
      },
      "source": [
        "### sortByKey():"
      ]
    },
    {
      "cell_type": "code",
      "metadata": {
        "id": "LM_qOaGO7pP7",
        "colab_type": "code",
        "colab": {
          "base_uri": "https://localhost:8080/",
          "height": 35
        },
        "outputId": "bffd29bf-23c0-4e5b-c512-a37e70589633"
      },
      "source": [
        "data = sc.parallelize( [(\"C\",3),(\"A\",1),(\"D\",4),(\"B\",2),(\"E\",5)])\n",
        "\n",
        "data.collect()"
      ],
      "execution_count": 252,
      "outputs": [
        {
          "output_type": "execute_result",
          "data": {
            "text/plain": [
              "[('C', 3), ('A', 1), ('D', 4), ('B', 2), ('E', 5)]"
            ]
          },
          "metadata": {
            "tags": []
          },
          "execution_count": 252
        }
      ]
    },
    {
      "cell_type": "code",
      "metadata": {
        "id": "HF-x1oBb74cr",
        "colab_type": "code",
        "colab": {
          "base_uri": "https://localhost:8080/",
          "height": 35
        },
        "outputId": "964aac86-e96d-4867-acfe-de224536388a"
      },
      "source": [
        "sortfunc = data.sortByKey() \n",
        "sortfunc.collect() "
      ],
      "execution_count": 253,
      "outputs": [
        {
          "output_type": "execute_result",
          "data": {
            "text/plain": [
              "[('A', 1), ('B', 2), ('C', 3), ('D', 4), ('E', 5)]"
            ]
          },
          "metadata": {
            "tags": []
          },
          "execution_count": 253
        }
      ]
    },
    {
      "cell_type": "code",
      "metadata": {
        "id": "ZIMdYI8e79ar",
        "colab_type": "code",
        "colab": {}
      },
      "source": [
        "# from pyspark import SparkConf, SparkContext\n",
        "# from pyspark.sql import SQLContext\n",
        "# conf1 = SparkConf().setAppName('sort_desc')\n",
        "# sc1 = SparkContext(conf=conf1)\n",
        "# sql_context = SQLContext(sc1)\n",
        "# csv_file_path = 'emp.csv'\n",
        "# employee_rdd = sc1.textFile(csv_file_path).map(lambda line: line.split(','))\n",
        "# print(type(employee_rdd))\n",
        "# employee_rdd_sorted = employee_rdd.sortByKey(ascending= False)\n",
        "# employee_df = employee_rdd.toDF(['dept','ctc'])\n",
        "# employee_df_sorted = employee_rdd_sorted.toDF(['dept','ctc'])"
      ],
      "execution_count": 0,
      "outputs": []
    },
    {
      "cell_type": "code",
      "metadata": {
        "id": "29JlMuwi8O20",
        "colab_type": "code",
        "colab": {
          "base_uri": "https://localhost:8080/",
          "height": 163
        },
        "outputId": "c2401398-b1e1-4e53-abdf-41096bb02848"
      },
      "source": [
        "# sortByKey() example nice one...\n",
        "\n",
        "rdd1 = sc.parallelize(   [(\"India\",91),(\"USA\",1),(\"Brazil\",55),(\"Greece\",30),(\"China\",86),(\"Sweden\",46),(\"Turkey\",90),(\"Nepal\",977)])\n",
        "rdd2 = rdd1.sortByKey()\n",
        "rdd2.collect()"
      ],
      "execution_count": 255,
      "outputs": [
        {
          "output_type": "execute_result",
          "data": {
            "text/plain": [
              "[('Brazil', 55),\n",
              " ('China', 86),\n",
              " ('Greece', 30),\n",
              " ('India', 91),\n",
              " ('Nepal', 977),\n",
              " ('Sweden', 46),\n",
              " ('Turkey', 90),\n",
              " ('USA', 1)]"
            ]
          },
          "metadata": {
            "tags": []
          },
          "execution_count": 255
        }
      ]
    },
    {
      "cell_type": "code",
      "metadata": {
        "id": "4x28BjKD8f9V",
        "colab_type": "code",
        "colab": {
          "base_uri": "https://localhost:8080/",
          "height": 35
        },
        "outputId": "9c32a2c2-8f01-48b9-d88d-aa2d03e6e446"
      },
      "source": [
        "rdd2.keys().collect()"
      ],
      "execution_count": 257,
      "outputs": [
        {
          "output_type": "execute_result",
          "data": {
            "text/plain": [
              "['Brazil', 'China', 'Greece', 'India', 'Nepal', 'Sweden', 'Turkey', 'USA']"
            ]
          },
          "metadata": {
            "tags": []
          },
          "execution_count": 257
        }
      ]
    },
    {
      "cell_type": "code",
      "metadata": {
        "id": "MLUySHb7FtIV",
        "colab_type": "code",
        "colab": {
          "base_uri": "https://localhost:8080/",
          "height": 35
        },
        "outputId": "ebaedf69-6029-45d1-e529-a44aca5caa3a"
      },
      "source": [
        "rdd2.values().collect()"
      ],
      "execution_count": 261,
      "outputs": [
        {
          "output_type": "execute_result",
          "data": {
            "text/plain": [
              "[55, 86, 30, 91, 977, 46, 90, 1]"
            ]
          },
          "metadata": {
            "tags": []
          },
          "execution_count": 261
        }
      ]
    },
    {
      "cell_type": "code",
      "metadata": {
        "id": "4lZC2qXBFxmV",
        "colab_type": "code",
        "colab": {}
      },
      "source": [
        "# reduceByKey(func)    Combine values with the same key.\n",
        "\n",
        "# groupByKey()          Group values with the same key.\n",
        "# {(1, [2]), (3, [4, 6])}\n",
        "\n",
        "\n",
        "# mapValues(func)       Apply a function to each value of a pair RDD without changing the key.,  \n",
        "\n",
        "# flatMapValues(func)   Apply a function that returns an iterator to each value of a pair RDD, and for each element returned, produce a key/value entry with the old key. Often used for tokenization.\n"
      ],
      "execution_count": 0,
      "outputs": []
    },
    {
      "cell_type": "code",
      "metadata": {
        "id": "mGrQgDK0HW2N",
        "colab_type": "code",
        "colab": {}
      },
      "source": [
        "# more paired RDD"
      ],
      "execution_count": 0,
      "outputs": []
    },
    {
      "cell_type": "markdown",
      "metadata": {
        "id": "1nAXly2uI52F",
        "colab_type": "text"
      },
      "source": [
        "### Actions (not transformations) on Paired RDD: "
      ]
    },
    {
      "cell_type": "code",
      "metadata": {
        "id": "MnhGA4r2I87S",
        "colab_type": "code",
        "colab": {
          "base_uri": "https://localhost:8080/",
          "height": 163
        },
        "outputId": "3490e042-9fa8-4b4b-d11e-8f8812ee2686"
      },
      "source": [
        "rdd2.collect()"
      ],
      "execution_count": 271,
      "outputs": [
        {
          "output_type": "execute_result",
          "data": {
            "text/plain": [
              "[('Brazil', 55),\n",
              " ('China', 86),\n",
              " ('Greece', 30),\n",
              " ('India', 91),\n",
              " ('Nepal', 977),\n",
              " ('Sweden', 46),\n",
              " ('Turkey', 90),\n",
              " ('USA', 1)]"
            ]
          },
          "metadata": {
            "tags": []
          },
          "execution_count": 271
        }
      ]
    },
    {
      "cell_type": "code",
      "metadata": {
        "id": "npSDFpRIH-LV",
        "colab_type": "code",
        "colab": {
          "base_uri": "https://localhost:8080/",
          "height": 163
        },
        "outputId": "fb9d3165-dbee-41d6-a14f-d5e2c230390d"
      },
      "source": [
        "rdd2.collect()"
      ],
      "execution_count": 263,
      "outputs": [
        {
          "output_type": "execute_result",
          "data": {
            "text/plain": [
              "[('Brazil', 55),\n",
              " ('China', 86),\n",
              " ('Greece', 30),\n",
              " ('India', 91),\n",
              " ('Nepal', 977),\n",
              " ('Sweden', 46),\n",
              " ('Turkey', 90),\n",
              " ('USA', 1)]"
            ]
          },
          "metadata": {
            "tags": []
          },
          "execution_count": 263
        }
      ]
    },
    {
      "cell_type": "code",
      "metadata": {
        "id": "OmkhyQTRIAQe",
        "colab_type": "code",
        "colab": {
          "base_uri": "https://localhost:8080/",
          "height": 181
        },
        "outputId": "4cb27620-a3e4-4c8d-d95e-d60e13949216"
      },
      "source": [
        "#Count the number of elements for each key\n",
        "rdd2.countByKey()"
      ],
      "execution_count": 272,
      "outputs": [
        {
          "output_type": "execute_result",
          "data": {
            "text/plain": [
              "defaultdict(int,\n",
              "            {'Brazil': 1,\n",
              "             'China': 1,\n",
              "             'Greece': 1,\n",
              "             'India': 1,\n",
              "             'Nepal': 1,\n",
              "             'Sweden': 1,\n",
              "             'Turkey': 1,\n",
              "             'USA': 1})"
            ]
          },
          "metadata": {
            "tags": []
          },
          "execution_count": 272
        }
      ]
    },
    {
      "cell_type": "code",
      "metadata": {
        "id": "Fs37COWkIENu",
        "colab_type": "code",
        "colab": {
          "base_uri": "https://localhost:8080/",
          "height": 163
        },
        "outputId": "c165948d-190a-4916-a3b5-f6cf5307c726"
      },
      "source": [
        "#Collect the result as a map to provide easy lookup.\n",
        "rdd2.collectAsMap()"
      ],
      "execution_count": 273,
      "outputs": [
        {
          "output_type": "execute_result",
          "data": {
            "text/plain": [
              "{'Brazil': 55,\n",
              " 'China': 86,\n",
              " 'Greece': 30,\n",
              " 'India': 91,\n",
              " 'Nepal': 977,\n",
              " 'Sweden': 46,\n",
              " 'Turkey': 90,\n",
              " 'USA': 1}"
            ]
          },
          "metadata": {
            "tags": []
          },
          "execution_count": 273
        }
      ]
    },
    {
      "cell_type": "code",
      "metadata": {
        "id": "7qi76wEmILtr",
        "colab_type": "code",
        "colab": {
          "base_uri": "https://localhost:8080/",
          "height": 35
        },
        "outputId": "95f3eef3-baa3-4bfd-d9d4-2c53b7b27dc9"
      },
      "source": [
        "print(type(rdd2.collectAsMap()))"
      ],
      "execution_count": 269,
      "outputs": [
        {
          "output_type": "stream",
          "text": [
            "<class 'dict'>\n"
          ],
          "name": "stdout"
        }
      ]
    },
    {
      "cell_type": "code",
      "metadata": {
        "id": "c3BJsODtIXRo",
        "colab_type": "code",
        "colab": {
          "base_uri": "https://localhost:8080/",
          "height": 163
        },
        "outputId": "1fddba6a-327b-48f2-8834-b82e8c450409"
      },
      "source": [
        "rdd2.collectAsMap()"
      ],
      "execution_count": 270,
      "outputs": [
        {
          "output_type": "execute_result",
          "data": {
            "text/plain": [
              "{'Brazil': 55,\n",
              " 'China': 86,\n",
              " 'Greece': 30,\n",
              " 'India': 91,\n",
              " 'Nepal': 977,\n",
              " 'Sweden': 46,\n",
              " 'Turkey': 90,\n",
              " 'USA': 1}"
            ]
          },
          "metadata": {
            "tags": []
          },
          "execution_count": 270
        }
      ]
    },
    {
      "cell_type": "code",
      "metadata": {
        "id": "kjyJwG_3IfIW",
        "colab_type": "code",
        "colab": {
          "base_uri": "https://localhost:8080/",
          "height": 35
        },
        "outputId": "4783f535-97b6-44e1-b006-436ea362bc5b"
      },
      "source": [
        "#Return all values associated with the provided key.\n",
        "rdd2.lookup('Brazil')"
      ],
      "execution_count": 274,
      "outputs": [
        {
          "output_type": "execute_result",
          "data": {
            "text/plain": [
              "[55]"
            ]
          },
          "metadata": {
            "tags": []
          },
          "execution_count": 274
        }
      ]
    },
    {
      "cell_type": "code",
      "metadata": {
        "id": "I-HkfiJTJMnm",
        "colab_type": "code",
        "colab": {}
      },
      "source": [
        "# In Python        # Create an RDDs of tuples (name, age)        dataRDD = sc.parallelize([(\"Brooke\", 20), (\"Denny\", 31), (\"Jules\", 30), (\"TD\", 35), (\"Brooke\", 25)])        # Use map and reduceByKey transformations with their         # lambda expressions to aggregate and then compute average        agesRDD = dataRDD.map(lambda x, y: (x, (y, 1))) \\         .reduceByKey(lambda x, y: (x[0] + y[0], x[1] + y[1])) \\         .map(lambda x, y, z: (x, y / z))"
      ],
      "execution_count": 0,
      "outputs": []
    },
    {
      "cell_type": "code",
      "metadata": {
        "id": "CVUSSBAEJo_e",
        "colab_type": "code",
        "colab": {}
      },
      "source": [
        ""
      ],
      "execution_count": 0,
      "outputs": []
    },
    {
      "cell_type": "code",
      "metadata": {
        "id": "NF_I1CFZJqTY",
        "colab_type": "code",
        "colab": {}
      },
      "source": [
        "# Create an RDDs of tuples (name, age)\n",
        "dataRDD = sc.parallelize([(\"Brooke\", 20), (\"Denny\", 31), (\"Jules\", 30), (\"TD\", 35), (\"Brooke\", 25)])\n",
        "\n",
        "# Use map and reduceByKey transformations with their \n",
        "# lambda expressions to aggregate and then compute average\n",
        "\n",
        "agesRDD = dataRDD.map(lambda x, y: (x, (y, 1))) \\\n",
        "         .reduceByKey(lambda x, y: (x[0] + y[0], x[1] + y[1])) \\\n",
        "         .map(lambda x, y, z: (x, y / z))\n"
      ],
      "execution_count": 0,
      "outputs": []
    },
    {
      "cell_type": "code",
      "metadata": {
        "id": "JDR5M-qrJui9",
        "colab_type": "code",
        "colab": {
          "base_uri": "https://localhost:8080/",
          "height": 35
        },
        "outputId": "a9df0096-d266-454d-aa7d-1bce789236d3"
      },
      "source": [
        "agesRDD"
      ],
      "execution_count": 282,
      "outputs": [
        {
          "output_type": "execute_result",
          "data": {
            "text/plain": [
              "PythonRDD[115] at collect at <ipython-input-281-955e2f116cee>:1"
            ]
          },
          "metadata": {
            "tags": []
          },
          "execution_count": 282
        }
      ]
    },
    {
      "cell_type": "code",
      "metadata": {
        "id": "lwQO2-jGJ1lW",
        "colab_type": "code",
        "colab": {
          "base_uri": "https://localhost:8080/",
          "height": 221
        },
        "outputId": "b2654a1e-49ec-4fe9-d6a7-4e3ba95bb4c1"
      },
      "source": [
        "spark"
      ],
      "execution_count": 285,
      "outputs": [
        {
          "output_type": "execute_result",
          "data": {
            "text/html": [
              "\n",
              "            <div>\n",
              "                <p><b>SparkSession - in-memory</b></p>\n",
              "                \n",
              "        <div>\n",
              "            <p><b>SparkContext</b></p>\n",
              "\n",
              "            <p><a href=\"http://844ed3290cf1:4040\">Spark UI</a></p>\n",
              "\n",
              "            <dl>\n",
              "              <dt>Version</dt>\n",
              "                <dd><code>v2.4.4</code></dd>\n",
              "              <dt>Master</dt>\n",
              "                <dd><code>local[*]</code></dd>\n",
              "              <dt>AppName</dt>\n",
              "                <dd><code>Spark_App_Oscar_Mike</code></dd>\n",
              "            </dl>\n",
              "        </div>\n",
              "        \n",
              "            </div>\n",
              "        "
            ],
            "text/plain": [
              "<pyspark.sql.session.SparkSession at 0x7f7ec0aac1d0>"
            ]
          },
          "metadata": {
            "tags": []
          },
          "execution_count": 285
        }
      ]
    },
    {
      "cell_type": "code",
      "metadata": {
        "id": "ZwW-kCBvKEUX",
        "colab_type": "code",
        "colab": {
          "base_uri": "https://localhost:8080/",
          "height": 181
        },
        "outputId": "8f547ae6-71d6-42da-ba9e-1324d0d2a8a7"
      },
      "source": [
        "        from pyspark.sql.functions import avg\n",
        "        # Create a DataFrame using SparkSession\n",
        "        data_df = spark.createDataFrame([(\"Brooke\", 20), (\"Denny\", 31), (\"Jules\", 30), (\"TD\", 35), (\"Brooke\", 25)], [\"name\", \"age\"])\n",
        "\n",
        "        # Group the same names together, aggregate their age, and compute an average\n",
        "        avg_df = data_df.groupBy(\"name\").agg(avg(\"age\"))\n",
        "        # Show the results of the final execution\n",
        "        avg_df.show()\n",
        "        "
      ],
      "execution_count": 286,
      "outputs": [
        {
          "output_type": "stream",
          "text": [
            "+------+--------+\n",
            "|  name|avg(age)|\n",
            "+------+--------+\n",
            "|Brooke|    22.5|\n",
            "| Jules|    30.0|\n",
            "|    TD|    35.0|\n",
            "| Denny|    31.0|\n",
            "+------+--------+\n",
            "\n"
          ],
          "name": "stdout"
        }
      ]
    },
    {
      "cell_type": "code",
      "metadata": {
        "id": "0ZrbqLb3KVdK",
        "colab_type": "code",
        "colab": {}
      },
      "source": [
        ""
      ],
      "execution_count": 0,
      "outputs": []
    },
    {
      "cell_type": "markdown",
      "metadata": {
        "id": "sRfhsJyRRCwL",
        "colab_type": "text"
      },
      "source": [
        "### Advanced: "
      ]
    },
    {
      "cell_type": "code",
      "metadata": {
        "id": "E619xPmFREKn",
        "colab_type": "code",
        "colab": {}
      },
      "source": [
        ""
      ],
      "execution_count": 0,
      "outputs": []
    },
    {
      "cell_type": "code",
      "metadata": {
        "id": "2YK25USHRElF",
        "colab_type": "code",
        "colab": {
          "base_uri": "https://localhost:8080/",
          "height": 35
        },
        "outputId": "21e344cf-5cb0-4ec8-9862-a3ab7472c787"
      },
      "source": [
        "x = [1,3,4,5,6]\n",
        "\n",
        "RDD = sc.parallelize(x)\n",
        "\n",
        "RDD.reduce(lambda x, y: x+y)\n",
        "\n",
        "# this is an action, and it spits out a result...\n"
      ],
      "execution_count": 288,
      "outputs": [
        {
          "output_type": "execute_result",
          "data": {
            "text/plain": [
              "19"
            ]
          },
          "metadata": {
            "tags": []
          },
          "execution_count": 288
        }
      ]
    },
    {
      "cell_type": "code",
      "metadata": {
        "id": "6TMS3f42RLVM",
        "colab_type": "code",
        "colab": {}
      },
      "source": [
        "# saveAsTextFile():\n",
        "\n",
        "# saves the RDD into a text file inside a directory with each partition a sep file ! ! ! ! \n",
        "\n",
        "# RDD.saveAsTextFile(\"tempfile\")\n",
        "\n",
        "# but if you want, you can save it as one huge file with coalese:\n",
        "\n",
        "# RDD.coalesce(1).saveAsTextFile('tempFile# ')\n",
        "\n"
      ],
      "execution_count": 0,
      "outputs": []
    },
    {
      "cell_type": "code",
      "metadata": {
        "id": "dF1XvzaIR7xo",
        "colab_type": "code",
        "colab": {
          "base_uri": "https://localhost:8080/",
          "height": 35
        },
        "outputId": "b954ab53-b819-4c90-820d-e6d15491a310"
      },
      "source": [
        "# countByKey():\n",
        "\n",
        "\n",
        "rdd = sc.parallelize( [(\"a\",1),  (\"b\",1),  (\"c\",1),  (\"a\",3)])\n",
        "\n",
        "rdd.collect()"
      ],
      "execution_count": 289,
      "outputs": [
        {
          "output_type": "execute_result",
          "data": {
            "text/plain": [
              "[('a', 1), ('b', 1), ('c', 1), ('a', 3)]"
            ]
          },
          "metadata": {
            "tags": []
          },
          "execution_count": 289
        }
      ]
    },
    {
      "cell_type": "code",
      "metadata": {
        "id": "6uxhrZTcSK2R",
        "colab_type": "code",
        "colab": {
          "base_uri": "https://localhost:8080/",
          "height": 207
        },
        "outputId": "e330d964-3bb3-4e7f-d3a4-1cda4ad87ea2"
      },
      "source": [
        "\n",
        "for key,value in rdd.countByKey().items():\n",
        "  print(key,value)"
      ],
      "execution_count": 290,
      "outputs": [
        {
          "output_type": "error",
          "ename": "TypeError",
          "evalue": "ignored",
          "traceback": [
            "\u001b[0;31m---------------------------------------------------------------------------\u001b[0m",
            "\u001b[0;31mTypeError\u001b[0m                                 Traceback (most recent call last)",
            "\u001b[0;32m<ipython-input-290-c85785f6a087>\u001b[0m in \u001b[0;36m<module>\u001b[0;34m()\u001b[0m\n\u001b[1;32m      1\u001b[0m \u001b[0;34m\u001b[0m\u001b[0m\n\u001b[0;32m----> 2\u001b[0;31m \u001b[0;32mfor\u001b[0m \u001b[0mkey\u001b[0m\u001b[0;34m,\u001b[0m\u001b[0mvalue\u001b[0m \u001b[0;32min\u001b[0m \u001b[0mrdd\u001b[0m\u001b[0;34m.\u001b[0m\u001b[0mcountByKey\u001b[0m\u001b[0;34m(\u001b[0m\u001b[0;34m)\u001b[0m\u001b[0;34m.\u001b[0m\u001b[0mitems\u001b[0m\u001b[0;34m:\u001b[0m\u001b[0;34m\u001b[0m\u001b[0;34m\u001b[0m\u001b[0m\n\u001b[0m\u001b[1;32m      3\u001b[0m   \u001b[0mprint\u001b[0m\u001b[0;34m(\u001b[0m\u001b[0mkey\u001b[0m\u001b[0;34m,\u001b[0m\u001b[0mvalue\u001b[0m\u001b[0;34m)\u001b[0m\u001b[0;34m\u001b[0m\u001b[0;34m\u001b[0m\u001b[0m\n",
            "\u001b[0;31mTypeError\u001b[0m: 'builtin_function_or_method' object is not iterable"
          ]
        }
      ]
    },
    {
      "cell_type": "code",
      "metadata": {
        "id": "3YCm4-seSQ94",
        "colab_type": "code",
        "colab": {
          "base_uri": "https://localhost:8080/",
          "height": 35
        },
        "outputId": "3c4910c2-f7d4-4635-85a5-35f457ac9c98"
      },
      "source": [
        "\n",
        "rdd.countByKey()\n"
      ],
      "execution_count": 293,
      "outputs": [
        {
          "output_type": "execute_result",
          "data": {
            "text/plain": [
              "defaultdict(int, {'a': 2, 'b': 1, 'c': 1})"
            ]
          },
          "metadata": {
            "tags": []
          },
          "execution_count": 293
        }
      ]
    },
    {
      "cell_type": "code",
      "metadata": {
        "id": "8xWk2MQwSXRg",
        "colab_type": "code",
        "colab": {
          "base_uri": "https://localhost:8080/",
          "height": 72
        },
        "outputId": "8ca8063b-3a41-4833-e3fa-dcd57017c7dc"
      },
      "source": [
        "# basically its a built-in dict ! ! ! \n",
        "for key, val in rdd.countByKey().items():\n",
        "  print(key,val)\n"
      ],
      "execution_count": 294,
      "outputs": [
        {
          "output_type": "stream",
          "text": [
            "a 2\n",
            "b 1\n",
            "c 1\n"
          ],
          "name": "stdout"
        }
      ]
    },
    {
      "cell_type": "code",
      "metadata": {
        "id": "oLQwbgFQSjUI",
        "colab_type": "code",
        "colab": {
          "base_uri": "https://localhost:8080/",
          "height": 35
        },
        "outputId": "e20bb242-4038-4fd9-a645-6a9e146ea649"
      },
      "source": [
        "sc.parallelize( [(1,2), (3,4)]).collectAsMap()"
      ],
      "execution_count": 295,
      "outputs": [
        {
          "output_type": "execute_result",
          "data": {
            "text/plain": [
              "{1: 2, 3: 4}"
            ]
          },
          "metadata": {
            "tags": []
          },
          "execution_count": 295
        }
      ]
    },
    {
      "cell_type": "code",
      "metadata": {
        "id": "pMNM9oogS7pg",
        "colab_type": "code",
        "colab": {
          "base_uri": "https://localhost:8080/",
          "height": 35
        },
        "outputId": "7fc03327-a1b2-43ef-a2f9-0f619bf0b3bc"
      },
      "source": [
        "sc.parallelize( [(1,2), (3,4)]).collectAsMap()[1]"
      ],
      "execution_count": 296,
      "outputs": [
        {
          "output_type": "execute_result",
          "data": {
            "text/plain": [
              "2"
            ]
          },
          "metadata": {
            "tags": []
          },
          "execution_count": 296
        }
      ]
    },
    {
      "cell_type": "code",
      "metadata": {
        "id": "vV4xuxvpS92g",
        "colab_type": "code",
        "colab": {
          "base_uri": "https://localhost:8080/",
          "height": 35
        },
        "outputId": "a06dc0cd-996d-44f9-b25a-c9cbfff8c3c7"
      },
      "source": [
        "sc.parallelize( [(1,2), (3,4)]).collectAsMap()[3]"
      ],
      "execution_count": 297,
      "outputs": [
        {
          "output_type": "execute_result",
          "data": {
            "text/plain": [
              "4"
            ]
          },
          "metadata": {
            "tags": []
          },
          "execution_count": 297
        }
      ]
    },
    {
      "cell_type": "markdown",
      "metadata": {
        "id": "SzEX7YLAUVxA",
        "colab_type": "text"
      },
      "source": [
        "# Spark SQL and Dataframes"
      ]
    },
    {
      "cell_type": "code",
      "metadata": {
        "id": "Tav5R_T7S_d4",
        "colab_type": "code",
        "colab": {
          "base_uri": "https://localhost:8080/",
          "height": 221
        },
        "outputId": "66ce231d-f396-40a0-f4d4-ef41d299f52e"
      },
      "source": [
        "spark   # this is SparkSession, and also how you interact with SQL like commands on dataframes/etc "
      ],
      "execution_count": 298,
      "outputs": [
        {
          "output_type": "execute_result",
          "data": {
            "text/html": [
              "\n",
              "            <div>\n",
              "                <p><b>SparkSession - in-memory</b></p>\n",
              "                \n",
              "        <div>\n",
              "            <p><b>SparkContext</b></p>\n",
              "\n",
              "            <p><a href=\"http://844ed3290cf1:4040\">Spark UI</a></p>\n",
              "\n",
              "            <dl>\n",
              "              <dt>Version</dt>\n",
              "                <dd><code>v2.4.4</code></dd>\n",
              "              <dt>Master</dt>\n",
              "                <dd><code>local[*]</code></dd>\n",
              "              <dt>AppName</dt>\n",
              "                <dd><code>Spark_App_Oscar_Mike</code></dd>\n",
              "            </dl>\n",
              "        </div>\n",
              "        \n",
              "            </div>\n",
              "        "
            ],
            "text/plain": [
              "<pyspark.sql.session.SparkSession at 0x7f7ec0aac1d0>"
            ]
          },
          "metadata": {
            "tags": []
          },
          "execution_count": 298
        }
      ]
    },
    {
      "cell_type": "code",
      "metadata": {
        "id": "rmfJFEinUQtA",
        "colab_type": "code",
        "colab": {}
      },
      "source": [
        "#  how do you create a dataframe ? "
      ],
      "execution_count": 0,
      "outputs": []
    },
    {
      "cell_type": "code",
      "metadata": {
        "id": "zcYcurilUc2Q",
        "colab_type": "code",
        "colab": {}
      },
      "source": [
        "# from existing RDD with spark.createDataFrame() or, via the read command of the actual file...."
      ],
      "execution_count": 0,
      "outputs": []
    },
    {
      "cell_type": "code",
      "metadata": {
        "id": "yVCoQ--IUjBQ",
        "colab_type": "code",
        "colab": {}
      },
      "source": [
        ""
      ],
      "execution_count": 0,
      "outputs": []
    },
    {
      "cell_type": "markdown",
      "metadata": {
        "id": "j_Mi39_sUrof",
        "colab_type": "text"
      },
      "source": [
        "### Create DF from RDD: "
      ]
    },
    {
      "cell_type": "code",
      "metadata": {
        "id": "TxTAQ3HVUt4x",
        "colab_type": "code",
        "colab": {}
      },
      "source": [
        "iphone_RDD = sc.parallelize(  [\n",
        "                               (\"XS\", 2018, 5.01, 5.02, 5.03),\n",
        "                               (\"XR\", 2019, 6.01, 6.02, 6.03),\n",
        "                               (\"X10\", 2020, 7.01, 7.02, 7.03)\n",
        "])\n",
        "\n",
        "names = ['Model', 'Year', 'Height', 'Width', 'Weight']\n",
        "\n",
        "iphones_df = spark.createDataFrame(iphone_RDD, schema = names)"
      ],
      "execution_count": 0,
      "outputs": []
    },
    {
      "cell_type": "code",
      "metadata": {
        "id": "XK05M_0UVMXp",
        "colab_type": "code",
        "colab": {
          "base_uri": "https://localhost:8080/",
          "height": 35
        },
        "outputId": "eb979294-af56-4b01-bef8-82e875883081"
      },
      "source": [
        "type(iphones_df)"
      ],
      "execution_count": 302,
      "outputs": [
        {
          "output_type": "execute_result",
          "data": {
            "text/plain": [
              "pyspark.sql.dataframe.DataFrame"
            ]
          },
          "metadata": {
            "tags": []
          },
          "execution_count": 302
        }
      ]
    },
    {
      "cell_type": "code",
      "metadata": {
        "id": "CXxnqa08VNyh",
        "colab_type": "code",
        "colab": {
          "base_uri": "https://localhost:8080/",
          "height": 35
        },
        "outputId": "33afd5d6-f009-4bc0-886b-c1022de0675f"
      },
      "source": [
        "iphones_df"
      ],
      "execution_count": 303,
      "outputs": [
        {
          "output_type": "execute_result",
          "data": {
            "text/plain": [
              "DataFrame[Model: string, Year: bigint, Height: double, Width: double, Weight: double]"
            ]
          },
          "metadata": {
            "tags": []
          },
          "execution_count": 303
        }
      ]
    },
    {
      "cell_type": "code",
      "metadata": {
        "id": "dHWBZCJTVO9Q",
        "colab_type": "code",
        "colab": {
          "base_uri": "https://localhost:8080/",
          "height": 163
        },
        "outputId": "f5ab85ae-4022-45a5-c0da-50b7484af20a"
      },
      "source": [
        "iphones_df.show()"
      ],
      "execution_count": 304,
      "outputs": [
        {
          "output_type": "stream",
          "text": [
            "+-----+----+------+-----+------+\n",
            "|Model|Year|Height|Width|Weight|\n",
            "+-----+----+------+-----+------+\n",
            "|   XS|2018|  5.01| 5.02|  5.03|\n",
            "|   XR|2019|  6.01| 6.02|  6.03|\n",
            "|  X10|2020|  7.01| 7.02|  7.03|\n",
            "+-----+----+------+-----+------+\n",
            "\n"
          ],
          "name": "stdout"
        }
      ]
    },
    {
      "cell_type": "code",
      "metadata": {
        "id": "_SluXgogVQzQ",
        "colab_type": "code",
        "colab": {
          "base_uri": "https://localhost:8080/",
          "height": 72
        },
        "outputId": "30d0a535-15d9-44e7-ee24-3ead868f1365"
      },
      "source": [
        "iphones_df.collect()"
      ],
      "execution_count": 305,
      "outputs": [
        {
          "output_type": "execute_result",
          "data": {
            "text/plain": [
              "[Row(Model='XS', Year=2018, Height=5.01, Width=5.02, Weight=5.03),\n",
              " Row(Model='XR', Year=2019, Height=6.01, Width=6.02, Weight=6.03),\n",
              " Row(Model='X10', Year=2020, Height=7.01, Width=7.02, Weight=7.03)]"
            ]
          },
          "metadata": {
            "tags": []
          },
          "execution_count": 305
        }
      ]
    },
    {
      "cell_type": "code",
      "metadata": {
        "id": "QnR6VEphVSeo",
        "colab_type": "code",
        "colab": {}
      },
      "source": [
        "  #            df_csv_num_2 = spark.read.csv('people.csv', header=True, inferSchema=True)"
      ],
      "execution_count": 0,
      "outputs": []
    },
    {
      "cell_type": "code",
      "metadata": {
        "id": "69IXUkveVwmJ",
        "colab_type": "code",
        "colab": {}
      },
      "source": [
        "#  df_json = spark.read.json('file.json', header=True, inferSchema=True)"
      ],
      "execution_count": 0,
      "outputs": []
    },
    {
      "cell_type": "code",
      "metadata": {
        "id": "IAfzpdttWEdA",
        "colab_type": "code",
        "colab": {}
      },
      "source": [
        "#  df_text = spark.read.text('file.text', header=True, inferSchema=True)"
      ],
      "execution_count": 0,
      "outputs": []
    },
    {
      "cell_type": "code",
      "metadata": {
        "id": "fgi9eFdIWHiY",
        "colab_type": "code",
        "colab": {}
      },
      "source": [
        ""
      ],
      "execution_count": 0,
      "outputs": []
    },
    {
      "cell_type": "markdown",
      "metadata": {
        "id": "BBlmq19VtoYx",
        "colab_type": "text"
      },
      "source": [
        "## Actions on DFs:"
      ]
    },
    {
      "cell_type": "code",
      "metadata": {
        "id": "-vAZPsCwtp5s",
        "colab_type": "code",
        "colab": {
          "base_uri": "https://localhost:8080/",
          "height": 221
        },
        "outputId": "b427759d-2378-4270-fa23-bb512e19c187"
      },
      "source": [
        "spark"
      ],
      "execution_count": 309,
      "outputs": [
        {
          "output_type": "execute_result",
          "data": {
            "text/html": [
              "\n",
              "            <div>\n",
              "                <p><b>SparkSession - in-memory</b></p>\n",
              "                \n",
              "        <div>\n",
              "            <p><b>SparkContext</b></p>\n",
              "\n",
              "            <p><a href=\"http://844ed3290cf1:4040\">Spark UI</a></p>\n",
              "\n",
              "            <dl>\n",
              "              <dt>Version</dt>\n",
              "                <dd><code>v2.4.4</code></dd>\n",
              "              <dt>Master</dt>\n",
              "                <dd><code>local[*]</code></dd>\n",
              "              <dt>AppName</dt>\n",
              "                <dd><code>Spark_App_Oscar_Mike</code></dd>\n",
              "            </dl>\n",
              "        </div>\n",
              "        \n",
              "            </div>\n",
              "        "
            ],
            "text/plain": [
              "<pyspark.sql.session.SparkSession at 0x7f7ec0aac1d0>"
            ]
          },
          "metadata": {
            "tags": []
          },
          "execution_count": 309
        }
      ]
    },
    {
      "cell_type": "code",
      "metadata": {
        "id": "X7GlL0XIzwh3",
        "colab_type": "code",
        "colab": {}
      },
      "source": [
        ""
      ],
      "execution_count": 0,
      "outputs": []
    },
    {
      "cell_type": "code",
      "metadata": {
        "id": "n6q73dQGz0hG",
        "colab_type": "code",
        "colab": {}
      },
      "source": [
        "# from pyspark_dist_explore import hist\n"
      ],
      "execution_count": 0,
      "outputs": []
    },
    {
      "cell_type": "code",
      "metadata": {
        "id": "qYOTw9Ck0W0e",
        "colab_type": "code",
        "colab": {
          "base_uri": "https://localhost:8080/",
          "height": 316
        },
        "outputId": "287ada15-4194-43d9-f2a8-f7df1c84b3e4"
      },
      "source": [
        "import HandySpark"
      ],
      "execution_count": 314,
      "outputs": [
        {
          "output_type": "error",
          "ename": "ModuleNotFoundError",
          "evalue": "ignored",
          "traceback": [
            "\u001b[0;31m---------------------------------------------------------------------------\u001b[0m",
            "\u001b[0;31mModuleNotFoundError\u001b[0m                       Traceback (most recent call last)",
            "\u001b[0;32m<ipython-input-314-f020663abf89>\u001b[0m in \u001b[0;36m<module>\u001b[0;34m()\u001b[0m\n\u001b[0;32m----> 1\u001b[0;31m \u001b[0;32mimport\u001b[0m \u001b[0mHandySpark\u001b[0m\u001b[0;34m\u001b[0m\u001b[0;34m\u001b[0m\u001b[0m\n\u001b[0m",
            "\u001b[0;31mModuleNotFoundError\u001b[0m: No module named 'HandySpark'",
            "",
            "\u001b[0;31m---------------------------------------------------------------------------\u001b[0;32m\nNOTE: If your import is failing due to a missing package, you can\nmanually install dependencies using either !pip or !apt.\n\nTo view examples of installing some common dependencies, click the\n\"Open Examples\" button below.\n\u001b[0;31m---------------------------------------------------------------------------\u001b[0m\n"
          ]
        }
      ]
    },
    {
      "cell_type": "code",
      "metadata": {
        "id": "An6j8mya1BQx",
        "colab_type": "code",
        "colab": {
          "base_uri": "https://localhost:8080/",
          "height": 417
        },
        "outputId": "56ed6c40-6aeb-41af-89d8-760f5138da36"
      },
      "source": [
        "!pip install handyspark"
      ],
      "execution_count": 315,
      "outputs": [
        {
          "output_type": "stream",
          "text": [
            "Collecting handyspark\n",
            "  Downloading https://files.pythonhosted.org/packages/87/8a/2ff2c58c219a680f5cbe8a2ed2eb20bc5126a587c47896339f927934a7c3/handyspark-0.2.2a1-py2.py3-none-any.whl\n",
            "Requirement already satisfied: seaborn in /usr/local/lib/python3.6/dist-packages (from handyspark) (0.9.0)\n",
            "Requirement already satisfied: pyspark in /usr/local/lib/python3.6/dist-packages (from handyspark) (2.4.4)\n",
            "Requirement already satisfied: pyarrow in /usr/local/lib/python3.6/dist-packages (from handyspark) (0.14.1)\n",
            "Requirement already satisfied: numpy in /usr/local/lib/python3.6/dist-packages (from handyspark) (1.17.5)\n",
            "Requirement already satisfied: scikit-learn in /usr/local/lib/python3.6/dist-packages (from handyspark) (0.22.1)\n",
            "Requirement already satisfied: scipy in /usr/local/lib/python3.6/dist-packages (from handyspark) (1.4.1)\n",
            "Requirement already satisfied: pandas in /usr/local/lib/python3.6/dist-packages (from handyspark) (0.25.3)\n",
            "Requirement already satisfied: findspark in /usr/local/lib/python3.6/dist-packages (from handyspark) (1.3.0)\n",
            "Requirement already satisfied: matplotlib in /usr/local/lib/python3.6/dist-packages (from handyspark) (3.1.2)\n",
            "Requirement already satisfied: py4j==0.10.7 in /usr/local/lib/python3.6/dist-packages (from pyspark->handyspark) (0.10.7)\n",
            "Requirement already satisfied: six>=1.0.0 in /usr/local/lib/python3.6/dist-packages (from pyarrow->handyspark) (1.12.0)\n",
            "Requirement already satisfied: joblib>=0.11 in /usr/local/lib/python3.6/dist-packages (from scikit-learn->handyspark) (0.14.1)\n",
            "Requirement already satisfied: pytz>=2017.2 in /usr/local/lib/python3.6/dist-packages (from pandas->handyspark) (2018.9)\n",
            "Requirement already satisfied: python-dateutil>=2.6.1 in /usr/local/lib/python3.6/dist-packages (from pandas->handyspark) (2.6.1)\n",
            "Requirement already satisfied: kiwisolver>=1.0.1 in /usr/local/lib/python3.6/dist-packages (from matplotlib->handyspark) (1.1.0)\n",
            "Requirement already satisfied: cycler>=0.10 in /usr/local/lib/python3.6/dist-packages (from matplotlib->handyspark) (0.10.0)\n",
            "Requirement already satisfied: pyparsing!=2.0.4,!=2.1.2,!=2.1.6,>=2.0.1 in /usr/local/lib/python3.6/dist-packages (from matplotlib->handyspark) (2.4.6)\n",
            "Requirement already satisfied: setuptools in /usr/local/lib/python3.6/dist-packages (from kiwisolver>=1.0.1->matplotlib->handyspark) (42.0.2)\n",
            "Installing collected packages: handyspark\n",
            "Successfully installed handyspark-0.2.2a1\n"
          ],
          "name": "stdout"
        }
      ]
    },
    {
      "cell_type": "code",
      "metadata": {
        "id": "WPNdvqN31I9V",
        "colab_type": "code",
        "colab": {}
      },
      "source": [
        "import handyspark"
      ],
      "execution_count": 0,
      "outputs": []
    },
    {
      "cell_type": "code",
      "metadata": {
        "id": "YjZGuUgc1LoH",
        "colab_type": "code",
        "colab": {
          "base_uri": "https://localhost:8080/",
          "height": 35
        },
        "outputId": "f97c3016-06c2-4b89-ff07-0e9c98beec3a"
      },
      "source": [
        "df"
      ],
      "execution_count": 318,
      "outputs": [
        {
          "output_type": "execute_result",
          "data": {
            "text/plain": [
              "DataFrame[carat: double, cut: string, color: string, clarity: string, depth: double, table: double, price: int, x: double, y: double, z: double]"
            ]
          },
          "metadata": {
            "tags": []
          },
          "execution_count": 318
        }
      ]
    },
    {
      "cell_type": "code",
      "metadata": {
        "id": "oJnr4jMF1RaG",
        "colab_type": "code",
        "colab": {
          "base_uri": "https://localhost:8080/",
          "height": 1000
        },
        "outputId": "98aa8c96-c010-4658-c494-598f8ddc0345"
      },
      "source": [
        "df.show()"
      ],
      "execution_count": 319,
      "outputs": [
        {
          "output_type": "error",
          "ename": "Py4JJavaError",
          "evalue": "ignored",
          "traceback": [
            "\u001b[0;31m---------------------------------------------------------------------------\u001b[0m",
            "\u001b[0;31mPy4JJavaError\u001b[0m                             Traceback (most recent call last)",
            "\u001b[0;32m<ipython-input-319-1a6ce2362cd4>\u001b[0m in \u001b[0;36m<module>\u001b[0;34m()\u001b[0m\n\u001b[0;32m----> 1\u001b[0;31m \u001b[0mdf\u001b[0m\u001b[0;34m.\u001b[0m\u001b[0mshow\u001b[0m\u001b[0;34m(\u001b[0m\u001b[0;34m)\u001b[0m\u001b[0;34m\u001b[0m\u001b[0;34m\u001b[0m\u001b[0m\n\u001b[0m",
            "\u001b[0;32m/usr/local/lib/python3.6/dist-packages/pyspark/sql/dataframe.py\u001b[0m in \u001b[0;36mshow\u001b[0;34m(self, n, truncate, vertical)\u001b[0m\n\u001b[1;32m    378\u001b[0m         \"\"\"\n\u001b[1;32m    379\u001b[0m         \u001b[0;32mif\u001b[0m \u001b[0misinstance\u001b[0m\u001b[0;34m(\u001b[0m\u001b[0mtruncate\u001b[0m\u001b[0;34m,\u001b[0m \u001b[0mbool\u001b[0m\u001b[0;34m)\u001b[0m \u001b[0;32mand\u001b[0m \u001b[0mtruncate\u001b[0m\u001b[0;34m:\u001b[0m\u001b[0;34m\u001b[0m\u001b[0;34m\u001b[0m\u001b[0m\n\u001b[0;32m--> 380\u001b[0;31m             \u001b[0mprint\u001b[0m\u001b[0;34m(\u001b[0m\u001b[0mself\u001b[0m\u001b[0;34m.\u001b[0m\u001b[0m_jdf\u001b[0m\u001b[0;34m.\u001b[0m\u001b[0mshowString\u001b[0m\u001b[0;34m(\u001b[0m\u001b[0mn\u001b[0m\u001b[0;34m,\u001b[0m \u001b[0;36m20\u001b[0m\u001b[0;34m,\u001b[0m \u001b[0mvertical\u001b[0m\u001b[0;34m)\u001b[0m\u001b[0;34m)\u001b[0m\u001b[0;34m\u001b[0m\u001b[0;34m\u001b[0m\u001b[0m\n\u001b[0m\u001b[1;32m    381\u001b[0m         \u001b[0;32melse\u001b[0m\u001b[0;34m:\u001b[0m\u001b[0;34m\u001b[0m\u001b[0;34m\u001b[0m\u001b[0m\n\u001b[1;32m    382\u001b[0m             \u001b[0mprint\u001b[0m\u001b[0;34m(\u001b[0m\u001b[0mself\u001b[0m\u001b[0;34m.\u001b[0m\u001b[0m_jdf\u001b[0m\u001b[0;34m.\u001b[0m\u001b[0mshowString\u001b[0m\u001b[0;34m(\u001b[0m\u001b[0mn\u001b[0m\u001b[0;34m,\u001b[0m \u001b[0mint\u001b[0m\u001b[0;34m(\u001b[0m\u001b[0mtruncate\u001b[0m\u001b[0;34m)\u001b[0m\u001b[0;34m,\u001b[0m \u001b[0mvertical\u001b[0m\u001b[0;34m)\u001b[0m\u001b[0;34m)\u001b[0m\u001b[0;34m\u001b[0m\u001b[0;34m\u001b[0m\u001b[0m\n",
            "\u001b[0;32m/usr/local/lib/python3.6/dist-packages/py4j/java_gateway.py\u001b[0m in \u001b[0;36m__call__\u001b[0;34m(self, *args)\u001b[0m\n\u001b[1;32m   1255\u001b[0m         \u001b[0manswer\u001b[0m \u001b[0;34m=\u001b[0m \u001b[0mself\u001b[0m\u001b[0;34m.\u001b[0m\u001b[0mgateway_client\u001b[0m\u001b[0;34m.\u001b[0m\u001b[0msend_command\u001b[0m\u001b[0;34m(\u001b[0m\u001b[0mcommand\u001b[0m\u001b[0;34m)\u001b[0m\u001b[0;34m\u001b[0m\u001b[0;34m\u001b[0m\u001b[0m\n\u001b[1;32m   1256\u001b[0m         return_value = get_return_value(\n\u001b[0;32m-> 1257\u001b[0;31m             answer, self.gateway_client, self.target_id, self.name)\n\u001b[0m\u001b[1;32m   1258\u001b[0m \u001b[0;34m\u001b[0m\u001b[0m\n\u001b[1;32m   1259\u001b[0m         \u001b[0;32mfor\u001b[0m \u001b[0mtemp_arg\u001b[0m \u001b[0;32min\u001b[0m \u001b[0mtemp_args\u001b[0m\u001b[0;34m:\u001b[0m\u001b[0;34m\u001b[0m\u001b[0;34m\u001b[0m\u001b[0m\n",
            "\u001b[0;32m/usr/local/lib/python3.6/dist-packages/pyspark/sql/utils.py\u001b[0m in \u001b[0;36mdeco\u001b[0;34m(*a, **kw)\u001b[0m\n\u001b[1;32m     61\u001b[0m     \u001b[0;32mdef\u001b[0m \u001b[0mdeco\u001b[0m\u001b[0;34m(\u001b[0m\u001b[0;34m*\u001b[0m\u001b[0ma\u001b[0m\u001b[0;34m,\u001b[0m \u001b[0;34m**\u001b[0m\u001b[0mkw\u001b[0m\u001b[0;34m)\u001b[0m\u001b[0;34m:\u001b[0m\u001b[0;34m\u001b[0m\u001b[0;34m\u001b[0m\u001b[0m\n\u001b[1;32m     62\u001b[0m         \u001b[0;32mtry\u001b[0m\u001b[0;34m:\u001b[0m\u001b[0;34m\u001b[0m\u001b[0;34m\u001b[0m\u001b[0m\n\u001b[0;32m---> 63\u001b[0;31m             \u001b[0;32mreturn\u001b[0m \u001b[0mf\u001b[0m\u001b[0;34m(\u001b[0m\u001b[0;34m*\u001b[0m\u001b[0ma\u001b[0m\u001b[0;34m,\u001b[0m \u001b[0;34m**\u001b[0m\u001b[0mkw\u001b[0m\u001b[0;34m)\u001b[0m\u001b[0;34m\u001b[0m\u001b[0;34m\u001b[0m\u001b[0m\n\u001b[0m\u001b[1;32m     64\u001b[0m         \u001b[0;32mexcept\u001b[0m \u001b[0mpy4j\u001b[0m\u001b[0;34m.\u001b[0m\u001b[0mprotocol\u001b[0m\u001b[0;34m.\u001b[0m\u001b[0mPy4JJavaError\u001b[0m \u001b[0;32mas\u001b[0m \u001b[0me\u001b[0m\u001b[0;34m:\u001b[0m\u001b[0;34m\u001b[0m\u001b[0;34m\u001b[0m\u001b[0m\n\u001b[1;32m     65\u001b[0m             \u001b[0ms\u001b[0m \u001b[0;34m=\u001b[0m \u001b[0me\u001b[0m\u001b[0;34m.\u001b[0m\u001b[0mjava_exception\u001b[0m\u001b[0;34m.\u001b[0m\u001b[0mtoString\u001b[0m\u001b[0;34m(\u001b[0m\u001b[0;34m)\u001b[0m\u001b[0;34m\u001b[0m\u001b[0;34m\u001b[0m\u001b[0m\n",
            "\u001b[0;32m/usr/local/lib/python3.6/dist-packages/py4j/protocol.py\u001b[0m in \u001b[0;36mget_return_value\u001b[0;34m(answer, gateway_client, target_id, name)\u001b[0m\n\u001b[1;32m    326\u001b[0m                 raise Py4JJavaError(\n\u001b[1;32m    327\u001b[0m                     \u001b[0;34m\"An error occurred while calling {0}{1}{2}.\\n\"\u001b[0m\u001b[0;34m.\u001b[0m\u001b[0;34m\u001b[0m\u001b[0;34m\u001b[0m\u001b[0m\n\u001b[0;32m--> 328\u001b[0;31m                     format(target_id, \".\", name), value)\n\u001b[0m\u001b[1;32m    329\u001b[0m             \u001b[0;32melse\u001b[0m\u001b[0;34m:\u001b[0m\u001b[0;34m\u001b[0m\u001b[0;34m\u001b[0m\u001b[0m\n\u001b[1;32m    330\u001b[0m                 raise Py4JError(\n",
            "\u001b[0;31mPy4JJavaError\u001b[0m: An error occurred while calling o296.showString.\n: java.lang.IllegalStateException: Cannot call methods on a stopped SparkContext.\nThis stopped SparkContext was created at:\n\norg.apache.spark.api.java.JavaSparkContext.<init>(JavaSparkContext.scala:58)\nsun.reflect.NativeConstructorAccessorImpl.newInstance0(Native Method)\nsun.reflect.NativeConstructorAccessorImpl.newInstance(NativeConstructorAccessorImpl.java:62)\nsun.reflect.DelegatingConstructorAccessorImpl.newInstance(DelegatingConstructorAccessorImpl.java:45)\njava.lang.reflect.Constructor.newInstance(Constructor.java:423)\npy4j.reflection.MethodInvoker.invoke(MethodInvoker.java:247)\npy4j.reflection.ReflectionEngine.invoke(ReflectionEngine.java:357)\npy4j.Gateway.invoke(Gateway.java:238)\npy4j.commands.ConstructorCommand.invokeConstructor(ConstructorCommand.java:80)\npy4j.commands.ConstructorCommand.execute(ConstructorCommand.java:69)\npy4j.GatewayConnection.run(GatewayConnection.java:238)\njava.lang.Thread.run(Thread.java:748)\n\nThe currently active SparkContext was created at:\n\norg.apache.spark.api.java.JavaSparkContext.<init>(JavaSparkContext.scala:58)\nsun.reflect.NativeConstructorAccessorImpl.newInstance0(Native Method)\nsun.reflect.NativeConstructorAccessorImpl.newInstance(NativeConstructorAccessorImpl.java:62)\nsun.reflect.DelegatingConstructorAccessorImpl.newInstance(DelegatingConstructorAccessorImpl.java:45)\njava.lang.reflect.Constructor.newInstance(Constructor.java:423)\npy4j.reflection.MethodInvoker.invoke(MethodInvoker.java:247)\npy4j.reflection.ReflectionEngine.invoke(ReflectionEngine.java:357)\npy4j.Gateway.invoke(Gateway.java:238)\npy4j.commands.ConstructorCommand.invokeConstructor(ConstructorCommand.java:80)\npy4j.commands.ConstructorCommand.execute(ConstructorCommand.java:69)\npy4j.GatewayConnection.run(GatewayConnection.java:238)\njava.lang.Thread.run(Thread.java:748)\n         \n\tat org.apache.spark.SparkContext.assertNotStopped(SparkContext.scala:100)\n\tat org.apache.spark.SparkContext.broadcast(SparkContext.scala:1486)\n\tat org.apache.spark.sql.execution.datasources.csv.CSVFileFormat.buildReader(CSVFileFormat.scala:103)\n\tat org.apache.spark.sql.execution.datasources.FileFormat$class.buildReaderWithPartitionValues(FileFormat.scala:129)\n\tat org.apache.spark.sql.execution.datasources.TextBasedFileFormat.buildReaderWithPartitionValues(FileFormat.scala:165)\n\tat org.apache.spark.sql.execution.FileSourceScanExec.inputRDD$lzycompute(DataSourceScanExec.scala:309)\n\tat org.apache.spark.sql.execution.FileSourceScanExec.inputRDD(DataSourceScanExec.scala:305)\n\tat org.apache.spark.sql.execution.FileSourceScanExec.inputRDDs(DataSourceScanExec.scala:327)\n\tat org.apache.spark.sql.execution.ProjectExec.inputRDDs(basicPhysicalOperators.scala:41)\n\tat org.apache.spark.sql.execution.WholeStageCodegenExec.doExecute(WholeStageCodegenExec.scala:627)\n\tat org.apache.spark.sql.execution.SparkPlan$$anonfun$execute$1.apply(SparkPlan.scala:131)\n\tat org.apache.spark.sql.execution.SparkPlan$$anonfun$execute$1.apply(SparkPlan.scala:127)\n\tat org.apache.spark.sql.execution.SparkPlan$$anonfun$executeQuery$1.apply(SparkPlan.scala:155)\n\tat org.apache.spark.rdd.RDDOperationScope$.withScope(RDDOperationScope.scala:151)\n\tat org.apache.spark.sql.execution.SparkPlan.executeQuery(SparkPlan.scala:152)\n\tat org.apache.spark.sql.execution.SparkPlan.execute(SparkPlan.scala:127)\n\tat org.apache.spark.sql.execution.SparkPlan.getByteArrayRdd(SparkPlan.scala:247)\n\tat org.apache.spark.sql.execution.SparkPlan.executeTake(SparkPlan.scala:339)\n\tat org.apache.spark.sql.execution.CollectLimitExec.executeCollect(limit.scala:38)\n\tat org.apache.spark.sql.Dataset.org$apache$spark$sql$Dataset$$collectFromPlan(Dataset.scala:3389)\n\tat org.apache.spark.sql.Dataset$$anonfun$head$1.apply(Dataset.scala:2550)\n\tat org.apache.spark.sql.Dataset$$anonfun$head$1.apply(Dataset.scala:2550)\n\tat org.apache.spark.sql.Dataset$$anonfun$52.apply(Dataset.scala:3370)\n\tat org.apache.spark.sql.execution.SQLExecution$$anonfun$withNewExecutionId$1.apply(SQLExecution.scala:78)\n\tat org.apache.spark.sql.execution.SQLExecution$.withSQLConfPropagated(SQLExecution.scala:125)\n\tat org.apache.spark.sql.execution.SQLExecution$.withNewExecutionId(SQLExecution.scala:73)\n\tat org.apache.spark.sql.Dataset.withAction(Dataset.scala:3369)\n\tat org.apache.spark.sql.Dataset.head(Dataset.scala:2550)\n\tat org.apache.spark.sql.Dataset.take(Dataset.scala:2764)\n\tat org.apache.spark.sql.Dataset.getRows(Dataset.scala:254)\n\tat org.apache.spark.sql.Dataset.showString(Dataset.scala:291)\n\tat sun.reflect.NativeMethodAccessorImpl.invoke0(Native Method)\n\tat sun.reflect.NativeMethodAccessorImpl.invoke(NativeMethodAccessorImpl.java:62)\n\tat sun.reflect.DelegatingMethodAccessorImpl.invoke(DelegatingMethodAccessorImpl.java:43)\n\tat java.lang.reflect.Method.invoke(Method.java:498)\n\tat py4j.reflection.MethodInvoker.invoke(MethodInvoker.java:244)\n\tat py4j.reflection.ReflectionEngine.invoke(ReflectionEngine.java:357)\n\tat py4j.Gateway.invoke(Gateway.java:282)\n\tat py4j.commands.AbstractCommand.invokeMethod(AbstractCommand.java:132)\n\tat py4j.commands.CallCommand.execute(CallCommand.java:79)\n\tat py4j.GatewayConnection.run(GatewayConnection.java:238)\n\tat java.lang.Thread.run(Thread.java:748)\n"
          ]
        }
      ]
    },
    {
      "cell_type": "code",
      "metadata": {
        "id": "dRfZfwIl1SiP",
        "colab_type": "code",
        "colab": {
          "base_uri": "https://localhost:8080/",
          "height": 35
        },
        "outputId": "629004a6-9dd6-4145-bc66-7bc95855fa0e"
      },
      "source": [
        "type(df)"
      ],
      "execution_count": 322,
      "outputs": [
        {
          "output_type": "execute_result",
          "data": {
            "text/plain": [
              "pyspark.sql.dataframe.DataFrame"
            ]
          },
          "metadata": {
            "tags": []
          },
          "execution_count": 322
        }
      ]
    },
    {
      "cell_type": "code",
      "metadata": {
        "id": "Hqlhdzvt1Vfu",
        "colab_type": "code",
        "colab": {
          "base_uri": "https://localhost:8080/",
          "height": 35
        },
        "outputId": "04b93e0e-da29-4cb6-ac26-ba9a226ebad3"
      },
      "source": [
        "type(iphones_df)"
      ],
      "execution_count": 324,
      "outputs": [
        {
          "output_type": "execute_result",
          "data": {
            "text/plain": [
              "pyspark.sql.dataframe.DataFrame"
            ]
          },
          "metadata": {
            "tags": []
          },
          "execution_count": 324
        }
      ]
    },
    {
      "cell_type": "code",
      "metadata": {
        "id": "eWD5EJNP1eWu",
        "colab_type": "code",
        "colab": {}
      },
      "source": [
        "hdf = iphones_df.toHandy()"
      ],
      "execution_count": 0,
      "outputs": []
    },
    {
      "cell_type": "code",
      "metadata": {
        "id": "dBuC2HJ81i_G",
        "colab_type": "code",
        "colab": {
          "base_uri": "https://localhost:8080/",
          "height": 35
        },
        "outputId": "f5684e87-685d-4555-9874-dd44f38552dc"
      },
      "source": [
        "type(hdf)"
      ],
      "execution_count": 331,
      "outputs": [
        {
          "output_type": "execute_result",
          "data": {
            "text/plain": [
              "handyspark.sql.dataframe.HandyFrame"
            ]
          },
          "metadata": {
            "tags": []
          },
          "execution_count": 331
        }
      ]
    },
    {
      "cell_type": "markdown",
      "metadata": {
        "id": "R4f_2sYq2B7a",
        "colab_type": "text"
      },
      "source": [
        "# HOLY MACKERAL ! "
      ]
    },
    {
      "cell_type": "code",
      "metadata": {
        "id": "ClBkaM3g1nYV",
        "colab_type": "code",
        "colab": {
          "base_uri": "https://localhost:8080/",
          "height": 313
        },
        "outputId": "531d8d6c-6ae2-4f4a-ac6b-128f4db85d77"
      },
      "source": [
        "hdf.cols['Year'].hist()"
      ],
      "execution_count": 336,
      "outputs": [
        {
          "output_type": "execute_result",
          "data": {
            "text/plain": [
              "<matplotlib.axes._subplots.AxesSubplot at 0x7f7eb83268d0>"
            ]
          },
          "metadata": {
            "tags": []
          },
          "execution_count": 336
        },
        {
          "output_type": "display_data",
          "data": {
            "image/png": "[encoded data removed]",
            "text/plain": [
              "<Figure size 432x288 with 1 Axes>"
            ]
          },
          "metadata": {
            "tags": []
          }
        }
      ]
    },
    {
      "cell_type": "code",
      "metadata": {
        "id": "3tFMvIFQ10wm",
        "colab_type": "code",
        "colab": {}
      },
      "source": [
        "# # Check the column names of names_df\n",
        "# print(\"The column names of names_df are\", names_df.columns)\n",
        "\n",
        "# # Convert to Pandas DataFrame  \n",
        "# df_pandas = names_df.toPandas()\n",
        "\n",
        "# # Create a horizontal bar plot\n",
        "# df_pandas.plot(kind='barh', x='Name', y='Age', colormap='winter_r')\n",
        "# plt.show()"
      ],
      "execution_count": 0,
      "outputs": []
    },
    {
      "cell_type": "code",
      "metadata": {
        "id": "r9Zj6DQf2mmu",
        "colab_type": "code",
        "colab": {}
      },
      "source": [
        ""
      ],
      "execution_count": 0,
      "outputs": []
    },
    {
      "cell_type": "markdown",
      "metadata": {
        "id": "x_VIrOGT34mD",
        "colab_type": "text"
      },
      "source": [
        "# MLlib: "
      ]
    },
    {
      "cell_type": "code",
      "metadata": {
        "id": "0vemRn1m36FG",
        "colab_type": "code",
        "colab": {}
      },
      "source": [
        "from pyspark.mllib.recommendation import ALS "
      ],
      "execution_count": 0,
      "outputs": []
    },
    {
      "cell_type": "code",
      "metadata": {
        "id": "Zv5eacMT3-8v",
        "colab_type": "code",
        "colab": {}
      },
      "source": [
        "from pyspark.mllib.classification import LogisticRegressionWithLBFGS"
      ],
      "execution_count": 0,
      "outputs": []
    },
    {
      "cell_type": "code",
      "metadata": {
        "id": "-zhHI6cD4H5e",
        "colab_type": "code",
        "colab": {}
      },
      "source": [
        "from pyspark.mllib.clustering import KMeans"
      ],
      "execution_count": 0,
      "outputs": []
    },
    {
      "cell_type": "code",
      "metadata": {
        "id": "t2Rv_Hca4OOO",
        "colab_type": "code",
        "colab": {}
      },
      "source": [
        ""
      ],
      "execution_count": 0,
      "outputs": []
    }
  ]
}