{
  "nbformat": 4,
  "nbformat_minor": 0,
  "metadata": {
    "colab": {
      "name": "Postgres.ipynb",
      "provenance": [],
      "authorship_tag": "ABX9TyN6k1vLYmRSymAPBMC8PFVx",
      "include_colab_link": true
    },
    "kernelspec": {
      "name": "python3",
      "display_name": "Python 3"
    }
  },
  "cells": [
    {
      "cell_type": "markdown",
      "metadata": {
        "id": "view-in-github",
        "colab_type": "text"
      },
      "source": [
        "<a href=\"https://colab.research.google.com/github/tombresee/Temp/blob/master/Postgres.ipynb\" target=\"_parent\"><img src=\"https://colab.research.google.com/assets/colab-badge.svg\" alt=\"Open In Colab\"/></a>"
      ]
    },
    {
      "cell_type": "code",
      "metadata": {
        "id": "Oc8LL0U4Kt77",
        "colab_type": "code",
        "colab": {
          "base_uri": "https://localhost:8080/",
          "height": 35
        },
        "outputId": "74f70aaf-9b26-4edc-b0d6-3926610b07c7"
      },
      "source": [
        "# !pip install psycopg2-binary"
      ],
      "execution_count": 1,
      "outputs": [
        {
          "output_type": "stream",
          "text": [
            "Requirement already satisfied: psycopg2-binary in /usr/local/lib/python3.6/dist-packages (2.8.4)\n"
          ],
          "name": "stdout"
        }
      ]
    },
    {
      "cell_type": "code",
      "metadata": {
        "id": "GqbHm1jKKuYs",
        "colab_type": "code",
        "colab": {}
      },
      "source": [
        "import numpy as np\n",
        "import pandas as pd\n",
        "import psycopg2 as ps"
      ],
      "execution_count": 0,
      "outputs": []
    },
    {
      "cell_type": "code",
      "metadata": {
        "id": "9cmbDwFwKyjc",
        "colab_type": "code",
        "colab": {
          "base_uri": "https://localhost:8080/",
          "height": 35
        },
        "outputId": "a307864d-dabb-46d3-e011-a95d0cc2ce0a"
      },
      "source": [
        "\n",
        "host_name = 'rajje.db.elephantsql.com'\n",
        "\n",
        "dbname = 'yxxfbyrr'\n",
        "\n",
        "port = '5432'\n",
        "\n",
        "# TODO Write your username and database password in the following two variables\n",
        "\n",
        "user_name = 'yxxfbyrr'  #enter username in between the single quotes \n",
        "\n",
        "pwd = 'WorI3LceR8pYsjrWVAbfjZK63RuiBt0b' #enter your database password\n",
        "\n",
        "\n",
        "try:\n",
        "    conn = ps.connect(host=host_name,database=dbname,user=user_name,password=pwd,port=port)\n",
        "except ps.OperationalError as e:\n",
        "    raise e\n",
        "else:\n",
        "    print('Connected!')\n",
        "\n"
      ],
      "execution_count": 17,
      "outputs": [
        {
          "output_type": "stream",
          "text": [
            "Connected!\n"
          ],
          "name": "stdout"
        }
      ]
    },
    {
      "cell_type": "code",
      "metadata": {
        "id": "YdJ5CCFlLbCy",
        "colab_type": "code",
        "colab": {}
      },
      "source": [
        "\n",
        "# #Write SQL below to pull datasets \n",
        "\n",
        "# cur = conn.cursor()\n",
        "\n",
        "# cur.execute(\"\"\" \n",
        "#             SHOW DATABASES; \n",
        "#             \"\"\")\n",
        "\n",
        "\n",
        "# data = cur.fetchall()\n",
        "\n",
        "\n",
        "# conn.commit()\n",
        "\n",
        "# # #create the pandas dataframe\n",
        "# # data = pd.DataFrame(data)\n",
        "# # data.columns = colnames\n",
        "\n",
        "# #close the connection\n",
        "# cur.close()\n",
        "\n"
      ],
      "execution_count": 0,
      "outputs": []
    },
    {
      "cell_type": "code",
      "metadata": {
        "id": "DMNB6-9OLwmD",
        "colab_type": "code",
        "colab": {
          "base_uri": "https://localhost:8080/",
          "height": 128
        },
        "outputId": "24cbb785-3cc5-4ec0-e2fb-9e2e2106b664"
      },
      "source": [
        "try:\n",
        "    connection = ps.connect(user = 'yxxfbyrr',\n",
        "                            password = 'WorI3LceR8pYsjrWVAbfjZK63RuiBt0b',\n",
        "                            host = 'rajje.db.elephantsql.com',\n",
        "                            port = \"5432\",\n",
        "                            database = 'yxxfbyrr')\n",
        "\n",
        "    cursor = connection.cursor()\n",
        "    # Print PostgreSQL Connection properties\n",
        "    print ( connection.get_dsn_parameters(),\"\\n\")\n",
        "\n",
        "    # Print PostgreSQL version\n",
        "    cursor.execute(\"SELECT version();\")\n",
        "\n",
        "    record = cursor.fetchone()\n",
        "    print(\"You are connected to - \", record,\"\\n\")\n",
        "\n",
        "except (Exception, psycopg2.Error) as error :\n",
        "    print (\"Error while connecting to PostgreSQL\", error)\n",
        "finally:\n",
        "    #closing database connection.\n",
        "        if(connection):\n",
        "            cursor.close()\n",
        "            connection.close()\n",
        "            print(\"PostgreSQL connection is closed\")\n",
        "\n"
      ],
      "execution_count": 18,
      "outputs": [
        {
          "output_type": "stream",
          "text": [
            "{'user': 'yxxfbyrr', 'dbname': 'yxxfbyrr', 'host': 'rajje.db.elephantsql.com', 'port': '5432', 'tty': '', 'options': '', 'sslmode': 'prefer', 'sslcompression': '0', 'krbsrvname': 'postgres', 'target_session_attrs': 'any'} \n",
            "\n",
            "You are connected to -  ('PostgreSQL 11.6 (Ubuntu 11.6-1.pgdg18.04+1) on x86_64-pc-linux-gnu, compiled by gcc (Ubuntu 7.4.0-1ubuntu1~18.04.1) 7.4.0, 64-bit',) \n",
            "\n",
            "PostgreSQL connection is closed\n"
          ],
          "name": "stdout"
        }
      ]
    },
    {
      "cell_type": "code",
      "metadata": {
        "id": "YzklfZ_4M2dD",
        "colab_type": "code",
        "colab": {
          "base_uri": "https://localhost:8080/",
          "height": 110
        },
        "outputId": "9c066a9b-f501-4d75-fef4-44feb8262fc2"
      },
      "source": [
        "\n",
        "try:\n",
        "    connection = ps.connect(user = 'yxxfbyrr',\n",
        "                            password = 'WorI3LceR8pYsjrWVAbfjZK63RuiBt0b',\n",
        "                            host = 'rajje.db.elephantsql.com',\n",
        "                            port = \"5432\",\n",
        "                            database = 'yxxfbyrr')\n",
        "\n",
        "    cursor = connection.cursor()\n",
        "\n",
        "    # Print PostgreSQL Connection properties\n",
        "    print (connection.get_dsn_parameters(),\"\\n\")\n",
        "\n",
        "    \n",
        "    create_table_query = '''CREATE TABLE IF NOT EXISTS mobile\n",
        "          (ID INT PRIMARY KEY     NOT NULL,\n",
        "          MODEL           TEXT    NOT NULL,\n",
        "          PRICE         REAL); '''\n",
        "    \n",
        "    cursor.execute(create_table_query)\n",
        "\n",
        "    connection.commit()\n",
        "\n",
        "    print(\"Table created successfully in PostgreSQL \")\n",
        "\n",
        "except (Exception, psycopg2.DatabaseError) as error :\n",
        "    print (\"Error while creating PostgreSQL table\", error)\n",
        "    \n",
        "finally:\n",
        "    #closing database connection.\n",
        "        if(connection):\n",
        "            cursor.close()\n",
        "            connection.close()\n",
        "            print(\"PostgreSQL connection is closed\")\n",
        "\n"
      ],
      "execution_count": 19,
      "outputs": [
        {
          "output_type": "stream",
          "text": [
            "{'user': 'yxxfbyrr', 'dbname': 'yxxfbyrr', 'host': 'rajje.db.elephantsql.com', 'port': '5432', 'tty': '', 'options': '', 'sslmode': 'prefer', 'sslcompression': '0', 'krbsrvname': 'postgres', 'target_session_attrs': 'any'} \n",
            "\n",
            "Table created successfully in PostgreSQL \n",
            "PostgreSQL connection is closed\n"
          ],
          "name": "stdout"
        }
      ]
    },
    {
      "cell_type": "code",
      "metadata": {
        "id": "73nBREsuQnnz",
        "colab_type": "code",
        "colab": {
          "base_uri": "https://localhost:8080/",
          "height": 165
        },
        "outputId": "d2ba3f81-3b72-44cd-8fe3-4f6e9dfa60d0"
      },
      "source": [
        "\n",
        "try:\n",
        "    connection = ps.connect(user = 'yxxfbyrr',\n",
        "                            password = 'WorI3LceR8pYsjrWVAbfjZK63RuiBt0b',\n",
        "                            host = 'rajje.db.elephantsql.com',\n",
        "                            port = \"5432\",\n",
        "                            database = 'yxxfbyrr')\n",
        "\n",
        "    cursor = connection.cursor()\n",
        "\n",
        "    # Print PostgreSQL Connection properties\n",
        "    print (connection.get_dsn_parameters(),\"\\n\")\n",
        "\n",
        "    my_query = '''SELECT * FROM mobile;'''\n",
        "    \n",
        "    cursor.execute(my_query)\n",
        "\n",
        "    data = cursor.fetchall()\n",
        "\n",
        "    print(data)\n",
        "      \n",
        "    connection.commit()\n",
        "\n",
        "    print(\"\\n* Command successful in PostgreSQL *\\n\")\n",
        "\n",
        "except (Exception, psycopg2.DatabaseError) as error :\n",
        "    print (\"Error while creating PostgreSQL table\", error)\n",
        "    \n",
        "finally:\n",
        "    #closing database connection.\n",
        "        if(connection):\n",
        "            cursor.close()\n",
        "            connection.close()\n",
        "            print(\"PostgreSQL connection is closed\")\n",
        "\n"
      ],
      "execution_count": 31,
      "outputs": [
        {
          "output_type": "stream",
          "text": [
            "{'user': 'yxxfbyrr', 'dbname': 'yxxfbyrr', 'host': 'rajje.db.elephantsql.com', 'port': '5432', 'tty': '', 'options': '', 'sslmode': 'prefer', 'sslcompression': '0', 'krbsrvname': 'postgres', 'target_session_attrs': 'any'} \n",
            "\n",
            "[]\n",
            "\n",
            "* Command successful in PostgreSQL *\n",
            "\n",
            "PostgreSQL connection is closed\n"
          ],
          "name": "stdout"
        }
      ]
    },
    {
      "cell_type": "code",
      "metadata": {
        "id": "dwqIMaVNSjeT",
        "colab_type": "code",
        "colab": {}
      },
      "source": [
        "\n",
        "try:\n",
        "    connection = ps.connect(user = 'yxxfbyrr',\n",
        "                            password = 'WorI3LceR8pYsjrWVAbfjZK63RuiBt0b',\n",
        "                            host = 'rajje.db.elephantsql.com',\n",
        "                            port = \"5432\",\n",
        "                            database = 'yxxfbyrr')\n",
        "\n",
        "    cursor = connection.cursor()\n",
        "\n",
        "    # Print PostgreSQL Connection properties\n",
        "    print (connection.get_dsn_parameters(),\"\\n\")\n",
        "\n",
        "    my_query = '''SELECT * FROM pg_catalog.pg_tables;'''\n",
        "    \n",
        "    cursor.execute(my_query)\n",
        "\n",
        "    data = cursor.fetchall()\n",
        "\n",
        "    print(data)\n",
        "      \n",
        "    connection.commit()\n",
        "\n",
        "    print(\"\\n* Command successful in PostgreSQL *\\n\")\n",
        "\n",
        "except (Exception, psycopg2.DatabaseError) as error :\n",
        "    print (\"Error while creating PostgreSQL table\", error)\n",
        "    \n",
        "finally:\n",
        "    #closing database connection.\n",
        "        if(connection):\n",
        "            cursor.close()\n",
        "            connection.close()\n",
        "            print(\"PostgreSQL connection is closed\")\n",
        "            "
      ],
      "execution_count": 0,
      "outputs": []
    },
    {
      "cell_type": "markdown",
      "metadata": {
        "id": "5BpCiAOJRjgO",
        "colab_type": "text"
      },
      "source": [
        "\n",
        "select \n",
        "\n",
        "  * \n",
        "\n",
        "from \n",
        "\n",
        "  pg_catalog.pg_tables \n",
        "\n",
        "where \n",
        "\n",
        "  schemaname != 'information_schema'\n",
        "\n",
        "  and schemaname != 'pg_catalog';"
      ]
    },
    {
      "cell_type": "code",
      "metadata": {
        "id": "xGrZ4u6HNUe8",
        "colab_type": "code",
        "colab": {}
      },
      "source": [
        "# host_name = 'db-strata.stratascratch.com'\n",
        "# dbname = 'db_strata'\n",
        "# port = '5432'\n",
        "# # TODO Write your username and database password in the following two variables\n",
        "# user_name = '' #enter username in between the single quotes (e.g., 'my_stratascratch_username')\n",
        "# pwd = '' #enter your database password found in the profile tab in Strata Scratch inbetween the single quotes (e.g., 'my_database_password')\n",
        "\n",
        "# try:\n",
        "#     conn = ps.connect(host=host_name,database=dbname,user=user_name,password=pwd,port=port)\n",
        "# except ps.OperationalError as e:\n",
        "#     raise e\n",
        "# else:\n",
        "#     print('Connected!')\n",
        "\n",
        "\n"
      ],
      "execution_count": 0,
      "outputs": []
    },
    {
      "cell_type": "code",
      "metadata": {
        "id": "xozw9DeBNq1f",
        "colab_type": "code",
        "colab": {}
      },
      "source": [
        "#Write SQL below to pull datasets \n",
        "cur = conn.cursor()\n",
        "cur.execute(\"\"\" \n",
        "            SELECT *  FROM nfl_combine; \n",
        "            \"\"\")\n",
        "data = cur.fetchall()\n",
        "colnames = [desc[0] for desc in cur.description] \n",
        "conn.commit()\n",
        "\n",
        "#create the pandas dataframe\n",
        "data = pd.DataFrame(data)\n",
        "data.columns = colnames\n",
        "\n",
        "#close the connection\n",
        "cur.close()"
      ],
      "execution_count": 0,
      "outputs": []
    },
    {
      "cell_type": "code",
      "metadata": {
        "id": "wDT0uofMPtGS",
        "colab_type": "code",
        "colab": {}
      },
      "source": [
        ""
      ],
      "execution_count": 0,
      "outputs": []
    }
  ]
}